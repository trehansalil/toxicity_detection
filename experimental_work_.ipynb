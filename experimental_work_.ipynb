{
 "cells": [
  {
   "cell_type": "markdown",
   "metadata": {
    "colab_type": "text",
    "id": "view-in-github"
   },
   "source": [
    "<a href=\"https://colab.research.google.com/github/trehansalil/toxicity_detection/blob/main/experimental_work_.ipynb\" target=\"_parent\"><img src=\"https://colab.research.google.com/assets/colab-badge.svg\" alt=\"Open In Colab\"/></a>"
   ]
  },
  {
   "cell_type": "code",
   "execution_count": 1,
   "metadata": {
    "colab": {
     "base_uri": "https://localhost:8080/"
    },
    "id": "h_d9i_9RmuWe",
    "outputId": "5b467c37-65ef-4e9b-d636-4f8cf018b31f",
    "tags": []
   },
   "outputs": [
    {
     "name": "stdout",
     "output_type": "stream",
     "text": [
      "Downloading jigsaw-toxic-comment-classification-challenge, 55201987 bytes compressed\n",
      "[==================================================] 55201987 bytes downloaded\n",
      "Downloaded and uncompressed: jigsaw-toxic-comment-classification-challenge\n",
      "Downloading bert-base-cased, 404510591 bytes compressed\n",
      "[==================================================] 404510591 bytes downloaded\n",
      "Downloaded and uncompressed: bert-base-cased\n",
      "Data source import complete.\n"
     ]
    }
   ],
   "source": [
    "\n",
    "# IMPORTANT: RUN THIS CELL IN ORDER TO IMPORT YOUR KAGGLE DATA SOURCES\n",
    "# TO THE CORRECT LOCATION (/kaggle/input) IN YOUR NOTEBOOK,\n",
    "# THEN FEEL FREE TO DELETE THIS CELL.\n",
    "# NOTE: THIS NOTEBOOK ENVIRONMENT DIFFERS FROM KAGGLE'S PYTHON\n",
    "# ENVIRONMENT SO THERE MAY BE MISSING LIBRARIES USED BY YOUR\n",
    "# NOTEBOOK.\n",
    "\n",
    "import os\n",
    "import sys\n",
    "from tempfile import NamedTemporaryFile\n",
    "from urllib.request import urlopen\n",
    "from urllib.parse import unquote, urlparse\n",
    "from urllib.error import HTTPError\n",
    "from zipfile import ZipFile\n",
    "import tarfile\n",
    "import shutil\n",
    "\n",
    "CHUNK_SIZE = 40960\n",
    "DATA_SOURCE_MAPPING = 'jigsaw-toxic-comment-classification-challenge:https%3A%2F%2Fstorage.googleapis.com%2Fkaggle-competitions-data%2Fkaggle-v2%2F8076%2F44219%2Fbundle%2Farchive.zip%3FX-Goog-Algorithm%3DGOOG4-RSA-SHA256%26X-Goog-Credential%3Dgcp-kaggle-com%2540kaggle-161607.iam.gserviceaccount.com%252F20240421%252Fauto%252Fstorage%252Fgoog4_request%26X-Goog-Date%3D20240421T030205Z%26X-Goog-Expires%3D259200%26X-Goog-SignedHeaders%3Dhost%26X-Goog-Signature%3D7c0a9ff1a5a504bf4bb9fa94d767287031a6b8b8f10de3de2dc4f47037516bc4c929fab7f00e07134deeca13e592e7e555137e1a5587603058dc338757390becb1f52f3e4f04d8825b833bb3e6f3d381167eabcc2bb12e309a494bdfaf22ddc9d63ce07a8f22180c528dd395044dc48b09399241c7a9a47fdf247b1025274e41ef99fe89bed2d857ed4d99a65bec953c868d7f21b93703c007ea236d9efea056b121b9fac20c8f2684ad584954db42a45a3596b7139fc8c6e9c4cf6a1ff662e66f06a3f8076de146da5e8ddd27e3f2beb475aa4c54783470fdd1c24e9483286bdb642e688925f3d71bd600f9682623dc0991c1dfe3340d13a78bcc4c153a9aef,bert-base-cased:https%3A%2F%2Fstorage.googleapis.com%2Fkaggle-data-sets%2F507677%2F938093%2Fbundle%2Farchive.zip%3FX-Goog-Algorithm%3DGOOG4-RSA-SHA256%26X-Goog-Credential%3Dgcp-kaggle-com%2540kaggle-161607.iam.gserviceaccount.com%252F20240421%252Fauto%252Fstorage%252Fgoog4_request%26X-Goog-Date%3D20240421T030205Z%26X-Goog-Expires%3D259200%26X-Goog-SignedHeaders%3Dhost%26X-Goog-Signature%3D731076fe00e01f96f83dab5e31f1b9033485decda4469f9ff1590a059f37b3ee49f812d7fa31144b8bb89cc9d65dd253cef273b242e8aaef221e9615f9eaf80188532b9e62ca7602145e20badc1e1e27748ace164409e9c4925cd7128658ea484c5641646111df3ac558beee5fd083d5262e5e0795150848d38a90dc2c3406fbcccbc4e3267beb8f7319a89d8327e36151bf023c4eb5bc31db0e5506455e18717a4d31c3c47624dbd0a7d1e8488672bce8fa1e530ec3e212c4e3f457e7e16dd07478264abe698ee7daaf9a0cdaf5beb15cdb1557a37c1b15b12e478acdd445193722b1e8f23d9f9a7af06ee8cf7dc8af1fe3e4bef8b11efe9a8592f6ce855ef8'\n",
    "\n",
    "KAGGLE_INPUT_PATH=os.getcwd()+'/kaggle/input'\n",
    "KAGGLE_WORKING_PATH=os.getcwd()+'/kaggle/working'\n",
    "KAGGLE_SYMLINK='kaggle'\n",
    "\n",
    "!umount /kaggle/input/ 2> /dev/null\n",
    "shutil.rmtree('/kaggle/input', ignore_errors=True)\n",
    "os.makedirs(KAGGLE_INPUT_PATH, 0o777, exist_ok=True)\n",
    "os.makedirs(KAGGLE_WORKING_PATH, 0o777, exist_ok=True)\n",
    "\n",
    "try:\n",
    "  os.symlink(KAGGLE_INPUT_PATH, os.path.join(\"..\", 'input'), target_is_directory=True)\n",
    "except FileExistsError:\n",
    "  pass\n",
    "try:\n",
    "  os.symlink(KAGGLE_WORKING_PATH, os.path.join(\"..\", 'working'), target_is_directory=True)\n",
    "except FileExistsError:\n",
    "  pass\n",
    "\n",
    "for data_source_mapping in DATA_SOURCE_MAPPING.split(','):\n",
    "    directory, download_url_encoded = data_source_mapping.split(':')\n",
    "    download_url = unquote(download_url_encoded)\n",
    "    filename = urlparse(download_url).path\n",
    "    destination_path = os.path.join(KAGGLE_INPUT_PATH, directory)\n",
    "    try:\n",
    "        with urlopen(download_url) as fileres, NamedTemporaryFile() as tfile:\n",
    "            total_length = fileres.headers['content-length']\n",
    "            print(f'Downloading {directory}, {total_length} bytes compressed')\n",
    "            dl = 0\n",
    "            data = fileres.read(CHUNK_SIZE)\n",
    "            while len(data) > 0:\n",
    "                dl += len(data)\n",
    "                tfile.write(data)\n",
    "                done = int(50 * dl / int(total_length))\n",
    "                sys.stdout.write(f\"\\r[{'=' * done}{' ' * (50-done)}] {dl} bytes downloaded\")\n",
    "                sys.stdout.flush()\n",
    "                data = fileres.read(CHUNK_SIZE)\n",
    "            if filename.endswith('.zip'):\n",
    "              with ZipFile(tfile) as zfile:\n",
    "                zfile.extractall(destination_path)\n",
    "            else:\n",
    "              with tarfile.open(tfile.name) as tarfile:\n",
    "                tarfile.extractall(destination_path)\n",
    "            print(f'\\nDownloaded and uncompressed: {directory}')\n",
    "    except HTTPError as e:\n",
    "        print(f'Failed to load (likely expired) {download_url} to path {destination_path}')\n",
    "        continue\n",
    "    except OSError as e:\n",
    "        print(f'Failed to load {download_url} to path {destination_path}')\n",
    "        continue\n",
    "\n",
    "print('Data source import complete.')\n"
   ]
  },
  {
   "cell_type": "markdown",
   "metadata": {
    "id": "DmcIgo1zmuWo"
   },
   "source": [
    "## Toxic Comment Classification"
   ]
  },
  {
   "cell_type": "markdown",
   "metadata": {
    "id": "a5iRNG0xmuWr"
   },
   "source": [
    "## Intro\n",
    "I am quite new in the field of data science and specially transformers are a very new concept to me. During my exploration for learning more about BERT, I noticed most of the material present on kaggle either discuss the underlying logics and modules in BERT model, (which is necessary for begginers) or they present blocks of code without much details. This material is an attempt to bridge the gap from the very basics and theory of BERT model to practicality of a simple model. <br>\n",
    "A lot of the work in this notebook is inspired by the work of [chumajin](https://www.kaggle.com/chumajin) from [this notebook](https://www.kaggle.com/chumajin/pytorch-bert-beginner-s-room). I would like to thank him here and would add that I have adapt it to our problem in this competetion. I have also added more visualization to see the imporvements of the models over iterations in epochs and during different folds.\n",
    "\n",
    "### Objective\n",
    "Creating a model which predicts the probability of each type of toxicity for each comment.\n",
    "\n",
    "This notebook is presented to two parts. I have separted it in two parts, due to memory limitations in kaggle. You can run either part I or part II independantly. <br>\n",
    "In **part I** I try to explain the primary steps we need to take for handling similar tasks, for binary classification of different labels. The model in this part runs only for one distribuation of train set and validation set. and you can see the inital performance results(auc score) we get from this model. <br>\n",
    "In **part II**, I have braught all the necessary blocks of code from part I and then show how 5 models can be developed for different choices of train set and validation set as in k_fold (k = 5). The probablites for all types of toxicity for each comment is then estimated as mean value from these 5 models.\n",
    "\n",
    "\n",
    "\n",
    "### Parameters affecting simulation time\n",
    "For running this noteboook quickly, to see how it works, in both part I and part II, you can reduce the training set to the limited number of rows. I took 200 rows in part I and 2000 in part II.<br>\n",
    "The reason for having it very low in part I is that the code opts for eductional resons rather than being efficient. Therefore, it reads in many different variables and cause the cuda memory crash if we go for more than 200 rows. This gives us an unimpressive results for part I. (accuracy 86%) <br>\n",
    "In part II, code is more consice compared to part I, and it's possible to raise number of rows to include the whole training set. However, I keep it limited to 2000, so you manage to get a fairly good result (94% accuracy and 0.988 auc score) in 22 min of simulation. <br>\n",
    "You can have (epochs = 5, k = 5) and see how the accuracy and losses imporve in different epochs. The accuracy and loss are in an acceptable range, as this notebook is not concerned about reaching the state-of-art results. <br>\n",
    "\n",
    "Hope that you find it useful and if so, please don't forget to upvote this note book, it makes my day! :-)"
   ]
  },
  {
   "cell_type": "markdown",
   "metadata": {
    "id": "0edEuvmbmuWs"
   },
   "source": [
    "## PART I\n",
    "## 1. Prepare the data\n",
    "### a. Loading libraries"
   ]
  },
  {
   "cell_type": "code",
   "execution_count": 3,
   "metadata": {
    "colab": {
     "base_uri": "https://localhost:8080/"
    },
    "id": "uc51tUhZr1DH",
    "outputId": "2edbadc8-fdb3-4aeb-87f5-bd03b7991a36",
    "tags": []
   },
   "outputs": [
    {
     "name": "stdout",
     "output_type": "stream",
     "text": [
      "Requirement already satisfied: lightning in /home/studio-lab-user/.conda/envs/default/lib/python3.9/site-packages (2.2.2)\n",
      "Requirement already satisfied: mlflow in /home/studio-lab-user/.conda/envs/default/lib/python3.9/site-packages (2.12.1)\n",
      "Requirement already satisfied: pandas in /home/studio-lab-user/.conda/envs/default/lib/python3.9/site-packages (2.2.1)\n",
      "Requirement already satisfied: seaborn in /home/studio-lab-user/.conda/envs/default/lib/python3.9/site-packages (0.13.2)\n",
      "Requirement already satisfied: torch in /home/studio-lab-user/.conda/envs/default/lib/python3.9/site-packages (2.2.2)\n",
      "Requirement already satisfied: transformers in /home/studio-lab-user/.conda/envs/default/lib/python3.9/site-packages (4.38.2)\n",
      "Requirement already satisfied: torchmetrics<3.0,>=0.7.0 in /home/studio-lab-user/.conda/envs/default/lib/python3.9/site-packages (from lightning) (1.3.2)\n",
      "Requirement already satisfied: lightning-utilities<2.0,>=0.8.0 in /home/studio-lab-user/.conda/envs/default/lib/python3.9/site-packages (from lightning) (0.11.2)\n",
      "Requirement already satisfied: packaging<25.0,>=20.0 in /home/studio-lab-user/.conda/envs/default/lib/python3.9/site-packages (from lightning) (23.1)\n",
      "Requirement already satisfied: fsspec[http]<2025.0,>=2022.5.0 in /home/studio-lab-user/.conda/envs/default/lib/python3.9/site-packages (from lightning) (2024.2.0)\n",
      "Requirement already satisfied: pytorch-lightning in /home/studio-lab-user/.conda/envs/default/lib/python3.9/site-packages (from lightning) (2.2.2)\n",
      "Requirement already satisfied: typing-extensions<6.0,>=4.4.0 in /home/studio-lab-user/.conda/envs/default/lib/python3.9/site-packages (from lightning) (4.11.0)\n",
      "Requirement already satisfied: numpy<3.0,>=1.17.2 in /home/studio-lab-user/.conda/envs/default/lib/python3.9/site-packages (from lightning) (1.26.4)\n",
      "Requirement already satisfied: tqdm<6.0,>=4.57.0 in /home/studio-lab-user/.conda/envs/default/lib/python3.9/site-packages (from lightning) (4.66.2)\n",
      "Requirement already satisfied: PyYAML<8.0,>=5.4 in /home/studio-lab-user/.conda/envs/default/lib/python3.9/site-packages (from lightning) (6.0)\n",
      "Requirement already satisfied: pyarrow<16,>=4.0.0 in /home/studio-lab-user/.conda/envs/default/lib/python3.9/site-packages (from mlflow) (15.0.2)\n",
      "Requirement already satisfied: click<9,>=7.0 in /home/studio-lab-user/.conda/envs/default/lib/python3.9/site-packages (from mlflow) (8.1.7)\n",
      "Requirement already satisfied: querystring-parser<2 in /home/studio-lab-user/.conda/envs/default/lib/python3.9/site-packages (from mlflow) (1.2.4)\n",
      "Requirement already satisfied: protobuf<6,>=3.12.0 in /home/studio-lab-user/.conda/envs/default/lib/python3.9/site-packages (from mlflow) (5.26.1)\n",
      "Requirement already satisfied: pytz<2025 in /home/studio-lab-user/.conda/envs/default/lib/python3.9/site-packages (from mlflow) (2023.3)\n",
      "Requirement already satisfied: gitpython<4,>=3.1.9 in /home/studio-lab-user/.conda/envs/default/lib/python3.9/site-packages (from mlflow) (3.1.43)\n",
      "Requirement already satisfied: Jinja2<4,>=2.11 in /home/studio-lab-user/.conda/envs/default/lib/python3.9/site-packages (from mlflow) (3.1.2)\n",
      "Requirement already satisfied: requests<3,>=2.17.3 in /home/studio-lab-user/.conda/envs/default/lib/python3.9/site-packages (from mlflow) (2.31.0)\n",
      "Requirement already satisfied: sqlparse<1,>=0.4.0 in /home/studio-lab-user/.conda/envs/default/lib/python3.9/site-packages (from mlflow) (0.5.0)\n",
      "Requirement already satisfied: alembic!=1.10.0,<2 in /home/studio-lab-user/.conda/envs/default/lib/python3.9/site-packages (from mlflow) (1.13.1)\n",
      "Requirement already satisfied: sqlalchemy<3,>=1.4.0 in /home/studio-lab-user/.conda/envs/default/lib/python3.9/site-packages (from mlflow) (2.0.29)\n",
      "Requirement already satisfied: cloudpickle<4 in /home/studio-lab-user/.conda/envs/default/lib/python3.9/site-packages (from mlflow) (3.0.0)\n",
      "Requirement already satisfied: graphene<4 in /home/studio-lab-user/.conda/envs/default/lib/python3.9/site-packages (from mlflow) (3.3)\n",
      "Requirement already satisfied: entrypoints<1 in /home/studio-lab-user/.conda/envs/default/lib/python3.9/site-packages (from mlflow) (0.4)\n",
      "Requirement already satisfied: scipy<2 in /home/studio-lab-user/.conda/envs/default/lib/python3.9/site-packages (from mlflow) (1.13.0)\n",
      "Requirement already satisfied: Flask<4 in /home/studio-lab-user/.conda/envs/default/lib/python3.9/site-packages (from mlflow) (3.0.3)\n",
      "Requirement already satisfied: importlib-metadata!=4.7.0,<8,>=3.7.0 in /home/studio-lab-user/.conda/envs/default/lib/python3.9/site-packages (from mlflow) (6.8.0)\n",
      "Requirement already satisfied: scikit-learn<2 in /home/studio-lab-user/.conda/envs/default/lib/python3.9/site-packages (from mlflow) (1.4.2)\n",
      "Requirement already satisfied: gunicorn<22 in /home/studio-lab-user/.conda/envs/default/lib/python3.9/site-packages (from mlflow) (21.2.0)\n",
      "Requirement already satisfied: markdown<4,>=3.3 in /home/studio-lab-user/.conda/envs/default/lib/python3.9/site-packages (from mlflow) (3.6)\n",
      "Requirement already satisfied: matplotlib<4 in /home/studio-lab-user/.conda/envs/default/lib/python3.9/site-packages (from mlflow) (3.8.4)\n",
      "Requirement already satisfied: docker<8,>=4.0.0 in /home/studio-lab-user/.conda/envs/default/lib/python3.9/site-packages (from mlflow) (7.0.0)\n",
      "Requirement already satisfied: tzdata>=2022.7 in /home/studio-lab-user/.conda/envs/default/lib/python3.9/site-packages (from pandas) (2024.1)\n",
      "Requirement already satisfied: python-dateutil>=2.8.2 in /home/studio-lab-user/.conda/envs/default/lib/python3.9/site-packages (from pandas) (2.8.2)\n",
      "Requirement already satisfied: nvidia-cudnn-cu12==8.9.2.26 in /home/studio-lab-user/.conda/envs/default/lib/python3.9/site-packages (from torch) (8.9.2.26)\n",
      "Requirement already satisfied: sympy in /home/studio-lab-user/.conda/envs/default/lib/python3.9/site-packages (from torch) (1.12)\n",
      "Requirement already satisfied: nvidia-cuda-nvrtc-cu12==12.1.105 in /home/studio-lab-user/.conda/envs/default/lib/python3.9/site-packages (from torch) (12.1.105)\n",
      "Requirement already satisfied: nvidia-cusparse-cu12==12.1.0.106 in /home/studio-lab-user/.conda/envs/default/lib/python3.9/site-packages (from torch) (12.1.0.106)\n",
      "Requirement already satisfied: nvidia-cuda-cupti-cu12==12.1.105 in /home/studio-lab-user/.conda/envs/default/lib/python3.9/site-packages (from torch) (12.1.105)\n",
      "Requirement already satisfied: nvidia-curand-cu12==10.3.2.106 in /home/studio-lab-user/.conda/envs/default/lib/python3.9/site-packages (from torch) (10.3.2.106)\n",
      "Requirement already satisfied: nvidia-nvtx-cu12==12.1.105 in /home/studio-lab-user/.conda/envs/default/lib/python3.9/site-packages (from torch) (12.1.105)\n",
      "Requirement already satisfied: nvidia-nccl-cu12==2.19.3 in /home/studio-lab-user/.conda/envs/default/lib/python3.9/site-packages (from torch) (2.19.3)\n",
      "Requirement already satisfied: filelock in /home/studio-lab-user/.conda/envs/default/lib/python3.9/site-packages (from torch) (3.13.3)\n",
      "Requirement already satisfied: nvidia-cublas-cu12==12.1.3.1 in /home/studio-lab-user/.conda/envs/default/lib/python3.9/site-packages (from torch) (12.1.3.1)\n",
      "Requirement already satisfied: triton==2.2.0 in /home/studio-lab-user/.conda/envs/default/lib/python3.9/site-packages (from torch) (2.2.0)\n",
      "Requirement already satisfied: networkx in /home/studio-lab-user/.conda/envs/default/lib/python3.9/site-packages (from torch) (3.2.1)\n",
      "Requirement already satisfied: nvidia-cusolver-cu12==11.4.5.107 in /home/studio-lab-user/.conda/envs/default/lib/python3.9/site-packages (from torch) (11.4.5.107)\n",
      "Requirement already satisfied: nvidia-cufft-cu12==11.0.2.54 in /home/studio-lab-user/.conda/envs/default/lib/python3.9/site-packages (from torch) (11.0.2.54)\n",
      "Requirement already satisfied: nvidia-cuda-runtime-cu12==12.1.105 in /home/studio-lab-user/.conda/envs/default/lib/python3.9/site-packages (from torch) (12.1.105)\n",
      "Requirement already satisfied: nvidia-nvjitlink-cu12 in /home/studio-lab-user/.conda/envs/default/lib/python3.9/site-packages (from nvidia-cusolver-cu12==11.4.5.107->torch) (12.4.127)\n",
      "Requirement already satisfied: regex!=2019.12.17 in /home/studio-lab-user/.conda/envs/default/lib/python3.9/site-packages (from transformers) (2023.12.25)\n",
      "Requirement already satisfied: safetensors>=0.4.1 in /home/studio-lab-user/.conda/envs/default/lib/python3.9/site-packages (from transformers) (0.4.2)\n",
      "Requirement already satisfied: tokenizers<0.19,>=0.14 in /home/studio-lab-user/.conda/envs/default/lib/python3.9/site-packages (from transformers) (0.15.2)\n",
      "Requirement already satisfied: huggingface-hub<1.0,>=0.19.3 in /home/studio-lab-user/.conda/envs/default/lib/python3.9/site-packages (from transformers) (0.22.2)\n",
      "Requirement already satisfied: Mako in /home/studio-lab-user/.conda/envs/default/lib/python3.9/site-packages (from alembic!=1.10.0,<2->mlflow) (1.3.3)\n",
      "Requirement already satisfied: urllib3>=1.26.0 in /home/studio-lab-user/.conda/envs/default/lib/python3.9/site-packages (from docker<8,>=4.0.0->mlflow) (2.0.4)\n",
      "Requirement already satisfied: Werkzeug>=3.0.0 in /home/studio-lab-user/.conda/envs/default/lib/python3.9/site-packages (from Flask<4->mlflow) (3.0.2)\n",
      "Requirement already satisfied: blinker>=1.6.2 in /home/studio-lab-user/.conda/envs/default/lib/python3.9/site-packages (from Flask<4->mlflow) (1.7.0)\n",
      "Requirement already satisfied: itsdangerous>=2.1.2 in /home/studio-lab-user/.conda/envs/default/lib/python3.9/site-packages (from Flask<4->mlflow) (2.2.0)\n",
      "Requirement already satisfied: aiohttp!=4.0.0a0,!=4.0.0a1 in /home/studio-lab-user/.conda/envs/default/lib/python3.9/site-packages (from fsspec[http]<2025.0,>=2022.5.0->lightning) (3.9.3)\n",
      "Requirement already satisfied: attrs>=17.3.0 in /home/studio-lab-user/.conda/envs/default/lib/python3.9/site-packages (from aiohttp!=4.0.0a0,!=4.0.0a1->fsspec[http]<2025.0,>=2022.5.0->lightning) (23.1.0)\n",
      "Requirement already satisfied: async-timeout<5.0,>=4.0 in /home/studio-lab-user/.conda/envs/default/lib/python3.9/site-packages (from aiohttp!=4.0.0a0,!=4.0.0a1->fsspec[http]<2025.0,>=2022.5.0->lightning) (4.0.3)\n",
      "Requirement already satisfied: aiosignal>=1.1.2 in /home/studio-lab-user/.conda/envs/default/lib/python3.9/site-packages (from aiohttp!=4.0.0a0,!=4.0.0a1->fsspec[http]<2025.0,>=2022.5.0->lightning) (1.3.1)\n",
      "Requirement already satisfied: multidict<7.0,>=4.5 in /home/studio-lab-user/.conda/envs/default/lib/python3.9/site-packages (from aiohttp!=4.0.0a0,!=4.0.0a1->fsspec[http]<2025.0,>=2022.5.0->lightning) (6.0.5)\n",
      "Requirement already satisfied: yarl<2.0,>=1.0 in /home/studio-lab-user/.conda/envs/default/lib/python3.9/site-packages (from aiohttp!=4.0.0a0,!=4.0.0a1->fsspec[http]<2025.0,>=2022.5.0->lightning) (1.9.4)\n",
      "Requirement already satisfied: frozenlist>=1.1.1 in /home/studio-lab-user/.conda/envs/default/lib/python3.9/site-packages (from aiohttp!=4.0.0a0,!=4.0.0a1->fsspec[http]<2025.0,>=2022.5.0->lightning) (1.4.1)\n",
      "Requirement already satisfied: gitdb<5,>=4.0.1 in /home/studio-lab-user/.conda/envs/default/lib/python3.9/site-packages (from gitpython<4,>=3.1.9->mlflow) (4.0.11)\n",
      "Requirement already satisfied: smmap<6,>=3.0.1 in /home/studio-lab-user/.conda/envs/default/lib/python3.9/site-packages (from gitdb<5,>=4.0.1->gitpython<4,>=3.1.9->mlflow) (5.0.1)\n",
      "Requirement already satisfied: graphql-core<3.3,>=3.1 in /home/studio-lab-user/.conda/envs/default/lib/python3.9/site-packages (from graphene<4->mlflow) (3.2.3)\n",
      "Requirement already satisfied: graphql-relay<3.3,>=3.1 in /home/studio-lab-user/.conda/envs/default/lib/python3.9/site-packages (from graphene<4->mlflow) (3.2.0)\n",
      "Requirement already satisfied: aniso8601<10,>=8 in /home/studio-lab-user/.conda/envs/default/lib/python3.9/site-packages (from graphene<4->mlflow) (9.0.1)\n",
      "Requirement already satisfied: zipp>=0.5 in /home/studio-lab-user/.conda/envs/default/lib/python3.9/site-packages (from importlib-metadata!=4.7.0,<8,>=3.7.0->mlflow) (3.16.2)\n",
      "Requirement already satisfied: MarkupSafe>=2.0 in /home/studio-lab-user/.conda/envs/default/lib/python3.9/site-packages (from Jinja2<4,>=2.11->mlflow) (2.1.3)\n",
      "Requirement already satisfied: setuptools in /home/studio-lab-user/.conda/envs/default/lib/python3.9/site-packages (from lightning-utilities<2.0,>=0.8.0->lightning) (68.0.0)\n",
      "Requirement already satisfied: kiwisolver>=1.3.1 in /home/studio-lab-user/.conda/envs/default/lib/python3.9/site-packages (from matplotlib<4->mlflow) (1.4.5)\n",
      "Requirement already satisfied: fonttools>=4.22.0 in /home/studio-lab-user/.conda/envs/default/lib/python3.9/site-packages (from matplotlib<4->mlflow) (4.51.0)\n",
      "Requirement already satisfied: cycler>=0.10 in /home/studio-lab-user/.conda/envs/default/lib/python3.9/site-packages (from matplotlib<4->mlflow) (0.12.1)\n",
      "Requirement already satisfied: pillow>=8 in /home/studio-lab-user/.conda/envs/default/lib/python3.9/site-packages (from matplotlib<4->mlflow) (10.3.0)\n",
      "Requirement already satisfied: pyparsing>=2.3.1 in /home/studio-lab-user/.conda/envs/default/lib/python3.9/site-packages (from matplotlib<4->mlflow) (3.1.2)\n",
      "Requirement already satisfied: contourpy>=1.0.1 in /home/studio-lab-user/.conda/envs/default/lib/python3.9/site-packages (from matplotlib<4->mlflow) (1.2.1)\n",
      "Requirement already satisfied: importlib-resources>=3.2.0 in /home/studio-lab-user/.conda/envs/default/lib/python3.9/site-packages (from matplotlib<4->mlflow) (6.0.1)\n",
      "Requirement already satisfied: six>=1.5 in /home/studio-lab-user/.conda/envs/default/lib/python3.9/site-packages (from python-dateutil>=2.8.2->pandas) (1.16.0)\n",
      "Requirement already satisfied: idna<4,>=2.5 in /home/studio-lab-user/.conda/envs/default/lib/python3.9/site-packages (from requests<3,>=2.17.3->mlflow) (3.4)\n",
      "Requirement already satisfied: certifi>=2017.4.17 in /home/studio-lab-user/.conda/envs/default/lib/python3.9/site-packages (from requests<3,>=2.17.3->mlflow) (2023.7.22)\n",
      "Requirement already satisfied: charset-normalizer<4,>=2 in /home/studio-lab-user/.conda/envs/default/lib/python3.9/site-packages (from requests<3,>=2.17.3->mlflow) (3.2.0)\n",
      "Requirement already satisfied: threadpoolctl>=2.0.0 in /home/studio-lab-user/.conda/envs/default/lib/python3.9/site-packages (from scikit-learn<2->mlflow) (3.4.0)\n",
      "Requirement already satisfied: joblib>=1.2.0 in /home/studio-lab-user/.conda/envs/default/lib/python3.9/site-packages (from scikit-learn<2->mlflow) (1.4.0)\n",
      "Requirement already satisfied: greenlet!=0.4.17 in /home/studio-lab-user/.conda/envs/default/lib/python3.9/site-packages (from sqlalchemy<3,>=1.4.0->mlflow) (3.0.3)\n",
      "Requirement already satisfied: mpmath>=0.19 in /home/studio-lab-user/.conda/envs/default/lib/python3.9/site-packages (from sympy->torch) (1.3.0)\n"
     ]
    }
   ],
   "source": [
    "# !pip install mlflow\n",
    "!pip install lightning mlflow pandas seaborn torch transformers"
   ]
  },
  {
   "cell_type": "code",
   "execution_count": 4,
   "metadata": {
    "id": "85WV_-OimuWt",
    "tags": []
   },
   "outputs": [],
   "source": [
    "import numpy as np\n",
    "import pandas as pd\n",
    "import os\n",
    "import random\n",
    "import time\n",
    "import lightning as L\n",
    "\n",
    "import re\n",
    "import string\n",
    "import nltk\n",
    "from nltk.corpus import stopwords\n",
    "\n",
    "import matplotlib.pyplot as plt\n",
    "import seaborn as sns\n",
    "sns.set(style=\"ticks\", context=\"talk\")\n",
    "plt.style.use('dark_background')\n",
    "\n",
    "from tqdm import tqdm\n",
    "\n",
    "import torch\n",
    "import torch.nn as nn\n",
    "import torch.nn.functional as func\n",
    "from torch.utils.data import DataLoader, Dataset\n",
    "\n",
    "import transformers\n",
    "from transformers import AdamW, get_linear_schedule_with_warmup\n",
    "\n",
    "import mlflow.pytorch\n",
    "from mlflow import MlflowClient\n",
    "from mlflow.models import infer_signature\n",
    "\n",
    "import tokenizers\n",
    "from lightning.pytorch.callbacks import (\n",
    "    EarlyStopping,\n",
    "    LearningRateMonitor,\n",
    "    ModelCheckpoint,\n",
    ")\n",
    "from lightning.pytorch.cli import LightningCLI\n",
    "\n",
    "from sklearn.metrics import mean_squared_error, roc_auc_score, roc_curve, auc, accuracy_score\n",
    "\n",
    "import warnings\n",
    "warnings.simplefilter('ignore')"
   ]
  },
  {
   "cell_type": "markdown",
   "metadata": {
    "id": "6LnYQ3xsmuWv"
   },
   "source": [
    "We set a seed for reproducability of the results."
   ]
  },
  {
   "cell_type": "code",
   "execution_count": 5,
   "metadata": {
    "id": "7tsoq57uwcKY",
    "tags": []
   },
   "outputs": [
    {
     "name": "stderr",
     "output_type": "stream",
     "text": [
      "2024/04/21 13:44:18 WARNING mlflow.utils.autologging_utils: You are using an unsupported version of pytorch. If you encounter errors during autologging, try upgrading / downgrading pytorch to a supported version, or try upgrading MLflow.\n"
     ]
    }
   ],
   "source": [
    "mlflow.pytorch.autolog()"
   ]
  },
  {
   "cell_type": "code",
   "execution_count": 6,
   "metadata": {
    "id": "tT_t7gvPmuWw",
    "tags": []
   },
   "outputs": [],
   "source": [
    "SEED = 34\n",
    "\n",
    "def random_seed(SEED):\n",
    "    random.seed(SEED)\n",
    "    os.environ['PYTHONHASHSEED'] = str(SEED)\n",
    "    np.random.seed(SEED)\n",
    "    torch.manual_seed(SEED)\n",
    "    torch.cuda.manual_seed(SEED)\n",
    "    torch.cuda.manual_seed_all(SEED)\n",
    "    torch.backends.cudnn.deterministic = True\n",
    "\n",
    "random_seed(SEED)"
   ]
  },
  {
   "cell_type": "code",
   "execution_count": 7,
   "metadata": {
    "id": "xD09yzrdsTiY",
    "tags": []
   },
   "outputs": [],
   "source": [
    "def print_auto_logged_info(r):\n",
    "    tags = {k: v for k, v in r.data.tags.items() if not k.startswith(\"mlflow.\")}\n",
    "    artifacts = [f.path for f in MlflowClient().list_artifacts(r.info.run_id, \"model\")]\n",
    "    print(f\"run_id: {r.info.run_id}\")\n",
    "    print(f\"artifacts: {artifacts}\")\n",
    "    print(f\"params: {r.data.params}\")\n",
    "    print(f\"metrics: {r.data.metrics}\")\n",
    "    print(f\"tags: {tags}\")"
   ]
  },
  {
   "cell_type": "code",
   "execution_count": 8,
   "metadata": {
    "colab": {
     "base_uri": "https://localhost:8080/",
     "height": 206
    },
    "id": "-VloNzXCmuWy",
    "outputId": "a2413d8f-6aa4-4e9f-9dab-9ee0c0b4be65",
    "tags": []
   },
   "outputs": [
    {
     "data": {
      "text/html": [
       "<div>\n",
       "<style scoped>\n",
       "    .dataframe tbody tr th:only-of-type {\n",
       "        vertical-align: middle;\n",
       "    }\n",
       "\n",
       "    .dataframe tbody tr th {\n",
       "        vertical-align: top;\n",
       "    }\n",
       "\n",
       "    .dataframe thead th {\n",
       "        text-align: right;\n",
       "    }\n",
       "</style>\n",
       "<table border=\"1\" class=\"dataframe\">\n",
       "  <thead>\n",
       "    <tr style=\"text-align: right;\">\n",
       "      <th></th>\n",
       "      <th>id</th>\n",
       "      <th>comment_text</th>\n",
       "      <th>toxic</th>\n",
       "      <th>severe_toxic</th>\n",
       "      <th>obscene</th>\n",
       "      <th>threat</th>\n",
       "      <th>insult</th>\n",
       "      <th>identity_hate</th>\n",
       "    </tr>\n",
       "  </thead>\n",
       "  <tbody>\n",
       "    <tr>\n",
       "      <th>0</th>\n",
       "      <td>0000997932d777bf</td>\n",
       "      <td>Explanation\\nWhy the edits made under my usern...</td>\n",
       "      <td>0</td>\n",
       "      <td>0</td>\n",
       "      <td>0</td>\n",
       "      <td>0</td>\n",
       "      <td>0</td>\n",
       "      <td>0</td>\n",
       "    </tr>\n",
       "    <tr>\n",
       "      <th>1</th>\n",
       "      <td>000103f0d9cfb60f</td>\n",
       "      <td>D'aww! He matches this background colour I'm s...</td>\n",
       "      <td>0</td>\n",
       "      <td>0</td>\n",
       "      <td>0</td>\n",
       "      <td>0</td>\n",
       "      <td>0</td>\n",
       "      <td>0</td>\n",
       "    </tr>\n",
       "    <tr>\n",
       "      <th>2</th>\n",
       "      <td>000113f07ec002fd</td>\n",
       "      <td>Hey man, I'm really not trying to edit war. It...</td>\n",
       "      <td>0</td>\n",
       "      <td>0</td>\n",
       "      <td>0</td>\n",
       "      <td>0</td>\n",
       "      <td>0</td>\n",
       "      <td>0</td>\n",
       "    </tr>\n",
       "    <tr>\n",
       "      <th>3</th>\n",
       "      <td>0001b41b1c6bb37e</td>\n",
       "      <td>\"\\nMore\\nI can't make any real suggestions on ...</td>\n",
       "      <td>0</td>\n",
       "      <td>0</td>\n",
       "      <td>0</td>\n",
       "      <td>0</td>\n",
       "      <td>0</td>\n",
       "      <td>0</td>\n",
       "    </tr>\n",
       "    <tr>\n",
       "      <th>4</th>\n",
       "      <td>0001d958c54c6e35</td>\n",
       "      <td>You, sir, are my hero. Any chance you remember...</td>\n",
       "      <td>0</td>\n",
       "      <td>0</td>\n",
       "      <td>0</td>\n",
       "      <td>0</td>\n",
       "      <td>0</td>\n",
       "      <td>0</td>\n",
       "    </tr>\n",
       "  </tbody>\n",
       "</table>\n",
       "</div>"
      ],
      "text/plain": [
       "                 id                                       comment_text  toxic  \\\n",
       "0  0000997932d777bf  Explanation\\nWhy the edits made under my usern...      0   \n",
       "1  000103f0d9cfb60f  D'aww! He matches this background colour I'm s...      0   \n",
       "2  000113f07ec002fd  Hey man, I'm really not trying to edit war. It...      0   \n",
       "3  0001b41b1c6bb37e  \"\\nMore\\nI can't make any real suggestions on ...      0   \n",
       "4  0001d958c54c6e35  You, sir, are my hero. Any chance you remember...      0   \n",
       "\n",
       "   severe_toxic  obscene  threat  insult  identity_hate  \n",
       "0             0        0       0       0              0  \n",
       "1             0        0       0       0              0  \n",
       "2             0        0       0       0              0  \n",
       "3             0        0       0       0              0  \n",
       "4             0        0       0       0              0  "
      ]
     },
     "execution_count": 8,
     "metadata": {},
     "output_type": "execute_result"
    }
   ],
   "source": [
    "train = pd.read_csv('../input/jigsaw-toxic-comment-classification-challenge/train.csv.zip', nrows = 200 )\n",
    "train.head()"
   ]
  },
  {
   "cell_type": "code",
   "execution_count": 9,
   "metadata": {
    "colab": {
     "base_uri": "https://localhost:8080/",
     "height": 206
    },
    "id": "6gAJfYywmuWz",
    "outputId": "f047db32-6442-4d93-aa86-c8016ed545fa",
    "tags": []
   },
   "outputs": [
    {
     "data": {
      "text/html": [
       "<div>\n",
       "<style scoped>\n",
       "    .dataframe tbody tr th:only-of-type {\n",
       "        vertical-align: middle;\n",
       "    }\n",
       "\n",
       "    .dataframe tbody tr th {\n",
       "        vertical-align: top;\n",
       "    }\n",
       "\n",
       "    .dataframe thead th {\n",
       "        text-align: right;\n",
       "    }\n",
       "</style>\n",
       "<table border=\"1\" class=\"dataframe\">\n",
       "  <thead>\n",
       "    <tr style=\"text-align: right;\">\n",
       "      <th></th>\n",
       "      <th>id</th>\n",
       "      <th>comment_text</th>\n",
       "      <th>toxic</th>\n",
       "      <th>severe_toxic</th>\n",
       "      <th>obscene</th>\n",
       "      <th>threat</th>\n",
       "      <th>insult</th>\n",
       "      <th>identity_hate</th>\n",
       "    </tr>\n",
       "  </thead>\n",
       "  <tbody>\n",
       "    <tr>\n",
       "      <th>6</th>\n",
       "      <td>0002bcb3da6cb337</td>\n",
       "      <td>COCKSUCKER BEFORE YOU PISS AROUND ON MY WORK</td>\n",
       "      <td>1</td>\n",
       "      <td>1</td>\n",
       "      <td>1</td>\n",
       "      <td>0</td>\n",
       "      <td>1</td>\n",
       "      <td>0</td>\n",
       "    </tr>\n",
       "    <tr>\n",
       "      <th>12</th>\n",
       "      <td>0005c987bdfc9d4b</td>\n",
       "      <td>Hey... what is it..\\n@ | talk .\\nWhat is it......</td>\n",
       "      <td>1</td>\n",
       "      <td>0</td>\n",
       "      <td>0</td>\n",
       "      <td>0</td>\n",
       "      <td>0</td>\n",
       "      <td>0</td>\n",
       "    </tr>\n",
       "    <tr>\n",
       "      <th>16</th>\n",
       "      <td>0007e25b2121310b</td>\n",
       "      <td>Bye! \\n\\nDon't look, come or think of comming ...</td>\n",
       "      <td>1</td>\n",
       "      <td>0</td>\n",
       "      <td>0</td>\n",
       "      <td>0</td>\n",
       "      <td>0</td>\n",
       "      <td>0</td>\n",
       "    </tr>\n",
       "    <tr>\n",
       "      <th>42</th>\n",
       "      <td>001810bf8c45bf5f</td>\n",
       "      <td>You are gay or antisemmitian? \\n\\nArchangel WH...</td>\n",
       "      <td>1</td>\n",
       "      <td>0</td>\n",
       "      <td>1</td>\n",
       "      <td>0</td>\n",
       "      <td>1</td>\n",
       "      <td>1</td>\n",
       "    </tr>\n",
       "    <tr>\n",
       "      <th>43</th>\n",
       "      <td>00190820581d90ce</td>\n",
       "      <td>FUCK YOUR FILTHY MOTHER IN THE ASS, DRY!</td>\n",
       "      <td>1</td>\n",
       "      <td>0</td>\n",
       "      <td>1</td>\n",
       "      <td>0</td>\n",
       "      <td>1</td>\n",
       "      <td>0</td>\n",
       "    </tr>\n",
       "  </tbody>\n",
       "</table>\n",
       "</div>"
      ],
      "text/plain": [
       "                  id                                       comment_text  \\\n",
       "6   0002bcb3da6cb337       COCKSUCKER BEFORE YOU PISS AROUND ON MY WORK   \n",
       "12  0005c987bdfc9d4b  Hey... what is it..\\n@ | talk .\\nWhat is it......   \n",
       "16  0007e25b2121310b  Bye! \\n\\nDon't look, come or think of comming ...   \n",
       "42  001810bf8c45bf5f  You are gay or antisemmitian? \\n\\nArchangel WH...   \n",
       "43  00190820581d90ce           FUCK YOUR FILTHY MOTHER IN THE ASS, DRY!   \n",
       "\n",
       "    toxic  severe_toxic  obscene  threat  insult  identity_hate  \n",
       "6       1             1        1       0       1              0  \n",
       "12      1             0        0       0       0              0  \n",
       "16      1             0        0       0       0              0  \n",
       "42      1             0        1       0       1              1  \n",
       "43      1             0        1       0       1              0  "
      ]
     },
     "execution_count": 9,
     "metadata": {},
     "output_type": "execute_result"
    }
   ],
   "source": [
    "temp = train[train['toxic'] == 1]\n",
    "temp.head()"
   ]
  },
  {
   "cell_type": "code",
   "execution_count": 10,
   "metadata": {
    "colab": {
     "base_uri": "https://localhost:8080/",
     "height": 140
    },
    "id": "o4dXAnR7muW0",
    "outputId": "c529390a-867e-4bc8-da6b-b95f842025c6",
    "tags": []
   },
   "outputs": [
    {
     "name": "stdout",
     "output_type": "stream",
     "text": [
      "2875 Total Characters\n"
     ]
    },
    {
     "data": {
      "text/plain": [
       "'\"\\nFair use rationale for Image:Wonju.jpg\\n\\nThanks for uploading Image:Wonju.jpg. I notice the image page specifies that the image is being used under fair use but there is no explanation or rationale as to why its use in Wikipedia articles constitutes fair use. In addition to the boilerplate fair use template, you must also write out on the image description page a specific explanation or rationale for why using this image in each article is consistent with fair use.\\n\\nPlease go to the image description page and edit it to include a fair use rationale.\\n\\nIf you have uploaded other fair use media, consider checking that you have specified the fair use rationale on those pages too. You can find a list of \\'image\\' pages you have edited by clicking on the \"\"my contributions\"\" link (it is located at the very top of any Wikipedia page when you are logged in), and then selecting \"\"Image\"\" from the dropdown box. Note that any fair use images uploaded after 4 May, 2006, and lacking such an explanation will be deleted one week after they have been uploaded, as described on criteria for speedy deletion. If you have any questions please ask them at the Media copyright questions page. Thank you. (talk • contribs • ) \\nUnspecified source for Image:Wonju.jpg\\n\\nThanks for uploading Image:Wonju.jpg. I noticed that the file\\'s description page currently doesn\\'t specify who created the content, so the copyright status is unclear. If you did not create this file yourself, then you will need to specify the owner of the copyright. If you obtained it from a website, then a link to the website from which it was taken, together with a restatement of that website\\'s terms of use of its content, is usually sufficient information. However, if the copyright holder is different from the website\\'s publisher, then their copyright should also be acknowledged.\\n\\nAs well as adding the source, please add a proper copyright licensing tag if the file doesn\\'t have one already. If you created/took the picture, audio, or video then the  tag can be used to release it under the GFDL. If you believe the media meets the criteria at Wikipedia:Fair use, use a tag such as  or one of the other tags listed at Wikipedia:Image copyright tags#Fair use. See Wikipedia:Image copyright tags for the full list of copyright tags that you can use.\\n\\nIf you have uploaded other files, consider checking that you have specified their source and tagged them, too. You can find a list of files you have uploaded by following [ this link]. Unsourced and untagged images may be deleted one week after they have been tagged, as described on criteria for speedy deletion. If the image is copyrighted under a non-free license (per Wikipedia:Fair use) then the image will be deleted 48 hours after . If you have any questions please ask them at the Media copyright questions page. Thank you. (talk • contribs • ) \"'"
      ]
     },
     "execution_count": 10,
     "metadata": {},
     "output_type": "execute_result"
    }
   ],
   "source": [
    "print(len(train['comment_text'][10]), 'Total Characters')\n",
    "train['comment_text'][10]"
   ]
  },
  {
   "cell_type": "markdown",
   "metadata": {
    "id": "nNt4qIVOmuW1"
   },
   "source": [
    "A comment can be toxic, severe_toxic, obscene and insult at the same time. So the class for each comment is not limited to one.\n",
    "<br>Now let's check the values for each column in train dataset."
   ]
  },
  {
   "cell_type": "code",
   "execution_count": 11,
   "metadata": {
    "colab": {
     "base_uri": "https://localhost:8080/"
    },
    "id": "HbulMJxhmuW2",
    "outputId": "d2755408-e0f8-436a-f440-7c95affa6da2",
    "tags": []
   },
   "outputs": [
    {
     "data": {
      "text/plain": [
       "[array([0, 1]),\n",
       " array([0, 1]),\n",
       " array([0, 1]),\n",
       " array([0, 1]),\n",
       " array([0, 1]),\n",
       " array([0, 1])]"
      ]
     },
     "execution_count": 11,
     "metadata": {},
     "output_type": "execute_result"
    }
   ],
   "source": [
    "labels = train.drop(['id', 'comment_text'], axis = 1)\n",
    "unique_values = lambda x: train[x].unique()\n",
    "[unique_values(col) for col in labels.columns.tolist()]"
   ]
  },
  {
   "cell_type": "code",
   "execution_count": 12,
   "metadata": {
    "colab": {
     "base_uri": "https://localhost:8080/",
     "height": 206
    },
    "id": "QCzZc8z3muW2",
    "outputId": "5a895814-f3f9-42ef-c0dc-b15f13ebabdb",
    "tags": []
   },
   "outputs": [
    {
     "data": {
      "text/html": [
       "<div>\n",
       "<style scoped>\n",
       "    .dataframe tbody tr th:only-of-type {\n",
       "        vertical-align: middle;\n",
       "    }\n",
       "\n",
       "    .dataframe tbody tr th {\n",
       "        vertical-align: top;\n",
       "    }\n",
       "\n",
       "    .dataframe thead th {\n",
       "        text-align: right;\n",
       "    }\n",
       "</style>\n",
       "<table border=\"1\" class=\"dataframe\">\n",
       "  <thead>\n",
       "    <tr style=\"text-align: right;\">\n",
       "      <th></th>\n",
       "      <th>id</th>\n",
       "      <th>comment_text</th>\n",
       "    </tr>\n",
       "  </thead>\n",
       "  <tbody>\n",
       "    <tr>\n",
       "      <th>0</th>\n",
       "      <td>00001cee341fdb12</td>\n",
       "      <td>Yo bitch Ja Rule is more succesful then you'll...</td>\n",
       "    </tr>\n",
       "    <tr>\n",
       "      <th>1</th>\n",
       "      <td>0000247867823ef7</td>\n",
       "      <td>== From RfC == \\n\\n The title is fine as it is...</td>\n",
       "    </tr>\n",
       "    <tr>\n",
       "      <th>2</th>\n",
       "      <td>00013b17ad220c46</td>\n",
       "      <td>\" \\n\\n == Sources == \\n\\n * Zawe Ashton on Lap...</td>\n",
       "    </tr>\n",
       "    <tr>\n",
       "      <th>3</th>\n",
       "      <td>00017563c3f7919a</td>\n",
       "      <td>:If you have a look back at the source, the in...</td>\n",
       "    </tr>\n",
       "    <tr>\n",
       "      <th>4</th>\n",
       "      <td>00017695ad8997eb</td>\n",
       "      <td>I don't anonymously edit articles at all.</td>\n",
       "    </tr>\n",
       "  </tbody>\n",
       "</table>\n",
       "</div>"
      ],
      "text/plain": [
       "                 id                                       comment_text\n",
       "0  00001cee341fdb12  Yo bitch Ja Rule is more succesful then you'll...\n",
       "1  0000247867823ef7  == From RfC == \\n\\n The title is fine as it is...\n",
       "2  00013b17ad220c46  \" \\n\\n == Sources == \\n\\n * Zawe Ashton on Lap...\n",
       "3  00017563c3f7919a  :If you have a look back at the source, the in...\n",
       "4  00017695ad8997eb          I don't anonymously edit articles at all."
      ]
     },
     "execution_count": 12,
     "metadata": {},
     "output_type": "execute_result"
    }
   ],
   "source": [
    "test = pd.read_csv('../input/jigsaw-toxic-comment-classification-challenge/test.csv.zip', nrows = 100)\n",
    "test.head()"
   ]
  },
  {
   "cell_type": "code",
   "execution_count": 13,
   "metadata": {
    "colab": {
     "base_uri": "https://localhost:8080/",
     "height": 206
    },
    "id": "-fhvYOwjmuW3",
    "outputId": "32bd57df-4fac-49e7-ea99-6b0c81e4d3f6",
    "tags": []
   },
   "outputs": [
    {
     "data": {
      "text/html": [
       "<div>\n",
       "<style scoped>\n",
       "    .dataframe tbody tr th:only-of-type {\n",
       "        vertical-align: middle;\n",
       "    }\n",
       "\n",
       "    .dataframe tbody tr th {\n",
       "        vertical-align: top;\n",
       "    }\n",
       "\n",
       "    .dataframe thead th {\n",
       "        text-align: right;\n",
       "    }\n",
       "</style>\n",
       "<table border=\"1\" class=\"dataframe\">\n",
       "  <thead>\n",
       "    <tr style=\"text-align: right;\">\n",
       "      <th></th>\n",
       "      <th>id</th>\n",
       "      <th>toxic</th>\n",
       "      <th>severe_toxic</th>\n",
       "      <th>obscene</th>\n",
       "      <th>threat</th>\n",
       "      <th>insult</th>\n",
       "      <th>identity_hate</th>\n",
       "    </tr>\n",
       "  </thead>\n",
       "  <tbody>\n",
       "    <tr>\n",
       "      <th>0</th>\n",
       "      <td>00001cee341fdb12</td>\n",
       "      <td>-1</td>\n",
       "      <td>-1</td>\n",
       "      <td>-1</td>\n",
       "      <td>-1</td>\n",
       "      <td>-1</td>\n",
       "      <td>-1</td>\n",
       "    </tr>\n",
       "    <tr>\n",
       "      <th>1</th>\n",
       "      <td>0000247867823ef7</td>\n",
       "      <td>-1</td>\n",
       "      <td>-1</td>\n",
       "      <td>-1</td>\n",
       "      <td>-1</td>\n",
       "      <td>-1</td>\n",
       "      <td>-1</td>\n",
       "    </tr>\n",
       "    <tr>\n",
       "      <th>2</th>\n",
       "      <td>00013b17ad220c46</td>\n",
       "      <td>-1</td>\n",
       "      <td>-1</td>\n",
       "      <td>-1</td>\n",
       "      <td>-1</td>\n",
       "      <td>-1</td>\n",
       "      <td>-1</td>\n",
       "    </tr>\n",
       "    <tr>\n",
       "      <th>3</th>\n",
       "      <td>00017563c3f7919a</td>\n",
       "      <td>-1</td>\n",
       "      <td>-1</td>\n",
       "      <td>-1</td>\n",
       "      <td>-1</td>\n",
       "      <td>-1</td>\n",
       "      <td>-1</td>\n",
       "    </tr>\n",
       "    <tr>\n",
       "      <th>4</th>\n",
       "      <td>00017695ad8997eb</td>\n",
       "      <td>-1</td>\n",
       "      <td>-1</td>\n",
       "      <td>-1</td>\n",
       "      <td>-1</td>\n",
       "      <td>-1</td>\n",
       "      <td>-1</td>\n",
       "    </tr>\n",
       "  </tbody>\n",
       "</table>\n",
       "</div>"
      ],
      "text/plain": [
       "                 id  toxic  severe_toxic  obscene  threat  insult  \\\n",
       "0  00001cee341fdb12     -1            -1       -1      -1      -1   \n",
       "1  0000247867823ef7     -1            -1       -1      -1      -1   \n",
       "2  00013b17ad220c46     -1            -1       -1      -1      -1   \n",
       "3  00017563c3f7919a     -1            -1       -1      -1      -1   \n",
       "4  00017695ad8997eb     -1            -1       -1      -1      -1   \n",
       "\n",
       "   identity_hate  \n",
       "0             -1  \n",
       "1             -1  \n",
       "2             -1  \n",
       "3             -1  \n",
       "4             -1  "
      ]
     },
     "execution_count": 13,
     "metadata": {},
     "output_type": "execute_result"
    }
   ],
   "source": [
    "test_labels = pd.read_csv('../input/jigsaw-toxic-comment-classification-challenge/test_labels.csv.zip', nrows = 10)\n",
    "test_labels.head()"
   ]
  },
  {
   "cell_type": "code",
   "execution_count": 14,
   "metadata": {
    "colab": {
     "base_uri": "https://localhost:8080/",
     "height": 206
    },
    "id": "QuTCBGldmuW4",
    "outputId": "30be3bde-94ac-49b3-d537-a4d670ae93ee",
    "tags": []
   },
   "outputs": [
    {
     "data": {
      "text/html": [
       "<div>\n",
       "<style scoped>\n",
       "    .dataframe tbody tr th:only-of-type {\n",
       "        vertical-align: middle;\n",
       "    }\n",
       "\n",
       "    .dataframe tbody tr th {\n",
       "        vertical-align: top;\n",
       "    }\n",
       "\n",
       "    .dataframe thead th {\n",
       "        text-align: right;\n",
       "    }\n",
       "</style>\n",
       "<table border=\"1\" class=\"dataframe\">\n",
       "  <thead>\n",
       "    <tr style=\"text-align: right;\">\n",
       "      <th></th>\n",
       "      <th>id</th>\n",
       "      <th>toxic</th>\n",
       "      <th>severe_toxic</th>\n",
       "      <th>obscene</th>\n",
       "      <th>threat</th>\n",
       "      <th>insult</th>\n",
       "      <th>identity_hate</th>\n",
       "    </tr>\n",
       "  </thead>\n",
       "  <tbody>\n",
       "    <tr>\n",
       "      <th>0</th>\n",
       "      <td>00001cee341fdb12</td>\n",
       "      <td>0.5</td>\n",
       "      <td>0.5</td>\n",
       "      <td>0.5</td>\n",
       "      <td>0.5</td>\n",
       "      <td>0.5</td>\n",
       "      <td>0.5</td>\n",
       "    </tr>\n",
       "    <tr>\n",
       "      <th>1</th>\n",
       "      <td>0000247867823ef7</td>\n",
       "      <td>0.5</td>\n",
       "      <td>0.5</td>\n",
       "      <td>0.5</td>\n",
       "      <td>0.5</td>\n",
       "      <td>0.5</td>\n",
       "      <td>0.5</td>\n",
       "    </tr>\n",
       "    <tr>\n",
       "      <th>2</th>\n",
       "      <td>00013b17ad220c46</td>\n",
       "      <td>0.5</td>\n",
       "      <td>0.5</td>\n",
       "      <td>0.5</td>\n",
       "      <td>0.5</td>\n",
       "      <td>0.5</td>\n",
       "      <td>0.5</td>\n",
       "    </tr>\n",
       "    <tr>\n",
       "      <th>3</th>\n",
       "      <td>00017563c3f7919a</td>\n",
       "      <td>0.5</td>\n",
       "      <td>0.5</td>\n",
       "      <td>0.5</td>\n",
       "      <td>0.5</td>\n",
       "      <td>0.5</td>\n",
       "      <td>0.5</td>\n",
       "    </tr>\n",
       "    <tr>\n",
       "      <th>4</th>\n",
       "      <td>00017695ad8997eb</td>\n",
       "      <td>0.5</td>\n",
       "      <td>0.5</td>\n",
       "      <td>0.5</td>\n",
       "      <td>0.5</td>\n",
       "      <td>0.5</td>\n",
       "      <td>0.5</td>\n",
       "    </tr>\n",
       "  </tbody>\n",
       "</table>\n",
       "</div>"
      ],
      "text/plain": [
       "                 id  toxic  severe_toxic  obscene  threat  insult  \\\n",
       "0  00001cee341fdb12    0.5           0.5      0.5     0.5     0.5   \n",
       "1  0000247867823ef7    0.5           0.5      0.5     0.5     0.5   \n",
       "2  00013b17ad220c46    0.5           0.5      0.5     0.5     0.5   \n",
       "3  00017563c3f7919a    0.5           0.5      0.5     0.5     0.5   \n",
       "4  00017695ad8997eb    0.5           0.5      0.5     0.5     0.5   \n",
       "\n",
       "   identity_hate  \n",
       "0            0.5  \n",
       "1            0.5  \n",
       "2            0.5  \n",
       "3            0.5  \n",
       "4            0.5  "
      ]
     },
     "execution_count": 14,
     "metadata": {},
     "output_type": "execute_result"
    }
   ],
   "source": [
    "submission = pd.read_csv('../input/jigsaw-toxic-comment-classification-challenge/sample_submission.csv.zip', nrows = 10)\n",
    "submission.head()"
   ]
  },
  {
   "cell_type": "markdown",
   "metadata": {
    "id": "T_xZqbG5muW5"
   },
   "source": [
    "## 2. Summerize data\n",
    "### a. Descriptive statistics\n",
    "### Missing values"
   ]
  },
  {
   "cell_type": "code",
   "execution_count": 15,
   "metadata": {
    "id": "Lxzj0uN1muW5",
    "tags": []
   },
   "outputs": [
    {
     "data": {
      "text/plain": [
       "id               0\n",
       "comment_text     0\n",
       "toxic            0\n",
       "severe_toxic     0\n",
       "obscene          0\n",
       "threat           0\n",
       "insult           0\n",
       "identity_hate    0\n",
       "dtype: int64"
      ]
     },
     "execution_count": 15,
     "metadata": {},
     "output_type": "execute_result"
    }
   ],
   "source": [
    "train.isnull().sum()"
   ]
  },
  {
   "cell_type": "code",
   "execution_count": 16,
   "metadata": {
    "id": "iell3TvjmuW5",
    "tags": []
   },
   "outputs": [
    {
     "data": {
      "text/plain": [
       "id              0\n",
       "comment_text    0\n",
       "dtype: int64"
      ]
     },
     "execution_count": 16,
     "metadata": {},
     "output_type": "execute_result"
    }
   ],
   "source": [
    "test.isnull().sum()"
   ]
  },
  {
   "cell_type": "markdown",
   "metadata": {
    "id": "9jBII84umuW6"
   },
   "source": [
    "Great! we have no missing value!\n",
    "### Distribution of each class in the train set and test labels\n",
    "Let's check how many of each category is found in our training data:"
   ]
  },
  {
   "cell_type": "code",
   "execution_count": 17,
   "metadata": {
    "id": "XIrmmsm5muW6",
    "tags": []
   },
   "outputs": [
    {
     "data": {
      "text/html": [
       "<div>\n",
       "<style scoped>\n",
       "    .dataframe tbody tr th:only-of-type {\n",
       "        vertical-align: middle;\n",
       "    }\n",
       "\n",
       "    .dataframe tbody tr th {\n",
       "        vertical-align: top;\n",
       "    }\n",
       "\n",
       "    .dataframe thead th {\n",
       "        text-align: right;\n",
       "    }\n",
       "</style>\n",
       "<table border=\"1\" class=\"dataframe\">\n",
       "  <thead>\n",
       "    <tr style=\"text-align: right;\">\n",
       "      <th></th>\n",
       "      <th>counts</th>\n",
       "    </tr>\n",
       "  </thead>\n",
       "  <tbody>\n",
       "    <tr>\n",
       "      <th>toxic</th>\n",
       "      <td>20</td>\n",
       "    </tr>\n",
       "    <tr>\n",
       "      <th>insult</th>\n",
       "      <td>12</td>\n",
       "    </tr>\n",
       "    <tr>\n",
       "      <th>obscene</th>\n",
       "      <td>11</td>\n",
       "    </tr>\n",
       "    <tr>\n",
       "      <th>severe_toxic</th>\n",
       "      <td>3</td>\n",
       "    </tr>\n",
       "    <tr>\n",
       "      <th>identity_hate</th>\n",
       "      <td>3</td>\n",
       "    </tr>\n",
       "    <tr>\n",
       "      <th>threat</th>\n",
       "      <td>2</td>\n",
       "    </tr>\n",
       "  </tbody>\n",
       "</table>\n",
       "</div>"
      ],
      "text/plain": [
       "               counts\n",
       "toxic              20\n",
       "insult             12\n",
       "obscene            11\n",
       "severe_toxic        3\n",
       "identity_hate       3\n",
       "threat              2"
      ]
     },
     "execution_count": 17,
     "metadata": {},
     "output_type": "execute_result"
    }
   ],
   "source": [
    "df_train = train.drop(['id', 'comment_text'], axis = 1)\n",
    "label_counts = df_train.sum()\n",
    "df_counts = pd.DataFrame(label_counts)\n",
    "df_counts.rename(columns = {0:'counts'}, inplace = True)\n",
    "df_counts = df_counts.sort_values('counts', ascending = False)\n",
    "df_counts"
   ]
  },
  {
   "cell_type": "code",
   "execution_count": 22,
   "metadata": {
    "id": "gzPRaZi2muW6",
    "tags": []
   },
   "outputs": [
    {
     "data": {
      "image/png": "[encoded data removed]",
      "text/plain": [
       "<Figure size 800x400 with 1 Axes>"
      ]
     },
     "metadata": {},
     "output_type": "display_data"
    }
   ],
   "source": [
    "fig, ax = plt.subplots(figsize = (8,4))\n",
    "p = sns.barplot(x=df_counts.index, y=df_counts['counts'])\n",
    "x = plt.xticks(rotation = 60)\n",
    "ax.set_title('Toxic comment counts in '+ str(len(df_train))+ ' samples of data', weight = 'bold', fontsize = 18, y = 1.05)\n",
    "x = ax.set_ylabel('')"
   ]
  },
  {
   "cell_type": "markdown",
   "metadata": {
    "id": "svKNrYICmuW7"
   },
   "source": [
    "Relative percentage gives us a better understanding."
   ]
  },
  {
   "cell_type": "code",
   "execution_count": 23,
   "metadata": {
    "id": "8aIkCcltmuW7",
    "tags": []
   },
   "outputs": [
    {
     "data": {
      "text/plain": [
       "toxic            10.0\n",
       "severe_toxic      1.5\n",
       "obscene           5.5\n",
       "threat            1.0\n",
       "insult            6.0\n",
       "identity_hate     1.5\n",
       "dtype: float64"
      ]
     },
     "execution_count": 23,
     "metadata": {},
     "output_type": "execute_result"
    }
   ],
   "source": [
    "labels = np.round(df_train.sum()/len(df_train)*100, 1)\n",
    "labels"
   ]
  },
  {
   "cell_type": "code",
   "execution_count": 24,
   "metadata": {
    "id": "lggRKwVbmuW7",
    "tags": []
   },
   "outputs": [
    {
     "data": {
      "text/html": [
       "<div>\n",
       "<style scoped>\n",
       "    .dataframe tbody tr th:only-of-type {\n",
       "        vertical-align: middle;\n",
       "    }\n",
       "\n",
       "    .dataframe tbody tr th {\n",
       "        vertical-align: top;\n",
       "    }\n",
       "\n",
       "    .dataframe thead th {\n",
       "        text-align: right;\n",
       "    }\n",
       "</style>\n",
       "<table border=\"1\" class=\"dataframe\">\n",
       "  <thead>\n",
       "    <tr style=\"text-align: right;\">\n",
       "      <th></th>\n",
       "      <th>-1</th>\n",
       "      <th>0</th>\n",
       "    </tr>\n",
       "  </thead>\n",
       "  <tbody>\n",
       "    <tr>\n",
       "      <th>proportion</th>\n",
       "      <td>80.0</td>\n",
       "      <td>20.0</td>\n",
       "    </tr>\n",
       "    <tr>\n",
       "      <th>proportion</th>\n",
       "      <td>80.0</td>\n",
       "      <td>20.0</td>\n",
       "    </tr>\n",
       "    <tr>\n",
       "      <th>proportion</th>\n",
       "      <td>80.0</td>\n",
       "      <td>20.0</td>\n",
       "    </tr>\n",
       "    <tr>\n",
       "      <th>proportion</th>\n",
       "      <td>80.0</td>\n",
       "      <td>20.0</td>\n",
       "    </tr>\n",
       "    <tr>\n",
       "      <th>proportion</th>\n",
       "      <td>80.0</td>\n",
       "      <td>20.0</td>\n",
       "    </tr>\n",
       "    <tr>\n",
       "      <th>proportion</th>\n",
       "      <td>80.0</td>\n",
       "      <td>20.0</td>\n",
       "    </tr>\n",
       "  </tbody>\n",
       "</table>\n",
       "</div>"
      ],
      "text/plain": [
       "              -1     0\n",
       "proportion  80.0  20.0\n",
       "proportion  80.0  20.0\n",
       "proportion  80.0  20.0\n",
       "proportion  80.0  20.0\n",
       "proportion  80.0  20.0\n",
       "proportion  80.0  20.0"
      ]
     },
     "execution_count": 24,
     "metadata": {},
     "output_type": "execute_result"
    }
   ],
   "source": [
    "df_test_labels = test_labels.drop(['id'], axis = 1)\n",
    "count_values = lambda x: np.round(df_test_labels[x].value_counts(normalize = True)*100, 1)\n",
    "pd.DataFrame([count_values(col) for col in df_test_labels.columns.tolist()])"
   ]
  },
  {
   "cell_type": "code",
   "execution_count": 25,
   "metadata": {
    "id": "xNKgAtwOmuW8",
    "tags": []
   },
   "outputs": [
    {
     "data": {
      "text/plain": [
       "((200, 8), (100, 2))"
      ]
     },
     "execution_count": 25,
     "metadata": {},
     "output_type": "execute_result"
    }
   ],
   "source": [
    "train.shape, test.shape"
   ]
  },
  {
   "cell_type": "markdown",
   "metadata": {
    "id": "IZGs2mwvmuW8"
   },
   "source": [
    "## 3. Prepare Data\n",
    "### a. Data cleaning\n",
    "We need to clean, tokenize and convert the data to tensors. <br>\n",
    "The function below helps us with:\n",
    "\n",
    "- Removing hyperlinks, punctuation and numbers\n",
    "- Tokenizeation\n",
    "\n",
    "We skip changing it all to lower case and keep the letters sensetive to case. The comment BAD!! has stronger negative emotion in it than bad!! <br>\n",
    "We also do not remove the stop words, Since with contextual models such as BERT and ROBERTA it is (almost) always better not to process the texts removing stopwords. These models are pretrained with stopwords: if you remove stop words your model may lose the context. This is also true for stemming and lemmatization preprocessing techniques. So we skip them too!"
   ]
  },
  {
   "cell_type": "code",
   "execution_count": 26,
   "metadata": {
    "id": "pCJzcTTymuW8",
    "tags": []
   },
   "outputs": [],
   "source": [
    "# text preprocessing helper functions [1]\n",
    "\n",
    "def clean_text(text):\n",
    "    '''Make text lowercase, remove text in square brackets,remove links,remove punctuation\n",
    "    and remove words containing numbers.'''\n",
    "    #text = text.lower()\n",
    "\n",
    "    #pattern = [zero or more character]\n",
    "    text = re.sub('\\[.*?\\]', '', text)\n",
    "\n",
    "    #pattern = with or without(http),://, one or more non-white space character, OR www, .,one or more non-white space character\n",
    "    text = re.sub('https?://\\S+|www\\.\\S+', '', text)\n",
    "\n",
    "    #pattern = <, zero or more characters, >, (one or more occurance of >)\n",
    "    text = re.sub('<.*?>+', '', text)\n",
    "\n",
    "    #pattern = any punctionation\n",
    "    text = re.sub('[%s]' % re.escape(string.punctuation), '', text)\n",
    "\n",
    "    #pattern = any new line\n",
    "    text = re.sub('\\n', '', text)\n",
    "\n",
    "    #pattern = any from[a-zA-Z0-9_], any from[0-9], any from [a-zA-Z0-9_]\n",
    "    text = re.sub('\\w*\\d\\w*', '', text)\n",
    "    return text"
   ]
  },
  {
   "cell_type": "code",
   "execution_count": 27,
   "metadata": {
    "id": "IgLFznefmuW9",
    "tags": []
   },
   "outputs": [
    {
     "name": "stdout",
     "output_type": "stream",
     "text": [
      "CPU times: user 18.8 ms, sys: 0 ns, total: 18.8 ms\n",
      "Wall time: 18.5 ms\n"
     ]
    }
   ],
   "source": [
    "%%time\n",
    "train['clean_text'] = train['comment_text'].apply(str).apply(lambda x: clean_text(x))\n",
    "test['clean_text'] = test['comment_text'].apply(str).apply(lambda x: clean_text(x))"
   ]
  },
  {
   "cell_type": "markdown",
   "metadata": {
    "id": "RzOcvWfKmuW-"
   },
   "source": [
    "### b. Dataset and Dataloader\n",
    "We use 20% of the training data as validation set."
   ]
  },
  {
   "cell_type": "code",
   "execution_count": 28,
   "metadata": {
    "id": "jXN8kIXPmuW-",
    "tags": []
   },
   "outputs": [
    {
     "data": {
      "text/plain": [
       "Index([0, 1, 2, 3, 4, 0, 1, 2, 3, 4,\n",
       "       ...\n",
       "       0, 1, 2, 3, 4, 0, 1, 2, 3, 4],\n",
       "      dtype='int64', length=200)"
      ]
     },
     "execution_count": 28,
     "metadata": {},
     "output_type": "execute_result"
    }
   ],
   "source": [
    "kfold = 5\n",
    "train['kfold'] = train.index % kfold\n",
    "train.index % kfold"
   ]
  },
  {
   "cell_type": "code",
   "execution_count": 29,
   "metadata": {
    "id": "k_Sdqz0MmuW-",
    "tags": []
   },
   "outputs": [],
   "source": [
    "#reset_index creates a column with the name of 'index' and saves the old index values in it and updates the values of index.\n",
    "#drop = True removes the column 'index' with the old index values.\n",
    "p_train = train[train[\"kfold\"] != 0].reset_index(drop = True)\n",
    "p_valid = train[train[\"kfold\"] == 0].reset_index(drop = True)"
   ]
  },
  {
   "cell_type": "code",
   "execution_count": 30,
   "metadata": {
    "id": "3iCgCQp6muW_",
    "tags": []
   },
   "outputs": [
    {
     "data": {
      "text/html": [
       "<div>\n",
       "<style scoped>\n",
       "    .dataframe tbody tr th:only-of-type {\n",
       "        vertical-align: middle;\n",
       "    }\n",
       "\n",
       "    .dataframe tbody tr th {\n",
       "        vertical-align: top;\n",
       "    }\n",
       "\n",
       "    .dataframe thead th {\n",
       "        text-align: right;\n",
       "    }\n",
       "</style>\n",
       "<table border=\"1\" class=\"dataframe\">\n",
       "  <thead>\n",
       "    <tr style=\"text-align: right;\">\n",
       "      <th></th>\n",
       "      <th>id</th>\n",
       "      <th>comment_text</th>\n",
       "      <th>toxic</th>\n",
       "      <th>severe_toxic</th>\n",
       "      <th>obscene</th>\n",
       "      <th>threat</th>\n",
       "      <th>insult</th>\n",
       "      <th>identity_hate</th>\n",
       "      <th>clean_text</th>\n",
       "      <th>kfold</th>\n",
       "    </tr>\n",
       "  </thead>\n",
       "  <tbody>\n",
       "    <tr>\n",
       "      <th>0</th>\n",
       "      <td>000103f0d9cfb60f</td>\n",
       "      <td>D'aww! He matches this background colour I'm s...</td>\n",
       "      <td>0</td>\n",
       "      <td>0</td>\n",
       "      <td>0</td>\n",
       "      <td>0</td>\n",
       "      <td>0</td>\n",
       "      <td>0</td>\n",
       "      <td>Daww He matches this background colour Im seem...</td>\n",
       "      <td>1</td>\n",
       "    </tr>\n",
       "    <tr>\n",
       "      <th>1</th>\n",
       "      <td>000113f07ec002fd</td>\n",
       "      <td>Hey man, I'm really not trying to edit war. It...</td>\n",
       "      <td>0</td>\n",
       "      <td>0</td>\n",
       "      <td>0</td>\n",
       "      <td>0</td>\n",
       "      <td>0</td>\n",
       "      <td>0</td>\n",
       "      <td>Hey man Im really not trying to edit war Its j...</td>\n",
       "      <td>2</td>\n",
       "    </tr>\n",
       "    <tr>\n",
       "      <th>2</th>\n",
       "      <td>0001b41b1c6bb37e</td>\n",
       "      <td>\"\\nMore\\nI can't make any real suggestions on ...</td>\n",
       "      <td>0</td>\n",
       "      <td>0</td>\n",
       "      <td>0</td>\n",
       "      <td>0</td>\n",
       "      <td>0</td>\n",
       "      <td>0</td>\n",
       "      <td>MoreI cant make any real suggestions on improv...</td>\n",
       "      <td>3</td>\n",
       "    </tr>\n",
       "    <tr>\n",
       "      <th>3</th>\n",
       "      <td>0001d958c54c6e35</td>\n",
       "      <td>You, sir, are my hero. Any chance you remember...</td>\n",
       "      <td>0</td>\n",
       "      <td>0</td>\n",
       "      <td>0</td>\n",
       "      <td>0</td>\n",
       "      <td>0</td>\n",
       "      <td>0</td>\n",
       "      <td>You sir are my hero Any chance you remember wh...</td>\n",
       "      <td>4</td>\n",
       "    </tr>\n",
       "    <tr>\n",
       "      <th>4</th>\n",
       "      <td>0002bcb3da6cb337</td>\n",
       "      <td>COCKSUCKER BEFORE YOU PISS AROUND ON MY WORK</td>\n",
       "      <td>1</td>\n",
       "      <td>1</td>\n",
       "      <td>1</td>\n",
       "      <td>0</td>\n",
       "      <td>1</td>\n",
       "      <td>0</td>\n",
       "      <td>COCKSUCKER BEFORE YOU PISS AROUND ON MY WORK</td>\n",
       "      <td>1</td>\n",
       "    </tr>\n",
       "  </tbody>\n",
       "</table>\n",
       "</div>"
      ],
      "text/plain": [
       "                 id                                       comment_text  toxic  \\\n",
       "0  000103f0d9cfb60f  D'aww! He matches this background colour I'm s...      0   \n",
       "1  000113f07ec002fd  Hey man, I'm really not trying to edit war. It...      0   \n",
       "2  0001b41b1c6bb37e  \"\\nMore\\nI can't make any real suggestions on ...      0   \n",
       "3  0001d958c54c6e35  You, sir, are my hero. Any chance you remember...      0   \n",
       "4  0002bcb3da6cb337       COCKSUCKER BEFORE YOU PISS AROUND ON MY WORK      1   \n",
       "\n",
       "   severe_toxic  obscene  threat  insult  identity_hate  \\\n",
       "0             0        0       0       0              0   \n",
       "1             0        0       0       0              0   \n",
       "2             0        0       0       0              0   \n",
       "3             0        0       0       0              0   \n",
       "4             1        1       0       1              0   \n",
       "\n",
       "                                          clean_text  kfold  \n",
       "0  Daww He matches this background colour Im seem...      1  \n",
       "1  Hey man Im really not trying to edit war Its j...      2  \n",
       "2  MoreI cant make any real suggestions on improv...      3  \n",
       "3  You sir are my hero Any chance you remember wh...      4  \n",
       "4       COCKSUCKER BEFORE YOU PISS AROUND ON MY WORK      1  "
      ]
     },
     "execution_count": 30,
     "metadata": {},
     "output_type": "execute_result"
    }
   ],
   "source": [
    "p_train.head()"
   ]
  },
  {
   "cell_type": "code",
   "execution_count": 31,
   "metadata": {
    "id": "MbZGilDfmuXA",
    "tags": []
   },
   "outputs": [],
   "source": [
    "tokenizer = transformers.BertTokenizer.from_pretrained('bert-base-cased')"
   ]
  },
  {
   "cell_type": "code",
   "execution_count": 32,
   "metadata": {
    "id": "UDXlAhLhmuXA",
    "tags": []
   },
   "outputs": [
    {
     "name": "stderr",
     "output_type": "stream",
     "text": [
      "  0%|          | 0/160 [00:00<?, ?it/s]Token indices sequence length is longer than the specified maximum sequence length for this model (541 > 512). Running this sequence through the model will result in indexing errors\n",
      "100%|██████████| 160/160 [00:00<00:00, 1033.83it/s]"
     ]
    },
    {
     "name": "stdout",
     "output_type": "stream",
     "text": [
      "CPU times: user 160 ms, sys: 0 ns, total: 160 ms\n",
      "Wall time: 158 ms\n"
     ]
    },
    {
     "name": "stderr",
     "output_type": "stream",
     "text": [
      "\n"
     ]
    }
   ],
   "source": [
    "%%time\n",
    "senten_len = []\n",
    "for sentence in tqdm(p_train['clean_text']):\n",
    "    token_words = tokenizer.encode_plus(sentence)['input_ids']\n",
    "    senten_len.append(len(token_words))"
   ]
  },
  {
   "cell_type": "markdown",
   "metadata": {
    "id": "CX8O_rjPmuXA"
   },
   "source": [
    "We'll have a look at the distribution of the length for tokenized comments to have an intuation about what to set as max_length for our tokenized comments."
   ]
  },
  {
   "cell_type": "code",
   "execution_count": 33,
   "metadata": {
    "id": "XPNkyU7rmuXB",
    "tags": []
   },
   "outputs": [
    {
     "data": {
      "text/plain": [
       "Text(0.5, 0, 'Tocken count')"
      ]
     },
     "execution_count": 33,
     "metadata": {},
     "output_type": "execute_result"
    },
    {
     "data": {
      "image/png": "[encoded data removed]",
      "text/plain": [
       "<Figure size 640x480 with 1 Axes>"
      ]
     },
     "metadata": {},
     "output_type": "display_data"
    }
   ],
   "source": [
    "sns.distplot(senten_len)\n",
    "plt.xlim([0, 300])\n",
    "plt.xlabel('Tocken count')"
   ]
  },
  {
   "cell_type": "markdown",
   "metadata": {
    "id": "Ghvh4yiqmuXB"
   },
   "source": [
    "It seems that 200 is good size move on with."
   ]
  },
  {
   "cell_type": "code",
   "execution_count": 34,
   "metadata": {
    "id": "tdB8lrAomuXB",
    "tags": []
   },
   "outputs": [],
   "source": [
    "max_len = 200"
   ]
  },
  {
   "cell_type": "markdown",
   "metadata": {
    "id": "tO05VKWZmuXB"
   },
   "source": [
    "We define a class BertDataSet with Dataset as super class and overwirte the__init_, __ len__ and __ getitem__ function in it. It will get the comment list and relevant toxic labels (6 labels in this case) and creates token ids and attention mask to distinguish the comments from the zero padding.\n",
    "\n",
    "**torch.tensor vs np.ndarray:** <br>\n",
    "If you are only interested in efficient and easy way to perform mathematical operations on matrices np.ndarray or torch.tensor can be used interchangeably.\n",
    "\n",
    "However, torch.tensors are designed to be used in the context of gradient descent optimization, and therefore they hold not only a tensor with numeric values, but (and more importantly) the computational graph leading to these values. This computational graph is then used (using the chain rule of derivatives) to compute the derivative of the loss function w.r.t each of the independent variables used to compute the loss.\n",
    "\n",
    "As mentioned before, np.ndarray object does not have this extra \"computational graph\" layer and therefore, when converting a torch.tensor to np.ndarray you must explicitly remove the computational graph of the tensor using the detach() command."
   ]
  },
  {
   "cell_type": "code",
   "execution_count": 35,
   "metadata": {
    "id": "VBYrxvcHmuXK",
    "tags": []
   },
   "outputs": [],
   "source": [
    "class BertDataSet(Dataset):\n",
    "\n",
    "    def __init__(self, sentences, toxic_labels):\n",
    "        self.sentences = sentences\n",
    "        #target is a matrix with shape [#1 x #6(toxic, obscene, etc)]\n",
    "        self.targets = toxic_labels.to_numpy()\n",
    "\n",
    "    def __len__(self):\n",
    "        return len(self.sentences)\n",
    "\n",
    "\n",
    "    def __getitem__(self, idx):\n",
    "        sentence = self.sentences[idx]\n",
    "        bert_senten = tokenizer.encode_plus(sentence,\n",
    "                                            add_special_tokens = True, # [CLS],[SEP]\n",
    "                                            max_length = max_len,\n",
    "                                            pad_to_max_length = True,\n",
    "                                            truncation = True,\n",
    "                                            return_attention_mask = True\n",
    "                                             )\n",
    "        ids = torch.tensor(bert_senten['input_ids'], dtype = torch.long)\n",
    "        mask = torch.tensor(bert_senten['attention_mask'], dtype = torch.long)\n",
    "        toxic_label = torch.tensor(self.targets[idx], dtype = torch.float)\n",
    "\n",
    "\n",
    "        return {\n",
    "            'ids' : ids,\n",
    "            'mask' : mask,\n",
    "            'toxic_label':toxic_label\n",
    "        }"
   ]
  },
  {
   "cell_type": "code",
   "execution_count": 36,
   "metadata": {
    "id": "Z3ATXEhFmuXN",
    "tags": []
   },
   "outputs": [],
   "source": [
    "train_dataset = BertDataSet(p_train['clean_text'], p_train[['toxic', 'severe_toxic','obscene', 'threat', 'insult','identity_hate']])\n",
    "valid_dataset = BertDataSet(p_valid['clean_text'], p_valid[['toxic', 'severe_toxic','obscene', 'threat', 'insult','identity_hate']])"
   ]
  },
  {
   "cell_type": "markdown",
   "metadata": {
    "id": "dYN6JYMRmuXN"
   },
   "source": [
    "Let's have a look what's inside a dataset:"
   ]
  },
  {
   "cell_type": "code",
   "execution_count": 37,
   "metadata": {
    "id": "E43XiAqymuXO",
    "tags": []
   },
   "outputs": [
    {
     "name": "stdout",
     "output_type": "stream",
     "text": [
      "{'ids': tensor([  101, 10136,  2246,  2246,  1124,  2697,  1142,  3582,  5922,   146,\n",
      "         1306,  9321,  5342,  1114,  5749,  2037,  1356, 11390,   102,     0,\n",
      "            0,     0,     0,     0,     0,     0,     0,     0,     0,     0,\n",
      "            0,     0,     0,     0,     0,     0,     0,     0,     0,     0,\n",
      "            0,     0,     0,     0,     0,     0,     0,     0,     0,     0,\n",
      "            0,     0,     0,     0,     0,     0,     0,     0,     0,     0,\n",
      "            0,     0,     0,     0,     0,     0,     0,     0,     0,     0,\n",
      "            0,     0,     0,     0,     0,     0,     0,     0,     0,     0,\n",
      "            0,     0,     0,     0,     0,     0,     0,     0,     0,     0,\n",
      "            0,     0,     0,     0,     0,     0,     0,     0,     0,     0,\n",
      "            0,     0,     0,     0,     0,     0,     0,     0,     0,     0,\n",
      "            0,     0,     0,     0,     0,     0,     0,     0,     0,     0,\n",
      "            0,     0,     0,     0,     0,     0,     0,     0,     0,     0,\n",
      "            0,     0,     0,     0,     0,     0,     0,     0,     0,     0,\n",
      "            0,     0,     0,     0,     0,     0,     0,     0,     0,     0,\n",
      "            0,     0,     0,     0,     0,     0,     0,     0,     0,     0,\n",
      "            0,     0,     0,     0,     0,     0,     0,     0,     0,     0,\n",
      "            0,     0,     0,     0,     0,     0,     0,     0,     0,     0,\n",
      "            0,     0,     0,     0,     0,     0,     0,     0,     0,     0,\n",
      "            0,     0,     0,     0,     0,     0,     0,     0,     0,     0]), 'mask': tensor([1, 1, 1, 1, 1, 1, 1, 1, 1, 1, 1, 1, 1, 1, 1, 1, 1, 1, 1, 0, 0, 0, 0, 0,\n",
      "        0, 0, 0, 0, 0, 0, 0, 0, 0, 0, 0, 0, 0, 0, 0, 0, 0, 0, 0, 0, 0, 0, 0, 0,\n",
      "        0, 0, 0, 0, 0, 0, 0, 0, 0, 0, 0, 0, 0, 0, 0, 0, 0, 0, 0, 0, 0, 0, 0, 0,\n",
      "        0, 0, 0, 0, 0, 0, 0, 0, 0, 0, 0, 0, 0, 0, 0, 0, 0, 0, 0, 0, 0, 0, 0, 0,\n",
      "        0, 0, 0, 0, 0, 0, 0, 0, 0, 0, 0, 0, 0, 0, 0, 0, 0, 0, 0, 0, 0, 0, 0, 0,\n",
      "        0, 0, 0, 0, 0, 0, 0, 0, 0, 0, 0, 0, 0, 0, 0, 0, 0, 0, 0, 0, 0, 0, 0, 0,\n",
      "        0, 0, 0, 0, 0, 0, 0, 0, 0, 0, 0, 0, 0, 0, 0, 0, 0, 0, 0, 0, 0, 0, 0, 0,\n",
      "        0, 0, 0, 0, 0, 0, 0, 0, 0, 0, 0, 0, 0, 0, 0, 0, 0, 0, 0, 0, 0, 0, 0, 0,\n",
      "        0, 0, 0, 0, 0, 0, 0, 0]), 'toxic_label': tensor([0., 0., 0., 0., 0., 0.])}\n"
     ]
    }
   ],
   "source": [
    "for a in train_dataset:\n",
    "    print(a)\n",
    "    break"
   ]
  },
  {
   "cell_type": "markdown",
   "metadata": {
    "id": "h64FuJK5muXO"
   },
   "source": [
    "Now we set the batch-size for trainig set and validation set. The bigger batch size helps to speed up the computations. However, the results confirm that using small batch sizes achieves the best generalization performance, for a given computation cost. In all cases, the best results have been obtained with batch sizes of 32 or smaller. Often mini-batch sizes as small as 2 or 4 deliver optimal results."
   ]
  },
  {
   "cell_type": "code",
   "execution_count": 38,
   "metadata": {
    "id": "FfCH9rdOmuXO",
    "tags": []
   },
   "outputs": [],
   "source": [
    "train_batch = 32\n",
    "valid_batch = 32"
   ]
  },
  {
   "cell_type": "markdown",
   "metadata": {
    "id": "R_0jRNkqmuXP"
   },
   "source": [
    "In the code below pin_memory = True to a DataLoader will automatically put the fetched data Tensors in pinned memory,\n",
    "and thus enables faster data transfer to CUDA-enabled GPUs. This is best explained in the [NVIDIA blogpost](https://developer.nvidia.com/blog/how-optimize-data-transfers-cuda-cc/). I will borrow the picture from it.<br>\n",
    "num_workers as a positive integer will turn on multi-process data loading with the specified number of loader worker processesm"
   ]
  },
  {
   "cell_type": "code",
   "execution_count": 39,
   "metadata": {
    "id": "BGqPYIjomuXP",
    "tags": []
   },
   "outputs": [],
   "source": [
    "train_dataloader = DataLoader(train_dataset, batch_size = train_batch, pin_memory = True, num_workers = 4, shuffle = True)\n",
    "valid_dataloader = DataLoader(valid_dataset, batch_size = valid_batch, pin_memory = True, num_workers = 4, shuffle = False)"
   ]
  },
  {
   "cell_type": "markdown",
   "metadata": {
    "id": "7sfOs9nxmuXP"
   },
   "source": [
    "Here we can check inside the dataloader:"
   ]
  },
  {
   "cell_type": "code",
   "execution_count": 40,
   "metadata": {
    "id": "E2JG7U23muXQ",
    "tags": []
   },
   "outputs": [
    {
     "name": "stdout",
     "output_type": "stream",
     "text": [
      "{'ids': tensor([[  101,  1192,  1169,  ...,     0,     0,     0],\n",
      "        [  101,  1573,  2158,  ...,     0,     0,     0],\n",
      "        [  101, 20173,  4960,  ...,     0,     0,     0],\n",
      "        ...,\n",
      "        [  101,  8790, 16409,  ...,     0,     0,     0],\n",
      "        [  101, 19585, 26918,  ...,  1132,  7173,   102],\n",
      "        [  101,  2181,  1122,  ...,  1775,  3118,   102]]), 'mask': tensor([[1, 1, 1,  ..., 0, 0, 0],\n",
      "        [1, 1, 1,  ..., 0, 0, 0],\n",
      "        [1, 1, 1,  ..., 0, 0, 0],\n",
      "        ...,\n",
      "        [1, 1, 1,  ..., 0, 0, 0],\n",
      "        [1, 1, 1,  ..., 1, 1, 1],\n",
      "        [1, 1, 1,  ..., 1, 1, 1]]), 'toxic_label': tensor([[0., 0., 0., 0., 0., 0.],\n",
      "        [0., 0., 0., 0., 0., 0.],\n",
      "        [0., 0., 0., 0., 0., 0.],\n",
      "        [0., 0., 0., 0., 0., 0.],\n",
      "        [0., 0., 0., 0., 0., 0.],\n",
      "        [0., 0., 0., 0., 0., 0.],\n",
      "        [0., 0., 0., 0., 0., 0.],\n",
      "        [0., 0., 0., 0., 0., 0.],\n",
      "        [1., 1., 1., 0., 1., 0.],\n",
      "        [0., 0., 0., 0., 0., 0.],\n",
      "        [0., 0., 0., 0., 0., 0.],\n",
      "        [0., 0., 0., 0., 0., 0.],\n",
      "        [0., 0., 0., 0., 0., 0.],\n",
      "        [0., 0., 0., 0., 0., 0.],\n",
      "        [0., 0., 0., 0., 0., 0.],\n",
      "        [0., 0., 0., 0., 0., 0.],\n",
      "        [1., 0., 0., 0., 0., 0.],\n",
      "        [0., 0., 0., 0., 0., 0.],\n",
      "        [0., 0., 0., 0., 0., 0.],\n",
      "        [0., 0., 0., 0., 0., 0.],\n",
      "        [0., 0., 0., 0., 0., 0.],\n",
      "        [0., 0., 0., 0., 0., 0.],\n",
      "        [0., 0., 0., 0., 0., 0.],\n",
      "        [0., 0., 0., 0., 0., 0.],\n",
      "        [0., 0., 0., 0., 0., 0.],\n",
      "        [0., 0., 0., 0., 0., 0.],\n",
      "        [0., 0., 0., 0., 0., 0.],\n",
      "        [1., 0., 0., 0., 0., 0.],\n",
      "        [0., 0., 0., 0., 0., 0.],\n",
      "        [0., 0., 0., 0., 0., 0.],\n",
      "        [0., 0., 0., 0., 0., 0.],\n",
      "        [0., 0., 0., 0., 0., 0.]])}\n",
      "id shape in data laoder is torch.Size([32, 200])\n",
      "CPU times: user 0 ns, sys: 2.1 s, total: 2.1 s\n",
      "Wall time: 3.2 s\n"
     ]
    }
   ],
   "source": [
    "%%time\n",
    "for a in train_dataloader:\n",
    "    print(a)\n",
    "    print('id shape in data laoder is',a['ids'].shape)\n",
    "    break"
   ]
  },
  {
   "cell_type": "markdown",
   "metadata": {
    "id": "cnaDCp7RmuXQ"
   },
   "source": [
    "## 4. BERT Modeling\n",
    "For faster computation, let's set the device cuda if it is available."
   ]
  },
  {
   "cell_type": "code",
   "execution_count": 41,
   "metadata": {
    "id": "hpEFlQ83muXQ",
    "tags": []
   },
   "outputs": [
    {
     "data": {
      "text/plain": [
       "device(type='cuda')"
      ]
     },
     "execution_count": 41,
     "metadata": {},
     "output_type": "execute_result"
    }
   ],
   "source": [
    "device = torch.device('cuda' if torch.cuda.is_available() else 'cpu')\n",
    "device"
   ]
  },
  {
   "cell_type": "code",
   "execution_count": 42,
   "metadata": {
    "id": "idV2u3jRmuXQ",
    "tags": []
   },
   "outputs": [
    {
     "name": "stderr",
     "output_type": "stream",
     "text": [
      "Some weights of BertForSequenceClassification were not initialized from the model checkpoint at bert-base-cased and are newly initialized: ['classifier.bias', 'classifier.weight']\n",
      "You should probably TRAIN this model on a down-stream task to be able to use it for predictions and inference.\n"
     ]
    },
    {
     "name": "stdout",
     "output_type": "stream",
     "text": [
      "CPU times: user 1.01 s, sys: 418 ms, total: 1.43 s\n",
      "Wall time: 3.75 s\n"
     ]
    },
    {
     "data": {
      "text/plain": [
       "BertForSequenceClassification(\n",
       "  (bert): BertModel(\n",
       "    (embeddings): BertEmbeddings(\n",
       "      (word_embeddings): Embedding(28996, 768, padding_idx=0)\n",
       "      (position_embeddings): Embedding(512, 768)\n",
       "      (token_type_embeddings): Embedding(2, 768)\n",
       "      (LayerNorm): LayerNorm((768,), eps=1e-12, elementwise_affine=True)\n",
       "      (dropout): Dropout(p=0.1, inplace=False)\n",
       "    )\n",
       "    (encoder): BertEncoder(\n",
       "      (layer): ModuleList(\n",
       "        (0-11): 12 x BertLayer(\n",
       "          (attention): BertAttention(\n",
       "            (self): BertSelfAttention(\n",
       "              (query): Linear(in_features=768, out_features=768, bias=True)\n",
       "              (key): Linear(in_features=768, out_features=768, bias=True)\n",
       "              (value): Linear(in_features=768, out_features=768, bias=True)\n",
       "              (dropout): Dropout(p=0.1, inplace=False)\n",
       "            )\n",
       "            (output): BertSelfOutput(\n",
       "              (dense): Linear(in_features=768, out_features=768, bias=True)\n",
       "              (LayerNorm): LayerNorm((768,), eps=1e-12, elementwise_affine=True)\n",
       "              (dropout): Dropout(p=0.1, inplace=False)\n",
       "            )\n",
       "          )\n",
       "          (intermediate): BertIntermediate(\n",
       "            (dense): Linear(in_features=768, out_features=3072, bias=True)\n",
       "            (intermediate_act_fn): GELUActivation()\n",
       "          )\n",
       "          (output): BertOutput(\n",
       "            (dense): Linear(in_features=3072, out_features=768, bias=True)\n",
       "            (LayerNorm): LayerNorm((768,), eps=1e-12, elementwise_affine=True)\n",
       "            (dropout): Dropout(p=0.1, inplace=False)\n",
       "          )\n",
       "        )\n",
       "      )\n",
       "    )\n",
       "    (pooler): BertPooler(\n",
       "      (dense): Linear(in_features=768, out_features=768, bias=True)\n",
       "      (activation): Tanh()\n",
       "    )\n",
       "  )\n",
       "  (dropout): Dropout(p=0.1, inplace=False)\n",
       "  (classifier): Linear(in_features=768, out_features=6, bias=True)\n",
       ")"
      ]
     },
     "execution_count": 42,
     "metadata": {},
     "output_type": "execute_result"
    }
   ],
   "source": [
    "%%time\n",
    "model = transformers.BertForSequenceClassification.from_pretrained('bert-base-cased', num_labels = 6)\n",
    "model.to(device)\n",
    "model.train()"
   ]
  },
  {
   "cell_type": "markdown",
   "metadata": {
    "id": "GrdeSHa5muXR"
   },
   "source": [
    "The model makes use of id and mask from token encoding in the trian set. At this state, there is no need to feed in the model with the target values such as toxic, obscene, etc."
   ]
  },
  {
   "cell_type": "code",
   "execution_count": 43,
   "metadata": {
    "id": "mtWaCAb4muXS",
    "tags": []
   },
   "outputs": [
    {
     "name": "stdout",
     "output_type": "stream",
     "text": [
      "CPU times: user 666 ms, sys: 288 ms, total: 954 ms\n",
      "Wall time: 1.33 s\n"
     ]
    }
   ],
   "source": [
    "%%time\n",
    "for a in train_dataloader:\n",
    "    ids = a['ids'].to(device)\n",
    "    mask = a['mask'].to(device)\n",
    "    output = model(ids, mask)\n",
    "    break"
   ]
  },
  {
   "cell_type": "code",
   "execution_count": 44,
   "metadata": {
    "id": "TWI-gNx4muXS",
    "tags": []
   },
   "outputs": [
    {
     "data": {
      "text/plain": [
       "SequenceClassifierOutput(loss=None, logits=tensor([[ 0.6201,  0.3799,  0.0088, -0.8336,  0.2145, -0.5161],\n",
       "        [ 0.8190,  0.4579,  0.2887, -0.3587, -0.2714,  0.1258],\n",
       "        [ 0.9700,  0.5686,  0.3072, -0.9768, -0.0214, -0.4319],\n",
       "        [ 0.7765,  0.2486,  0.2971, -0.7248,  0.1783, -0.3984],\n",
       "        [ 0.7304,  0.3624,  0.2050, -0.6024, -0.5802, -0.1800],\n",
       "        [ 0.6637,  0.1913,  0.3300, -0.4961, -0.4681, -0.0583],\n",
       "        [ 0.8843,  0.5079,  0.4728, -0.7067, -0.0378, -0.3186],\n",
       "        [ 0.6311,  0.5549,  0.2440, -0.7413, -0.1938, -0.1578],\n",
       "        [ 0.7719,  0.5879,  0.3470, -0.3304, -0.0791, -0.1486],\n",
       "        [ 0.4252,  0.0685,  0.3280, -0.5279, -0.3920, -0.2404],\n",
       "        [ 0.5367,  0.5440,  0.3190, -0.3503, -0.2941, -0.2202],\n",
       "        [ 0.5424,  0.1352,  0.2504, -0.5285, -0.2658,  0.0184],\n",
       "        [ 0.6613,  0.3339,  0.5750, -0.5271, -0.2497, -0.4539],\n",
       "        [ 0.6295,  0.4356,  0.2797, -0.3720, -0.0551, -0.0872],\n",
       "        [ 0.5868,  0.5642,  0.3535, -0.9036, -0.3028, -0.2602],\n",
       "        [ 0.7357,  0.2403,  0.1113, -0.7897,  0.0294, -0.1908],\n",
       "        [ 0.5517,  0.4505,  0.3250, -0.7241, -0.1028, -0.2879],\n",
       "        [ 0.4039,  0.6120,  0.1056, -0.7537, -0.3528, -0.3201],\n",
       "        [ 0.8363,  0.3945, -0.0137, -0.8225,  0.1269, -0.3693],\n",
       "        [ 0.7000,  0.1954,  0.2021, -0.2760, -0.5432,  0.0037],\n",
       "        [ 0.7591,  0.5114, -0.0461, -0.5815, -0.1468, -0.2899],\n",
       "        [ 0.6665,  0.7271,  0.1270, -0.6914, -0.1134, -0.3478],\n",
       "        [ 0.8256,  0.5588,  0.1015, -0.6954, -0.1666, -0.4097],\n",
       "        [ 0.5355,  0.3965,  0.4635, -0.6616, -0.1524, -0.0245],\n",
       "        [ 0.4872,  0.0986,  0.2773, -0.3329, -0.5683, -0.2305],\n",
       "        [ 0.5719,  0.4123,  0.2178, -0.8631, -0.0213, -0.2766],\n",
       "        [ 0.6074,  0.5363,  0.4275, -0.8415, -0.2932, -0.3484],\n",
       "        [ 0.6874,  0.1720,  0.2587, -0.5935, -0.5410, -0.1300],\n",
       "        [ 0.6731,  0.4407,  0.1373, -0.7676, -0.2230, -0.1230],\n",
       "        [ 0.4675,  0.3758,  0.0996, -0.4789, -0.2734, -0.3868],\n",
       "        [ 0.5530,  0.4764,  0.2252, -0.9603, -0.1686, -0.2759],\n",
       "        [ 0.7828,  0.3030,  0.3659, -0.8809,  0.0550, -0.2368]],\n",
       "       device='cuda:0', grad_fn=<AddmmBackward0>), hidden_states=None, attentions=None)"
      ]
     },
     "execution_count": 44,
     "metadata": {},
     "output_type": "execute_result"
    }
   ],
   "source": [
    "output"
   ]
  },
  {
   "cell_type": "markdown",
   "metadata": {
    "id": "ybs77dmjmuXS"
   },
   "source": [
    "To get the output probabilities, we should use sigmoid function. This can be done either in the model or like here be applied to the output from model. I was first making the mistake and used softmax function. However, in our case a comment can be classified as toxic, obscene and insult at the same time. Hence it's not a multi-classficationm and therefore, this is not applicable. <br>\n",
    "Here is the summary of differences between softmax function and sigmoid funciton. <br>\n",
    "\n",
    "**Softmax funciton:**<br>\n",
    "- Used for Multi-classification in the Logistics Regression model\n",
    "- The probabilities sum will be 1<br>\n",
    "\n",
    "**Sigmoid funciton:**\n",
    "- Used for Binary Classification in the Logistic Regression model\n",
    "- The probabilities sum does not need to be 1\n",
    "\n",
    "To learn more about them you can read this: https://medium.com/arteos-ai/the-differences-between-sigmoid-and-softmax-activation-function-12adee8cf322"
   ]
  },
  {
   "cell_type": "code",
   "execution_count": 45,
   "metadata": {
    "id": "ftRWNJ63muXT",
    "tags": []
   },
   "outputs": [
    {
     "data": {
      "text/plain": [
       "tensor([[0.2816, 0.2215, 0.1528, 0.0658, 0.1877, 0.0904],\n",
       "        [0.2916, 0.2032, 0.1716, 0.0898, 0.0980, 0.1458],\n",
       "        [0.3396, 0.2273, 0.1750, 0.0485, 0.1260, 0.0836],\n",
       "        [0.3039, 0.1793, 0.1882, 0.0677, 0.1671, 0.0939],\n",
       "        [0.3106, 0.2150, 0.1837, 0.0819, 0.0838, 0.1250],\n",
       "        [0.2889, 0.1801, 0.2069, 0.0906, 0.0932, 0.1403],\n",
       "        [0.3076, 0.2111, 0.2039, 0.0627, 0.1223, 0.0924],\n",
       "        [0.2665, 0.2470, 0.1810, 0.0676, 0.1168, 0.1211],\n",
       "        [0.2745, 0.2283, 0.1795, 0.0912, 0.1172, 0.1093],\n",
       "        [0.2533, 0.1773, 0.2298, 0.0976, 0.1119, 0.1302],\n",
       "        [0.2422, 0.2440, 0.1948, 0.0998, 0.1055, 0.1136],\n",
       "        [0.2637, 0.1755, 0.1969, 0.0904, 0.1175, 0.1561],\n",
       "        [0.2723, 0.1963, 0.2498, 0.0830, 0.1095, 0.0893],\n",
       "        [0.2572, 0.2118, 0.1813, 0.0945, 0.1297, 0.1256],\n",
       "        [0.2608, 0.2550, 0.2065, 0.0588, 0.1071, 0.1118],\n",
       "        [0.3075, 0.1874, 0.1647, 0.0669, 0.1517, 0.1218],\n",
       "        [0.2543, 0.2299, 0.2028, 0.0710, 0.1322, 0.1098],\n",
       "        [0.2358, 0.2903, 0.1749, 0.0741, 0.1106, 0.1143],\n",
       "        [0.3276, 0.2106, 0.1400, 0.0624, 0.1612, 0.0981],\n",
       "        [0.2963, 0.1789, 0.1801, 0.1116, 0.0855, 0.1477],\n",
       "        [0.3083, 0.2406, 0.1378, 0.0807, 0.1246, 0.1080],\n",
       "        [0.2685, 0.2853, 0.1566, 0.0691, 0.1231, 0.0974],\n",
       "        [0.3194, 0.2446, 0.1548, 0.0698, 0.1184, 0.0929],\n",
       "        [0.2394, 0.2084, 0.2228, 0.0723, 0.1203, 0.1368],\n",
       "        [0.2656, 0.1801, 0.2153, 0.1170, 0.0924, 0.1296],\n",
       "        [0.2651, 0.2259, 0.1860, 0.0631, 0.1464, 0.1135],\n",
       "        [0.2637, 0.2456, 0.2203, 0.0619, 0.1071, 0.1014],\n",
       "        [0.3067, 0.1832, 0.1998, 0.0852, 0.0898, 0.1354],\n",
       "        [0.2879, 0.2282, 0.1685, 0.0682, 0.1175, 0.1298],\n",
       "        [0.2567, 0.2342, 0.1777, 0.0996, 0.1224, 0.1093],\n",
       "        [0.2639, 0.2444, 0.1901, 0.0581, 0.1282, 0.1152],\n",
       "        [0.3020, 0.1869, 0.1991, 0.0572, 0.1459, 0.1089]], device='cuda:0',\n",
       "       grad_fn=<SoftmaxBackward0>)"
      ]
     },
     "execution_count": 45,
     "metadata": {},
     "output_type": "execute_result"
    }
   ],
   "source": [
    "func.softmax(output['logits'], dim = 1)"
   ]
  },
  {
   "cell_type": "code",
   "execution_count": 46,
   "metadata": {
    "id": "-E4wZxLtmuXT",
    "tags": []
   },
   "outputs": [],
   "source": [
    "output_probs = func.softmax(output['logits'], dim = 1)"
   ]
  },
  {
   "cell_type": "code",
   "execution_count": 47,
   "metadata": {
    "id": "tsEY-DfJmuXU",
    "tags": []
   },
   "outputs": [
    {
     "data": {
      "text/plain": [
       "torch.return_types.max(\n",
       "values=tensor([0.2816, 0.2916, 0.3396, 0.3039, 0.3106, 0.2889, 0.3076, 0.2665, 0.2745,\n",
       "        0.2533, 0.2440, 0.2637, 0.2723, 0.2572, 0.2608, 0.3075, 0.2543, 0.2903,\n",
       "        0.3276, 0.2963, 0.3083, 0.2853, 0.3194, 0.2394, 0.2656, 0.2651, 0.2637,\n",
       "        0.3067, 0.2879, 0.2567, 0.2639, 0.3020], device='cuda:0',\n",
       "       grad_fn=<MaxBackward0>),\n",
       "indices=tensor([0, 0, 0, 0, 0, 0, 0, 0, 0, 0, 1, 0, 0, 0, 0, 0, 0, 1, 0, 0, 0, 1, 0, 0,\n",
       "        0, 0, 0, 0, 0, 0, 0, 0], device='cuda:0'))"
      ]
     },
     "execution_count": 47,
     "metadata": {},
     "output_type": "execute_result"
    }
   ],
   "source": [
    "torch.max(output_probs, dim = 1)"
   ]
  },
  {
   "cell_type": "markdown",
   "metadata": {
    "id": "gRBX1cGEmuXU"
   },
   "source": [
    "## 5. Functions for training and validating\n",
    "### a. Setting up some parameters"
   ]
  },
  {
   "cell_type": "code",
   "execution_count": 48,
   "metadata": {
    "id": "CpxffGCsmuXV",
    "tags": []
   },
   "outputs": [],
   "source": [
    "epochs = 5\n",
    "LR = 2e-5 #Learning rate\n",
    "optimizer = AdamW(model.parameters(), LR, betas = (0.9, 0.999), weight_decay = 1e-2, correct_bias = False)"
   ]
  },
  {
   "cell_type": "markdown",
   "metadata": {
    "id": "8P_RGsN9muXV"
   },
   "source": [
    "We use the learning rate parameter as set above for 10% of total training time. We then decrease the learning rate gradualy to zero."
   ]
  },
  {
   "cell_type": "code",
   "execution_count": 49,
   "metadata": {
    "id": "y8XwCdL_muXW",
    "tags": []
   },
   "outputs": [],
   "source": [
    "train_steps = int((len(train) * epochs)/train_batch)\n",
    "num_steps = int(train_steps * 0.1)\n",
    "scheduler = get_linear_schedule_with_warmup(optimizer, num_steps, train_steps)"
   ]
  },
  {
   "cell_type": "code",
   "execution_count": 50,
   "metadata": {
    "id": "p5XAI25imuXW",
    "tags": []
   },
   "outputs": [
    {
     "name": "stderr",
     "output_type": "stream",
     "text": [
      "100%|██████████| 5/5 [00:00<00:00,  5.22it/s]\n"
     ]
    },
    {
     "data": {
      "text/plain": [
       "[<matplotlib.lines.Line2D at 0x7f4547b9f0a0>]"
      ]
     },
     "execution_count": 50,
     "metadata": {},
     "output_type": "execute_result"
    },
    {
     "data": {
      "image/png": "[encoded data removed]",
      "text/plain": [
       "<Figure size 640x480 with 1 Axes>"
      ]
     },
     "metadata": {},
     "output_type": "display_data"
    }
   ],
   "source": [
    "le = []\n",
    "for b in tqdm(range(epochs)):\n",
    "    for a in train_dataloader:\n",
    "        le.append(scheduler.get_last_lr())\n",
    "        scheduler.step()\n",
    "plt.plot(np.arange(len(le)), le)"
   ]
  },
  {
   "cell_type": "code",
   "execution_count": 51,
   "metadata": {
    "id": "VZuHaMeQmuXW",
    "tags": []
   },
   "outputs": [
    {
     "data": {
      "text/plain": [
       "BCEWithLogitsLoss()"
      ]
     },
     "execution_count": 51,
     "metadata": {},
     "output_type": "execute_result"
    }
   ],
   "source": [
    "loss_fn = nn.BCEWithLogitsLoss()\n",
    "loss_fn.to(device)"
   ]
  },
  {
   "cell_type": "code",
   "execution_count": 52,
   "metadata": {
    "id": "BHdXochfmuXX",
    "tags": []
   },
   "outputs": [],
   "source": [
    "scaler = torch.cuda.amp.GradScaler()"
   ]
  },
  {
   "cell_type": "markdown",
   "metadata": {
    "id": "xL6bmliPmuXX"
   },
   "source": [
    "### b. Training function\n",
    "You can find more details about some keywords in this block of code below it."
   ]
  },
  {
   "cell_type": "code",
   "execution_count": 53,
   "metadata": {
    "id": "Ve9WQY7qmuXX",
    "tags": []
   },
   "outputs": [],
   "source": [
    "def training(train_dataloader, model, optimizer, scheduler):\n",
    "    model.train()\n",
    "    torch.backends.cudnn.benchmark = True\n",
    "    correct_predictions = 0\n",
    "\n",
    "    for a in train_dataloader:\n",
    "        losses = []\n",
    "        optimizer.zero_grad()\n",
    "\n",
    "        #allpreds = []\n",
    "        #alltargets = []\n",
    "\n",
    "        with torch.cuda.amp.autocast():\n",
    "\n",
    "            ids = a['ids'].to(device, non_blocking = True)\n",
    "            mask = a['mask'].to(device, non_blocking = True)\n",
    "\n",
    "            output = model(ids, mask) #This gives model as output, however we want the values at the output\n",
    "            output = output['logits'].squeeze(-1).to(torch.float32)\n",
    "\n",
    "            output_probs = torch.sigmoid(output)\n",
    "            preds = torch.where(output_probs > 0.5, 1, 0)\n",
    "\n",
    "            toxic_label = a['toxic_label'].to(device, non_blocking = True)\n",
    "            loss = loss_fn(output, toxic_label)\n",
    "\n",
    "            losses.append(loss.item())\n",
    "            #allpreds.append(output.detach().cpu().numpy())\n",
    "            #alltargets.append(toxic.detach().squeeze(-1).cpu().numpy())\n",
    "            correct_predictions += torch.sum(preds == toxic_label)\n",
    "\n",
    "        scaler.scale(loss).backward() #Multiplies (‘scales’) a tensor or list of tensors by the scale factor.\n",
    "                                      #Returns scaled outputs. If this instance of GradScaler is not enabled, outputs are returned unmodified.\n",
    "        scaler.step(optimizer) #Returns the return value of optimizer.step(*args, **kwargs).\n",
    "        scaler.update() #Updates the scale factor.If any optimizer steps were skipped the scale is multiplied by backoff_factor to reduce it.\n",
    "                        #If growth_interval unskipped iterations occurred consecutively, the scale is multiplied by growth_factor to increase it\n",
    "        scheduler.step() # Update learning rate schedule\n",
    "\n",
    "    losses = np.mean(losses)\n",
    "    corr_preds = correct_predictions.detach().cpu().numpy()\n",
    "    accuracy = corr_preds/(len(p_train)*6)\n",
    "\n",
    "    return losses, accuracy"
   ]
  },
  {
   "cell_type": "markdown",
   "metadata": {
    "id": "M1Q5Wk0vmuXY"
   },
   "source": [
    "**amp** stands for automatic mixed precision. <br>\n",
    "To learn more about the **autocast** read this link: <br>\n",
    "https://pytorch.org/docs/stable/amp.html <br>\n",
    "in short: Instances of autocast serve as context managers or decorators that allow regions of your script to run in mixed precision, where some operations use the torch.float32 (float) datatype and other operations use torch.float16 (half).\n",
    "autocast should wrap only the forward pass(es) of your network, including the loss computation(s). Backward passes under autocast are not recommended. <br>\n",
    "<br>\n",
    "**with** statement in Python is used in exception handling to make the code cleaner and much more readable. It simplifies the management of common resources like file streams. Here is a link to learn more about it.<br>\n",
    "https://www.geeksforgeeks.org/with-statement-in-python/<br>\n",
    "\n",
    "**Non-Blocking** allows you to overlap compute and memory transfer to the GPU. Pinned Memory allows the non-blocking calls to actually be non-blocking.<br>\n",
    "\n",
    "Why using **var.detach().cpu().numpy()** and not var.numpy() only? <br>\n",
    "because we get an error. The main reason behind this choice presumably is to avoid confusing new comers. People not very familiar with requires_grad and cpu/gpu Tensors might go back and forth with numpy. For example doing pytorch -> numpy -> pytorch and backward on the last Tensor. This will backward without issue but not all the way to the first part of the code and won’t raise any error.\n",
    "So the choice has been made to force the user to detach() to make sure they want to do it and it’s not a typo/other library that does this tranformation and breaks the computational graph.<br>\n",
    "\n",
    "**optimizer.step():** it performs a parameter update based on the current gradient (stored in .grad attribute of a parameter) and the update rule. As an example, the update rule for SGD is defined here:<br>\n",
    "https://github.com/pytorch/pytorch/blob/cd9b27231b51633e76e28b6a34002ab83b0660fc/torch/optim/sgd.py#L63 <br>\n",
    "\n",
    "**loss.backward()** Calling .backward() mutiple times accumulates the gradient (by addition) for each parameter. This is why you should call optimizer.zero_grad() after each .step() call. Note that following the first .backward call, a second call is only possible after you have performed another forward pass.\n",
    "\n",
    "### Gradient Scaling\n",
    "If the forward pass for a particular op has float16 inputs, the backward pass for that op will produce float16 gradients. Gradient values with small magnitudes may not be representable in float16. These values will flush to zero (“underflow”), so the update for the corresponding parameters will be lost.<br>\n",
    "\n",
    "To prevent underflow, “gradient scaling” multiplies the network’s loss(es) by a scale factor and invokes a backward pass on the scaled loss(es). Gradients flowing backward through the network are then scaled by the same factor. In other words, gradient values have a larger magnitude, so they don’t flush to zero.<br>\n",
    "\n",
    "Each parameter’s gradient (.grad attribute) should be unscaled before the optimizer updates the parameters, so the scale factor does not interfere with the learning rate.<br>\n",
    "\n",
    "**step()** carries out the following two operations:\n",
    "1. Internally invokes unscale_(optimizer) (unless unscale_() was explicitly called for optimizer earlier in the iteration). As part of the unscale_(), gradients are checked for infs/NaNs.\n",
    "2. If no inf/NaN gradients are found, invokes optimizer.step() using the unscaled gradients. Otherwise, optimizer.step() is skipped to avoid corrupting the params."
   ]
  },
  {
   "cell_type": "markdown",
   "metadata": {
    "id": "qsDYAERZmuXZ"
   },
   "source": [
    "### c. Validating function\n",
    "validating function is quite similar to training function. The difference is that there is no back-propagation and optemization for parameters in it."
   ]
  },
  {
   "cell_type": "code",
   "execution_count": 54,
   "metadata": {
    "id": "b1gTNpRGmuXZ",
    "tags": []
   },
   "outputs": [],
   "source": [
    "def validating(valid_dataloader, model):\n",
    "\n",
    "    model.eval()\n",
    "    correct_predictions = 0\n",
    "    all_output_probs = []\n",
    "\n",
    "    for a in valid_dataloader:\n",
    "        losses = []\n",
    "        ids = a['ids'].to(device, non_blocking = True)\n",
    "        mask = a['mask'].to(device, non_blocking = True)\n",
    "        output = model(ids, mask)\n",
    "        output = output['logits'].squeeze(-1).to(torch.float32)\n",
    "        output_probs = torch.sigmoid(output)\n",
    "        preds = torch.where(output_probs > 0.5, 1, 0)\n",
    "\n",
    "        toxic_label = a['toxic_label'].to(device, non_blocking = True)\n",
    "        loss = loss_fn(output, toxic_label)\n",
    "        losses.append(loss.item())\n",
    "        all_output_probs.extend(output_probs.detach().cpu().numpy())\n",
    "\n",
    "        correct_predictions += torch.sum(preds == toxic_label)\n",
    "        corr_preds = correct_predictions.detach().cpu().numpy()\n",
    "\n",
    "    losses = np.mean(losses)\n",
    "    corr_preds = correct_predictions.detach().cpu().numpy()\n",
    "    accuracy = corr_preds/(len(p_valid)*6)\n",
    "\n",
    "    return losses, accuracy, all_output_probs"
   ]
  },
  {
   "cell_type": "markdown",
   "metadata": {
    "id": "G5gyCuipmuXa"
   },
   "source": [
    "## 6. Training the model\n",
    "### a. Run training function"
   ]
  },
  {
   "cell_type": "code",
   "execution_count": 57,
   "metadata": {
    "tags": []
   },
   "outputs": [
    {
     "data": {
      "text/html": [
       "<pre style=\"white-space:pre;overflow-x:auto;line-height:normal;font-family:Menlo,'DejaVu Sans Mono',consolas,'Courier New',monospace\">                                       <span style=\"font-weight: bold\">❗❗❗ AUTHORIZATION REQUIRED ❗❗❗</span>                                        \n",
       "</pre>\n"
      ],
      "text/plain": [
       "                                       \u001b[1m❗❗❗ AUTHORIZATION REQUIRED ❗❗❗\u001b[0m                                        \n"
      ]
     },
     "metadata": {},
     "output_type": "display_data"
    },
    {
     "data": {
      "application/vnd.jupyter.widget-view+json": {
       "model_id": "",
       "version_major": 2,
       "version_minor": 0
      },
      "text/plain": [
       "Output()"
      ]
     },
     "metadata": {},
     "output_type": "display_data"
    },
    {
     "name": "stdout",
     "output_type": "stream",
     "text": [
      "\n",
      "\n",
      "Open the following link in your browser to authorize the client:\n",
      "https://dagshub.com/login/oauth/authorize?state=52643836-edcf-47e6-a046-9ff2c5839666&client_id=32b60ba385aa7cecf24046d8195a71c07dd345d9657977863b52e7748e0f0f28&middleman_request_id=e006c73e7e04b24082db653a8af6a262406e589e307b40279b8c1bfb91b21f7e\n",
      "\n",
      "\n"
     ]
    },
    {
     "data": {
      "text/html": [
       "<pre style=\"white-space:pre;overflow-x:auto;line-height:normal;font-family:Menlo,'DejaVu Sans Mono',consolas,'Courier New',monospace\"></pre>\n"
      ],
      "text/plain": []
     },
     "metadata": {},
     "output_type": "display_data"
    },
    {
     "data": {
      "text/html": [
       "<pre style=\"white-space:pre;overflow-x:auto;line-height:normal;font-family:Menlo,'DejaVu Sans Mono',consolas,'Courier New',monospace\">Initialized MLflow to track repo <span style=\"color: #008000; text-decoration-color: #008000\">\"trehansalil/toxicity_detection\"</span>\n",
       "</pre>\n"
      ],
      "text/plain": [
       "Initialized MLflow to track repo \u001b[32m\"trehansalil/toxicity_detection\"\u001b[0m\n"
      ]
     },
     "metadata": {},
     "output_type": "display_data"
    },
    {
     "data": {
      "text/html": [
       "<pre style=\"white-space:pre;overflow-x:auto;line-height:normal;font-family:Menlo,'DejaVu Sans Mono',consolas,'Courier New',monospace\">Repository trehansalil/toxicity_detection initialized!\n",
       "</pre>\n"
      ],
      "text/plain": [
       "Repository trehansalil/toxicity_detection initialized!\n"
      ]
     },
     "metadata": {},
     "output_type": "display_data"
    }
   ],
   "source": [
    "# !pip install -q dagshub\n",
    "import dagshub\n",
    "dagshub.init(repo_owner='trehansalil', repo_name='toxicity_detection', mlflow=True)"
   ]
  },
  {
   "cell_type": "code",
   "execution_count": 58,
   "metadata": {
    "id": "e9jt74D_muXa",
    "tags": []
   },
   "outputs": [
    {
     "name": "stderr",
     "output_type": "stream",
     "text": [
      "  0%|          | 0/5 [00:00<?, ?it/s]"
     ]
    },
    {
     "name": "stdout",
     "output_type": "stream",
     "text": [
      "train losses: 0.6180 train accuracy: 0.610\n",
      "valid losses: 0.6267 valid accuracy: 0.608\n",
      "Found a good model!\n"
     ]
    },
    {
     "name": "stderr",
     "output_type": "stream",
     "text": [
      " 40%|████      | 2/5 [00:15<00:19,  6.62s/it]"
     ]
    },
    {
     "name": "stdout",
     "output_type": "stream",
     "text": [
      "train losses: 0.6269 train accuracy: 0.627\n",
      "valid losses: 0.6267 valid accuracy: 0.608\n"
     ]
    },
    {
     "name": "stderr",
     "output_type": "stream",
     "text": [
      " 60%|██████    | 3/5 [00:17<00:09,  4.64s/it]"
     ]
    },
    {
     "name": "stdout",
     "output_type": "stream",
     "text": [
      "train losses: 0.6417 train accuracy: 0.616\n",
      "valid losses: 0.6267 valid accuracy: 0.608\n"
     ]
    },
    {
     "name": "stderr",
     "output_type": "stream",
     "text": [
      " 80%|████████  | 4/5 [00:19<00:03,  3.70s/it]"
     ]
    },
    {
     "name": "stdout",
     "output_type": "stream",
     "text": [
      "train losses: 0.6238 train accuracy: 0.619\n",
      "valid losses: 0.6267 valid accuracy: 0.608\n"
     ]
    },
    {
     "name": "stderr",
     "output_type": "stream",
     "text": [
      "100%|██████████| 5/5 [00:21<00:00,  4.37s/it]"
     ]
    },
    {
     "name": "stdout",
     "output_type": "stream",
     "text": [
      "train losses: 0.6296 train accuracy: 0.614\n",
      "valid losses: 0.6267 valid accuracy: 0.608\n",
      "CPU times: user 7.21 s, sys: 4.96 s, total: 12.2 s\n",
      "Wall time: 22.5 s\n"
     ]
    },
    {
     "name": "stderr",
     "output_type": "stream",
     "text": [
      "\n"
     ]
    }
   ],
   "source": [
    "%%time\n",
    "with mlflow.start_run():\n",
    "    best_score = 1000\n",
    "    train_accs = []\n",
    "    valid_accs = []\n",
    "    train_losses = []\n",
    "    valid_losses = []\n",
    "\n",
    "    for eboch in tqdm(range(epochs)):\n",
    "\n",
    "        train_loss, train_acc = training(train_dataloader, model, optimizer, scheduler)\n",
    "        valid_loss, valid_acc, valid_probs = validating(valid_dataloader, model)\n",
    "\n",
    "        print('train losses: %.4f' % train_loss, 'train accuracy: %.3f' % train_acc)\n",
    "        print('valid losses: %.4f' % valid_loss, 'valid accuracy: %.3f' % valid_acc)\n",
    "        train_losses.append(train_loss)\n",
    "        valid_losses.append(valid_loss)\n",
    "        train_accs.append(train_acc)\n",
    "        valid_accs.append(valid_acc)\n",
    "\n",
    "\n",
    "        if valid_loss < best_score:\n",
    "            best_score = valid_loss\n",
    "            print('Found a good model!')\n",
    "            state = {\n",
    "                'state_dict': model.state_dict(),\n",
    "                'optimizer_dict': optimizer.state_dict(),\n",
    "                'best_score': best_score\n",
    "            }\n",
    "            torch.save(state, 'best_model.pth')\n",
    "        else:\n",
    "            pass"
   ]
  },
  {
   "cell_type": "code",
   "execution_count": 59,
   "metadata": {
    "tags": []
   },
   "outputs": [],
   "source": [
    "mlflow.end_run()"
   ]
  },
  {
   "cell_type": "markdown",
   "metadata": {
    "id": "bx61jwHLmuXa"
   },
   "source": [
    "### b. Plotting the results"
   ]
  },
  {
   "cell_type": "code",
   "execution_count": 60,
   "metadata": {
    "id": "bSL9JiqGmuXb",
    "tags": []
   },
   "outputs": [
    {
     "data": {
      "text/plain": [
       "Text(0.5, 0.98, 'Fold = 0')"
      ]
     },
     "execution_count": 60,
     "metadata": {},
     "output_type": "execute_result"
    },
    {
     "data": {
      "image/png": "[encoded data removed]",
      "text/plain": [
       "<Figure size 1500x400 with 2 Axes>"
      ]
     },
     "metadata": {},
     "output_type": "display_data"
    }
   ],
   "source": [
    "x = np.arange(epochs)\n",
    "fig, ax = plt.subplots(1, 2, figsize = (15,4))\n",
    "ax[0].plot(x, train_losses)\n",
    "ax[0].plot(x, valid_losses)\n",
    "ax[0].set_ylabel('Losses', weight = 'bold')\n",
    "ax[0].set_xlabel('Epochs')\n",
    "ax[0].grid(alpha = 0.3)\n",
    "ax[0].legend(labels = ['train losses', 'valid losses'])\n",
    "\n",
    "ax[1].plot(x, train_accs)\n",
    "ax[1].plot(x, valid_accs)\n",
    "ax[1].set_ylabel('Accuracy', weight = 'bold')\n",
    "ax[1].set_xlabel('Epochs')\n",
    "ax[1].legend(labels = ['train acc', 'valid acc'])\n",
    "\n",
    "ax[1].grid(alpha = 0.3)\n",
    "fig.suptitle('Fold = 0', weight = 'bold')\n"
   ]
  },
  {
   "cell_type": "markdown",
   "metadata": {
    "id": "AVe4PJ8ZmuXb"
   },
   "source": [
    "## 7. Evaluation\n",
    "We use auc as a metric of evaluation in this report."
   ]
  },
  {
   "cell_type": "code",
   "execution_count": 61,
   "metadata": {
    "id": "YXYkkjgJmuXc",
    "tags": []
   },
   "outputs": [],
   "source": [
    "valid_loss, valid_acc, valid_probs = validating(valid_dataloader, model)\n",
    "valid_probs = np.asarray(valid_probs).flatten()\n",
    "y_valid = p_valid[['toxic', 'severe_toxic','obscene', 'threat', 'insult','identity_hate']].to_numpy().flatten()\n",
    "fpr, tpr, _ = roc_curve(y_valid, valid_probs)"
   ]
  },
  {
   "cell_type": "code",
   "execution_count": 62,
   "metadata": {
    "id": "QMRLJZQpmuXe",
    "tags": []
   },
   "outputs": [
    {
     "data": {
      "image/png": "[encoded data removed]",
      "text/plain": [
       "<Figure size 640x480 with 1 Axes>"
      ]
     },
     "metadata": {},
     "output_type": "display_data"
    }
   ],
   "source": [
    "fig, ax = plt.subplots()\n",
    "ax.plot(fpr, tpr)\n",
    "ax.set_title('ROC Curv')\n",
    "ax.set_xlabel('FPR')\n",
    "ax.set_ylabel('TPR')\n",
    "plt.show()"
   ]
  },
  {
   "cell_type": "code",
   "execution_count": 63,
   "metadata": {
    "id": "n8yB0uK1muXe",
    "tags": []
   },
   "outputs": [
    {
     "data": {
      "text/plain": [
       "0.6383485510123064"
      ]
     },
     "execution_count": 63,
     "metadata": {},
     "output_type": "execute_result"
    }
   ],
   "source": [
    "auc(fpr, tpr)"
   ]
  },
  {
   "cell_type": "markdown",
   "metadata": {
    "id": "9oY0jdOCmuXe"
   },
   "source": [
    "## PART II"
   ]
  },
  {
   "cell_type": "markdown",
   "metadata": {
    "id": "wiMZH7BqmuXf"
   },
   "source": [
    "You can start to run the notebook from here until the end. I have copied all the necessary parts from part I in this notebook. The objective here is to show how the model works for 5 different folds. epochs is set to 5 and the first 2000 rows of the trianing set is used. Feel free to change these parameters and see how it affects the accuracy."
   ]
  },
  {
   "cell_type": "code",
   "execution_count": 67,
   "metadata": {
    "tags": []
   },
   "outputs": [],
   "source": [
    "import gc\n",
    "obj = None\n",
    "\n",
    "gc.collect()\n",
    "torch.cuda.empty_cache()"
   ]
  },
  {
   "cell_type": "code",
   "execution_count": 1,
   "metadata": {
    "id": "B633d1DUmuXf",
    "tags": []
   },
   "outputs": [
    {
     "name": "stdout",
     "output_type": "stream",
     "text": [
      "CPU times: user 4.36 s, sys: 2.28 s, total: 6.64 s\n",
      "Wall time: 6.14 s\n"
     ]
    }
   ],
   "source": [
    "%%time\n",
    "import numpy as np\n",
    "import pandas as pd\n",
    "import os\n",
    "import random\n",
    "import time\n",
    "\n",
    "import re\n",
    "import string\n",
    "import nltk\n",
    "from nltk.corpus import stopwords\n",
    "\n",
    "import matplotlib.pyplot as plt\n",
    "import seaborn as sns\n",
    "sns.set(style=\"ticks\", context=\"talk\")\n",
    "plt.style.use('dark_background')\n",
    "\n",
    "from tqdm import tqdm\n",
    "\n",
    "import torch\n",
    "import torch.nn as nn\n",
    "import torch.nn.functional as func\n",
    "from torch.utils.data import DataLoader, Dataset\n",
    "\n",
    "import mlflow.pytorch\n",
    "from mlflow import MlflowClient\n",
    "from mlflow.models import infer_signature\n",
    "\n",
    "import transformers\n",
    "from transformers import AdamW, get_linear_schedule_with_warmup\n",
    "\n",
    "import tokenizers\n",
    "from sklearn.metrics import mean_squared_error, roc_auc_score, roc_curve, auc\n",
    "\n",
    "import warnings\n",
    "warnings.simplefilter('ignore')\n",
    "\n",
    "train = pd.read_csv('../input/jigsaw-toxic-comment-classification-challenge/train.csv.zip', nrows = 2000)\n",
    "test = pd.read_csv('../input/jigsaw-toxic-comment-classification-challenge/test.csv.zip', nrows = 100)\n",
    "submission = pd.read_csv('../input/jigsaw-toxic-comment-classification-challenge/sample_submission.csv.zip')\n",
    "\n",
    "SEED = 34\n",
    "def random_seed(SEED):\n",
    "    random.seed(SEED)\n",
    "    os.environ['PYTHONHASHSEED'] = str(SEED)\n",
    "    np.random.seed(SEED)\n",
    "    torch.manual_seed(SEED)\n",
    "    torch.cuda.manual_seed(SEED)\n",
    "    torch.cuda.manual_seed_all(SEED)\n",
    "    torch.backends.cudnn.deterministic = True\n",
    "random_seed(SEED)\n",
    "\n",
    "def clean_text(text):\n",
    "\n",
    "    text = re.sub('\\[.*?\\]', '', text)\n",
    "    text = re.sub('https?://\\S+|www\\.\\S+', '', text)\n",
    "    text = re.sub('<.*?>+', '', text)\n",
    "    text = re.sub('[%s]' % re.escape(string.punctuation), '', text)\n",
    "    text = re.sub('\\n', '', text)\n",
    "    text = re.sub('\\w*\\d\\w*', '', text)\n",
    "    return text\n",
    "\n",
    "\n",
    "train['clean_text'] = train['comment_text'].apply(str).apply(lambda x: clean_text(x))\n",
    "test['clean_text'] = test['comment_text'].apply(str).apply(lambda x: clean_text(x))\n",
    "\n",
    "kfold = 5\n",
    "train['kfold'] = train.index % kfold\n",
    "\n",
    "tokenizer = transformers.BertTokenizer.from_pretrained('bert-base-cased')\n",
    "max_len = 200\n",
    "\n",
    "class BertDataSet(Dataset):\n",
    "\n",
    "    def __init__(self, sentences, toxic_labels):\n",
    "        self.sentences = sentences\n",
    "        #target is a matrix with shape [#1 x #6(toxic, obscene, etc)]\n",
    "        self.targets = toxic_labels.to_numpy()\n",
    "\n",
    "    def __len__(self):\n",
    "        return len(self.sentences)\n",
    "\n",
    "\n",
    "    def __getitem__(self, idx):\n",
    "        sentence = self.sentences[idx]\n",
    "        bert_senten = tokenizer.encode_plus(sentence,\n",
    "                                            add_special_tokens = True, # [CLS],[SEP]\n",
    "                                            max_length = max_len,\n",
    "                                            pad_to_max_length = True,\n",
    "                                            truncation = True,\n",
    "                                            return_attention_mask = True\n",
    "                                             )\n",
    "        ids = torch.tensor(bert_senten['input_ids'], dtype = torch.long)\n",
    "        mask = torch.tensor(bert_senten['attention_mask'], dtype = torch.long)\n",
    "        toxic_label = torch.tensor(self.targets[idx], dtype = torch.float)\n",
    "\n",
    "\n",
    "        return {\n",
    "            'ids' : ids,\n",
    "            'mask' : mask,\n",
    "            'toxic_label':toxic_label\n",
    "        }\n",
    "\n",
    "epochs = 5\n",
    "train_batch = 32\n",
    "valid_batch = 32\n",
    "device = torch.device('cuda' if torch.cuda.is_available() else 'cpu')\n",
    "\n",
    "loss_fn = nn.BCEWithLogitsLoss()\n",
    "loss_fn.to(device)\n",
    "scaler = torch.cuda.amp.GradScaler()\n",
    "\n",
    "def training(train_dataloader, model, optimizer, scheduler):\n",
    "    model.train()\n",
    "    torch.backends.cudnn.benchmark = True\n",
    "    correct_predictions = 0\n",
    "\n",
    "    for a in train_dataloader:\n",
    "        losses = []\n",
    "        optimizer.zero_grad()\n",
    "\n",
    "        #allpreds = []\n",
    "        #alltargets = []\n",
    "\n",
    "        with torch.cuda.amp.autocast():\n",
    "\n",
    "            ids = a['ids'].to(device, non_blocking = True)\n",
    "            mask = a['mask'].to(device, non_blocking = True)\n",
    "\n",
    "            output = model(ids, mask) #This gives model as output, however we want the values at the output\n",
    "            output = output['logits'].squeeze(-1).to(torch.float32)\n",
    "\n",
    "            output_probs = torch.sigmoid(output)\n",
    "            preds = torch.where(output_probs > 0.5, 1, 0)\n",
    "\n",
    "            toxic_label = a['toxic_label'].to(device, non_blocking = True)\n",
    "            loss = loss_fn(output, toxic_label)\n",
    "\n",
    "            losses.append(loss.item())\n",
    "            #allpreds.append(output.detach().cpu().numpy())\n",
    "            #alltargets.append(toxic.detach().squeeze(-1).cpu().numpy())\n",
    "            correct_predictions += torch.sum(preds == toxic_label)\n",
    "\n",
    "        scaler.scale(loss).backward() #Multiplies (‘scales’) a tensor or list of tensors by the scale factor.\n",
    "                                      #Returns scaled outputs. If this instance of GradScaler is not enabled, outputs are returned unmodified.\n",
    "        scaler.step(optimizer) #Returns the return value of optimizer.step(*args, **kwargs).\n",
    "        scaler.update() #Updates the scale factor.If any optimizer steps were skipped the scale is multiplied by backoff_factor to reduce it.\n",
    "                        #If growth_interval unskipped iterations occurred consecutively, the scale is multiplied by growth_factor to increase it\n",
    "        scheduler.step() # Update learning rate schedule\n",
    "\n",
    "    losses = np.mean(losses)\n",
    "    corr_preds = correct_predictions.detach().cpu().numpy()\n",
    "    accuracy = corr_preds/(len(p_train)*6)\n",
    "\n",
    "    return losses, accuracy\n",
    "\n",
    "def validating(valid_dataloader, model):\n",
    "\n",
    "    model.eval()\n",
    "    correct_predictions = 0\n",
    "    all_output_probs = []\n",
    "\n",
    "    for a in valid_dataloader:\n",
    "        losses = []\n",
    "        ids = a['ids'].to(device, non_blocking = True)\n",
    "        mask = a['mask'].to(device, non_blocking = True)\n",
    "        output = model(ids, mask)\n",
    "        output = output['logits'].squeeze(-1).to(torch.float32)\n",
    "        output_probs = torch.sigmoid(output)\n",
    "        preds = torch.where(output_probs > 0.5, 1, 0)\n",
    "\n",
    "        toxic_label = a['toxic_label'].to(device, non_blocking = True)\n",
    "        loss = loss_fn(output, toxic_label)\n",
    "        losses.append(loss.item())\n",
    "        all_output_probs.extend(output_probs.detach().cpu().numpy())\n",
    "\n",
    "        correct_predictions += torch.sum(preds == toxic_label)\n",
    "        corr_preds = correct_predictions.detach().cpu().numpy()\n",
    "\n",
    "    losses = np.mean(losses)\n",
    "    corr_preds = correct_predictions.detach().cpu().numpy()\n",
    "    accuracy = corr_preds/(len(p_valid)*6)\n",
    "\n",
    "    return losses, accuracy, all_output_probs"
   ]
  },
  {
   "cell_type": "markdown",
   "metadata": {
    "id": "SMozNqnbmuXg"
   },
   "source": [
    "## 8. Repeat training for k-fold"
   ]
  },
  {
   "cell_type": "markdown",
   "metadata": {
    "id": "2J0Kv6OWmuXg"
   },
   "source": [
    "To improve our model we repeat the same process of training for each fold of k-folds."
   ]
  },
  {
   "cell_type": "code",
   "execution_count": 27,
   "metadata": {
    "tags": []
   },
   "outputs": [],
   "source": [
    "mlflow.end_run()"
   ]
  },
  {
   "cell_type": "code",
   "execution_count": 29,
   "metadata": {
    "id": "DOqM4EtdmuXg",
    "tags": []
   },
   "outputs": [
    {
     "data": {
      "text/html": [
       "<pre style=\"white-space:pre;overflow-x:auto;line-height:normal;font-family:Menlo,'DejaVu Sans Mono',consolas,'Courier New',monospace\">Initialized MLflow to track repo <span style=\"color: #008000; text-decoration-color: #008000\">\"trehansalil/toxicity_detection\"</span>\n",
       "</pre>\n"
      ],
      "text/plain": [
       "Initialized MLflow to track repo \u001b[32m\"trehansalil/toxicity_detection\"\u001b[0m\n"
      ]
     },
     "metadata": {},
     "output_type": "display_data"
    },
    {
     "data": {
      "text/html": [
       "<pre style=\"white-space:pre;overflow-x:auto;line-height:normal;font-family:Menlo,'DejaVu Sans Mono',consolas,'Courier New',monospace\">Repository trehansalil/toxicity_detection initialized!\n",
       "</pre>\n"
      ],
      "text/plain": [
       "Repository trehansalil/toxicity_detection initialized!\n"
      ]
     },
     "metadata": {},
     "output_type": "display_data"
    },
    {
     "name": "stderr",
     "output_type": "stream",
     "text": [
      "  0%|          | 0/5 [00:00<?, ?it/s]Some weights of BertForSequenceClassification were not initialized from the model checkpoint at ../input/bert-base-cased and are newly initialized: ['classifier.bias', 'classifier.weight']\n",
      "You should probably TRAIN this model on a down-stream task to be able to use it for predictions and inference.\n"
     ]
    },
    {
     "name": "stdout",
     "output_type": "stream",
     "text": [
      "-------------- Fold = 0-------------\n"
     ]
    },
    {
     "name": "stderr",
     "output_type": "stream",
     "text": [
      "\n",
      "  0%|          | 0/5 [00:00<?, ?it/s]\u001b[A"
     ]
    },
    {
     "name": "stdout",
     "output_type": "stream",
     "text": [
      "-------------- Epoch = 0-------------\n",
      "train losses: 0.2236 train accuracy: 0.846\n",
      "valid losses: 0.1381 valid accuracy: 0.964\n",
      "Found an improved model! :)\n"
     ]
    },
    {
     "name": "stderr",
     "output_type": "stream",
     "text": [
      "\n",
      " 20%|██        | 1/5 [00:21<01:25, 21.26s/it]\u001b[A"
     ]
    },
    {
     "name": "stdout",
     "output_type": "stream",
     "text": [
      "-------------- Epoch = 1-------------\n",
      "train losses: 0.0847 train accuracy: 0.962\n",
      "valid losses: 0.0866 valid accuracy: 0.969\n",
      "Found an improved model! :)\n"
     ]
    },
    {
     "name": "stderr",
     "output_type": "stream",
     "text": [
      "\n",
      " 40%|████      | 2/5 [00:42<01:03, 21.32s/it]\u001b[A"
     ]
    },
    {
     "name": "stdout",
     "output_type": "stream",
     "text": [
      "-------------- Epoch = 2-------------\n"
     ]
    },
    {
     "name": "stderr",
     "output_type": "stream",
     "text": [
      "\n",
      " 60%|██████    | 3/5 [01:02<00:41, 20.72s/it]\u001b[A"
     ]
    },
    {
     "name": "stdout",
     "output_type": "stream",
     "text": [
      "train losses: 0.0960 train accuracy: 0.967\n",
      "valid losses: 0.1065 valid accuracy: 0.966\n",
      "-------------- Epoch = 3-------------\n"
     ]
    },
    {
     "name": "stderr",
     "output_type": "stream",
     "text": [
      "\n",
      " 80%|████████  | 4/5 [01:22<00:20, 20.43s/it]\u001b[A"
     ]
    },
    {
     "name": "stdout",
     "output_type": "stream",
     "text": [
      "train losses: 0.0750 train accuracy: 0.970\n",
      "valid losses: 0.0936 valid accuracy: 0.970\n",
      "-------------- Epoch = 4-------------\n"
     ]
    },
    {
     "name": "stderr",
     "output_type": "stream",
     "text": [
      "\n",
      "100%|██████████| 5/5 [01:42<00:00, 20.53s/it]\u001b[A\n",
      " 20%|██        | 1/5 [01:43<06:53, 103.41s/it]"
     ]
    },
    {
     "name": "stdout",
     "output_type": "stream",
     "text": [
      "train losses: 0.1376 train accuracy: 0.971\n",
      "valid losses: 0.0947 valid accuracy: 0.970\n"
     ]
    },
    {
     "name": "stderr",
     "output_type": "stream",
     "text": [
      "Some weights of BertForSequenceClassification were not initialized from the model checkpoint at ../input/bert-base-cased and are newly initialized: ['classifier.bias', 'classifier.weight']\n",
      "You should probably TRAIN this model on a down-stream task to be able to use it for predictions and inference.\n"
     ]
    },
    {
     "name": "stdout",
     "output_type": "stream",
     "text": [
      "-------------- Fold = 1-------------\n"
     ]
    },
    {
     "name": "stderr",
     "output_type": "stream",
     "text": [
      "\n",
      "  0%|          | 0/5 [00:00<?, ?it/s]\u001b[A"
     ]
    },
    {
     "name": "stdout",
     "output_type": "stream",
     "text": [
      "-------------- Epoch = 0-------------\n"
     ]
    },
    {
     "name": "stderr",
     "output_type": "stream",
     "text": [
      "\n",
      " 20%|██        | 1/5 [00:20<01:20, 20.09s/it]\u001b[A"
     ]
    },
    {
     "name": "stdout",
     "output_type": "stream",
     "text": [
      "train losses: 0.1710 train accuracy: 0.886\n",
      "valid losses: 0.2716 valid accuracy: 0.955\n",
      "-------------- Epoch = 1-------------\n"
     ]
    },
    {
     "name": "stderr",
     "output_type": "stream",
     "text": [
      "\n",
      " 40%|████      | 2/5 [00:40<01:00, 20.09s/it]\u001b[A"
     ]
    },
    {
     "name": "stdout",
     "output_type": "stream",
     "text": [
      "train losses: 0.1366 train accuracy: 0.964\n",
      "valid losses: 0.2047 valid accuracy: 0.955\n",
      "-------------- Epoch = 2-------------\n"
     ]
    },
    {
     "name": "stderr",
     "output_type": "stream",
     "text": [
      "\n",
      " 60%|██████    | 3/5 [01:00<00:40, 20.09s/it]\u001b[A"
     ]
    },
    {
     "name": "stdout",
     "output_type": "stream",
     "text": [
      "train losses: 0.1660 train accuracy: 0.968\n",
      "valid losses: 0.1898 valid accuracy: 0.970\n",
      "-------------- Epoch = 3-------------\n"
     ]
    },
    {
     "name": "stderr",
     "output_type": "stream",
     "text": [
      "\n",
      " 80%|████████  | 4/5 [01:20<00:20, 20.09s/it]\u001b[A"
     ]
    },
    {
     "name": "stdout",
     "output_type": "stream",
     "text": [
      "train losses: 0.0567 train accuracy: 0.977\n",
      "valid losses: 0.1716 valid accuracy: 0.973\n",
      "-------------- Epoch = 4-------------\n"
     ]
    },
    {
     "name": "stderr",
     "output_type": "stream",
     "text": [
      "\n",
      "100%|██████████| 5/5 [01:40<00:00, 20.10s/it]\u001b[A\n",
      " 40%|████      | 2/5 [03:24<05:06, 102.12s/it]"
     ]
    },
    {
     "name": "stdout",
     "output_type": "stream",
     "text": [
      "train losses: 0.0594 train accuracy: 0.979\n",
      "valid losses: 0.2006 valid accuracy: 0.972\n"
     ]
    },
    {
     "name": "stderr",
     "output_type": "stream",
     "text": [
      "Some weights of BertForSequenceClassification were not initialized from the model checkpoint at ../input/bert-base-cased and are newly initialized: ['classifier.bias', 'classifier.weight']\n",
      "You should probably TRAIN this model on a down-stream task to be able to use it for predictions and inference.\n"
     ]
    },
    {
     "name": "stdout",
     "output_type": "stream",
     "text": [
      "-------------- Fold = 2-------------\n"
     ]
    },
    {
     "name": "stderr",
     "output_type": "stream",
     "text": [
      "\n",
      "  0%|          | 0/5 [00:00<?, ?it/s]\u001b[A"
     ]
    },
    {
     "name": "stdout",
     "output_type": "stream",
     "text": [
      "-------------- Epoch = 0-------------\n"
     ]
    },
    {
     "name": "stderr",
     "output_type": "stream",
     "text": [
      "\n",
      " 20%|██        | 1/5 [00:20<01:20, 20.04s/it]\u001b[A"
     ]
    },
    {
     "name": "stdout",
     "output_type": "stream",
     "text": [
      "train losses: 0.1632 train accuracy: 0.952\n",
      "valid losses: 0.0978 valid accuracy: 0.956\n",
      "-------------- Epoch = 1-------------\n",
      "train losses: 0.0924 train accuracy: 0.965\n",
      "valid losses: 0.0513 valid accuracy: 0.963\n",
      "Found an improved model! :)\n"
     ]
    },
    {
     "name": "stderr",
     "output_type": "stream",
     "text": [
      "\n",
      " 40%|████      | 2/5 [00:41<01:02, 20.88s/it]\u001b[A"
     ]
    },
    {
     "name": "stdout",
     "output_type": "stream",
     "text": [
      "-------------- Epoch = 2-------------\n",
      "train losses: 0.0759 train accuracy: 0.974\n",
      "valid losses: 0.0335 valid accuracy: 0.970\n",
      "Found an improved model! :)\n"
     ]
    },
    {
     "name": "stderr",
     "output_type": "stream",
     "text": [
      "\n",
      " 60%|██████    | 3/5 [01:02<00:42, 21.16s/it]\u001b[A"
     ]
    },
    {
     "name": "stdout",
     "output_type": "stream",
     "text": [
      "-------------- Epoch = 3-------------\n",
      "train losses: 0.1367 train accuracy: 0.981\n",
      "valid losses: 0.0269 valid accuracy: 0.974\n",
      "Found an improved model! :)\n"
     ]
    },
    {
     "name": "stderr",
     "output_type": "stream",
     "text": [
      "\n",
      " 80%|████████  | 4/5 [01:24<00:21, 21.30s/it]\u001b[A"
     ]
    },
    {
     "name": "stdout",
     "output_type": "stream",
     "text": [
      "-------------- Epoch = 4-------------\n",
      "train losses: 0.0819 train accuracy: 0.983\n",
      "valid losses: 0.0254 valid accuracy: 0.974\n",
      "Found an improved model! :)\n"
     ]
    },
    {
     "name": "stderr",
     "output_type": "stream",
     "text": [
      "\n",
      "100%|██████████| 5/5 [01:46<00:00, 21.20s/it]\u001b[A\n",
      " 60%|██████    | 3/5 [05:11<03:28, 104.23s/it]Some weights of BertForSequenceClassification were not initialized from the model checkpoint at ../input/bert-base-cased and are newly initialized: ['classifier.bias', 'classifier.weight']\n",
      "You should probably TRAIN this model on a down-stream task to be able to use it for predictions and inference.\n"
     ]
    },
    {
     "name": "stdout",
     "output_type": "stream",
     "text": [
      "-------------- Fold = 3-------------\n"
     ]
    },
    {
     "name": "stderr",
     "output_type": "stream",
     "text": [
      "\n",
      "  0%|          | 0/5 [00:00<?, ?it/s]\u001b[A"
     ]
    },
    {
     "name": "stdout",
     "output_type": "stream",
     "text": [
      "-------------- Epoch = 0-------------\n"
     ]
    },
    {
     "name": "stderr",
     "output_type": "stream",
     "text": [
      "\n",
      " 20%|██        | 1/5 [00:20<01:20, 20.16s/it]\u001b[A"
     ]
    },
    {
     "name": "stdout",
     "output_type": "stream",
     "text": [
      "train losses: 0.2170 train accuracy: 0.825\n",
      "valid losses: 0.1754 valid accuracy: 0.968\n",
      "-------------- Epoch = 1-------------\n"
     ]
    },
    {
     "name": "stderr",
     "output_type": "stream",
     "text": [
      "\n",
      " 40%|████      | 2/5 [00:40<01:00, 20.13s/it]\u001b[A"
     ]
    },
    {
     "name": "stdout",
     "output_type": "stream",
     "text": [
      "train losses: 0.1401 train accuracy: 0.961\n",
      "valid losses: 0.1138 valid accuracy: 0.968\n",
      "-------------- Epoch = 2-------------\n"
     ]
    },
    {
     "name": "stderr",
     "output_type": "stream",
     "text": [
      "\n",
      " 60%|██████    | 3/5 [01:00<00:40, 20.12s/it]\u001b[A"
     ]
    },
    {
     "name": "stdout",
     "output_type": "stream",
     "text": [
      "train losses: 0.0851 train accuracy: 0.964\n",
      "valid losses: 0.0988 valid accuracy: 0.972\n",
      "-------------- Epoch = 3-------------\n"
     ]
    },
    {
     "name": "stderr",
     "output_type": "stream",
     "text": [
      "\n",
      " 80%|████████  | 4/5 [01:20<00:20, 20.10s/it]\u001b[A"
     ]
    },
    {
     "name": "stdout",
     "output_type": "stream",
     "text": [
      "train losses: 0.1041 train accuracy: 0.973\n",
      "valid losses: 0.0914 valid accuracy: 0.976\n",
      "-------------- Epoch = 4-------------\n"
     ]
    },
    {
     "name": "stderr",
     "output_type": "stream",
     "text": [
      "\n",
      "100%|██████████| 5/5 [01:40<00:00, 20.12s/it]\u001b[A\n",
      " 80%|████████  | 4/5 [06:52<01:43, 103.07s/it]"
     ]
    },
    {
     "name": "stdout",
     "output_type": "stream",
     "text": [
      "train losses: 0.0897 train accuracy: 0.976\n",
      "valid losses: 0.0912 valid accuracy: 0.978\n"
     ]
    },
    {
     "name": "stderr",
     "output_type": "stream",
     "text": [
      "Some weights of BertForSequenceClassification were not initialized from the model checkpoint at ../input/bert-base-cased and are newly initialized: ['classifier.bias', 'classifier.weight']\n",
      "You should probably TRAIN this model on a down-stream task to be able to use it for predictions and inference.\n"
     ]
    },
    {
     "name": "stdout",
     "output_type": "stream",
     "text": [
      "-------------- Fold = 4-------------\n"
     ]
    },
    {
     "name": "stderr",
     "output_type": "stream",
     "text": [
      "\n",
      "  0%|          | 0/5 [00:00<?, ?it/s]\u001b[A"
     ]
    },
    {
     "name": "stdout",
     "output_type": "stream",
     "text": [
      "-------------- Epoch = 0-------------\n"
     ]
    },
    {
     "name": "stderr",
     "output_type": "stream",
     "text": [
      "\n",
      " 20%|██        | 1/5 [00:20<01:20, 20.10s/it]\u001b[A"
     ]
    },
    {
     "name": "stdout",
     "output_type": "stream",
     "text": [
      "train losses: 0.1654 train accuracy: 0.778\n",
      "valid losses: 0.1060 valid accuracy: 0.967\n",
      "-------------- Epoch = 1-------------\n"
     ]
    },
    {
     "name": "stderr",
     "output_type": "stream",
     "text": [
      "\n",
      " 40%|████      | 2/5 [00:40<01:00, 20.07s/it]\u001b[A"
     ]
    },
    {
     "name": "stdout",
     "output_type": "stream",
     "text": [
      "train losses: 0.1254 train accuracy: 0.961\n",
      "valid losses: 0.0595 valid accuracy: 0.967\n",
      "-------------- Epoch = 2-------------\n"
     ]
    },
    {
     "name": "stderr",
     "output_type": "stream",
     "text": [
      "\n",
      " 60%|██████    | 3/5 [01:00<00:40, 20.06s/it]\u001b[A"
     ]
    },
    {
     "name": "stdout",
     "output_type": "stream",
     "text": [
      "train losses: 0.0847 train accuracy: 0.964\n",
      "valid losses: 0.0513 valid accuracy: 0.973\n",
      "-------------- Epoch = 3-------------\n"
     ]
    },
    {
     "name": "stderr",
     "output_type": "stream",
     "text": [
      "\n",
      " 80%|████████  | 4/5 [01:20<00:20, 20.07s/it]\u001b[A"
     ]
    },
    {
     "name": "stdout",
     "output_type": "stream",
     "text": [
      "train losses: 0.1387 train accuracy: 0.975\n",
      "valid losses: 0.0273 valid accuracy: 0.976\n",
      "-------------- Epoch = 4-------------\n"
     ]
    },
    {
     "name": "stderr",
     "output_type": "stream",
     "text": [
      "\n",
      "100%|██████████| 5/5 [01:40<00:00, 20.08s/it]\u001b[A\n",
      "100%|██████████| 5/5 [08:33<00:00, 102.76s/it]"
     ]
    },
    {
     "name": "stdout",
     "output_type": "stream",
     "text": [
      "train losses: 0.1260 train accuracy: 0.981\n",
      "valid losses: 0.0401 valid accuracy: 0.977\n"
     ]
    },
    {
     "name": "stderr",
     "output_type": "stream",
     "text": [
      "\n"
     ]
    },
    {
     "name": "stdout",
     "output_type": "stream",
     "text": [
      "CPU times: user 5min 27s, sys: 2min 58s, total: 8min 26s\n",
      "Wall time: 8min 36s\n"
     ]
    },
    {
     "data": {
      "image/png": "[encoded data removed]",
      "text/plain": [
       "<Figure size 1500x400 with 2 Axes>"
      ]
     },
     "metadata": {},
     "output_type": "display_data"
    },
    {
     "data": {
      "image/png": "[encoded data removed]",
      "text/plain": [
       "<Figure size 1500x400 with 2 Axes>"
      ]
     },
     "metadata": {},
     "output_type": "display_data"
    },
    {
     "data": {
      "image/png": "[encoded data removed]",
      "text/plain": [
       "<Figure size 1500x400 with 2 Axes>"
      ]
     },
     "metadata": {},
     "output_type": "display_data"
    },
    {
     "data": {
      "image/png": "[encoded data removed]",
      "text/plain": [
       "<Figure size 1500x400 with 2 Axes>"
      ]
     },
     "metadata": {},
     "output_type": "display_data"
    },
    {
     "data": {
      "image/png": "[encoded data removed]",
      "text/plain": [
       "<Figure size 1500x400 with 2 Axes>"
      ]
     },
     "metadata": {},
     "output_type": "display_data"
    }
   ],
   "source": [
    "%%time\n",
    "\n",
    "\n",
    "# mlflow.end_run()\n",
    "import dagshub\n",
    "import mlflow\n",
    "\n",
    "num_workers = 4\n",
    "beta1, beta2 = 0.9, 0.999\n",
    "weight_decay = 2e-2\n",
    "best_score = 1000\n",
    "\n",
    "dagshub.init(repo_owner='trehansalil', repo_name='toxicity_detection', mlflow=True)\n",
    "\n",
    "remote_server_uri = \"https://dagshub.com/trehansalil/toxicity_detection.mlflow\"\n",
    "\n",
    "mlflow.start_run()\n",
    "LR = 2e-5\n",
    "\n",
    "mlflow.log_param('fold', fold)\n",
    "mlflow.log_param('num_workers', num_workers)\n",
    "mlflow.log_param('pin_memory', True)\n",
    "mlflow.log_param('beta1', beta1)\n",
    "mlflow.log_param('beta2', beta2)\n",
    "mlflow.log_param('weight_decay', weight_decay)\n",
    "mlflow.log_param('best_score', best_score)\n",
    "mlflow.log_param('Learning_rate', LR)      \n",
    "best_scores = []\n",
    "for fold in tqdm(range(0,5)):\n",
    "  \n",
    "\n",
    "\n",
    "    # initializing the data\n",
    "    p_train = train[train['kfold'] != fold].reset_index(drop = True)\n",
    "    p_valid = train[train['kfold'] == fold].reset_index(drop = True)\n",
    "\n",
    "    train_dataset = BertDataSet(p_train['clean_text'], p_train[['toxic', 'severe_toxic','obscene', 'threat', 'insult','identity_hate']])\n",
    "    valid_dataset = BertDataSet(p_valid['clean_text'], p_valid[['toxic', 'severe_toxic','obscene', 'threat', 'insult','identity_hate']])\n",
    "\n",
    "    train_dataloader = DataLoader(train_dataset, batch_size = train_batch, shuffle = True, num_workers = num_workers, pin_memory = True)\n",
    "    valid_dataloader = DataLoader(valid_dataset, batch_size = valid_batch, shuffle = False, num_workers = num_workers, pin_memory = True)\n",
    "\n",
    "    model = transformers.BertForSequenceClassification.from_pretrained(\"../input/bert-base-cased\", num_labels = 6)\n",
    "    model.to(device)\n",
    "\n",
    "    optimizer = AdamW(model.parameters(), LR,betas = (beta1, beta2), weight_decay = weight_decay) # AdamW optimizer\n",
    "\n",
    "    train_steps = int(len(p_train)/train_batch * epochs)\n",
    "    num_steps = int(train_steps * 0.1)       \n",
    "\n",
    "    scheduler = get_linear_schedule_with_warmup(optimizer, num_steps, train_steps)\n",
    "\n",
    "\n",
    "    train_accs = []\n",
    "    valid_accs = []\n",
    "    train_losses = []\n",
    "    valid_losses = []\n",
    "    best_valid_probs = []\n",
    "\n",
    "    print(\"-------------- Fold = \" + str(fold) + \"-------------\")\n",
    "\n",
    "    for epoch in tqdm(range(epochs)):\n",
    "        print(\"-------------- Epoch = \" + str(epoch) + \"-------------\")\n",
    "\n",
    "        train_loss, train_acc = training(train_dataloader, model, optimizer, scheduler)\n",
    "        valid_loss, valid_acc, valid_probs = validating(valid_dataloader, model)\n",
    "        \n",
    "\n",
    "        train_losses.append(train_loss)\n",
    "        train_accs.append(train_acc)\n",
    "        valid_losses.append(valid_loss)\n",
    "        valid_accs.append(valid_acc)\n",
    "\n",
    "        print('train losses: %.4f' %(train_loss), 'train accuracy: %.3f' %(train_acc))\n",
    "        print('valid losses: %.4f' %(valid_loss), 'valid accuracy: %.3f' %(valid_acc))\n",
    "\n",
    "        if (valid_loss < best_score):\n",
    "\n",
    "            best_score = valid_loss\n",
    "            print(\"Found an improved model! :)\")\n",
    "\n",
    "            state = {'state_dict': model.state_dict(),\n",
    "                     'optimizer_dict': optimizer.state_dict(),\n",
    "                     'best_score':best_score\n",
    "                    }\n",
    "\n",
    "            torch.save(state, \"model\" + str(fold) + \".pth\")\n",
    "            best_valid_prob = valid_probs\n",
    "            torch.cuda.memory_summary(device = None, abbreviated = False)\n",
    "        else:\n",
    "            pass\n",
    "\n",
    "\n",
    "    best_scores.append(best_score)\n",
    "    best_valid_probs.append(best_valid_prob)\n",
    "\n",
    "    ##Plotting the result for each fold\n",
    "    x = np.arange(epochs)\n",
    "    fig, ax = plt.subplots(1, 2, figsize = (15,4))\n",
    "    ax[0].plot(x, train_losses)\n",
    "    ax[0].plot(x, valid_losses)\n",
    "    ax[0].set_ylabel('Losses', weight = 'bold')\n",
    "    ax[0].set_xlabel('Epochs')\n",
    "    ax[0].grid(alpha = 0.3)\n",
    "    ax[0].legend(labels = ['train losses', 'valid losses'])\n",
    "\n",
    "    ax[1].plot(x, train_accs)\n",
    "    ax[1].plot(x, valid_accs)\n",
    "    ax[1].set_ylabel('Accuracy', weight = 'bold')\n",
    "    ax[1].set_xlabel('Epochs')\n",
    "    ax[1].legend(labels = ['train acc', 'valid acc'])\n",
    "\n",
    "    ax[1].grid(alpha = 0.3)\n",
    "    fig.suptitle('Fold = '+str(fold), weight = 'bold')\n",
    "\n",
    "mlflow.log_param('train_steps', train_steps)\n",
    "mlflow.log_param('num_steps', num_steps)         \n",
    "mlflow.log_param('epoch', epoch)\n",
    "\n",
    "mlflow.log_metric('train_loss', train_loss)   \n",
    "mlflow.log_metric('train_acc', train_acc) \n",
    "\n",
    "mlflow.log_metric('valid_loss', valid_loss)   \n",
    "mlflow.log_metric('valid_acc', valid_acc)\n",
    "# mlflow.pytorch.log_model(f'model_{fold}', model)\n",
    "\n",
    "mlflow.end_run()    "
   ]
  },
  {
   "cell_type": "code",
   "execution_count": 3,
   "metadata": {
    "id": "ihk2ZkiumuXh",
    "tags": []
   },
   "outputs": [
    {
     "data": {
      "text/plain": [
       "[0.0950949639081955,\n",
       " 0.0950949639081955,\n",
       " 0.030243463814258575,\n",
       " 0.030243463814258575,\n",
       " 0.030243463814258575]"
      ]
     },
     "execution_count": 3,
     "metadata": {},
     "output_type": "execute_result"
    }
   ],
   "source": [
    "best_scores"
   ]
  },
  {
   "cell_type": "code",
   "execution_count": 30,
   "metadata": {
    "id": "qb3wHWw-muXi",
    "tags": []
   },
   "outputs": [
    {
     "name": "stdout",
     "output_type": "stream",
     "text": [
      "Mean of 5 folds for best loss in 5 epochs cross-validation folds is 0.0499.\n"
     ]
    }
   ],
   "source": [
    "print('Mean of',kfold, 'folds for best loss in', epochs, 'epochs cross-validation folds is %.4f.' %(np.mean(best_scores)))"
   ]
  },
  {
   "cell_type": "markdown",
   "metadata": {
    "id": "2EzAy-GamuXi"
   },
   "source": [
    "## 9. Evaluation for k-models"
   ]
  },
  {
   "cell_type": "markdown",
   "metadata": {
    "id": "6pccLDNdmuXi"
   },
   "source": [
    "We use ensemble for evaluating k-models in the validation set."
   ]
  },
  {
   "cell_type": "code",
   "execution_count": 31,
   "metadata": {
    "id": "YoJxD_AdmuXi",
    "tags": []
   },
   "outputs": [],
   "source": [
    "def predicting(test_dataloader, model, pthes):\n",
    "    allpreds = []\n",
    "\n",
    "    for pth in pthes:\n",
    "        state = torch.load(pth)\n",
    "        model.load_state_dict(state['state_dict'])\n",
    "        model.to(device)\n",
    "        model.eval()\n",
    "        preds = []\n",
    "        with torch.no_grad():\n",
    "            for a in test_dataloader:\n",
    "                ids = a['ids'].to(device)\n",
    "                mask = a['mask'].to(device)\n",
    "                output = model(ids, mask)\n",
    "                output = output['logits'].squeeze(-1)\n",
    "                output_probs = torch.sigmoid(output)\n",
    "                preds.append(output_probs.cpu().numpy())\n",
    "            preds = np.concatenate(preds)\n",
    "            allpreds.append(preds)\n",
    "\n",
    "    return allpreds"
   ]
  },
  {
   "cell_type": "code",
   "execution_count": 32,
   "metadata": {
    "id": "7TtHhxzPmuXj",
    "tags": []
   },
   "outputs": [],
   "source": [
    "pthes = [os.path.join(\"./\",s) for s in os.listdir(\"./\") if \".pth\" in s]"
   ]
  },
  {
   "cell_type": "code",
   "execution_count": 33,
   "metadata": {
    "id": "fWx0Dak5muXj",
    "tags": []
   },
   "outputs": [],
   "source": [
    "allpreds = predicting(valid_dataloader, model, pthes)"
   ]
  },
  {
   "cell_type": "markdown",
   "metadata": {
    "id": "KtC1VjC2muXj"
   },
   "source": [
    "Taking the avarage of probabilities from k-models for each sample in the validation set."
   ]
  },
  {
   "cell_type": "code",
   "execution_count": 34,
   "metadata": {
    "id": "imczyqNVmuXk",
    "tags": []
   },
   "outputs": [
    {
     "ename": "IndexError",
     "evalue": "list index out of range",
     "output_type": "error",
     "traceback": [
      "\u001b[0;31m---------------------------------------------------------------------------\u001b[0m",
      "\u001b[0;31mIndexError\u001b[0m                                Traceback (most recent call last)",
      "\u001b[0;32m/tmp/ipykernel_993/161300297.py\u001b[0m in \u001b[0;36m<cell line: 2>\u001b[0;34m()\u001b[0m\n\u001b[1;32m      1\u001b[0m \u001b[0mvalid_probs\u001b[0m \u001b[0;34m=\u001b[0m \u001b[0mnp\u001b[0m\u001b[0;34m.\u001b[0m\u001b[0mzeros\u001b[0m\u001b[0;34m(\u001b[0m\u001b[0;34m(\u001b[0m\u001b[0mlen\u001b[0m\u001b[0;34m(\u001b[0m\u001b[0mp_valid\u001b[0m\u001b[0;34m)\u001b[0m\u001b[0;34m,\u001b[0m\u001b[0;36m6\u001b[0m\u001b[0;34m)\u001b[0m\u001b[0;34m)\u001b[0m\u001b[0;34m\u001b[0m\u001b[0;34m\u001b[0m\u001b[0m\n\u001b[1;32m      2\u001b[0m \u001b[0;32mfor\u001b[0m \u001b[0mi\u001b[0m \u001b[0;32min\u001b[0m \u001b[0mrange\u001b[0m\u001b[0;34m(\u001b[0m\u001b[0mkfold\u001b[0m\u001b[0;34m)\u001b[0m\u001b[0;34m:\u001b[0m\u001b[0;34m\u001b[0m\u001b[0;34m\u001b[0m\u001b[0m\n\u001b[0;32m----> 3\u001b[0;31m     \u001b[0mvalid_probs\u001b[0m \u001b[0;34m+=\u001b[0m \u001b[0mallpreds\u001b[0m\u001b[0;34m[\u001b[0m\u001b[0mi\u001b[0m\u001b[0;34m]\u001b[0m\u001b[0;34m\u001b[0m\u001b[0;34m\u001b[0m\u001b[0m\n\u001b[0m\u001b[1;32m      4\u001b[0m \u001b[0mvalid_probs\u001b[0m \u001b[0;34m=\u001b[0m \u001b[0mvalid_probs\u001b[0m \u001b[0;34m/\u001b[0m \u001b[0mkfold\u001b[0m\u001b[0;34m\u001b[0m\u001b[0;34m\u001b[0m\u001b[0m\n",
      "\u001b[0;31mIndexError\u001b[0m: list index out of range"
     ]
    }
   ],
   "source": [
    "valid_probs = np.zeros((len(p_valid),6))\n",
    "for i in range(kfold):\n",
    "    valid_probs += allpreds[i]\n",
    "valid_probs = valid_probs / kfold"
   ]
  },
  {
   "cell_type": "code",
   "execution_count": 35,
   "metadata": {
    "id": "KWtt3-PzmuXk",
    "tags": []
   },
   "outputs": [],
   "source": [
    "valid_probs = np.asarray(valid_probs).flatten()"
   ]
  },
  {
   "cell_type": "code",
   "execution_count": 36,
   "metadata": {
    "id": "jYIrxrKlmuXk",
    "tags": []
   },
   "outputs": [],
   "source": [
    "#valid_probs = allpreds[0].flatten() #This line is used when trianing for one model and not k-fold model\n",
    "y_valid = p_valid[['toxic', 'severe_toxic','obscene', 'threat', 'insult','identity_hate']].to_numpy().flatten()"
   ]
  },
  {
   "cell_type": "code",
   "execution_count": 37,
   "metadata": {
    "id": "DkLW4f36muXk",
    "tags": []
   },
   "outputs": [
    {
     "name": "stdout",
     "output_type": "stream",
     "text": [
      "auc score for kfold = 5 models is: 95.57\n"
     ]
    }
   ],
   "source": [
    "fpr, tpr, _ = roc_curve(y_valid, valid_probs)\n",
    "print('auc score for kfold =', kfold, 'models is: %.2f' %(auc(fpr, tpr)*100))"
   ]
  },
  {
   "cell_type": "code",
   "execution_count": 38,
   "metadata": {
    "id": "RrkUiHB8muXl",
    "tags": []
   },
   "outputs": [],
   "source": [
    "from sklearn.metrics import accuracy_score"
   ]
  },
  {
   "cell_type": "code",
   "execution_count": 39,
   "metadata": {
    "id": "R8-FEkP8muXl",
    "tags": []
   },
   "outputs": [
    {
     "data": {
      "image/png": "[encoded data removed]",
      "text/plain": [
       "<Figure size 640x480 with 1 Axes>"
      ]
     },
     "metadata": {},
     "output_type": "display_data"
    }
   ],
   "source": [
    "fig, ax = plt.subplots()\n",
    "ax.plot(fpr, tpr)\n",
    "ax.set_title('ROC Curv')\n",
    "ax.set_xlabel('FPR')\n",
    "ax.set_ylabel('TPR')\n",
    "plt.show()"
   ]
  },
  {
   "cell_type": "markdown",
   "metadata": {
    "id": "F4XwFw8nmuXl"
   },
   "source": [
    "## 10. Inference"
   ]
  },
  {
   "cell_type": "code",
   "execution_count": 40,
   "metadata": {
    "id": "IMp74aWGmuXl",
    "tags": []
   },
   "outputs": [],
   "source": [
    "class BERTinferenceDataSet(Dataset):\n",
    "\n",
    "    def __init__(self, sentences):\n",
    "        self.sentences = sentences\n",
    "\n",
    "    def __len__(self):\n",
    "        return len(self.sentences)\n",
    "\n",
    "    def __getitem__(self, idx):\n",
    "        sentence = self.sentences[idx]\n",
    "        bert_sent = tokenizer.encode_plus(sentence,\n",
    "                                         add_special_tokens = True, #[SEP][PAD]\n",
    "                                         max_length = max_len,\n",
    "                                         pad_to_max_length = True,\n",
    "                                         truncation = True)\n",
    "\n",
    "        ids = torch.tensor(bert_sent['input_ids'], dtype = torch.long)\n",
    "        mask = torch.tensor(bert_sent['attention_mask'], dtype = torch.long)\n",
    "\n",
    "        return{\n",
    "            'ids' : ids,\n",
    "            'mask' : mask\n",
    "             }"
   ]
  },
  {
   "cell_type": "code",
   "execution_count": 42,
   "metadata": {
    "id": "TxvvFfkdmuXm",
    "tags": []
   },
   "outputs": [
    {
     "data": {
      "text/plain": [
       "['./best_model.pth', './model0.pth', './model2.pth']"
      ]
     },
     "execution_count": 42,
     "metadata": {},
     "output_type": "execute_result"
    }
   ],
   "source": [
    "test_batch = 32\n",
    "test_dataset = BERTinferenceDataSet(test['clean_text'])\n",
    "test_dataloader = DataLoader(test_dataset, batch_size = test_batch, shuffle = False, num_workers = 4, pin_memory = True)\n",
    "pthes = [os.path.join(\"./\",s) for s in os.listdir(\"./\") if \".pth\" in s]\n",
    "pthes\n"
   ]
  },
  {
   "cell_type": "code",
   "execution_count": 43,
   "metadata": {
    "id": "OLpzGPtlmuXm",
    "tags": []
   },
   "outputs": [],
   "source": [
    "allpreds = predicting(test_dataloader, model, pthes)"
   ]
  },
  {
   "cell_type": "code",
   "execution_count": 44,
   "metadata": {
    "id": "XXhQ1fvpmuXm",
    "tags": []
   },
   "outputs": [
    {
     "name": "stdout",
     "output_type": "stream",
     "text": [
      "allpreds is an array with the shape of: 3 x 100 x 6\n"
     ]
    },
    {
     "data": {
      "text/plain": [
       "array([0.62012845, 0.513379  , 0.48468736, 0.26378775, 0.44749564,\n",
       "       0.37589315], dtype=float32)"
      ]
     },
     "execution_count": 44,
     "metadata": {},
     "output_type": "execute_result"
    }
   ],
   "source": [
    "print('allpreds is an array with the shape of:',len(allpreds), 'x',len(allpreds[0]), 'x',len(allpreds[0][0]))\n",
    "allpreds[0][0]"
   ]
  },
  {
   "cell_type": "markdown",
   "metadata": {
    "id": "V9djPucmmuXn"
   },
   "source": [
    "We take the average of the probabilities in 5 folds."
   ]
  },
  {
   "cell_type": "code",
   "execution_count": 45,
   "metadata": {
    "id": "IISNVD2fmuXn",
    "tags": []
   },
   "outputs": [
    {
     "ename": "IndexError",
     "evalue": "list index out of range",
     "output_type": "error",
     "traceback": [
      "\u001b[0;31m---------------------------------------------------------------------------\u001b[0m",
      "\u001b[0;31mIndexError\u001b[0m                                Traceback (most recent call last)",
      "\u001b[0;32m/tmp/ipykernel_993/2051667148.py\u001b[0m in \u001b[0;36m<cell line: 2>\u001b[0;34m()\u001b[0m\n\u001b[1;32m      1\u001b[0m \u001b[0mpreds\u001b[0m \u001b[0;34m=\u001b[0m \u001b[0mnp\u001b[0m\u001b[0;34m.\u001b[0m\u001b[0mzeros\u001b[0m\u001b[0;34m(\u001b[0m\u001b[0;34m(\u001b[0m\u001b[0mlen\u001b[0m\u001b[0;34m(\u001b[0m\u001b[0mtest_dataset\u001b[0m\u001b[0;34m)\u001b[0m\u001b[0;34m,\u001b[0m\u001b[0;36m6\u001b[0m\u001b[0;34m)\u001b[0m\u001b[0;34m)\u001b[0m\u001b[0;34m\u001b[0m\u001b[0;34m\u001b[0m\u001b[0m\n\u001b[1;32m      2\u001b[0m \u001b[0;32mfor\u001b[0m \u001b[0mi\u001b[0m \u001b[0;32min\u001b[0m \u001b[0mrange\u001b[0m\u001b[0;34m(\u001b[0m\u001b[0mkfold\u001b[0m\u001b[0;34m)\u001b[0m\u001b[0;34m:\u001b[0m\u001b[0;34m\u001b[0m\u001b[0;34m\u001b[0m\u001b[0m\n\u001b[0;32m----> 3\u001b[0;31m     \u001b[0mpreds\u001b[0m \u001b[0;34m+=\u001b[0m \u001b[0mallpreds\u001b[0m\u001b[0;34m[\u001b[0m\u001b[0mi\u001b[0m\u001b[0;34m]\u001b[0m\u001b[0;34m\u001b[0m\u001b[0;34m\u001b[0m\u001b[0m\n\u001b[0m\u001b[1;32m      4\u001b[0m \u001b[0mpreds\u001b[0m \u001b[0;34m=\u001b[0m \u001b[0mpreds\u001b[0m \u001b[0;34m/\u001b[0m \u001b[0mkfold\u001b[0m\u001b[0;34m\u001b[0m\u001b[0;34m\u001b[0m\u001b[0m\n",
      "\u001b[0;31mIndexError\u001b[0m: list index out of range"
     ]
    }
   ],
   "source": [
    "preds = np.zeros((len(test_dataset),6))\n",
    "for i in range(kfold):\n",
    "    preds += allpreds[i]\n",
    "preds = preds / kfold"
   ]
  },
  {
   "cell_type": "code",
   "execution_count": 46,
   "metadata": {
    "id": "JIbMVZB-muXn",
    "tags": []
   },
   "outputs": [],
   "source": [
    "results = pd.DataFrame(preds)\n",
    "submission = pd.concat([test,results], axis = 1).drop(['comment_text', 'clean_text'], axis = 1)\n",
    "submission.rename(columns = { 0:'toxic', 1:'severe_toxic', 2:'obscene', 3:'threat', 4:'insult', 5:'identity_hate'}, inplace = True)\n",
    "submission.to_csv(\"submission.csv\", index = False)"
   ]
  },
  {
   "cell_type": "markdown",
   "metadata": {
    "id": "M6b_iaMLmuXo"
   },
   "source": [
    "## 11. Summary\n",
    "Here we presented a simple bert model for comment toxicity classification. A comment can be classified with multi-label and therefore this is an example of binary classification with multiple labels (not multi-classficaiton). <br>\n",
    "You can run part I and part II of the notebook independantly. <br>\n",
    "The best score(0.9796) achieved after running part II, with trianing the model with all the trainnig data (not reducing it to fewer rows) and having epochs = 1. The code is available in version 8. I didn't try with more epochs, because the trianing time would exceed 5h which was not the major intention with this notebook. <br>\n",
    "Training the model with 2000 training samples and epochs = 5 results in a faster computation and gives the socre: 0.94311."
   ]
  },
  {
   "cell_type": "markdown",
   "metadata": {
    "id": "S8WiPKYrmuXo"
   },
   "source": [
    "## 12. Useful links\n",
    "\n",
    "[1] https://www.kaggle.com/parulpandey/eda-and-preprocessing-for-bert <br>\n",
    "[2] http://jalammar.github.io/illustrated-bert/ <br>\n",
    "[3] https://curiousily.com/posts/sentiment-analysis-with-bert-and-hugging-face-using-pytorch-and-python/ <br>\n",
    "[4] http://jalammar.github.io/a-visual-guide-to-using-bert-for-the-first-time/ <br>\n",
    "[5] https://iq.opengenus.org/native-language-identification-dl/"
   ]
  }
 ],
 "metadata": {
  "accelerator": "GPU",
  "colab": {
   "gpuType": "T4",
   "include_colab_link": true,
   "name": "BERT Model For Dummies",
   "provenance": []
  },
  "kaggle": {
   "accelerator": "none",
   "dataSources": [
    {
     "databundleVersionId": 44219,
     "sourceId": 8076,
     "sourceType": "competition"
    },
    {
     "datasetId": 507677,
     "sourceId": 938093,
     "sourceType": "datasetVersion"
    },
    {
     "sourceId": 76755205,
     "sourceType": "kernelVersion"
    }
   ],
   "dockerImageVersionId": 30121,
   "isGpuEnabled": false,
   "isInternetEnabled": true,
   "language": "python",
   "sourceType": "notebook"
  },
  "kernelspec": {
   "display_name": "default:Python",
   "language": "python",
   "name": "conda-env-default-py"
  },
  "language_info": {
   "codemirror_mode": {
    "name": "ipython",
    "version": 3
   },
   "file_extension": ".py",
   "mimetype": "text/x-python",
   "name": "python",
   "nbconvert_exporter": "python",
   "pygments_lexer": "ipython3",
   "version": "3.9.16"
  }
 },
 "nbformat": 4,
 "nbformat_minor": 4
}
