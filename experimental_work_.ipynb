{
  "cells": [
    {
      "cell_type": "markdown",
      "metadata": {
        "id": "view-in-github",
        "colab_type": "text"
      },
      "source": [
        "<a href=\"https://colab.research.google.com/github/trehansalil/toxicity_detection/blob/main/experimental_work_.ipynb\" target=\"_parent\"><img src=\"https://colab.research.google.com/assets/colab-badge.svg\" alt=\"Open In Colab\"/></a>"
      ]
    },
    {
      "cell_type": "code",
      "execution_count": null,
      "metadata": {
        "colab": {
          "base_uri": "https://localhost:8080/"
        },
        "id": "h_d9i_9RmuWe",
        "outputId": "5b467c37-65ef-4e9b-d636-4f8cf018b31f",
        "tags": []
      },
      "outputs": [
        {
          "name": "stdout",
          "output_type": "stream",
          "text": [
            "Downloading jigsaw-toxic-comment-classification-challenge, 55201987 bytes compressed\n",
            "[==================================================] 55201987 bytes downloaded\n",
            "Downloaded and uncompressed: jigsaw-toxic-comment-classification-challenge\n",
            "Downloading bert-base-cased, 404510591 bytes compressed\n",
            "[==================================================] 404510591 bytes downloaded\n",
            "Downloaded and uncompressed: bert-base-cased\n",
            "Data source import complete.\n"
          ]
        }
      ],
      "source": [
        "\n",
        "# IMPORTANT: RUN THIS CELL IN ORDER TO IMPORT YOUR KAGGLE DATA SOURCES\n",
        "# TO THE CORRECT LOCATION (/kaggle/input) IN YOUR NOTEBOOK,\n",
        "# THEN FEEL FREE TO DELETE THIS CELL.\n",
        "# NOTE: THIS NOTEBOOK ENVIRONMENT DIFFERS FROM KAGGLE'S PYTHON\n",
        "# ENVIRONMENT SO THERE MAY BE MISSING LIBRARIES USED BY YOUR\n",
        "# NOTEBOOK.\n",
        "\n",
        "import os\n",
        "import sys\n",
        "from tempfile import NamedTemporaryFile\n",
        "from urllib.request import urlopen\n",
        "from urllib.parse import unquote, urlparse\n",
        "from urllib.error import HTTPError\n",
        "from zipfile import ZipFile\n",
        "import tarfile\n",
        "import shutil\n",
        "\n",
        "CHUNK_SIZE = 40960\n",
        "DATA_SOURCE_MAPPING = 'jigsaw-toxic-comment-classification-challenge:https%3A%2F%2Fstorage.googleapis.com%2Fkaggle-competitions-data%2Fkaggle-v2%2F8076%2F44219%2Fbundle%2Farchive.zip%3FX-Goog-Algorithm%3DGOOG4-RSA-SHA256%26X-Goog-Credential%3Dgcp-kaggle-com%2540kaggle-161607.iam.gserviceaccount.com%252F20240421%252Fauto%252Fstorage%252Fgoog4_request%26X-Goog-Date%3D20240421T030205Z%26X-Goog-Expires%3D259200%26X-Goog-SignedHeaders%3Dhost%26X-Goog-Signature%3D7c0a9ff1a5a504bf4bb9fa94d767287031a6b8b8f10de3de2dc4f47037516bc4c929fab7f00e07134deeca13e592e7e555137e1a5587603058dc338757390becb1f52f3e4f04d8825b833bb3e6f3d381167eabcc2bb12e309a494bdfaf22ddc9d63ce07a8f22180c528dd395044dc48b09399241c7a9a47fdf247b1025274e41ef99fe89bed2d857ed4d99a65bec953c868d7f21b93703c007ea236d9efea056b121b9fac20c8f2684ad584954db42a45a3596b7139fc8c6e9c4cf6a1ff662e66f06a3f8076de146da5e8ddd27e3f2beb475aa4c54783470fdd1c24e9483286bdb642e688925f3d71bd600f9682623dc0991c1dfe3340d13a78bcc4c153a9aef,bert-base-cased:https%3A%2F%2Fstorage.googleapis.com%2Fkaggle-data-sets%2F507677%2F938093%2Fbundle%2Farchive.zip%3FX-Goog-Algorithm%3DGOOG4-RSA-SHA256%26X-Goog-Credential%3Dgcp-kaggle-com%2540kaggle-161607.iam.gserviceaccount.com%252F20240421%252Fauto%252Fstorage%252Fgoog4_request%26X-Goog-Date%3D20240421T030205Z%26X-Goog-Expires%3D259200%26X-Goog-SignedHeaders%3Dhost%26X-Goog-Signature%3D731076fe00e01f96f83dab5e31f1b9033485decda4469f9ff1590a059f37b3ee49f812d7fa31144b8bb89cc9d65dd253cef273b242e8aaef221e9615f9eaf80188532b9e62ca7602145e20badc1e1e27748ace164409e9c4925cd7128658ea484c5641646111df3ac558beee5fd083d5262e5e0795150848d38a90dc2c3406fbcccbc4e3267beb8f7319a89d8327e36151bf023c4eb5bc31db0e5506455e18717a4d31c3c47624dbd0a7d1e8488672bce8fa1e530ec3e212c4e3f457e7e16dd07478264abe698ee7daaf9a0cdaf5beb15cdb1557a37c1b15b12e478acdd445193722b1e8f23d9f9a7af06ee8cf7dc8af1fe3e4bef8b11efe9a8592f6ce855ef8'\n",
        "\n",
        "KAGGLE_INPUT_PATH=os.getcwd()+'/kaggle/input'\n",
        "KAGGLE_WORKING_PATH=os.getcwd()+'/kaggle/working'\n",
        "KAGGLE_SYMLINK='kaggle'\n",
        "\n",
        "!umount /kaggle/input/ 2> /dev/null\n",
        "shutil.rmtree('/kaggle/input', ignore_errors=True)\n",
        "os.makedirs(KAGGLE_INPUT_PATH, 0o777, exist_ok=True)\n",
        "os.makedirs(KAGGLE_WORKING_PATH, 0o777, exist_ok=True)\n",
        "\n",
        "try:\n",
        "  os.symlink(KAGGLE_INPUT_PATH, os.path.join(\"..\", 'input'), target_is_directory=True)\n",
        "except FileExistsError:\n",
        "  pass\n",
        "try:\n",
        "  os.symlink(KAGGLE_WORKING_PATH, os.path.join(\"..\", 'working'), target_is_directory=True)\n",
        "except FileExistsError:\n",
        "  pass\n",
        "\n",
        "for data_source_mapping in DATA_SOURCE_MAPPING.split(','):\n",
        "    directory, download_url_encoded = data_source_mapping.split(':')\n",
        "    download_url = unquote(download_url_encoded)\n",
        "    filename = urlparse(download_url).path\n",
        "    destination_path = os.path.join(KAGGLE_INPUT_PATH, directory)\n",
        "    try:\n",
        "        with urlopen(download_url) as fileres, NamedTemporaryFile() as tfile:\n",
        "            total_length = fileres.headers['content-length']\n",
        "            print(f'Downloading {directory}, {total_length} bytes compressed')\n",
        "            dl = 0\n",
        "            data = fileres.read(CHUNK_SIZE)\n",
        "            while len(data) > 0:\n",
        "                dl += len(data)\n",
        "                tfile.write(data)\n",
        "                done = int(50 * dl / int(total_length))\n",
        "                sys.stdout.write(f\"\\r[{'=' * done}{' ' * (50-done)}] {dl} bytes downloaded\")\n",
        "                sys.stdout.flush()\n",
        "                data = fileres.read(CHUNK_SIZE)\n",
        "            if filename.endswith('.zip'):\n",
        "              with ZipFile(tfile) as zfile:\n",
        "                zfile.extractall(destination_path)\n",
        "            else:\n",
        "              with tarfile.open(tfile.name) as tarfile:\n",
        "                tarfile.extractall(destination_path)\n",
        "            print(f'\\nDownloaded and uncompressed: {directory}')\n",
        "    except HTTPError as e:\n",
        "        print(f'Failed to load (likely expired) {download_url} to path {destination_path}')\n",
        "        continue\n",
        "    except OSError as e:\n",
        "        print(f'Failed to load {download_url} to path {destination_path}')\n",
        "        continue\n",
        "\n",
        "print('Data source import complete.')\n"
      ]
    },
    {
      "cell_type": "markdown",
      "metadata": {
        "id": "DmcIgo1zmuWo"
      },
      "source": [
        "## Toxic Comment Classification"
      ]
    },
    {
      "cell_type": "markdown",
      "metadata": {
        "id": "a5iRNG0xmuWr"
      },
      "source": [
        "## Intro\n",
        "I am quite new in the field of data science and specially transformers are a very new concept to me. During my exploration for learning more about BERT, I noticed most of the material present on kaggle either discuss the underlying logics and modules in BERT model, (which is necessary for begginers) or they present blocks of code without much details. This material is an attempt to bridge the gap from the very basics and theory of BERT model to practicality of a simple model. <br>\n",
        "A lot of the work in this notebook is inspired by the work of [chumajin](https://www.kaggle.com/chumajin) from [this notebook](https://www.kaggle.com/chumajin/pytorch-bert-beginner-s-room). I would like to thank him here and would add that I have adapt it to our problem in this competetion. I have also added more visualization to see the imporvements of the models over iterations in epochs and during different folds.\n",
        "\n",
        "### Objective\n",
        "Creating a model which predicts the probability of each type of toxicity for each comment.\n",
        "\n",
        "This notebook is presented to two parts. I have separted it in two parts, due to memory limitations in kaggle. You can run either part I or part II independantly. <br>\n",
        "In **part I** I try to explain the primary steps we need to take for handling similar tasks, for binary classification of different labels. The model in this part runs only for one distribuation of train set and validation set. and you can see the inital performance results(auc score) we get from this model. <br>\n",
        "In **part II**, I have braught all the necessary blocks of code from part I and then show how 5 models can be developed for different choices of train set and validation set as in k_fold (k = 5). The probablites for all types of toxicity for each comment is then estimated as mean value from these 5 models.\n",
        "\n",
        "\n",
        "\n",
        "### Parameters affecting simulation time\n",
        "For running this noteboook quickly, to see how it works, in both part I and part II, you can reduce the training set to the limited number of rows. I took 200 rows in part I and 2000 in part II.<br>\n",
        "The reason for having it very low in part I is that the code opts for eductional resons rather than being efficient. Therefore, it reads in many different variables and cause the cuda memory crash if we go for more than 200 rows. This gives us an unimpressive results for part I. (accuracy 86%) <br>\n",
        "In part II, code is more consice compared to part I, and it's possible to raise number of rows to include the whole training set. However, I keep it limited to 2000, so you manage to get a fairly good result (94% accuracy and 0.988 auc score) in 22 min of simulation. <br>\n",
        "You can have (epochs = 5, k = 5) and see how the accuracy and losses imporve in different epochs. The accuracy and loss are in an acceptable range, as this notebook is not concerned about reaching the state-of-art results. <br>\n",
        "\n",
        "Hope that you find it useful and if so, please don't forget to upvote this note book, it makes my day! :-)"
      ]
    },
    {
      "cell_type": "markdown",
      "metadata": {
        "id": "0edEuvmbmuWs"
      },
      "source": [
        "## PART I\n",
        "## 1. Prepare the data\n",
        "### a. Loading libraries"
      ]
    },
    {
      "cell_type": "code",
      "execution_count": null,
      "metadata": {
        "colab": {
          "base_uri": "https://localhost:8080/"
        },
        "id": "uc51tUhZr1DH",
        "outputId": "2edbadc8-fdb3-4aeb-87f5-bd03b7991a36",
        "tags": []
      },
      "outputs": [
        {
          "name": "stdout",
          "output_type": "stream",
          "text": [
            "Requirement already satisfied: lightning in /home/studio-lab-user/.conda/envs/default/lib/python3.9/site-packages (2.2.2)\n",
            "Requirement already satisfied: nltk in /home/studio-lab-user/.conda/envs/default/lib/python3.9/site-packages (3.8.1)\n",
            "Requirement already satisfied: seaborn in /home/studio-lab-user/.conda/envs/default/lib/python3.9/site-packages (0.13.2)\n",
            "Requirement already satisfied: pandas in /home/studio-lab-user/.conda/envs/default/lib/python3.9/site-packages (2.2.1)\n",
            "Requirement already satisfied: mlflow in /home/studio-lab-user/.conda/envs/default/lib/python3.9/site-packages (2.12.1)\n",
            "Requirement already satisfied: torch in /home/studio-lab-user/.conda/envs/default/lib/python3.9/site-packages (2.2.2)\n",
            "Requirement already satisfied: transformers in /home/studio-lab-user/.conda/envs/default/lib/python3.9/site-packages (4.38.2)\n",
            "Requirement already satisfied: numpy<3.0,>=1.17.2 in /home/studio-lab-user/.conda/envs/default/lib/python3.9/site-packages (from lightning) (1.26.4)\n",
            "Requirement already satisfied: packaging<25.0,>=20.0 in /home/studio-lab-user/.conda/envs/default/lib/python3.9/site-packages (from lightning) (23.1)\n",
            "Requirement already satisfied: torchmetrics<3.0,>=0.7.0 in /home/studio-lab-user/.conda/envs/default/lib/python3.9/site-packages (from lightning) (1.3.2)\n",
            "Requirement already satisfied: lightning-utilities<2.0,>=0.8.0 in /home/studio-lab-user/.conda/envs/default/lib/python3.9/site-packages (from lightning) (0.11.2)\n",
            "Requirement already satisfied: PyYAML<8.0,>=5.4 in /home/studio-lab-user/.conda/envs/default/lib/python3.9/site-packages (from lightning) (6.0)\n",
            "Requirement already satisfied: fsspec[http]<2025.0,>=2022.5.0 in /home/studio-lab-user/.conda/envs/default/lib/python3.9/site-packages (from lightning) (2024.2.0)\n",
            "Requirement already satisfied: tqdm<6.0,>=4.57.0 in /home/studio-lab-user/.conda/envs/default/lib/python3.9/site-packages (from lightning) (4.66.2)\n",
            "Requirement already satisfied: typing-extensions<6.0,>=4.4.0 in /home/studio-lab-user/.conda/envs/default/lib/python3.9/site-packages (from lightning) (4.11.0)\n",
            "Requirement already satisfied: pytorch-lightning in /home/studio-lab-user/.conda/envs/default/lib/python3.9/site-packages (from lightning) (2.2.2)\n",
            "Requirement already satisfied: regex>=2021.8.3 in /home/studio-lab-user/.conda/envs/default/lib/python3.9/site-packages (from nltk) (2023.12.25)\n",
            "Requirement already satisfied: joblib in /home/studio-lab-user/.conda/envs/default/lib/python3.9/site-packages (from nltk) (1.4.0)\n",
            "Requirement already satisfied: click in /home/studio-lab-user/.conda/envs/default/lib/python3.9/site-packages (from nltk) (8.1.7)\n",
            "Requirement already satisfied: matplotlib!=3.6.1,>=3.4 in /home/studio-lab-user/.conda/envs/default/lib/python3.9/site-packages (from seaborn) (3.8.4)\n",
            "Requirement already satisfied: pytz>=2020.1 in /home/studio-lab-user/.conda/envs/default/lib/python3.9/site-packages (from pandas) (2023.3)\n",
            "Requirement already satisfied: python-dateutil>=2.8.2 in /home/studio-lab-user/.conda/envs/default/lib/python3.9/site-packages (from pandas) (2.8.2)\n",
            "Requirement already satisfied: tzdata>=2022.7 in /home/studio-lab-user/.conda/envs/default/lib/python3.9/site-packages (from pandas) (2024.1)\n",
            "Requirement already satisfied: querystring-parser<2 in /home/studio-lab-user/.conda/envs/default/lib/python3.9/site-packages (from mlflow) (1.2.4)\n",
            "Requirement already satisfied: scipy<2 in /home/studio-lab-user/.conda/envs/default/lib/python3.9/site-packages (from mlflow) (1.13.0)\n",
            "Requirement already satisfied: Flask<4 in /home/studio-lab-user/.conda/envs/default/lib/python3.9/site-packages (from mlflow) (3.0.3)\n",
            "Requirement already satisfied: docker<8,>=4.0.0 in /home/studio-lab-user/.conda/envs/default/lib/python3.9/site-packages (from mlflow) (7.0.0)\n",
            "Requirement already satisfied: pyarrow<16,>=4.0.0 in /home/studio-lab-user/.conda/envs/default/lib/python3.9/site-packages (from mlflow) (15.0.2)\n",
            "Requirement already satisfied: sqlalchemy<3,>=1.4.0 in /home/studio-lab-user/.conda/envs/default/lib/python3.9/site-packages (from mlflow) (2.0.29)\n",
            "Requirement already satisfied: sqlparse<1,>=0.4.0 in /home/studio-lab-user/.conda/envs/default/lib/python3.9/site-packages (from mlflow) (0.5.0)\n",
            "Requirement already satisfied: markdown<4,>=3.3 in /home/studio-lab-user/.conda/envs/default/lib/python3.9/site-packages (from mlflow) (3.6)\n",
            "Requirement already satisfied: entrypoints<1 in /home/studio-lab-user/.conda/envs/default/lib/python3.9/site-packages (from mlflow) (0.4)\n",
            "Requirement already satisfied: gitpython<4,>=3.1.9 in /home/studio-lab-user/.conda/envs/default/lib/python3.9/site-packages (from mlflow) (3.1.43)\n",
            "Requirement already satisfied: protobuf<6,>=3.12.0 in /home/studio-lab-user/.conda/envs/default/lib/python3.9/site-packages (from mlflow) (5.26.1)\n",
            "Requirement already satisfied: graphene<4 in /home/studio-lab-user/.conda/envs/default/lib/python3.9/site-packages (from mlflow) (3.3)\n",
            "Requirement already satisfied: scikit-learn<2 in /home/studio-lab-user/.conda/envs/default/lib/python3.9/site-packages (from mlflow) (1.4.2)\n",
            "Requirement already satisfied: importlib-metadata!=4.7.0,<8,>=3.7.0 in /home/studio-lab-user/.conda/envs/default/lib/python3.9/site-packages (from mlflow) (6.8.0)\n",
            "Requirement already satisfied: Jinja2<4,>=2.11 in /home/studio-lab-user/.conda/envs/default/lib/python3.9/site-packages (from mlflow) (3.1.2)\n",
            "Requirement already satisfied: alembic!=1.10.0,<2 in /home/studio-lab-user/.conda/envs/default/lib/python3.9/site-packages (from mlflow) (1.13.1)\n",
            "Requirement already satisfied: gunicorn<22 in /home/studio-lab-user/.conda/envs/default/lib/python3.9/site-packages (from mlflow) (21.2.0)\n",
            "Requirement already satisfied: cloudpickle<4 in /home/studio-lab-user/.conda/envs/default/lib/python3.9/site-packages (from mlflow) (3.0.0)\n",
            "Requirement already satisfied: requests<3,>=2.17.3 in /home/studio-lab-user/.conda/envs/default/lib/python3.9/site-packages (from mlflow) (2.31.0)\n",
            "Requirement already satisfied: filelock in /home/studio-lab-user/.conda/envs/default/lib/python3.9/site-packages (from torch) (3.13.3)\n",
            "Requirement already satisfied: sympy in /home/studio-lab-user/.conda/envs/default/lib/python3.9/site-packages (from torch) (1.12)\n",
            "Requirement already satisfied: nvidia-cuda-nvrtc-cu12==12.1.105 in /home/studio-lab-user/.conda/envs/default/lib/python3.9/site-packages (from torch) (12.1.105)\n",
            "Requirement already satisfied: nvidia-cudnn-cu12==8.9.2.26 in /home/studio-lab-user/.conda/envs/default/lib/python3.9/site-packages (from torch) (8.9.2.26)\n",
            "Requirement already satisfied: nvidia-cublas-cu12==12.1.3.1 in /home/studio-lab-user/.conda/envs/default/lib/python3.9/site-packages (from torch) (12.1.3.1)\n",
            "Requirement already satisfied: nvidia-nvtx-cu12==12.1.105 in /home/studio-lab-user/.conda/envs/default/lib/python3.9/site-packages (from torch) (12.1.105)\n",
            "Requirement already satisfied: triton==2.2.0 in /home/studio-lab-user/.conda/envs/default/lib/python3.9/site-packages (from torch) (2.2.0)\n",
            "Requirement already satisfied: nvidia-cuda-runtime-cu12==12.1.105 in /home/studio-lab-user/.conda/envs/default/lib/python3.9/site-packages (from torch) (12.1.105)\n",
            "Requirement already satisfied: nvidia-curand-cu12==10.3.2.106 in /home/studio-lab-user/.conda/envs/default/lib/python3.9/site-packages (from torch) (10.3.2.106)\n",
            "Requirement already satisfied: nvidia-cusparse-cu12==12.1.0.106 in /home/studio-lab-user/.conda/envs/default/lib/python3.9/site-packages (from torch) (12.1.0.106)\n",
            "Requirement already satisfied: nvidia-nccl-cu12==2.19.3 in /home/studio-lab-user/.conda/envs/default/lib/python3.9/site-packages (from torch) (2.19.3)\n",
            "Requirement already satisfied: networkx in /home/studio-lab-user/.conda/envs/default/lib/python3.9/site-packages (from torch) (3.2.1)\n",
            "Requirement already satisfied: nvidia-cusolver-cu12==11.4.5.107 in /home/studio-lab-user/.conda/envs/default/lib/python3.9/site-packages (from torch) (11.4.5.107)\n",
            "Requirement already satisfied: nvidia-cuda-cupti-cu12==12.1.105 in /home/studio-lab-user/.conda/envs/default/lib/python3.9/site-packages (from torch) (12.1.105)\n",
            "Requirement already satisfied: nvidia-cufft-cu12==11.0.2.54 in /home/studio-lab-user/.conda/envs/default/lib/python3.9/site-packages (from torch) (11.0.2.54)\n",
            "Requirement already satisfied: nvidia-nvjitlink-cu12 in /home/studio-lab-user/.conda/envs/default/lib/python3.9/site-packages (from nvidia-cusolver-cu12==11.4.5.107->torch) (12.4.127)\n",
            "Requirement already satisfied: tokenizers<0.19,>=0.14 in /home/studio-lab-user/.conda/envs/default/lib/python3.9/site-packages (from transformers) (0.15.2)\n",
            "Requirement already satisfied: huggingface-hub<1.0,>=0.19.3 in /home/studio-lab-user/.conda/envs/default/lib/python3.9/site-packages (from transformers) (0.22.2)\n",
            "Requirement already satisfied: safetensors>=0.4.1 in /home/studio-lab-user/.conda/envs/default/lib/python3.9/site-packages (from transformers) (0.4.2)\n",
            "Requirement already satisfied: Mako in /home/studio-lab-user/.conda/envs/default/lib/python3.9/site-packages (from alembic!=1.10.0,<2->mlflow) (1.3.3)\n",
            "Requirement already satisfied: urllib3>=1.26.0 in /home/studio-lab-user/.conda/envs/default/lib/python3.9/site-packages (from docker<8,>=4.0.0->mlflow) (2.0.4)\n",
            "Requirement already satisfied: itsdangerous>=2.1.2 in /home/studio-lab-user/.conda/envs/default/lib/python3.9/site-packages (from Flask<4->mlflow) (2.2.0)\n",
            "Requirement already satisfied: Werkzeug>=3.0.0 in /home/studio-lab-user/.conda/envs/default/lib/python3.9/site-packages (from Flask<4->mlflow) (3.0.2)\n",
            "Requirement already satisfied: blinker>=1.6.2 in /home/studio-lab-user/.conda/envs/default/lib/python3.9/site-packages (from Flask<4->mlflow) (1.7.0)\n",
            "Requirement already satisfied: aiohttp!=4.0.0a0,!=4.0.0a1 in /home/studio-lab-user/.conda/envs/default/lib/python3.9/site-packages (from fsspec[http]<2025.0,>=2022.5.0->lightning) (3.9.3)\n",
            "Requirement already satisfied: multidict<7.0,>=4.5 in /home/studio-lab-user/.conda/envs/default/lib/python3.9/site-packages (from aiohttp!=4.0.0a0,!=4.0.0a1->fsspec[http]<2025.0,>=2022.5.0->lightning) (6.0.5)\n",
            "Requirement already satisfied: async-timeout<5.0,>=4.0 in /home/studio-lab-user/.conda/envs/default/lib/python3.9/site-packages (from aiohttp!=4.0.0a0,!=4.0.0a1->fsspec[http]<2025.0,>=2022.5.0->lightning) (4.0.3)\n",
            "Requirement already satisfied: attrs>=17.3.0 in /home/studio-lab-user/.conda/envs/default/lib/python3.9/site-packages (from aiohttp!=4.0.0a0,!=4.0.0a1->fsspec[http]<2025.0,>=2022.5.0->lightning) (23.1.0)\n",
            "Requirement already satisfied: aiosignal>=1.1.2 in /home/studio-lab-user/.conda/envs/default/lib/python3.9/site-packages (from aiohttp!=4.0.0a0,!=4.0.0a1->fsspec[http]<2025.0,>=2022.5.0->lightning) (1.3.1)\n",
            "Requirement already satisfied: yarl<2.0,>=1.0 in /home/studio-lab-user/.conda/envs/default/lib/python3.9/site-packages (from aiohttp!=4.0.0a0,!=4.0.0a1->fsspec[http]<2025.0,>=2022.5.0->lightning) (1.9.4)\n",
            "Requirement already satisfied: frozenlist>=1.1.1 in /home/studio-lab-user/.conda/envs/default/lib/python3.9/site-packages (from aiohttp!=4.0.0a0,!=4.0.0a1->fsspec[http]<2025.0,>=2022.5.0->lightning) (1.4.1)\n",
            "Requirement already satisfied: gitdb<5,>=4.0.1 in /home/studio-lab-user/.conda/envs/default/lib/python3.9/site-packages (from gitpython<4,>=3.1.9->mlflow) (4.0.11)\n",
            "Requirement already satisfied: smmap<6,>=3.0.1 in /home/studio-lab-user/.conda/envs/default/lib/python3.9/site-packages (from gitdb<5,>=4.0.1->gitpython<4,>=3.1.9->mlflow) (5.0.1)\n",
            "Requirement already satisfied: aniso8601<10,>=8 in /home/studio-lab-user/.conda/envs/default/lib/python3.9/site-packages (from graphene<4->mlflow) (9.0.1)\n",
            "Requirement already satisfied: graphql-core<3.3,>=3.1 in /home/studio-lab-user/.conda/envs/default/lib/python3.9/site-packages (from graphene<4->mlflow) (3.2.3)\n",
            "Requirement already satisfied: graphql-relay<3.3,>=3.1 in /home/studio-lab-user/.conda/envs/default/lib/python3.9/site-packages (from graphene<4->mlflow) (3.2.0)\n",
            "Requirement already satisfied: zipp>=0.5 in /home/studio-lab-user/.conda/envs/default/lib/python3.9/site-packages (from importlib-metadata!=4.7.0,<8,>=3.7.0->mlflow) (3.16.2)\n",
            "Requirement already satisfied: MarkupSafe>=2.0 in /home/studio-lab-user/.conda/envs/default/lib/python3.9/site-packages (from Jinja2<4,>=2.11->mlflow) (2.1.3)\n",
            "Requirement already satisfied: setuptools in /home/studio-lab-user/.conda/envs/default/lib/python3.9/site-packages (from lightning-utilities<2.0,>=0.8.0->lightning) (68.0.0)\n",
            "Requirement already satisfied: contourpy>=1.0.1 in /home/studio-lab-user/.conda/envs/default/lib/python3.9/site-packages (from matplotlib!=3.6.1,>=3.4->seaborn) (1.2.1)\n",
            "Requirement already satisfied: kiwisolver>=1.3.1 in /home/studio-lab-user/.conda/envs/default/lib/python3.9/site-packages (from matplotlib!=3.6.1,>=3.4->seaborn) (1.4.5)\n",
            "Requirement already satisfied: fonttools>=4.22.0 in /home/studio-lab-user/.conda/envs/default/lib/python3.9/site-packages (from matplotlib!=3.6.1,>=3.4->seaborn) (4.51.0)\n",
            "Requirement already satisfied: pillow>=8 in /home/studio-lab-user/.conda/envs/default/lib/python3.9/site-packages (from matplotlib!=3.6.1,>=3.4->seaborn) (10.3.0)\n",
            "Requirement already satisfied: importlib-resources>=3.2.0 in /home/studio-lab-user/.conda/envs/default/lib/python3.9/site-packages (from matplotlib!=3.6.1,>=3.4->seaborn) (6.0.1)\n",
            "Requirement already satisfied: pyparsing>=2.3.1 in /home/studio-lab-user/.conda/envs/default/lib/python3.9/site-packages (from matplotlib!=3.6.1,>=3.4->seaborn) (3.1.2)\n",
            "Requirement already satisfied: cycler>=0.10 in /home/studio-lab-user/.conda/envs/default/lib/python3.9/site-packages (from matplotlib!=3.6.1,>=3.4->seaborn) (0.12.1)\n",
            "Requirement already satisfied: six>=1.5 in /home/studio-lab-user/.conda/envs/default/lib/python3.9/site-packages (from python-dateutil>=2.8.2->pandas) (1.16.0)\n",
            "Requirement already satisfied: charset-normalizer<4,>=2 in /home/studio-lab-user/.conda/envs/default/lib/python3.9/site-packages (from requests<3,>=2.17.3->mlflow) (3.2.0)\n",
            "Requirement already satisfied: idna<4,>=2.5 in /home/studio-lab-user/.conda/envs/default/lib/python3.9/site-packages (from requests<3,>=2.17.3->mlflow) (3.4)\n",
            "Requirement already satisfied: certifi>=2017.4.17 in /home/studio-lab-user/.conda/envs/default/lib/python3.9/site-packages (from requests<3,>=2.17.3->mlflow) (2023.7.22)\n",
            "Requirement already satisfied: threadpoolctl>=2.0.0 in /home/studio-lab-user/.conda/envs/default/lib/python3.9/site-packages (from scikit-learn<2->mlflow) (3.4.0)\n",
            "Requirement already satisfied: greenlet!=0.4.17 in /home/studio-lab-user/.conda/envs/default/lib/python3.9/site-packages (from sqlalchemy<3,>=1.4.0->mlflow) (3.0.3)\n",
            "Requirement already satisfied: mpmath>=0.19 in /home/studio-lab-user/.conda/envs/default/lib/python3.9/site-packages (from sympy->torch) (1.3.0)\n"
          ]
        }
      ],
      "source": [
        "# !pip install mlflow\n",
        "!pip install lightning nltk seaborn pandas mlflow torch transformers"
      ]
    },
    {
      "cell_type": "code",
      "execution_count": null,
      "metadata": {
        "id": "85WV_-OimuWt",
        "tags": []
      },
      "outputs": [],
      "source": [
        "import numpy as np\n",
        "import pandas as pd\n",
        "import os\n",
        "import random\n",
        "import time\n",
        "import lightning as L\n",
        "\n",
        "import re\n",
        "import string\n",
        "import nltk\n",
        "from nltk.corpus import stopwords\n",
        "\n",
        "import matplotlib.pyplot as plt\n",
        "import seaborn as sns\n",
        "sns.set(style=\"ticks\", context=\"talk\")\n",
        "plt.style.use('dark_background')\n",
        "\n",
        "from tqdm import tqdm\n",
        "\n",
        "import torch\n",
        "import torch.nn as nn\n",
        "import torch.nn.functional as func\n",
        "from torch.utils.data import DataLoader, Dataset\n",
        "\n",
        "import transformers\n",
        "from transformers import AdamW, get_linear_schedule_with_warmup\n",
        "\n",
        "import mlflow.pytorch\n",
        "from mlflow import MlflowClient\n",
        "from mlflow.models import infer_signature\n",
        "\n",
        "import tokenizers\n",
        "from lightning.pytorch.callbacks import (\n",
        "    EarlyStopping,\n",
        "    LearningRateMonitor,\n",
        "    ModelCheckpoint,\n",
        ")\n",
        "from lightning.pytorch.cli import LightningCLI\n",
        "\n",
        "from sklearn.metrics import mean_squared_error, roc_auc_score, roc_curve, auc, accuracy_score\n",
        "\n",
        "import warnings\n",
        "warnings.simplefilter('ignore')"
      ]
    },
    {
      "cell_type": "markdown",
      "metadata": {
        "id": "6LnYQ3xsmuWv"
      },
      "source": [
        "We set a seed for reproducability of the results."
      ]
    },
    {
      "cell_type": "code",
      "execution_count": null,
      "metadata": {
        "id": "7tsoq57uwcKY",
        "tags": [],
        "outputId": "0dba0611-2ce5-4c08-9240-a1f37125873c"
      },
      "outputs": [
        {
          "name": "stderr",
          "output_type": "stream",
          "text": [
            "2024/04/21 13:27:27 WARNING mlflow.utils.autologging_utils: You are using an unsupported version of pytorch. If you encounter errors during autologging, try upgrading / downgrading pytorch to a supported version, or try upgrading MLflow.\n"
          ]
        }
      ],
      "source": [
        "mlflow.pytorch.autolog()"
      ]
    },
    {
      "cell_type": "code",
      "execution_count": null,
      "metadata": {
        "id": "tT_t7gvPmuWw",
        "tags": []
      },
      "outputs": [],
      "source": [
        "SEED = 34\n",
        "\n",
        "def random_seed(SEED):\n",
        "    random.seed(SEED)\n",
        "    os.environ['PYTHONHASHSEED'] = str(SEED)\n",
        "    np.random.seed(SEED)\n",
        "    torch.manual_seed(SEED)\n",
        "    torch.cuda.manual_seed(SEED)\n",
        "    torch.cuda.manual_seed_all(SEED)\n",
        "    torch.backends.cudnn.deterministic = True\n",
        "\n",
        "random_seed(SEED)"
      ]
    },
    {
      "cell_type": "code",
      "execution_count": null,
      "metadata": {
        "id": "xD09yzrdsTiY",
        "tags": []
      },
      "outputs": [],
      "source": [
        "def print_auto_logged_info(r):\n",
        "    tags = {k: v for k, v in r.data.tags.items() if not k.startswith(\"mlflow.\")}\n",
        "    artifacts = [f.path for f in MlflowClient().list_artifacts(r.info.run_id, \"model\")]\n",
        "    print(f\"run_id: {r.info.run_id}\")\n",
        "    print(f\"artifacts: {artifacts}\")\n",
        "    print(f\"params: {r.data.params}\")\n",
        "    print(f\"metrics: {r.data.metrics}\")\n",
        "    print(f\"tags: {tags}\")"
      ]
    },
    {
      "cell_type": "code",
      "execution_count": null,
      "metadata": {
        "colab": {
          "base_uri": "https://localhost:8080/",
          "height": 206
        },
        "id": "-VloNzXCmuWy",
        "outputId": "a2413d8f-6aa4-4e9f-9dab-9ee0c0b4be65",
        "tags": []
      },
      "outputs": [
        {
          "data": {
            "text/html": [
              "<div>\n",
              "<style scoped>\n",
              "    .dataframe tbody tr th:only-of-type {\n",
              "        vertical-align: middle;\n",
              "    }\n",
              "\n",
              "    .dataframe tbody tr th {\n",
              "        vertical-align: top;\n",
              "    }\n",
              "\n",
              "    .dataframe thead th {\n",
              "        text-align: right;\n",
              "    }\n",
              "</style>\n",
              "<table border=\"1\" class=\"dataframe\">\n",
              "  <thead>\n",
              "    <tr style=\"text-align: right;\">\n",
              "      <th></th>\n",
              "      <th>id</th>\n",
              "      <th>comment_text</th>\n",
              "      <th>toxic</th>\n",
              "      <th>severe_toxic</th>\n",
              "      <th>obscene</th>\n",
              "      <th>threat</th>\n",
              "      <th>insult</th>\n",
              "      <th>identity_hate</th>\n",
              "    </tr>\n",
              "  </thead>\n",
              "  <tbody>\n",
              "    <tr>\n",
              "      <th>0</th>\n",
              "      <td>0000997932d777bf</td>\n",
              "      <td>Explanation\\nWhy the edits made under my usern...</td>\n",
              "      <td>0</td>\n",
              "      <td>0</td>\n",
              "      <td>0</td>\n",
              "      <td>0</td>\n",
              "      <td>0</td>\n",
              "      <td>0</td>\n",
              "    </tr>\n",
              "    <tr>\n",
              "      <th>1</th>\n",
              "      <td>000103f0d9cfb60f</td>\n",
              "      <td>D'aww! He matches this background colour I'm s...</td>\n",
              "      <td>0</td>\n",
              "      <td>0</td>\n",
              "      <td>0</td>\n",
              "      <td>0</td>\n",
              "      <td>0</td>\n",
              "      <td>0</td>\n",
              "    </tr>\n",
              "    <tr>\n",
              "      <th>2</th>\n",
              "      <td>000113f07ec002fd</td>\n",
              "      <td>Hey man, I'm really not trying to edit war. It...</td>\n",
              "      <td>0</td>\n",
              "      <td>0</td>\n",
              "      <td>0</td>\n",
              "      <td>0</td>\n",
              "      <td>0</td>\n",
              "      <td>0</td>\n",
              "    </tr>\n",
              "    <tr>\n",
              "      <th>3</th>\n",
              "      <td>0001b41b1c6bb37e</td>\n",
              "      <td>\"\\nMore\\nI can't make any real suggestions on ...</td>\n",
              "      <td>0</td>\n",
              "      <td>0</td>\n",
              "      <td>0</td>\n",
              "      <td>0</td>\n",
              "      <td>0</td>\n",
              "      <td>0</td>\n",
              "    </tr>\n",
              "    <tr>\n",
              "      <th>4</th>\n",
              "      <td>0001d958c54c6e35</td>\n",
              "      <td>You, sir, are my hero. Any chance you remember...</td>\n",
              "      <td>0</td>\n",
              "      <td>0</td>\n",
              "      <td>0</td>\n",
              "      <td>0</td>\n",
              "      <td>0</td>\n",
              "      <td>0</td>\n",
              "    </tr>\n",
              "  </tbody>\n",
              "</table>\n",
              "</div>"
            ],
            "text/plain": [
              "                 id                                       comment_text  toxic  \\\n",
              "0  0000997932d777bf  Explanation\\nWhy the edits made under my usern...      0   \n",
              "1  000103f0d9cfb60f  D'aww! He matches this background colour I'm s...      0   \n",
              "2  000113f07ec002fd  Hey man, I'm really not trying to edit war. It...      0   \n",
              "3  0001b41b1c6bb37e  \"\\nMore\\nI can't make any real suggestions on ...      0   \n",
              "4  0001d958c54c6e35  You, sir, are my hero. Any chance you remember...      0   \n",
              "\n",
              "   severe_toxic  obscene  threat  insult  identity_hate  \n",
              "0             0        0       0       0              0  \n",
              "1             0        0       0       0              0  \n",
              "2             0        0       0       0              0  \n",
              "3             0        0       0       0              0  \n",
              "4             0        0       0       0              0  "
            ]
          },
          "execution_count": 19,
          "metadata": {},
          "output_type": "execute_result"
        }
      ],
      "source": [
        "train = pd.read_csv('../input/jigsaw-toxic-comment-classification-challenge/train.csv.zip', nrows = 200 )\n",
        "train.head()"
      ]
    },
    {
      "cell_type": "code",
      "execution_count": null,
      "metadata": {
        "colab": {
          "base_uri": "https://localhost:8080/",
          "height": 206
        },
        "id": "6gAJfYywmuWz",
        "outputId": "f047db32-6442-4d93-aa86-c8016ed545fa",
        "tags": []
      },
      "outputs": [
        {
          "data": {
            "text/html": [
              "<div>\n",
              "<style scoped>\n",
              "    .dataframe tbody tr th:only-of-type {\n",
              "        vertical-align: middle;\n",
              "    }\n",
              "\n",
              "    .dataframe tbody tr th {\n",
              "        vertical-align: top;\n",
              "    }\n",
              "\n",
              "    .dataframe thead th {\n",
              "        text-align: right;\n",
              "    }\n",
              "</style>\n",
              "<table border=\"1\" class=\"dataframe\">\n",
              "  <thead>\n",
              "    <tr style=\"text-align: right;\">\n",
              "      <th></th>\n",
              "      <th>id</th>\n",
              "      <th>comment_text</th>\n",
              "      <th>toxic</th>\n",
              "      <th>severe_toxic</th>\n",
              "      <th>obscene</th>\n",
              "      <th>threat</th>\n",
              "      <th>insult</th>\n",
              "      <th>identity_hate</th>\n",
              "    </tr>\n",
              "  </thead>\n",
              "  <tbody>\n",
              "    <tr>\n",
              "      <th>6</th>\n",
              "      <td>0002bcb3da6cb337</td>\n",
              "      <td>COCKSUCKER BEFORE YOU PISS AROUND ON MY WORK</td>\n",
              "      <td>1</td>\n",
              "      <td>1</td>\n",
              "      <td>1</td>\n",
              "      <td>0</td>\n",
              "      <td>1</td>\n",
              "      <td>0</td>\n",
              "    </tr>\n",
              "    <tr>\n",
              "      <th>12</th>\n",
              "      <td>0005c987bdfc9d4b</td>\n",
              "      <td>Hey... what is it..\\n@ | talk .\\nWhat is it......</td>\n",
              "      <td>1</td>\n",
              "      <td>0</td>\n",
              "      <td>0</td>\n",
              "      <td>0</td>\n",
              "      <td>0</td>\n",
              "      <td>0</td>\n",
              "    </tr>\n",
              "    <tr>\n",
              "      <th>16</th>\n",
              "      <td>0007e25b2121310b</td>\n",
              "      <td>Bye! \\n\\nDon't look, come or think of comming ...</td>\n",
              "      <td>1</td>\n",
              "      <td>0</td>\n",
              "      <td>0</td>\n",
              "      <td>0</td>\n",
              "      <td>0</td>\n",
              "      <td>0</td>\n",
              "    </tr>\n",
              "    <tr>\n",
              "      <th>42</th>\n",
              "      <td>001810bf8c45bf5f</td>\n",
              "      <td>You are gay or antisemmitian? \\n\\nArchangel WH...</td>\n",
              "      <td>1</td>\n",
              "      <td>0</td>\n",
              "      <td>1</td>\n",
              "      <td>0</td>\n",
              "      <td>1</td>\n",
              "      <td>1</td>\n",
              "    </tr>\n",
              "    <tr>\n",
              "      <th>43</th>\n",
              "      <td>00190820581d90ce</td>\n",
              "      <td>FUCK YOUR FILTHY MOTHER IN THE ASS, DRY!</td>\n",
              "      <td>1</td>\n",
              "      <td>0</td>\n",
              "      <td>1</td>\n",
              "      <td>0</td>\n",
              "      <td>1</td>\n",
              "      <td>0</td>\n",
              "    </tr>\n",
              "  </tbody>\n",
              "</table>\n",
              "</div>"
            ],
            "text/plain": [
              "                  id                                       comment_text  \\\n",
              "6   0002bcb3da6cb337       COCKSUCKER BEFORE YOU PISS AROUND ON MY WORK   \n",
              "12  0005c987bdfc9d4b  Hey... what is it..\\n@ | talk .\\nWhat is it......   \n",
              "16  0007e25b2121310b  Bye! \\n\\nDon't look, come or think of comming ...   \n",
              "42  001810bf8c45bf5f  You are gay or antisemmitian? \\n\\nArchangel WH...   \n",
              "43  00190820581d90ce           FUCK YOUR FILTHY MOTHER IN THE ASS, DRY!   \n",
              "\n",
              "    toxic  severe_toxic  obscene  threat  insult  identity_hate  \n",
              "6       1             1        1       0       1              0  \n",
              "12      1             0        0       0       0              0  \n",
              "16      1             0        0       0       0              0  \n",
              "42      1             0        1       0       1              1  \n",
              "43      1             0        1       0       1              0  "
            ]
          },
          "execution_count": 20,
          "metadata": {},
          "output_type": "execute_result"
        }
      ],
      "source": [
        "temp = train[train['toxic'] == 1]\n",
        "temp.head()"
      ]
    },
    {
      "cell_type": "code",
      "execution_count": null,
      "metadata": {
        "colab": {
          "base_uri": "https://localhost:8080/",
          "height": 140
        },
        "id": "o4dXAnR7muW0",
        "outputId": "c529390a-867e-4bc8-da6b-b95f842025c6",
        "tags": []
      },
      "outputs": [
        {
          "name": "stdout",
          "output_type": "stream",
          "text": [
            "2875 Total Characters\n"
          ]
        },
        {
          "data": {
            "text/plain": [
              "'\"\\nFair use rationale for Image:Wonju.jpg\\n\\nThanks for uploading Image:Wonju.jpg. I notice the image page specifies that the image is being used under fair use but there is no explanation or rationale as to why its use in Wikipedia articles constitutes fair use. In addition to the boilerplate fair use template, you must also write out on the image description page a specific explanation or rationale for why using this image in each article is consistent with fair use.\\n\\nPlease go to the image description page and edit it to include a fair use rationale.\\n\\nIf you have uploaded other fair use media, consider checking that you have specified the fair use rationale on those pages too. You can find a list of \\'image\\' pages you have edited by clicking on the \"\"my contributions\"\" link (it is located at the very top of any Wikipedia page when you are logged in), and then selecting \"\"Image\"\" from the dropdown box. Note that any fair use images uploaded after 4 May, 2006, and lacking such an explanation will be deleted one week after they have been uploaded, as described on criteria for speedy deletion. If you have any questions please ask them at the Media copyright questions page. Thank you. (talk • contribs • ) \\nUnspecified source for Image:Wonju.jpg\\n\\nThanks for uploading Image:Wonju.jpg. I noticed that the file\\'s description page currently doesn\\'t specify who created the content, so the copyright status is unclear. If you did not create this file yourself, then you will need to specify the owner of the copyright. If you obtained it from a website, then a link to the website from which it was taken, together with a restatement of that website\\'s terms of use of its content, is usually sufficient information. However, if the copyright holder is different from the website\\'s publisher, then their copyright should also be acknowledged.\\n\\nAs well as adding the source, please add a proper copyright licensing tag if the file doesn\\'t have one already. If you created/took the picture, audio, or video then the  tag can be used to release it under the GFDL. If you believe the media meets the criteria at Wikipedia:Fair use, use a tag such as  or one of the other tags listed at Wikipedia:Image copyright tags#Fair use. See Wikipedia:Image copyright tags for the full list of copyright tags that you can use.\\n\\nIf you have uploaded other files, consider checking that you have specified their source and tagged them, too. You can find a list of files you have uploaded by following [ this link]. Unsourced and untagged images may be deleted one week after they have been tagged, as described on criteria for speedy deletion. If the image is copyrighted under a non-free license (per Wikipedia:Fair use) then the image will be deleted 48 hours after . If you have any questions please ask them at the Media copyright questions page. Thank you. (talk • contribs • ) \"'"
            ]
          },
          "execution_count": 21,
          "metadata": {},
          "output_type": "execute_result"
        }
      ],
      "source": [
        "print(len(train['comment_text'][10]), 'Total Characters')\n",
        "train['comment_text'][10]"
      ]
    },
    {
      "cell_type": "markdown",
      "metadata": {
        "id": "nNt4qIVOmuW1"
      },
      "source": [
        "A comment can be toxic, severe_toxic, obscene and insult at the same time. So the class for each comment is not limited to one.\n",
        "<br>Now let's check the values for each column in train dataset."
      ]
    },
    {
      "cell_type": "code",
      "execution_count": null,
      "metadata": {
        "colab": {
          "base_uri": "https://localhost:8080/"
        },
        "id": "HbulMJxhmuW2",
        "outputId": "d2755408-e0f8-436a-f440-7c95affa6da2",
        "tags": []
      },
      "outputs": [
        {
          "data": {
            "text/plain": [
              "[array([0, 1]),\n",
              " array([0, 1]),\n",
              " array([0, 1]),\n",
              " array([0, 1]),\n",
              " array([0, 1]),\n",
              " array([0, 1])]"
            ]
          },
          "execution_count": 22,
          "metadata": {},
          "output_type": "execute_result"
        }
      ],
      "source": [
        "labels = train.drop(['id', 'comment_text'], axis = 1)\n",
        "unique_values = lambda x: train[x].unique()\n",
        "[unique_values(col) for col in labels.columns.tolist()]"
      ]
    },
    {
      "cell_type": "code",
      "execution_count": null,
      "metadata": {
        "colab": {
          "base_uri": "https://localhost:8080/",
          "height": 206
        },
        "id": "QCzZc8z3muW2",
        "outputId": "5a895814-f3f9-42ef-c0dc-b15f13ebabdb",
        "tags": []
      },
      "outputs": [
        {
          "data": {
            "text/html": [
              "<div>\n",
              "<style scoped>\n",
              "    .dataframe tbody tr th:only-of-type {\n",
              "        vertical-align: middle;\n",
              "    }\n",
              "\n",
              "    .dataframe tbody tr th {\n",
              "        vertical-align: top;\n",
              "    }\n",
              "\n",
              "    .dataframe thead th {\n",
              "        text-align: right;\n",
              "    }\n",
              "</style>\n",
              "<table border=\"1\" class=\"dataframe\">\n",
              "  <thead>\n",
              "    <tr style=\"text-align: right;\">\n",
              "      <th></th>\n",
              "      <th>id</th>\n",
              "      <th>comment_text</th>\n",
              "    </tr>\n",
              "  </thead>\n",
              "  <tbody>\n",
              "    <tr>\n",
              "      <th>0</th>\n",
              "      <td>00001cee341fdb12</td>\n",
              "      <td>Yo bitch Ja Rule is more succesful then you'll...</td>\n",
              "    </tr>\n",
              "    <tr>\n",
              "      <th>1</th>\n",
              "      <td>0000247867823ef7</td>\n",
              "      <td>== From RfC == \\n\\n The title is fine as it is...</td>\n",
              "    </tr>\n",
              "    <tr>\n",
              "      <th>2</th>\n",
              "      <td>00013b17ad220c46</td>\n",
              "      <td>\" \\n\\n == Sources == \\n\\n * Zawe Ashton on Lap...</td>\n",
              "    </tr>\n",
              "    <tr>\n",
              "      <th>3</th>\n",
              "      <td>00017563c3f7919a</td>\n",
              "      <td>:If you have a look back at the source, the in...</td>\n",
              "    </tr>\n",
              "    <tr>\n",
              "      <th>4</th>\n",
              "      <td>00017695ad8997eb</td>\n",
              "      <td>I don't anonymously edit articles at all.</td>\n",
              "    </tr>\n",
              "  </tbody>\n",
              "</table>\n",
              "</div>"
            ],
            "text/plain": [
              "                 id                                       comment_text\n",
              "0  00001cee341fdb12  Yo bitch Ja Rule is more succesful then you'll...\n",
              "1  0000247867823ef7  == From RfC == \\n\\n The title is fine as it is...\n",
              "2  00013b17ad220c46  \" \\n\\n == Sources == \\n\\n * Zawe Ashton on Lap...\n",
              "3  00017563c3f7919a  :If you have a look back at the source, the in...\n",
              "4  00017695ad8997eb          I don't anonymously edit articles at all."
            ]
          },
          "execution_count": 23,
          "metadata": {},
          "output_type": "execute_result"
        }
      ],
      "source": [
        "test = pd.read_csv('../input/jigsaw-toxic-comment-classification-challenge/test.csv.zip', nrows = 100)\n",
        "test.head()"
      ]
    },
    {
      "cell_type": "code",
      "execution_count": null,
      "metadata": {
        "colab": {
          "base_uri": "https://localhost:8080/",
          "height": 206
        },
        "id": "-fhvYOwjmuW3",
        "outputId": "32bd57df-4fac-49e7-ea99-6b0c81e4d3f6",
        "tags": []
      },
      "outputs": [
        {
          "data": {
            "text/html": [
              "<div>\n",
              "<style scoped>\n",
              "    .dataframe tbody tr th:only-of-type {\n",
              "        vertical-align: middle;\n",
              "    }\n",
              "\n",
              "    .dataframe tbody tr th {\n",
              "        vertical-align: top;\n",
              "    }\n",
              "\n",
              "    .dataframe thead th {\n",
              "        text-align: right;\n",
              "    }\n",
              "</style>\n",
              "<table border=\"1\" class=\"dataframe\">\n",
              "  <thead>\n",
              "    <tr style=\"text-align: right;\">\n",
              "      <th></th>\n",
              "      <th>id</th>\n",
              "      <th>toxic</th>\n",
              "      <th>severe_toxic</th>\n",
              "      <th>obscene</th>\n",
              "      <th>threat</th>\n",
              "      <th>insult</th>\n",
              "      <th>identity_hate</th>\n",
              "    </tr>\n",
              "  </thead>\n",
              "  <tbody>\n",
              "    <tr>\n",
              "      <th>0</th>\n",
              "      <td>00001cee341fdb12</td>\n",
              "      <td>-1</td>\n",
              "      <td>-1</td>\n",
              "      <td>-1</td>\n",
              "      <td>-1</td>\n",
              "      <td>-1</td>\n",
              "      <td>-1</td>\n",
              "    </tr>\n",
              "    <tr>\n",
              "      <th>1</th>\n",
              "      <td>0000247867823ef7</td>\n",
              "      <td>-1</td>\n",
              "      <td>-1</td>\n",
              "      <td>-1</td>\n",
              "      <td>-1</td>\n",
              "      <td>-1</td>\n",
              "      <td>-1</td>\n",
              "    </tr>\n",
              "    <tr>\n",
              "      <th>2</th>\n",
              "      <td>00013b17ad220c46</td>\n",
              "      <td>-1</td>\n",
              "      <td>-1</td>\n",
              "      <td>-1</td>\n",
              "      <td>-1</td>\n",
              "      <td>-1</td>\n",
              "      <td>-1</td>\n",
              "    </tr>\n",
              "    <tr>\n",
              "      <th>3</th>\n",
              "      <td>00017563c3f7919a</td>\n",
              "      <td>-1</td>\n",
              "      <td>-1</td>\n",
              "      <td>-1</td>\n",
              "      <td>-1</td>\n",
              "      <td>-1</td>\n",
              "      <td>-1</td>\n",
              "    </tr>\n",
              "    <tr>\n",
              "      <th>4</th>\n",
              "      <td>00017695ad8997eb</td>\n",
              "      <td>-1</td>\n",
              "      <td>-1</td>\n",
              "      <td>-1</td>\n",
              "      <td>-1</td>\n",
              "      <td>-1</td>\n",
              "      <td>-1</td>\n",
              "    </tr>\n",
              "  </tbody>\n",
              "</table>\n",
              "</div>"
            ],
            "text/plain": [
              "                 id  toxic  severe_toxic  obscene  threat  insult  \\\n",
              "0  00001cee341fdb12     -1            -1       -1      -1      -1   \n",
              "1  0000247867823ef7     -1            -1       -1      -1      -1   \n",
              "2  00013b17ad220c46     -1            -1       -1      -1      -1   \n",
              "3  00017563c3f7919a     -1            -1       -1      -1      -1   \n",
              "4  00017695ad8997eb     -1            -1       -1      -1      -1   \n",
              "\n",
              "   identity_hate  \n",
              "0             -1  \n",
              "1             -1  \n",
              "2             -1  \n",
              "3             -1  \n",
              "4             -1  "
            ]
          },
          "execution_count": 24,
          "metadata": {},
          "output_type": "execute_result"
        }
      ],
      "source": [
        "test_labels = pd.read_csv('../input/jigsaw-toxic-comment-classification-challenge/test_labels.csv.zip', nrows = 10)\n",
        "test_labels.head()"
      ]
    },
    {
      "cell_type": "code",
      "execution_count": null,
      "metadata": {
        "colab": {
          "base_uri": "https://localhost:8080/",
          "height": 206
        },
        "id": "QuTCBGldmuW4",
        "outputId": "30be3bde-94ac-49b3-d537-a4d670ae93ee",
        "tags": []
      },
      "outputs": [
        {
          "data": {
            "text/html": [
              "<div>\n",
              "<style scoped>\n",
              "    .dataframe tbody tr th:only-of-type {\n",
              "        vertical-align: middle;\n",
              "    }\n",
              "\n",
              "    .dataframe tbody tr th {\n",
              "        vertical-align: top;\n",
              "    }\n",
              "\n",
              "    .dataframe thead th {\n",
              "        text-align: right;\n",
              "    }\n",
              "</style>\n",
              "<table border=\"1\" class=\"dataframe\">\n",
              "  <thead>\n",
              "    <tr style=\"text-align: right;\">\n",
              "      <th></th>\n",
              "      <th>id</th>\n",
              "      <th>toxic</th>\n",
              "      <th>severe_toxic</th>\n",
              "      <th>obscene</th>\n",
              "      <th>threat</th>\n",
              "      <th>insult</th>\n",
              "      <th>identity_hate</th>\n",
              "    </tr>\n",
              "  </thead>\n",
              "  <tbody>\n",
              "    <tr>\n",
              "      <th>0</th>\n",
              "      <td>00001cee341fdb12</td>\n",
              "      <td>0.5</td>\n",
              "      <td>0.5</td>\n",
              "      <td>0.5</td>\n",
              "      <td>0.5</td>\n",
              "      <td>0.5</td>\n",
              "      <td>0.5</td>\n",
              "    </tr>\n",
              "    <tr>\n",
              "      <th>1</th>\n",
              "      <td>0000247867823ef7</td>\n",
              "      <td>0.5</td>\n",
              "      <td>0.5</td>\n",
              "      <td>0.5</td>\n",
              "      <td>0.5</td>\n",
              "      <td>0.5</td>\n",
              "      <td>0.5</td>\n",
              "    </tr>\n",
              "    <tr>\n",
              "      <th>2</th>\n",
              "      <td>00013b17ad220c46</td>\n",
              "      <td>0.5</td>\n",
              "      <td>0.5</td>\n",
              "      <td>0.5</td>\n",
              "      <td>0.5</td>\n",
              "      <td>0.5</td>\n",
              "      <td>0.5</td>\n",
              "    </tr>\n",
              "    <tr>\n",
              "      <th>3</th>\n",
              "      <td>00017563c3f7919a</td>\n",
              "      <td>0.5</td>\n",
              "      <td>0.5</td>\n",
              "      <td>0.5</td>\n",
              "      <td>0.5</td>\n",
              "      <td>0.5</td>\n",
              "      <td>0.5</td>\n",
              "    </tr>\n",
              "    <tr>\n",
              "      <th>4</th>\n",
              "      <td>00017695ad8997eb</td>\n",
              "      <td>0.5</td>\n",
              "      <td>0.5</td>\n",
              "      <td>0.5</td>\n",
              "      <td>0.5</td>\n",
              "      <td>0.5</td>\n",
              "      <td>0.5</td>\n",
              "    </tr>\n",
              "  </tbody>\n",
              "</table>\n",
              "</div>"
            ],
            "text/plain": [
              "                 id  toxic  severe_toxic  obscene  threat  insult  \\\n",
              "0  00001cee341fdb12    0.5           0.5      0.5     0.5     0.5   \n",
              "1  0000247867823ef7    0.5           0.5      0.5     0.5     0.5   \n",
              "2  00013b17ad220c46    0.5           0.5      0.5     0.5     0.5   \n",
              "3  00017563c3f7919a    0.5           0.5      0.5     0.5     0.5   \n",
              "4  00017695ad8997eb    0.5           0.5      0.5     0.5     0.5   \n",
              "\n",
              "   identity_hate  \n",
              "0            0.5  \n",
              "1            0.5  \n",
              "2            0.5  \n",
              "3            0.5  \n",
              "4            0.5  "
            ]
          },
          "execution_count": 25,
          "metadata": {},
          "output_type": "execute_result"
        }
      ],
      "source": [
        "submission = pd.read_csv('../input/jigsaw-toxic-comment-classification-challenge/sample_submission.csv.zip', nrows = 10)\n",
        "submission.head()"
      ]
    },
    {
      "cell_type": "markdown",
      "metadata": {
        "id": "T_xZqbG5muW5"
      },
      "source": [
        "## 2. Summerize data\n",
        "### a. Descriptive statistics\n",
        "### Missing values"
      ]
    },
    {
      "cell_type": "code",
      "execution_count": null,
      "metadata": {
        "id": "Lxzj0uN1muW5",
        "tags": [],
        "outputId": "32a9eba4-b50d-4276-c95a-f3e846492ad0"
      },
      "outputs": [
        {
          "data": {
            "text/plain": [
              "id               0\n",
              "comment_text     0\n",
              "toxic            0\n",
              "severe_toxic     0\n",
              "obscene          0\n",
              "threat           0\n",
              "insult           0\n",
              "identity_hate    0\n",
              "dtype: int64"
            ]
          },
          "execution_count": 26,
          "metadata": {},
          "output_type": "execute_result"
        }
      ],
      "source": [
        "train.isnull().sum()"
      ]
    },
    {
      "cell_type": "code",
      "execution_count": null,
      "metadata": {
        "id": "iell3TvjmuW5",
        "tags": [],
        "outputId": "d5835c87-740a-4714-de3b-b3e08c4499e3"
      },
      "outputs": [
        {
          "data": {
            "text/plain": [
              "id              0\n",
              "comment_text    0\n",
              "dtype: int64"
            ]
          },
          "execution_count": 27,
          "metadata": {},
          "output_type": "execute_result"
        }
      ],
      "source": [
        "test.isnull().sum()"
      ]
    },
    {
      "cell_type": "markdown",
      "metadata": {
        "id": "9jBII84umuW6"
      },
      "source": [
        "Great! we have no missing value!\n",
        "### Distribution of each class in the train set and test labels\n",
        "Let's check how many of each category is found in our training data:"
      ]
    },
    {
      "cell_type": "code",
      "execution_count": null,
      "metadata": {
        "id": "XIrmmsm5muW6",
        "tags": [],
        "outputId": "5750e07b-cd04-4d52-c584-58b47495f184"
      },
      "outputs": [
        {
          "data": {
            "text/html": [
              "<div>\n",
              "<style scoped>\n",
              "    .dataframe tbody tr th:only-of-type {\n",
              "        vertical-align: middle;\n",
              "    }\n",
              "\n",
              "    .dataframe tbody tr th {\n",
              "        vertical-align: top;\n",
              "    }\n",
              "\n",
              "    .dataframe thead th {\n",
              "        text-align: right;\n",
              "    }\n",
              "</style>\n",
              "<table border=\"1\" class=\"dataframe\">\n",
              "  <thead>\n",
              "    <tr style=\"text-align: right;\">\n",
              "      <th></th>\n",
              "      <th>counts</th>\n",
              "    </tr>\n",
              "  </thead>\n",
              "  <tbody>\n",
              "    <tr>\n",
              "      <th>toxic</th>\n",
              "      <td>20</td>\n",
              "    </tr>\n",
              "    <tr>\n",
              "      <th>insult</th>\n",
              "      <td>12</td>\n",
              "    </tr>\n",
              "    <tr>\n",
              "      <th>obscene</th>\n",
              "      <td>11</td>\n",
              "    </tr>\n",
              "    <tr>\n",
              "      <th>severe_toxic</th>\n",
              "      <td>3</td>\n",
              "    </tr>\n",
              "    <tr>\n",
              "      <th>identity_hate</th>\n",
              "      <td>3</td>\n",
              "    </tr>\n",
              "    <tr>\n",
              "      <th>threat</th>\n",
              "      <td>2</td>\n",
              "    </tr>\n",
              "  </tbody>\n",
              "</table>\n",
              "</div>"
            ],
            "text/plain": [
              "               counts\n",
              "toxic              20\n",
              "insult             12\n",
              "obscene            11\n",
              "severe_toxic        3\n",
              "identity_hate       3\n",
              "threat              2"
            ]
          },
          "execution_count": 28,
          "metadata": {},
          "output_type": "execute_result"
        }
      ],
      "source": [
        "df_train = train.drop(['id', 'comment_text'], axis = 1)\n",
        "label_counts = df_train.sum()\n",
        "df_counts = pd.DataFrame(label_counts)\n",
        "df_counts.rename(columns = {0:'counts'}, inplace = True)\n",
        "df_counts = df_counts.sort_values('counts', ascending = False)\n",
        "df_counts"
      ]
    },
    {
      "cell_type": "code",
      "execution_count": null,
      "metadata": {
        "id": "gzPRaZi2muW6",
        "tags": [],
        "outputId": "8cd3b1d7-2152-4a3f-c952-6284c8f50c65"
      },
      "outputs": [
        {
          "data": {
            "image/png": "[encoded data removed]",
            "text/plain": [
              "<Figure size 800x400 with 1 Axes>"
            ]
          },
          "metadata": {},
          "output_type": "display_data"
        }
      ],
      "source": [
        "fig, ax = plt.subplots(figsize = (8,4))\n",
        "p = sns.barplot(x=df_counts.index, y=df_counts['counts'])\n",
        "x = plt.xticks(rotation = 60)\n",
        "ax.set_title('Toxic comment counts in '+ str(len(df_train))+ ' samples of data', weight = 'bold', fontsize = 18, y = 1.05)\n",
        "x = ax.set_ylabel('')"
      ]
    },
    {
      "cell_type": "markdown",
      "metadata": {
        "id": "svKNrYICmuW7"
      },
      "source": [
        "Relative percentage gives us a better understanding."
      ]
    },
    {
      "cell_type": "code",
      "execution_count": null,
      "metadata": {
        "id": "8aIkCcltmuW7",
        "tags": [],
        "outputId": "96887335-5e5c-44fb-cf7a-cf3fd3268d33"
      },
      "outputs": [
        {
          "data": {
            "text/plain": [
              "toxic            10.0\n",
              "severe_toxic      1.5\n",
              "obscene           5.5\n",
              "threat            1.0\n",
              "insult            6.0\n",
              "identity_hate     1.5\n",
              "dtype: float64"
            ]
          },
          "execution_count": 33,
          "metadata": {},
          "output_type": "execute_result"
        }
      ],
      "source": [
        "labels = np.round(df_train.sum()/len(df_train)*100, 1)\n",
        "labels"
      ]
    },
    {
      "cell_type": "code",
      "execution_count": null,
      "metadata": {
        "id": "lggRKwVbmuW7",
        "tags": [],
        "outputId": "26d9bc8d-16b0-4e23-8077-024e91e78575"
      },
      "outputs": [
        {
          "data": {
            "text/html": [
              "<div>\n",
              "<style scoped>\n",
              "    .dataframe tbody tr th:only-of-type {\n",
              "        vertical-align: middle;\n",
              "    }\n",
              "\n",
              "    .dataframe tbody tr th {\n",
              "        vertical-align: top;\n",
              "    }\n",
              "\n",
              "    .dataframe thead th {\n",
              "        text-align: right;\n",
              "    }\n",
              "</style>\n",
              "<table border=\"1\" class=\"dataframe\">\n",
              "  <thead>\n",
              "    <tr style=\"text-align: right;\">\n",
              "      <th></th>\n",
              "      <th>-1</th>\n",
              "      <th>0</th>\n",
              "    </tr>\n",
              "  </thead>\n",
              "  <tbody>\n",
              "    <tr>\n",
              "      <th>proportion</th>\n",
              "      <td>80.0</td>\n",
              "      <td>20.0</td>\n",
              "    </tr>\n",
              "    <tr>\n",
              "      <th>proportion</th>\n",
              "      <td>80.0</td>\n",
              "      <td>20.0</td>\n",
              "    </tr>\n",
              "    <tr>\n",
              "      <th>proportion</th>\n",
              "      <td>80.0</td>\n",
              "      <td>20.0</td>\n",
              "    </tr>\n",
              "    <tr>\n",
              "      <th>proportion</th>\n",
              "      <td>80.0</td>\n",
              "      <td>20.0</td>\n",
              "    </tr>\n",
              "    <tr>\n",
              "      <th>proportion</th>\n",
              "      <td>80.0</td>\n",
              "      <td>20.0</td>\n",
              "    </tr>\n",
              "    <tr>\n",
              "      <th>proportion</th>\n",
              "      <td>80.0</td>\n",
              "      <td>20.0</td>\n",
              "    </tr>\n",
              "  </tbody>\n",
              "</table>\n",
              "</div>"
            ],
            "text/plain": [
              "              -1     0\n",
              "proportion  80.0  20.0\n",
              "proportion  80.0  20.0\n",
              "proportion  80.0  20.0\n",
              "proportion  80.0  20.0\n",
              "proportion  80.0  20.0\n",
              "proportion  80.0  20.0"
            ]
          },
          "execution_count": 34,
          "metadata": {},
          "output_type": "execute_result"
        }
      ],
      "source": [
        "df_test_labels = test_labels.drop(['id'], axis = 1)\n",
        "count_values = lambda x: np.round(df_test_labels[x].value_counts(normalize = True)*100, 1)\n",
        "pd.DataFrame([count_values(col) for col in df_test_labels.columns.tolist()])"
      ]
    },
    {
      "cell_type": "code",
      "execution_count": null,
      "metadata": {
        "id": "xNKgAtwOmuW8",
        "tags": [],
        "outputId": "6c198914-d081-4135-de7c-7f9536aac931"
      },
      "outputs": [
        {
          "data": {
            "text/plain": [
              "((200, 8), (100, 2))"
            ]
          },
          "execution_count": 35,
          "metadata": {},
          "output_type": "execute_result"
        }
      ],
      "source": [
        "train.shape, test.shape"
      ]
    },
    {
      "cell_type": "markdown",
      "metadata": {
        "id": "IZGs2mwvmuW8"
      },
      "source": [
        "## 3. Prepare Data\n",
        "### a. Data cleaning\n",
        "We need to clean, tokenize and convert the data to tensors. <br>\n",
        "The function below helps us with:\n",
        "\n",
        "- Removing hyperlinks, punctuation and numbers\n",
        "- Tokenizeation\n",
        "\n",
        "We skip changing it all to lower case and keep the letters sensetive to case. The comment BAD!! has stronger negative emotion in it than bad!! <br>\n",
        "We also do not remove the stop words, Since with contextual models such as BERT and ROBERTA it is (almost) always better not to process the texts removing stopwords. These models are pretrained with stopwords: if you remove stop words your model may lose the context. This is also true for stemming and lemmatization preprocessing techniques. So we skip them too!"
      ]
    },
    {
      "cell_type": "code",
      "execution_count": null,
      "metadata": {
        "id": "pCJzcTTymuW8",
        "tags": []
      },
      "outputs": [],
      "source": [
        "# text preprocessing helper functions [1]\n",
        "\n",
        "def clean_text(text):\n",
        "    '''Make text lowercase, remove text in square brackets,remove links,remove punctuation\n",
        "    and remove words containing numbers.'''\n",
        "    #text = text.lower()\n",
        "\n",
        "    #pattern = [zero or more character]\n",
        "    text = re.sub('\\[.*?\\]', '', text)\n",
        "\n",
        "    #pattern = with or without(http),://, one or more non-white space character, OR www, .,one or more non-white space character\n",
        "    text = re.sub('https?://\\S+|www\\.\\S+', '', text)\n",
        "\n",
        "    #pattern = <, zero or more characters, >, (one or more occurance of >)\n",
        "    text = re.sub('<.*?>+', '', text)\n",
        "\n",
        "    #pattern = any punctionation\n",
        "    text = re.sub('[%s]' % re.escape(string.punctuation), '', text)\n",
        "\n",
        "    #pattern = any new line\n",
        "    text = re.sub('\\n', '', text)\n",
        "\n",
        "    #pattern = any from[a-zA-Z0-9_], any from[0-9], any from [a-zA-Z0-9_]\n",
        "    text = re.sub('\\w*\\d\\w*', '', text)\n",
        "    return text"
      ]
    },
    {
      "cell_type": "code",
      "execution_count": null,
      "metadata": {
        "id": "IgLFznefmuW9",
        "tags": [],
        "outputId": "73d97b3d-fa61-45ef-a574-08e8bff7b7b5"
      },
      "outputs": [
        {
          "name": "stdout",
          "output_type": "stream",
          "text": [
            "CPU times: user 19 ms, sys: 3.58 ms, total: 22.6 ms\n",
            "Wall time: 29.4 ms\n"
          ]
        }
      ],
      "source": [
        "%%time\n",
        "train['clean_text'] = train['comment_text'].apply(str).apply(lambda x: clean_text(x))\n",
        "test['clean_text'] = test['comment_text'].apply(str).apply(lambda x: clean_text(x))"
      ]
    },
    {
      "cell_type": "markdown",
      "metadata": {
        "id": "RzOcvWfKmuW-"
      },
      "source": [
        "### b. Dataset and Dataloader\n",
        "We use 20% of the training data as validation set."
      ]
    },
    {
      "cell_type": "code",
      "execution_count": null,
      "metadata": {
        "id": "jXN8kIXPmuW-",
        "tags": [],
        "outputId": "f9acc1b9-27cc-4b38-82a9-53cf94e0bbfc"
      },
      "outputs": [
        {
          "data": {
            "text/plain": [
              "Index([0, 1, 2, 3, 4, 0, 1, 2, 3, 4,\n",
              "       ...\n",
              "       0, 1, 2, 3, 4, 0, 1, 2, 3, 4],\n",
              "      dtype='int64', length=200)"
            ]
          },
          "execution_count": 38,
          "metadata": {},
          "output_type": "execute_result"
        }
      ],
      "source": [
        "kfold = 5\n",
        "train['kfold'] = train.index % kfold\n",
        "train.index % kfold"
      ]
    },
    {
      "cell_type": "code",
      "execution_count": null,
      "metadata": {
        "id": "k_Sdqz0MmuW-",
        "tags": []
      },
      "outputs": [],
      "source": [
        "#reset_index creates a column with the name of 'index' and saves the old index values in it and updates the values of index.\n",
        "#drop = True removes the column 'index' with the old index values.\n",
        "p_train = train[train[\"kfold\"] != 0].reset_index(drop = True)\n",
        "p_valid = train[train[\"kfold\"] == 0].reset_index(drop = True)"
      ]
    },
    {
      "cell_type": "code",
      "execution_count": null,
      "metadata": {
        "id": "3iCgCQp6muW_",
        "tags": [],
        "outputId": "ebf31077-903c-4c59-e33b-54f310c5e800"
      },
      "outputs": [
        {
          "data": {
            "text/html": [
              "<div>\n",
              "<style scoped>\n",
              "    .dataframe tbody tr th:only-of-type {\n",
              "        vertical-align: middle;\n",
              "    }\n",
              "\n",
              "    .dataframe tbody tr th {\n",
              "        vertical-align: top;\n",
              "    }\n",
              "\n",
              "    .dataframe thead th {\n",
              "        text-align: right;\n",
              "    }\n",
              "</style>\n",
              "<table border=\"1\" class=\"dataframe\">\n",
              "  <thead>\n",
              "    <tr style=\"text-align: right;\">\n",
              "      <th></th>\n",
              "      <th>id</th>\n",
              "      <th>comment_text</th>\n",
              "      <th>toxic</th>\n",
              "      <th>severe_toxic</th>\n",
              "      <th>obscene</th>\n",
              "      <th>threat</th>\n",
              "      <th>insult</th>\n",
              "      <th>identity_hate</th>\n",
              "      <th>clean_text</th>\n",
              "      <th>kfold</th>\n",
              "    </tr>\n",
              "  </thead>\n",
              "  <tbody>\n",
              "    <tr>\n",
              "      <th>0</th>\n",
              "      <td>000103f0d9cfb60f</td>\n",
              "      <td>D'aww! He matches this background colour I'm s...</td>\n",
              "      <td>0</td>\n",
              "      <td>0</td>\n",
              "      <td>0</td>\n",
              "      <td>0</td>\n",
              "      <td>0</td>\n",
              "      <td>0</td>\n",
              "      <td>Daww He matches this background colour Im seem...</td>\n",
              "      <td>1</td>\n",
              "    </tr>\n",
              "    <tr>\n",
              "      <th>1</th>\n",
              "      <td>000113f07ec002fd</td>\n",
              "      <td>Hey man, I'm really not trying to edit war. It...</td>\n",
              "      <td>0</td>\n",
              "      <td>0</td>\n",
              "      <td>0</td>\n",
              "      <td>0</td>\n",
              "      <td>0</td>\n",
              "      <td>0</td>\n",
              "      <td>Hey man Im really not trying to edit war Its j...</td>\n",
              "      <td>2</td>\n",
              "    </tr>\n",
              "    <tr>\n",
              "      <th>2</th>\n",
              "      <td>0001b41b1c6bb37e</td>\n",
              "      <td>\"\\nMore\\nI can't make any real suggestions on ...</td>\n",
              "      <td>0</td>\n",
              "      <td>0</td>\n",
              "      <td>0</td>\n",
              "      <td>0</td>\n",
              "      <td>0</td>\n",
              "      <td>0</td>\n",
              "      <td>MoreI cant make any real suggestions on improv...</td>\n",
              "      <td>3</td>\n",
              "    </tr>\n",
              "    <tr>\n",
              "      <th>3</th>\n",
              "      <td>0001d958c54c6e35</td>\n",
              "      <td>You, sir, are my hero. Any chance you remember...</td>\n",
              "      <td>0</td>\n",
              "      <td>0</td>\n",
              "      <td>0</td>\n",
              "      <td>0</td>\n",
              "      <td>0</td>\n",
              "      <td>0</td>\n",
              "      <td>You sir are my hero Any chance you remember wh...</td>\n",
              "      <td>4</td>\n",
              "    </tr>\n",
              "    <tr>\n",
              "      <th>4</th>\n",
              "      <td>0002bcb3da6cb337</td>\n",
              "      <td>COCKSUCKER BEFORE YOU PISS AROUND ON MY WORK</td>\n",
              "      <td>1</td>\n",
              "      <td>1</td>\n",
              "      <td>1</td>\n",
              "      <td>0</td>\n",
              "      <td>1</td>\n",
              "      <td>0</td>\n",
              "      <td>COCKSUCKER BEFORE YOU PISS AROUND ON MY WORK</td>\n",
              "      <td>1</td>\n",
              "    </tr>\n",
              "  </tbody>\n",
              "</table>\n",
              "</div>"
            ],
            "text/plain": [
              "                 id                                       comment_text  toxic  \\\n",
              "0  000103f0d9cfb60f  D'aww! He matches this background colour I'm s...      0   \n",
              "1  000113f07ec002fd  Hey man, I'm really not trying to edit war. It...      0   \n",
              "2  0001b41b1c6bb37e  \"\\nMore\\nI can't make any real suggestions on ...      0   \n",
              "3  0001d958c54c6e35  You, sir, are my hero. Any chance you remember...      0   \n",
              "4  0002bcb3da6cb337       COCKSUCKER BEFORE YOU PISS AROUND ON MY WORK      1   \n",
              "\n",
              "   severe_toxic  obscene  threat  insult  identity_hate  \\\n",
              "0             0        0       0       0              0   \n",
              "1             0        0       0       0              0   \n",
              "2             0        0       0       0              0   \n",
              "3             0        0       0       0              0   \n",
              "4             1        1       0       1              0   \n",
              "\n",
              "                                          clean_text  kfold  \n",
              "0  Daww He matches this background colour Im seem...      1  \n",
              "1  Hey man Im really not trying to edit war Its j...      2  \n",
              "2  MoreI cant make any real suggestions on improv...      3  \n",
              "3  You sir are my hero Any chance you remember wh...      4  \n",
              "4       COCKSUCKER BEFORE YOU PISS AROUND ON MY WORK      1  "
            ]
          },
          "execution_count": 40,
          "metadata": {},
          "output_type": "execute_result"
        }
      ],
      "source": [
        "p_train.head()"
      ]
    },
    {
      "cell_type": "code",
      "execution_count": null,
      "metadata": {
        "id": "MbZGilDfmuXA",
        "tags": [],
        "outputId": "51590687-b6de-429a-e6a8-2ca6f81182f3",
        "colab": {
          "referenced_widgets": [
            "d44beeb4b1614f189bde2568c138517d",
            "a305dd85c7694c13a11f2092a03fc20d",
            "ba5963227d424894aabbdfad608c6062",
            "3042825357d343b494c4ba2bc5becf6d"
          ]
        }
      },
      "outputs": [
        {
          "data": {
            "application/vnd.jupyter.widget-view+json": {
              "model_id": "d44beeb4b1614f189bde2568c138517d",
              "version_major": 2,
              "version_minor": 0
            },
            "text/plain": [
              "tokenizer_config.json:   0%|          | 0.00/49.0 [00:00<?, ?B/s]"
            ]
          },
          "metadata": {},
          "output_type": "display_data"
        },
        {
          "data": {
            "application/vnd.jupyter.widget-view+json": {
              "model_id": "a305dd85c7694c13a11f2092a03fc20d",
              "version_major": 2,
              "version_minor": 0
            },
            "text/plain": [
              "vocab.txt:   0%|          | 0.00/213k [00:00<?, ?B/s]"
            ]
          },
          "metadata": {},
          "output_type": "display_data"
        },
        {
          "data": {
            "application/vnd.jupyter.widget-view+json": {
              "model_id": "ba5963227d424894aabbdfad608c6062",
              "version_major": 2,
              "version_minor": 0
            },
            "text/plain": [
              "tokenizer.json:   0%|          | 0.00/436k [00:00<?, ?B/s]"
            ]
          },
          "metadata": {},
          "output_type": "display_data"
        },
        {
          "data": {
            "application/vnd.jupyter.widget-view+json": {
              "model_id": "3042825357d343b494c4ba2bc5becf6d",
              "version_major": 2,
              "version_minor": 0
            },
            "text/plain": [
              "config.json:   0%|          | 0.00/570 [00:00<?, ?B/s]"
            ]
          },
          "metadata": {},
          "output_type": "display_data"
        }
      ],
      "source": [
        "tokenizer = transformers.BertTokenizer.from_pretrained('bert-base-cased')"
      ]
    },
    {
      "cell_type": "code",
      "execution_count": null,
      "metadata": {
        "id": "UDXlAhLhmuXA",
        "tags": [],
        "outputId": "4f7b4fd9-8bce-482b-ebba-fe883d174d50"
      },
      "outputs": [
        {
          "name": "stderr",
          "output_type": "stream",
          "text": [
            "  0%|          | 0/160 [00:00<?, ?it/s]Token indices sequence length is longer than the specified maximum sequence length for this model (541 > 512). Running this sequence through the model will result in indexing errors\n",
            "100%|██████████| 160/160 [00:00<00:00, 783.57it/s]"
          ]
        },
        {
          "name": "stdout",
          "output_type": "stream",
          "text": [
            "CPU times: user 176 ms, sys: 0 ns, total: 176 ms\n",
            "Wall time: 207 ms\n"
          ]
        },
        {
          "name": "stderr",
          "output_type": "stream",
          "text": [
            "\n"
          ]
        }
      ],
      "source": [
        "%%time\n",
        "senten_len = []\n",
        "for sentence in tqdm(p_train['clean_text']):\n",
        "    token_words = tokenizer.encode_plus(sentence)['input_ids']\n",
        "    senten_len.append(len(token_words))"
      ]
    },
    {
      "cell_type": "markdown",
      "metadata": {
        "id": "CX8O_rjPmuXA"
      },
      "source": [
        "We'll have a look at the distribution of the length for tokenized comments to have an intuation about what to set as max_length for our tokenized comments."
      ]
    },
    {
      "cell_type": "code",
      "execution_count": null,
      "metadata": {
        "id": "XPNkyU7rmuXB",
        "tags": [],
        "outputId": "9948bed0-9f9f-490d-d671-0b07967bcd1c"
      },
      "outputs": [
        {
          "data": {
            "text/plain": [
              "Text(0.5, 0, 'Tocken count')"
            ]
          },
          "execution_count": 43,
          "metadata": {},
          "output_type": "execute_result"
        },
        {
          "data": {
            "image/png": "[encoded data removed]",
            "text/plain": [
              "<Figure size 640x480 with 1 Axes>"
            ]
          },
          "metadata": {},
          "output_type": "display_data"
        }
      ],
      "source": [
        "sns.distplot(senten_len)\n",
        "plt.xlim([0, 300])\n",
        "plt.xlabel('Tocken count')"
      ]
    },
    {
      "cell_type": "markdown",
      "metadata": {
        "id": "Ghvh4yiqmuXB"
      },
      "source": [
        "It seems that 200 is good size move on with."
      ]
    },
    {
      "cell_type": "code",
      "execution_count": null,
      "metadata": {
        "id": "tdB8lrAomuXB",
        "tags": []
      },
      "outputs": [],
      "source": [
        "max_len = 200"
      ]
    },
    {
      "cell_type": "markdown",
      "metadata": {
        "id": "tO05VKWZmuXB"
      },
      "source": [
        "We define a class BertDataSet with Dataset as super class and overwirte the__init_, __ len__ and __ getitem__ function in it. It will get the comment list and relevant toxic labels (6 labels in this case) and creates token ids and attention mask to distinguish the comments from the zero padding.\n",
        "\n",
        "**torch.tensor vs np.ndarray:** <br>\n",
        "If you are only interested in efficient and easy way to perform mathematical operations on matrices np.ndarray or torch.tensor can be used interchangeably.\n",
        "\n",
        "However, torch.tensors are designed to be used in the context of gradient descent optimization, and therefore they hold not only a tensor with numeric values, but (and more importantly) the computational graph leading to these values. This computational graph is then used (using the chain rule of derivatives) to compute the derivative of the loss function w.r.t each of the independent variables used to compute the loss.\n",
        "\n",
        "As mentioned before, np.ndarray object does not have this extra \"computational graph\" layer and therefore, when converting a torch.tensor to np.ndarray you must explicitly remove the computational graph of the tensor using the detach() command."
      ]
    },
    {
      "cell_type": "code",
      "execution_count": null,
      "metadata": {
        "id": "VBYrxvcHmuXK",
        "tags": []
      },
      "outputs": [],
      "source": [
        "class BertDataSet(Dataset):\n",
        "\n",
        "    def __init__(self, sentences, toxic_labels):\n",
        "        self.sentences = sentences\n",
        "        #target is a matrix with shape [#1 x #6(toxic, obscene, etc)]\n",
        "        self.targets = toxic_labels.to_numpy()\n",
        "\n",
        "    def __len__(self):\n",
        "        return len(self.sentences)\n",
        "\n",
        "\n",
        "    def __getitem__(self, idx):\n",
        "        sentence = self.sentences[idx]\n",
        "        bert_senten = tokenizer.encode_plus(sentence,\n",
        "                                            add_special_tokens = True, # [CLS],[SEP]\n",
        "                                            max_length = max_len,\n",
        "                                            pad_to_max_length = True,\n",
        "                                            truncation = True,\n",
        "                                            return_attention_mask = True\n",
        "                                             )\n",
        "        ids = torch.tensor(bert_senten['input_ids'], dtype = torch.long)\n",
        "        mask = torch.tensor(bert_senten['attention_mask'], dtype = torch.long)\n",
        "        toxic_label = torch.tensor(self.targets[idx], dtype = torch.float)\n",
        "\n",
        "\n",
        "        return {\n",
        "            'ids' : ids,\n",
        "            'mask' : mask,\n",
        "            'toxic_label':toxic_label\n",
        "        }"
      ]
    },
    {
      "cell_type": "code",
      "execution_count": null,
      "metadata": {
        "id": "Z3ATXEhFmuXN",
        "tags": []
      },
      "outputs": [],
      "source": [
        "train_dataset = BertDataSet(p_train['clean_text'], p_train[['toxic', 'severe_toxic','obscene', 'threat', 'insult','identity_hate']])\n",
        "valid_dataset = BertDataSet(p_valid['clean_text'], p_valid[['toxic', 'severe_toxic','obscene', 'threat', 'insult','identity_hate']])"
      ]
    },
    {
      "cell_type": "markdown",
      "metadata": {
        "id": "dYN6JYMRmuXN"
      },
      "source": [
        "Let's have a look what's inside a dataset:"
      ]
    },
    {
      "cell_type": "code",
      "execution_count": null,
      "metadata": {
        "id": "E43XiAqymuXO",
        "tags": [],
        "outputId": "3ac7777f-b653-4c01-b47d-13373d98b95e"
      },
      "outputs": [
        {
          "name": "stdout",
          "output_type": "stream",
          "text": [
            "{'ids': tensor([  101, 10136,  2246,  2246,  1124,  2697,  1142,  3582,  5922,   146,\n",
            "         1306,  9321,  5342,  1114,  5749,  2037,  1356, 11390,   102,     0,\n",
            "            0,     0,     0,     0,     0,     0,     0,     0,     0,     0,\n",
            "            0,     0,     0,     0,     0,     0,     0,     0,     0,     0,\n",
            "            0,     0,     0,     0,     0,     0,     0,     0,     0,     0,\n",
            "            0,     0,     0,     0,     0,     0,     0,     0,     0,     0,\n",
            "            0,     0,     0,     0,     0,     0,     0,     0,     0,     0,\n",
            "            0,     0,     0,     0,     0,     0,     0,     0,     0,     0,\n",
            "            0,     0,     0,     0,     0,     0,     0,     0,     0,     0,\n",
            "            0,     0,     0,     0,     0,     0,     0,     0,     0,     0,\n",
            "            0,     0,     0,     0,     0,     0,     0,     0,     0,     0,\n",
            "            0,     0,     0,     0,     0,     0,     0,     0,     0,     0,\n",
            "            0,     0,     0,     0,     0,     0,     0,     0,     0,     0,\n",
            "            0,     0,     0,     0,     0,     0,     0,     0,     0,     0,\n",
            "            0,     0,     0,     0,     0,     0,     0,     0,     0,     0,\n",
            "            0,     0,     0,     0,     0,     0,     0,     0,     0,     0,\n",
            "            0,     0,     0,     0,     0,     0,     0,     0,     0,     0,\n",
            "            0,     0,     0,     0,     0,     0,     0,     0,     0,     0,\n",
            "            0,     0,     0,     0,     0,     0,     0,     0,     0,     0,\n",
            "            0,     0,     0,     0,     0,     0,     0,     0,     0,     0]), 'mask': tensor([1, 1, 1, 1, 1, 1, 1, 1, 1, 1, 1, 1, 1, 1, 1, 1, 1, 1, 1, 0, 0, 0, 0, 0,\n",
            "        0, 0, 0, 0, 0, 0, 0, 0, 0, 0, 0, 0, 0, 0, 0, 0, 0, 0, 0, 0, 0, 0, 0, 0,\n",
            "        0, 0, 0, 0, 0, 0, 0, 0, 0, 0, 0, 0, 0, 0, 0, 0, 0, 0, 0, 0, 0, 0, 0, 0,\n",
            "        0, 0, 0, 0, 0, 0, 0, 0, 0, 0, 0, 0, 0, 0, 0, 0, 0, 0, 0, 0, 0, 0, 0, 0,\n",
            "        0, 0, 0, 0, 0, 0, 0, 0, 0, 0, 0, 0, 0, 0, 0, 0, 0, 0, 0, 0, 0, 0, 0, 0,\n",
            "        0, 0, 0, 0, 0, 0, 0, 0, 0, 0, 0, 0, 0, 0, 0, 0, 0, 0, 0, 0, 0, 0, 0, 0,\n",
            "        0, 0, 0, 0, 0, 0, 0, 0, 0, 0, 0, 0, 0, 0, 0, 0, 0, 0, 0, 0, 0, 0, 0, 0,\n",
            "        0, 0, 0, 0, 0, 0, 0, 0, 0, 0, 0, 0, 0, 0, 0, 0, 0, 0, 0, 0, 0, 0, 0, 0,\n",
            "        0, 0, 0, 0, 0, 0, 0, 0]), 'toxic_label': tensor([0., 0., 0., 0., 0., 0.])}\n"
          ]
        }
      ],
      "source": [
        "for a in train_dataset:\n",
        "    print(a)\n",
        "    break"
      ]
    },
    {
      "cell_type": "markdown",
      "metadata": {
        "id": "h64FuJK5muXO"
      },
      "source": [
        "Now we set the batch-size for trainig set and validation set. The bigger batch size helps to speed up the computations. However, the results confirm that using small batch sizes achieves the best generalization performance, for a given computation cost. In all cases, the best results have been obtained with batch sizes of 32 or smaller. Often mini-batch sizes as small as 2 or 4 deliver optimal results."
      ]
    },
    {
      "cell_type": "code",
      "execution_count": null,
      "metadata": {
        "id": "FfCH9rdOmuXO",
        "tags": []
      },
      "outputs": [],
      "source": [
        "train_batch = 32\n",
        "valid_batch = 32"
      ]
    },
    {
      "cell_type": "markdown",
      "metadata": {
        "id": "R_0jRNkqmuXP"
      },
      "source": [
        "In the code below pin_memory = True to a DataLoader will automatically put the fetched data Tensors in pinned memory,\n",
        "and thus enables faster data transfer to CUDA-enabled GPUs. This is best explained in the [NVIDIA blogpost](https://developer.nvidia.com/blog/how-optimize-data-transfers-cuda-cc/). I will borrow the picture from it.<br>\n",
        "num_workers as a positive integer will turn on multi-process data loading with the specified number of loader worker processesm"
      ]
    },
    {
      "cell_type": "code",
      "execution_count": null,
      "metadata": {
        "id": "BGqPYIjomuXP",
        "tags": []
      },
      "outputs": [],
      "source": [
        "train_dataloader = DataLoader(train_dataset, batch_size = train_batch, pin_memory = True, num_workers = 4, shuffle = True)\n",
        "valid_dataloader = DataLoader(valid_dataset, batch_size = valid_batch, pin_memory = True, num_workers = 4, shuffle = False)"
      ]
    },
    {
      "cell_type": "markdown",
      "metadata": {
        "id": "7sfOs9nxmuXP"
      },
      "source": [
        "Here we can check inside the dataloader:"
      ]
    },
    {
      "cell_type": "code",
      "execution_count": null,
      "metadata": {
        "id": "E2JG7U23muXQ",
        "tags": [],
        "outputId": "37b6445a-0c4c-47ba-8fbc-a6cbc7938d1d"
      },
      "outputs": [
        {
          "name": "stdout",
          "output_type": "stream",
          "text": [
            "{'ids': tensor([[  101,  1192,  1169,  ...,     0,     0,     0],\n",
            "        [  101,  1573,  2158,  ...,     0,     0,     0],\n",
            "        [  101, 20173,  4960,  ...,     0,     0,     0],\n",
            "        ...,\n",
            "        [  101,  8790, 16409,  ...,     0,     0,     0],\n",
            "        [  101, 19585, 26918,  ...,  1132,  7173,   102],\n",
            "        [  101,  2181,  1122,  ...,  1775,  3118,   102]]), 'mask': tensor([[1, 1, 1,  ..., 0, 0, 0],\n",
            "        [1, 1, 1,  ..., 0, 0, 0],\n",
            "        [1, 1, 1,  ..., 0, 0, 0],\n",
            "        ...,\n",
            "        [1, 1, 1,  ..., 0, 0, 0],\n",
            "        [1, 1, 1,  ..., 1, 1, 1],\n",
            "        [1, 1, 1,  ..., 1, 1, 1]]), 'toxic_label': tensor([[0., 0., 0., 0., 0., 0.],\n",
            "        [0., 0., 0., 0., 0., 0.],\n",
            "        [0., 0., 0., 0., 0., 0.],\n",
            "        [0., 0., 0., 0., 0., 0.],\n",
            "        [0., 0., 0., 0., 0., 0.],\n",
            "        [0., 0., 0., 0., 0., 0.],\n",
            "        [0., 0., 0., 0., 0., 0.],\n",
            "        [0., 0., 0., 0., 0., 0.],\n",
            "        [1., 1., 1., 0., 1., 0.],\n",
            "        [0., 0., 0., 0., 0., 0.],\n",
            "        [0., 0., 0., 0., 0., 0.],\n",
            "        [0., 0., 0., 0., 0., 0.],\n",
            "        [0., 0., 0., 0., 0., 0.],\n",
            "        [0., 0., 0., 0., 0., 0.],\n",
            "        [0., 0., 0., 0., 0., 0.],\n",
            "        [0., 0., 0., 0., 0., 0.],\n",
            "        [1., 0., 0., 0., 0., 0.],\n",
            "        [0., 0., 0., 0., 0., 0.],\n",
            "        [0., 0., 0., 0., 0., 0.],\n",
            "        [0., 0., 0., 0., 0., 0.],\n",
            "        [0., 0., 0., 0., 0., 0.],\n",
            "        [0., 0., 0., 0., 0., 0.],\n",
            "        [0., 0., 0., 0., 0., 0.],\n",
            "        [0., 0., 0., 0., 0., 0.],\n",
            "        [0., 0., 0., 0., 0., 0.],\n",
            "        [0., 0., 0., 0., 0., 0.],\n",
            "        [0., 0., 0., 0., 0., 0.],\n",
            "        [1., 0., 0., 0., 0., 0.],\n",
            "        [0., 0., 0., 0., 0., 0.],\n",
            "        [0., 0., 0., 0., 0., 0.],\n",
            "        [0., 0., 0., 0., 0., 0.],\n",
            "        [0., 0., 0., 0., 0., 0.]])}\n",
            "id shape in data laoder is torch.Size([32, 200])\n",
            "CPU times: user 23.4 ms, sys: 42.3 ms, total: 65.7 ms\n",
            "Wall time: 998 ms\n"
          ]
        }
      ],
      "source": [
        "%%time\n",
        "for a in train_dataloader:\n",
        "    print(a)\n",
        "    print('id shape in data laoder is',a['ids'].shape)\n",
        "    break"
      ]
    },
    {
      "cell_type": "markdown",
      "metadata": {
        "id": "cnaDCp7RmuXQ"
      },
      "source": [
        "## 4. BERT Modeling\n",
        "For faster computation, let's set the device cuda if it is available."
      ]
    },
    {
      "cell_type": "code",
      "execution_count": null,
      "metadata": {
        "id": "hpEFlQ83muXQ",
        "tags": [],
        "outputId": "3e0c2ddb-34d5-42de-af3a-4149973b218a"
      },
      "outputs": [
        {
          "data": {
            "text/plain": [
              "device(type='cpu')"
            ]
          },
          "execution_count": 51,
          "metadata": {},
          "output_type": "execute_result"
        }
      ],
      "source": [
        "device = torch.device('cuda' if torch.cuda.is_available() else 'cpu')\n",
        "device"
      ]
    },
    {
      "cell_type": "code",
      "execution_count": null,
      "metadata": {
        "id": "idV2u3jRmuXQ",
        "tags": [],
        "outputId": "305ac344-825d-4420-dfae-c11bcb32e06c",
        "colab": {
          "referenced_widgets": [
            "a53a8f20a029441f86f57fca98cf81e3"
          ]
        }
      },
      "outputs": [
        {
          "data": {
            "application/vnd.jupyter.widget-view+json": {
              "model_id": "a53a8f20a029441f86f57fca98cf81e3",
              "version_major": 2,
              "version_minor": 0
            },
            "text/plain": [
              "model.safetensors:   0%|          | 0.00/436M [00:00<?, ?B/s]"
            ]
          },
          "metadata": {},
          "output_type": "display_data"
        },
        {
          "name": "stderr",
          "output_type": "stream",
          "text": [
            "Some weights of BertForSequenceClassification were not initialized from the model checkpoint at bert-base-cased and are newly initialized: ['classifier.bias', 'classifier.weight']\n",
            "You should probably TRAIN this model on a down-stream task to be able to use it for predictions and inference.\n"
          ]
        },
        {
          "name": "stdout",
          "output_type": "stream",
          "text": [
            "CPU times: user 1.83 s, sys: 859 ms, total: 2.69 s\n",
            "Wall time: 3.59 s\n"
          ]
        },
        {
          "data": {
            "text/plain": [
              "BertForSequenceClassification(\n",
              "  (bert): BertModel(\n",
              "    (embeddings): BertEmbeddings(\n",
              "      (word_embeddings): Embedding(28996, 768, padding_idx=0)\n",
              "      (position_embeddings): Embedding(512, 768)\n",
              "      (token_type_embeddings): Embedding(2, 768)\n",
              "      (LayerNorm): LayerNorm((768,), eps=1e-12, elementwise_affine=True)\n",
              "      (dropout): Dropout(p=0.1, inplace=False)\n",
              "    )\n",
              "    (encoder): BertEncoder(\n",
              "      (layer): ModuleList(\n",
              "        (0-11): 12 x BertLayer(\n",
              "          (attention): BertAttention(\n",
              "            (self): BertSelfAttention(\n",
              "              (query): Linear(in_features=768, out_features=768, bias=True)\n",
              "              (key): Linear(in_features=768, out_features=768, bias=True)\n",
              "              (value): Linear(in_features=768, out_features=768, bias=True)\n",
              "              (dropout): Dropout(p=0.1, inplace=False)\n",
              "            )\n",
              "            (output): BertSelfOutput(\n",
              "              (dense): Linear(in_features=768, out_features=768, bias=True)\n",
              "              (LayerNorm): LayerNorm((768,), eps=1e-12, elementwise_affine=True)\n",
              "              (dropout): Dropout(p=0.1, inplace=False)\n",
              "            )\n",
              "          )\n",
              "          (intermediate): BertIntermediate(\n",
              "            (dense): Linear(in_features=768, out_features=3072, bias=True)\n",
              "            (intermediate_act_fn): GELUActivation()\n",
              "          )\n",
              "          (output): BertOutput(\n",
              "            (dense): Linear(in_features=3072, out_features=768, bias=True)\n",
              "            (LayerNorm): LayerNorm((768,), eps=1e-12, elementwise_affine=True)\n",
              "            (dropout): Dropout(p=0.1, inplace=False)\n",
              "          )\n",
              "        )\n",
              "      )\n",
              "    )\n",
              "    (pooler): BertPooler(\n",
              "      (dense): Linear(in_features=768, out_features=768, bias=True)\n",
              "      (activation): Tanh()\n",
              "    )\n",
              "  )\n",
              "  (dropout): Dropout(p=0.1, inplace=False)\n",
              "  (classifier): Linear(in_features=768, out_features=6, bias=True)\n",
              ")"
            ]
          },
          "execution_count": 52,
          "metadata": {},
          "output_type": "execute_result"
        }
      ],
      "source": [
        "%%time\n",
        "model = transformers.BertForSequenceClassification.from_pretrained('bert-base-cased', num_labels = 6)\n",
        "model.to(device)\n",
        "model.train()"
      ]
    },
    {
      "cell_type": "markdown",
      "metadata": {
        "id": "GrdeSHa5muXR"
      },
      "source": [
        "The model makes use of id and mask from token encoding in the trian set. At this state, there is no need to feed in the model with the target values such as toxic, obscene, etc."
      ]
    },
    {
      "cell_type": "code",
      "execution_count": null,
      "metadata": {
        "id": "mtWaCAb4muXS",
        "tags": [],
        "outputId": "5331a39d-857e-4416-bf0a-40989e560f83"
      },
      "outputs": [
        {
          "name": "stdout",
          "output_type": "stream",
          "text": [
            "CPU times: user 14.2 s, sys: 6.27 s, total: 20.4 s\n",
            "Wall time: 13.8 s\n"
          ]
        }
      ],
      "source": [
        "%%time\n",
        "for a in train_dataloader:\n",
        "    ids = a['ids'].to(device)\n",
        "    mask = a['mask'].to(device)\n",
        "    output = model(ids, mask)\n",
        "    break"
      ]
    },
    {
      "cell_type": "code",
      "execution_count": null,
      "metadata": {
        "id": "TWI-gNx4muXS",
        "tags": [],
        "outputId": "699bc9a6-05fd-44ce-ea01-fcc66afbac6e"
      },
      "outputs": [
        {
          "data": {
            "text/plain": [
              "SequenceClassifierOutput(loss=None, logits=tensor([[ 0.3815,  0.4464,  0.0939, -0.7846, -0.3709, -0.4193],\n",
              "        [ 0.7494,  0.3200,  0.1359, -0.8429, -0.2012, -0.1883],\n",
              "        [ 0.6118,  0.3596,  0.1714, -0.6639, -0.3607, -0.3531],\n",
              "        [ 0.6472,  0.2263, -0.0137, -0.3388, -0.4653, -0.0912],\n",
              "        [ 0.8247,  0.3835,  0.3213, -0.7171, -0.1386,  0.1744],\n",
              "        [ 0.3072,  0.0400,  0.1078, -0.6001, -0.2020,  0.0542],\n",
              "        [ 0.5474,  0.1405,  0.1599, -0.4739, -0.1076, -0.3854],\n",
              "        [ 0.5317,  0.3002,  0.1793, -0.4504, -0.2345, -0.0555],\n",
              "        [ 0.6668,  0.5423,  0.5865, -0.4796, -0.1606, -0.0569],\n",
              "        [ 0.5281,  0.3104,  0.1427, -0.5065, -0.1396,  0.0204],\n",
              "        [ 0.9418,  0.2514,  0.4774, -0.6493,  0.0740, -0.3834],\n",
              "        [ 0.3557,  0.7851,  0.3501, -0.3863, -0.2687, -0.1735],\n",
              "        [ 0.2585,  0.3359,  0.1473, -0.2119, -0.3774, -0.2720],\n",
              "        [ 0.9064,  0.3391,  0.2519, -0.4020, -0.4351, -0.0032],\n",
              "        [ 0.6799,  0.0684,  0.2877, -0.7487, -0.2911, -0.3567],\n",
              "        [ 0.7588,  0.3477, -0.0860, -0.4779, -0.1858, -0.4002],\n",
              "        [ 0.4810,  0.3417,  0.3820, -0.6016, -0.1298, -0.4276],\n",
              "        [ 0.6477,  0.4507,  0.6323, -0.5115, -0.1614, -0.3363],\n",
              "        [ 0.6413,  0.4968,  0.3968, -0.5454, -0.2680, -0.2382],\n",
              "        [ 0.6228,  0.1763,  0.0337, -0.2658, -0.3996,  0.2577],\n",
              "        [ 0.7789,  0.3220,  0.0123, -0.4002, -0.3080, -0.3448],\n",
              "        [ 0.7350,  0.2460,  0.2215, -0.6586,  0.0982, -0.1975],\n",
              "        [ 0.9316,  0.6427,  0.4824, -0.8735,  0.0550, -0.4306],\n",
              "        [ 0.6417,  0.3136,  0.0680, -0.7408, -0.0953, -0.2701],\n",
              "        [ 0.6719,  0.3145,  0.1803, -0.5193, -0.3293, -0.2766],\n",
              "        [ 0.8036,  0.4479,  0.1396, -0.3952,  0.0071, -0.5208],\n",
              "        [ 0.9217,  0.6078,  0.4023, -0.7284, -0.0661, -0.0401],\n",
              "        [ 0.8692,  0.7914,  0.2029, -0.4498, -0.2928, -0.1655],\n",
              "        [ 0.8274,  0.3775,  0.3565, -0.5357, -0.3330, -0.2428],\n",
              "        [ 0.5780,  0.2730,  0.2993, -0.3314, -0.5358, -0.2785],\n",
              "        [ 0.6133,  0.2803,  0.2595, -0.9407, -0.3221, -0.2383],\n",
              "        [ 0.7872,  0.5912,  0.1180, -0.8066, -0.3092, -0.2564]],\n",
              "       grad_fn=<AddmmBackward0>), hidden_states=None, attentions=None)"
            ]
          },
          "execution_count": 54,
          "metadata": {},
          "output_type": "execute_result"
        }
      ],
      "source": [
        "output"
      ]
    },
    {
      "cell_type": "markdown",
      "metadata": {
        "id": "ybs77dmjmuXS"
      },
      "source": [
        "To get the output probabilities, we should use sigmoid function. This can be done either in the model or like here be applied to the output from model. I was first making the mistake and used softmax function. However, in our case a comment can be classified as toxic, obscene and insult at the same time. Hence it's not a multi-classficationm and therefore, this is not applicable. <br>\n",
        "Here is the summary of differences between softmax function and sigmoid funciton. <br>\n",
        "\n",
        "**Softmax funciton:**<br>\n",
        "- Used for Multi-classification in the Logistics Regression model\n",
        "- The probabilities sum will be 1<br>\n",
        "\n",
        "**Sigmoid funciton:**\n",
        "- Used for Binary Classification in the Logistic Regression model\n",
        "- The probabilities sum does not need to be 1\n",
        "\n",
        "To learn more about them you can read this: https://medium.com/arteos-ai/the-differences-between-sigmoid-and-softmax-activation-function-12adee8cf322"
      ]
    },
    {
      "cell_type": "code",
      "execution_count": null,
      "metadata": {
        "id": "ftRWNJ63muXT",
        "tags": [],
        "outputId": "ba09ab29-4db9-42e1-fe0f-0652311e0bf5"
      },
      "outputs": [
        {
          "data": {
            "text/plain": [
              "tensor([[0.2470, 0.2635, 0.1852, 0.0770, 0.1164, 0.1109],\n",
              "        [0.3151, 0.2051, 0.1706, 0.0641, 0.1218, 0.1234],\n",
              "        [0.2891, 0.2246, 0.1861, 0.0807, 0.1093, 0.1102],\n",
              "        [0.2983, 0.1958, 0.1540, 0.1113, 0.0981, 0.1425],\n",
              "        [0.2972, 0.1911, 0.1796, 0.0636, 0.1134, 0.1551],\n",
              "        [0.2291, 0.1754, 0.1876, 0.0925, 0.1377, 0.1778],\n",
              "        [0.2764, 0.1840, 0.1876, 0.0996, 0.1436, 0.1088],\n",
              "        [0.2570, 0.2039, 0.1806, 0.0962, 0.1194, 0.1428],\n",
              "        [0.2472, 0.2182, 0.2281, 0.0786, 0.1081, 0.1199],\n",
              "        [0.2529, 0.2034, 0.1720, 0.0899, 0.1297, 0.1522],\n",
              "        [0.3312, 0.1661, 0.2082, 0.0675, 0.1391, 0.0880],\n",
              "        [0.1949, 0.2994, 0.1938, 0.0928, 0.1044, 0.1148],\n",
              "        [0.2120, 0.2290, 0.1897, 0.1324, 0.1122, 0.1247],\n",
              "        [0.3310, 0.1877, 0.1720, 0.0895, 0.0865, 0.1333],\n",
              "        [0.3134, 0.1700, 0.2117, 0.0751, 0.1187, 0.1111],\n",
              "        [0.3241, 0.2148, 0.1392, 0.0941, 0.1260, 0.1017],\n",
              "        [0.2463, 0.2143, 0.2231, 0.0834, 0.1337, 0.0993],\n",
              "        [0.2539, 0.2085, 0.2500, 0.0797, 0.1130, 0.0949],\n",
              "        [0.2651, 0.2295, 0.2076, 0.0809, 0.1068, 0.1100],\n",
              "        [0.2732, 0.1748, 0.1516, 0.1124, 0.0983, 0.1897],\n",
              "        [0.3260, 0.2064, 0.1514, 0.1003, 0.1099, 0.1060],\n",
              "        [0.2956, 0.1813, 0.1769, 0.0734, 0.1564, 0.1164],\n",
              "        [0.3102, 0.2324, 0.1979, 0.0510, 0.1291, 0.0794],\n",
              "        [0.2928, 0.2109, 0.1650, 0.0735, 0.1401, 0.1177],\n",
              "        [0.2968, 0.2076, 0.1815, 0.0902, 0.1090, 0.1149],\n",
              "        [0.3092, 0.2167, 0.1592, 0.0933, 0.1394, 0.0822],\n",
              "        [0.3056, 0.2233, 0.1818, 0.0587, 0.1138, 0.1168],\n",
              "        [0.2964, 0.2742, 0.1522, 0.0792, 0.0927, 0.1053],\n",
              "        [0.3150, 0.2009, 0.1967, 0.0806, 0.0987, 0.1080],\n",
              "        [0.2740, 0.2020, 0.2074, 0.1104, 0.0900, 0.1163],\n",
              "        [0.2899, 0.2078, 0.2035, 0.0613, 0.1138, 0.1237],\n",
              "        [0.3102, 0.2550, 0.1589, 0.0630, 0.1036, 0.1093]],\n",
              "       grad_fn=<SoftmaxBackward0>)"
            ]
          },
          "execution_count": 55,
          "metadata": {},
          "output_type": "execute_result"
        }
      ],
      "source": [
        "func.softmax(output['logits'], dim = 1)"
      ]
    },
    {
      "cell_type": "code",
      "execution_count": null,
      "metadata": {
        "id": "-E4wZxLtmuXT",
        "tags": []
      },
      "outputs": [],
      "source": [
        "output_probs = func.softmax(output['logits'], dim = 1)"
      ]
    },
    {
      "cell_type": "code",
      "execution_count": null,
      "metadata": {
        "id": "tsEY-DfJmuXU",
        "tags": [],
        "outputId": "d948c38a-5518-42e1-bf06-34280bb34d13"
      },
      "outputs": [
        {
          "data": {
            "text/plain": [
              "torch.return_types.max(\n",
              "values=tensor([0.2635, 0.3151, 0.2891, 0.2983, 0.2972, 0.2291, 0.2764, 0.2570, 0.2472,\n",
              "        0.2529, 0.3312, 0.2994, 0.2290, 0.3310, 0.3134, 0.3241, 0.2463, 0.2539,\n",
              "        0.2651, 0.2732, 0.3260, 0.2956, 0.3102, 0.2928, 0.2968, 0.3092, 0.3056,\n",
              "        0.2964, 0.3150, 0.2740, 0.2899, 0.3102], grad_fn=<MaxBackward0>),\n",
              "indices=tensor([1, 0, 0, 0, 0, 0, 0, 0, 0, 0, 0, 1, 1, 0, 0, 0, 0, 0, 0, 0, 0, 0, 0, 0,\n",
              "        0, 0, 0, 0, 0, 0, 0, 0]))"
            ]
          },
          "execution_count": 57,
          "metadata": {},
          "output_type": "execute_result"
        }
      ],
      "source": [
        "torch.max(output_probs, dim = 1)"
      ]
    },
    {
      "cell_type": "markdown",
      "metadata": {
        "id": "gRBX1cGEmuXU"
      },
      "source": [
        "## 5. Functions for training and validating\n",
        "### a. Setting up some parameters"
      ]
    },
    {
      "cell_type": "code",
      "execution_count": null,
      "metadata": {
        "id": "CpxffGCsmuXV",
        "tags": []
      },
      "outputs": [],
      "source": [
        "epochs = 5\n",
        "LR = 2e-5 #Learning rate\n",
        "optimizer = AdamW(model.parameters(), LR, betas = (0.9, 0.999), weight_decay = 1e-2, correct_bias = False)"
      ]
    },
    {
      "cell_type": "markdown",
      "metadata": {
        "id": "8P_RGsN9muXV"
      },
      "source": [
        "We use the learning rate parameter as set above for 10% of total training time. We then decrease the learning rate gradualy to zero."
      ]
    },
    {
      "cell_type": "code",
      "execution_count": null,
      "metadata": {
        "id": "y8XwCdL_muXW",
        "tags": []
      },
      "outputs": [],
      "source": [
        "train_steps = int((len(train) * epochs)/train_batch)\n",
        "num_steps = int(train_steps * 0.1)\n",
        "scheduler = get_linear_schedule_with_warmup(optimizer, num_steps, train_steps)"
      ]
    },
    {
      "cell_type": "code",
      "execution_count": null,
      "metadata": {
        "id": "p5XAI25imuXW",
        "tags": [],
        "outputId": "3425651f-167b-42f2-bd43-5e71d88d0b3e"
      },
      "outputs": [
        {
          "name": "stderr",
          "output_type": "stream",
          "text": [
            "100%|██████████| 5/5 [00:03<00:00,  1.31it/s]\n"
          ]
        },
        {
          "data": {
            "text/plain": [
              "[<matplotlib.lines.Line2D at 0x7f076cee9df0>]"
            ]
          },
          "execution_count": 60,
          "metadata": {},
          "output_type": "execute_result"
        },
        {
          "data": {
            "image/png": "[encoded data removed]",
            "text/plain": [
              "<Figure size 640x480 with 1 Axes>"
            ]
          },
          "metadata": {},
          "output_type": "display_data"
        }
      ],
      "source": [
        "le = []\n",
        "for b in tqdm(range(epochs)):\n",
        "    for a in train_dataloader:\n",
        "        le.append(scheduler.get_last_lr())\n",
        "        scheduler.step()\n",
        "plt.plot(np.arange(len(le)), le)"
      ]
    },
    {
      "cell_type": "code",
      "execution_count": null,
      "metadata": {
        "id": "VZuHaMeQmuXW",
        "tags": [],
        "outputId": "5d94182c-a230-4033-b521-bbab01401096"
      },
      "outputs": [
        {
          "data": {
            "text/plain": [
              "BCEWithLogitsLoss()"
            ]
          },
          "execution_count": 61,
          "metadata": {},
          "output_type": "execute_result"
        }
      ],
      "source": [
        "loss_fn = nn.BCEWithLogitsLoss()\n",
        "loss_fn.to(device)"
      ]
    },
    {
      "cell_type": "code",
      "execution_count": null,
      "metadata": {
        "id": "BHdXochfmuXX",
        "tags": []
      },
      "outputs": [],
      "source": [
        "scaler = torch.cuda.amp.GradScaler()"
      ]
    },
    {
      "cell_type": "markdown",
      "metadata": {
        "id": "xL6bmliPmuXX"
      },
      "source": [
        "### b. Training function\n",
        "You can find more details about some keywords in this block of code below it."
      ]
    },
    {
      "cell_type": "code",
      "execution_count": null,
      "metadata": {
        "id": "Ve9WQY7qmuXX",
        "tags": []
      },
      "outputs": [],
      "source": [
        "def training(train_dataloader, model, optimizer, scheduler):\n",
        "    model.train()\n",
        "    torch.backends.cudnn.benchmark = True\n",
        "    correct_predictions = 0\n",
        "\n",
        "    for a in train_dataloader:\n",
        "        losses = []\n",
        "        optimizer.zero_grad()\n",
        "\n",
        "        #allpreds = []\n",
        "        #alltargets = []\n",
        "\n",
        "        with torch.cuda.amp.autocast():\n",
        "\n",
        "            ids = a['ids'].to(device, non_blocking = True)\n",
        "            mask = a['mask'].to(device, non_blocking = True)\n",
        "\n",
        "            output = model(ids, mask) #This gives model as output, however we want the values at the output\n",
        "            output = output['logits'].squeeze(-1).to(torch.float32)\n",
        "\n",
        "            output_probs = torch.sigmoid(output)\n",
        "            preds = torch.where(output_probs > 0.5, 1, 0)\n",
        "\n",
        "            toxic_label = a['toxic_label'].to(device, non_blocking = True)\n",
        "            loss = loss_fn(output, toxic_label)\n",
        "\n",
        "            losses.append(loss.item())\n",
        "            #allpreds.append(output.detach().cpu().numpy())\n",
        "            #alltargets.append(toxic.detach().squeeze(-1).cpu().numpy())\n",
        "            correct_predictions += torch.sum(preds == toxic_label)\n",
        "\n",
        "        scaler.scale(loss).backward() #Multiplies (‘scales’) a tensor or list of tensors by the scale factor.\n",
        "                                      #Returns scaled outputs. If this instance of GradScaler is not enabled, outputs are returned unmodified.\n",
        "        scaler.step(optimizer) #Returns the return value of optimizer.step(*args, **kwargs).\n",
        "        scaler.update() #Updates the scale factor.If any optimizer steps were skipped the scale is multiplied by backoff_factor to reduce it.\n",
        "                        #If growth_interval unskipped iterations occurred consecutively, the scale is multiplied by growth_factor to increase it\n",
        "        scheduler.step() # Update learning rate schedule\n",
        "\n",
        "    losses = np.mean(losses)\n",
        "    corr_preds = correct_predictions.detach().cpu().numpy()\n",
        "    accuracy = corr_preds/(len(p_train)*6)\n",
        "\n",
        "    return losses, accuracy"
      ]
    },
    {
      "cell_type": "markdown",
      "metadata": {
        "id": "M1Q5Wk0vmuXY"
      },
      "source": [
        "**amp** stands for automatic mixed precision. <br>\n",
        "To learn more about the **autocast** read this link: <br>\n",
        "https://pytorch.org/docs/stable/amp.html <br>\n",
        "in short: Instances of autocast serve as context managers or decorators that allow regions of your script to run in mixed precision, where some operations use the torch.float32 (float) datatype and other operations use torch.float16 (half).\n",
        "autocast should wrap only the forward pass(es) of your network, including the loss computation(s). Backward passes under autocast are not recommended. <br>\n",
        "<br>\n",
        "**with** statement in Python is used in exception handling to make the code cleaner and much more readable. It simplifies the management of common resources like file streams. Here is a link to learn more about it.<br>\n",
        "https://www.geeksforgeeks.org/with-statement-in-python/<br>\n",
        "\n",
        "**Non-Blocking** allows you to overlap compute and memory transfer to the GPU. Pinned Memory allows the non-blocking calls to actually be non-blocking.<br>\n",
        "\n",
        "Why using **var.detach().cpu().numpy()** and not var.numpy() only? <br>\n",
        "because we get an error. The main reason behind this choice presumably is to avoid confusing new comers. People not very familiar with requires_grad and cpu/gpu Tensors might go back and forth with numpy. For example doing pytorch -> numpy -> pytorch and backward on the last Tensor. This will backward without issue but not all the way to the first part of the code and won’t raise any error.\n",
        "So the choice has been made to force the user to detach() to make sure they want to do it and it’s not a typo/other library that does this tranformation and breaks the computational graph.<br>\n",
        "\n",
        "**optimizer.step():** it performs a parameter update based on the current gradient (stored in .grad attribute of a parameter) and the update rule. As an example, the update rule for SGD is defined here:<br>\n",
        "https://github.com/pytorch/pytorch/blob/cd9b27231b51633e76e28b6a34002ab83b0660fc/torch/optim/sgd.py#L63 <br>\n",
        "\n",
        "**loss.backward()** Calling .backward() mutiple times accumulates the gradient (by addition) for each parameter. This is why you should call optimizer.zero_grad() after each .step() call. Note that following the first .backward call, a second call is only possible after you have performed another forward pass.\n",
        "\n",
        "### Gradient Scaling\n",
        "If the forward pass for a particular op has float16 inputs, the backward pass for that op will produce float16 gradients. Gradient values with small magnitudes may not be representable in float16. These values will flush to zero (“underflow”), so the update for the corresponding parameters will be lost.<br>\n",
        "\n",
        "To prevent underflow, “gradient scaling” multiplies the network’s loss(es) by a scale factor and invokes a backward pass on the scaled loss(es). Gradients flowing backward through the network are then scaled by the same factor. In other words, gradient values have a larger magnitude, so they don’t flush to zero.<br>\n",
        "\n",
        "Each parameter’s gradient (.grad attribute) should be unscaled before the optimizer updates the parameters, so the scale factor does not interfere with the learning rate.<br>\n",
        "\n",
        "**step()** carries out the following two operations:\n",
        "1. Internally invokes unscale_(optimizer) (unless unscale_() was explicitly called for optimizer earlier in the iteration). As part of the unscale_(), gradients are checked for infs/NaNs.\n",
        "2. If no inf/NaN gradients are found, invokes optimizer.step() using the unscaled gradients. Otherwise, optimizer.step() is skipped to avoid corrupting the params."
      ]
    },
    {
      "cell_type": "markdown",
      "metadata": {
        "id": "qsDYAERZmuXZ"
      },
      "source": [
        "### c. Validating function\n",
        "validating function is quite similar to training function. The difference is that there is no back-propagation and optemization for parameters in it."
      ]
    },
    {
      "cell_type": "code",
      "execution_count": null,
      "metadata": {
        "id": "b1gTNpRGmuXZ",
        "tags": []
      },
      "outputs": [],
      "source": [
        "def validating(valid_dataloader, model):\n",
        "\n",
        "    model.eval()\n",
        "    correct_predictions = 0\n",
        "    all_output_probs = []\n",
        "\n",
        "    for a in valid_dataloader:\n",
        "        losses = []\n",
        "        ids = a['ids'].to(device, non_blocking = True)\n",
        "        mask = a['mask'].to(device, non_blocking = True)\n",
        "        output = model(ids, mask)\n",
        "        output = output['logits'].squeeze(-1).to(torch.float32)\n",
        "        output_probs = torch.sigmoid(output)\n",
        "        preds = torch.where(output_probs > 0.5, 1, 0)\n",
        "\n",
        "        toxic_label = a['toxic_label'].to(device, non_blocking = True)\n",
        "        loss = loss_fn(output, toxic_label)\n",
        "        losses.append(loss.item())\n",
        "        all_output_probs.extend(output_probs.detach().cpu().numpy())\n",
        "\n",
        "        correct_predictions += torch.sum(preds == toxic_label)\n",
        "        corr_preds = correct_predictions.detach().cpu().numpy()\n",
        "\n",
        "    losses = np.mean(losses)\n",
        "    corr_preds = correct_predictions.detach().cpu().numpy()\n",
        "    accuracy = corr_preds/(len(p_valid)*6)\n",
        "\n",
        "    return losses, accuracy, all_output_probs"
      ]
    },
    {
      "cell_type": "markdown",
      "metadata": {
        "id": "G5gyCuipmuXa"
      },
      "source": [
        "## 6. Training the model\n",
        "### a. Run training function"
      ]
    },
    {
      "cell_type": "code",
      "execution_count": null,
      "metadata": {
        "id": "e9jt74D_muXa",
        "tags": [],
        "outputId": "f5f137de-f067-4d69-c7ee-cdd984286dcb"
      },
      "outputs": [
        {
          "name": "stderr",
          "output_type": "stream",
          "text": [
            "  0%|          | 0/5 [00:13<?, ?it/s]\n"
          ]
        },
        {
          "ename": "RuntimeError",
          "evalue": "DataLoader worker (pid 441) is killed by signal: Killed. ",
          "output_type": "error",
          "traceback": [
            "\u001b[0;31m---------------------------------------------------------------------------\u001b[0m",
            "\u001b[0;31mRuntimeError\u001b[0m                              Traceback (most recent call last)",
            "\u001b[0;32m<timed exec>\u001b[0m in \u001b[0;36m<module>\u001b[0;34m\u001b[0m\n",
            "\u001b[0;32m/tmp/ipykernel_86/2541652467.py\u001b[0m in \u001b[0;36mtraining\u001b[0;34m(train_dataloader, model, optimizer, scheduler)\u001b[0m\n\u001b[1;32m     16\u001b[0m             \u001b[0mmask\u001b[0m \u001b[0;34m=\u001b[0m \u001b[0ma\u001b[0m\u001b[0;34m[\u001b[0m\u001b[0;34m'mask'\u001b[0m\u001b[0;34m]\u001b[0m\u001b[0;34m.\u001b[0m\u001b[0mto\u001b[0m\u001b[0;34m(\u001b[0m\u001b[0mdevice\u001b[0m\u001b[0;34m,\u001b[0m \u001b[0mnon_blocking\u001b[0m \u001b[0;34m=\u001b[0m \u001b[0;32mTrue\u001b[0m\u001b[0;34m)\u001b[0m\u001b[0;34m\u001b[0m\u001b[0;34m\u001b[0m\u001b[0m\n\u001b[1;32m     17\u001b[0m \u001b[0;34m\u001b[0m\u001b[0m\n\u001b[0;32m---> 18\u001b[0;31m             \u001b[0moutput\u001b[0m \u001b[0;34m=\u001b[0m \u001b[0mmodel\u001b[0m\u001b[0;34m(\u001b[0m\u001b[0mids\u001b[0m\u001b[0;34m,\u001b[0m \u001b[0mmask\u001b[0m\u001b[0;34m)\u001b[0m \u001b[0;31m#This gives model as output, however we want the values at the output\u001b[0m\u001b[0;34m\u001b[0m\u001b[0;34m\u001b[0m\u001b[0m\n\u001b[0m\u001b[1;32m     19\u001b[0m             \u001b[0moutput\u001b[0m \u001b[0;34m=\u001b[0m \u001b[0moutput\u001b[0m\u001b[0;34m[\u001b[0m\u001b[0;34m'logits'\u001b[0m\u001b[0;34m]\u001b[0m\u001b[0;34m.\u001b[0m\u001b[0msqueeze\u001b[0m\u001b[0;34m(\u001b[0m\u001b[0;34m-\u001b[0m\u001b[0;36m1\u001b[0m\u001b[0;34m)\u001b[0m\u001b[0;34m.\u001b[0m\u001b[0mto\u001b[0m\u001b[0;34m(\u001b[0m\u001b[0mtorch\u001b[0m\u001b[0;34m.\u001b[0m\u001b[0mfloat32\u001b[0m\u001b[0;34m)\u001b[0m\u001b[0;34m\u001b[0m\u001b[0;34m\u001b[0m\u001b[0m\n\u001b[1;32m     20\u001b[0m \u001b[0;34m\u001b[0m\u001b[0m\n",
            "\u001b[0;32m~/.conda/envs/default/lib/python3.9/site-packages/torch/nn/modules/module.py\u001b[0m in \u001b[0;36m_wrapped_call_impl\u001b[0;34m(self, *args, **kwargs)\u001b[0m\n\u001b[1;32m   1509\u001b[0m             \u001b[0;32mreturn\u001b[0m \u001b[0mself\u001b[0m\u001b[0;34m.\u001b[0m\u001b[0m_compiled_call_impl\u001b[0m\u001b[0;34m(\u001b[0m\u001b[0;34m*\u001b[0m\u001b[0margs\u001b[0m\u001b[0;34m,\u001b[0m \u001b[0;34m**\u001b[0m\u001b[0mkwargs\u001b[0m\u001b[0;34m)\u001b[0m  \u001b[0;31m# type: ignore[misc]\u001b[0m\u001b[0;34m\u001b[0m\u001b[0;34m\u001b[0m\u001b[0m\n\u001b[1;32m   1510\u001b[0m         \u001b[0;32melse\u001b[0m\u001b[0;34m:\u001b[0m\u001b[0;34m\u001b[0m\u001b[0;34m\u001b[0m\u001b[0m\n\u001b[0;32m-> 1511\u001b[0;31m             \u001b[0;32mreturn\u001b[0m \u001b[0mself\u001b[0m\u001b[0;34m.\u001b[0m\u001b[0m_call_impl\u001b[0m\u001b[0;34m(\u001b[0m\u001b[0;34m*\u001b[0m\u001b[0margs\u001b[0m\u001b[0;34m,\u001b[0m \u001b[0;34m**\u001b[0m\u001b[0mkwargs\u001b[0m\u001b[0;34m)\u001b[0m\u001b[0;34m\u001b[0m\u001b[0;34m\u001b[0m\u001b[0m\n\u001b[0m\u001b[1;32m   1512\u001b[0m \u001b[0;34m\u001b[0m\u001b[0m\n\u001b[1;32m   1513\u001b[0m     \u001b[0;32mdef\u001b[0m \u001b[0m_call_impl\u001b[0m\u001b[0;34m(\u001b[0m\u001b[0mself\u001b[0m\u001b[0;34m,\u001b[0m \u001b[0;34m*\u001b[0m\u001b[0margs\u001b[0m\u001b[0;34m,\u001b[0m \u001b[0;34m**\u001b[0m\u001b[0mkwargs\u001b[0m\u001b[0;34m)\u001b[0m\u001b[0;34m:\u001b[0m\u001b[0;34m\u001b[0m\u001b[0;34m\u001b[0m\u001b[0m\n",
            "\u001b[0;32m~/.conda/envs/default/lib/python3.9/site-packages/torch/nn/modules/module.py\u001b[0m in \u001b[0;36m_call_impl\u001b[0;34m(self, *args, **kwargs)\u001b[0m\n\u001b[1;32m   1518\u001b[0m                 \u001b[0;32mor\u001b[0m \u001b[0m_global_backward_pre_hooks\u001b[0m \u001b[0;32mor\u001b[0m \u001b[0m_global_backward_hooks\u001b[0m\u001b[0;34m\u001b[0m\u001b[0;34m\u001b[0m\u001b[0m\n\u001b[1;32m   1519\u001b[0m                 or _global_forward_hooks or _global_forward_pre_hooks):\n\u001b[0;32m-> 1520\u001b[0;31m             \u001b[0;32mreturn\u001b[0m \u001b[0mforward_call\u001b[0m\u001b[0;34m(\u001b[0m\u001b[0;34m*\u001b[0m\u001b[0margs\u001b[0m\u001b[0;34m,\u001b[0m \u001b[0;34m**\u001b[0m\u001b[0mkwargs\u001b[0m\u001b[0;34m)\u001b[0m\u001b[0;34m\u001b[0m\u001b[0;34m\u001b[0m\u001b[0m\n\u001b[0m\u001b[1;32m   1521\u001b[0m \u001b[0;34m\u001b[0m\u001b[0m\n\u001b[1;32m   1522\u001b[0m         \u001b[0;32mtry\u001b[0m\u001b[0;34m:\u001b[0m\u001b[0;34m\u001b[0m\u001b[0;34m\u001b[0m\u001b[0m\n",
            "\u001b[0;32m~/.conda/envs/default/lib/python3.9/site-packages/transformers/models/bert/modeling_bert.py\u001b[0m in \u001b[0;36mforward\u001b[0;34m(self, input_ids, attention_mask, token_type_ids, position_ids, head_mask, inputs_embeds, labels, output_attentions, output_hidden_states, return_dict)\u001b[0m\n\u001b[1;32m   1562\u001b[0m         \u001b[0mreturn_dict\u001b[0m \u001b[0;34m=\u001b[0m \u001b[0mreturn_dict\u001b[0m \u001b[0;32mif\u001b[0m \u001b[0mreturn_dict\u001b[0m \u001b[0;32mis\u001b[0m \u001b[0;32mnot\u001b[0m \u001b[0;32mNone\u001b[0m \u001b[0;32melse\u001b[0m \u001b[0mself\u001b[0m\u001b[0;34m.\u001b[0m\u001b[0mconfig\u001b[0m\u001b[0;34m.\u001b[0m\u001b[0muse_return_dict\u001b[0m\u001b[0;34m\u001b[0m\u001b[0;34m\u001b[0m\u001b[0m\n\u001b[1;32m   1563\u001b[0m \u001b[0;34m\u001b[0m\u001b[0m\n\u001b[0;32m-> 1564\u001b[0;31m         outputs = self.bert(\n\u001b[0m\u001b[1;32m   1565\u001b[0m             \u001b[0minput_ids\u001b[0m\u001b[0;34m,\u001b[0m\u001b[0;34m\u001b[0m\u001b[0;34m\u001b[0m\u001b[0m\n\u001b[1;32m   1566\u001b[0m             \u001b[0mattention_mask\u001b[0m\u001b[0;34m=\u001b[0m\u001b[0mattention_mask\u001b[0m\u001b[0;34m,\u001b[0m\u001b[0;34m\u001b[0m\u001b[0;34m\u001b[0m\u001b[0m\n",
            "\u001b[0;32m~/.conda/envs/default/lib/python3.9/site-packages/torch/nn/modules/module.py\u001b[0m in \u001b[0;36m_wrapped_call_impl\u001b[0;34m(self, *args, **kwargs)\u001b[0m\n\u001b[1;32m   1509\u001b[0m             \u001b[0;32mreturn\u001b[0m \u001b[0mself\u001b[0m\u001b[0;34m.\u001b[0m\u001b[0m_compiled_call_impl\u001b[0m\u001b[0;34m(\u001b[0m\u001b[0;34m*\u001b[0m\u001b[0margs\u001b[0m\u001b[0;34m,\u001b[0m \u001b[0;34m**\u001b[0m\u001b[0mkwargs\u001b[0m\u001b[0;34m)\u001b[0m  \u001b[0;31m# type: ignore[misc]\u001b[0m\u001b[0;34m\u001b[0m\u001b[0;34m\u001b[0m\u001b[0m\n\u001b[1;32m   1510\u001b[0m         \u001b[0;32melse\u001b[0m\u001b[0;34m:\u001b[0m\u001b[0;34m\u001b[0m\u001b[0;34m\u001b[0m\u001b[0m\n\u001b[0;32m-> 1511\u001b[0;31m             \u001b[0;32mreturn\u001b[0m \u001b[0mself\u001b[0m\u001b[0;34m.\u001b[0m\u001b[0m_call_impl\u001b[0m\u001b[0;34m(\u001b[0m\u001b[0;34m*\u001b[0m\u001b[0margs\u001b[0m\u001b[0;34m,\u001b[0m \u001b[0;34m**\u001b[0m\u001b[0mkwargs\u001b[0m\u001b[0;34m)\u001b[0m\u001b[0;34m\u001b[0m\u001b[0;34m\u001b[0m\u001b[0m\n\u001b[0m\u001b[1;32m   1512\u001b[0m \u001b[0;34m\u001b[0m\u001b[0m\n\u001b[1;32m   1513\u001b[0m     \u001b[0;32mdef\u001b[0m \u001b[0m_call_impl\u001b[0m\u001b[0;34m(\u001b[0m\u001b[0mself\u001b[0m\u001b[0;34m,\u001b[0m \u001b[0;34m*\u001b[0m\u001b[0margs\u001b[0m\u001b[0;34m,\u001b[0m \u001b[0;34m**\u001b[0m\u001b[0mkwargs\u001b[0m\u001b[0;34m)\u001b[0m\u001b[0;34m:\u001b[0m\u001b[0;34m\u001b[0m\u001b[0;34m\u001b[0m\u001b[0m\n",
            "\u001b[0;32m~/.conda/envs/default/lib/python3.9/site-packages/torch/nn/modules/module.py\u001b[0m in \u001b[0;36m_call_impl\u001b[0;34m(self, *args, **kwargs)\u001b[0m\n\u001b[1;32m   1518\u001b[0m                 \u001b[0;32mor\u001b[0m \u001b[0m_global_backward_pre_hooks\u001b[0m \u001b[0;32mor\u001b[0m \u001b[0m_global_backward_hooks\u001b[0m\u001b[0;34m\u001b[0m\u001b[0;34m\u001b[0m\u001b[0m\n\u001b[1;32m   1519\u001b[0m                 or _global_forward_hooks or _global_forward_pre_hooks):\n\u001b[0;32m-> 1520\u001b[0;31m             \u001b[0;32mreturn\u001b[0m \u001b[0mforward_call\u001b[0m\u001b[0;34m(\u001b[0m\u001b[0;34m*\u001b[0m\u001b[0margs\u001b[0m\u001b[0;34m,\u001b[0m \u001b[0;34m**\u001b[0m\u001b[0mkwargs\u001b[0m\u001b[0;34m)\u001b[0m\u001b[0;34m\u001b[0m\u001b[0;34m\u001b[0m\u001b[0m\n\u001b[0m\u001b[1;32m   1521\u001b[0m \u001b[0;34m\u001b[0m\u001b[0m\n\u001b[1;32m   1522\u001b[0m         \u001b[0;32mtry\u001b[0m\u001b[0;34m:\u001b[0m\u001b[0;34m\u001b[0m\u001b[0;34m\u001b[0m\u001b[0m\n",
            "\u001b[0;32m~/.conda/envs/default/lib/python3.9/site-packages/transformers/models/bert/modeling_bert.py\u001b[0m in \u001b[0;36mforward\u001b[0;34m(self, input_ids, attention_mask, token_type_ids, position_ids, head_mask, inputs_embeds, encoder_hidden_states, encoder_attention_mask, past_key_values, use_cache, output_attentions, output_hidden_states, return_dict)\u001b[0m\n\u001b[1;32m   1011\u001b[0m             \u001b[0mpast_key_values_length\u001b[0m\u001b[0;34m=\u001b[0m\u001b[0mpast_key_values_length\u001b[0m\u001b[0;34m,\u001b[0m\u001b[0;34m\u001b[0m\u001b[0;34m\u001b[0m\u001b[0m\n\u001b[1;32m   1012\u001b[0m         )\n\u001b[0;32m-> 1013\u001b[0;31m         encoder_outputs = self.encoder(\n\u001b[0m\u001b[1;32m   1014\u001b[0m             \u001b[0membedding_output\u001b[0m\u001b[0;34m,\u001b[0m\u001b[0;34m\u001b[0m\u001b[0;34m\u001b[0m\u001b[0m\n\u001b[1;32m   1015\u001b[0m             \u001b[0mattention_mask\u001b[0m\u001b[0;34m=\u001b[0m\u001b[0mextended_attention_mask\u001b[0m\u001b[0;34m,\u001b[0m\u001b[0;34m\u001b[0m\u001b[0;34m\u001b[0m\u001b[0m\n",
            "\u001b[0;32m~/.conda/envs/default/lib/python3.9/site-packages/torch/nn/modules/module.py\u001b[0m in \u001b[0;36m_wrapped_call_impl\u001b[0;34m(self, *args, **kwargs)\u001b[0m\n\u001b[1;32m   1509\u001b[0m             \u001b[0;32mreturn\u001b[0m \u001b[0mself\u001b[0m\u001b[0;34m.\u001b[0m\u001b[0m_compiled_call_impl\u001b[0m\u001b[0;34m(\u001b[0m\u001b[0;34m*\u001b[0m\u001b[0margs\u001b[0m\u001b[0;34m,\u001b[0m \u001b[0;34m**\u001b[0m\u001b[0mkwargs\u001b[0m\u001b[0;34m)\u001b[0m  \u001b[0;31m# type: ignore[misc]\u001b[0m\u001b[0;34m\u001b[0m\u001b[0;34m\u001b[0m\u001b[0m\n\u001b[1;32m   1510\u001b[0m         \u001b[0;32melse\u001b[0m\u001b[0;34m:\u001b[0m\u001b[0;34m\u001b[0m\u001b[0;34m\u001b[0m\u001b[0m\n\u001b[0;32m-> 1511\u001b[0;31m             \u001b[0;32mreturn\u001b[0m \u001b[0mself\u001b[0m\u001b[0;34m.\u001b[0m\u001b[0m_call_impl\u001b[0m\u001b[0;34m(\u001b[0m\u001b[0;34m*\u001b[0m\u001b[0margs\u001b[0m\u001b[0;34m,\u001b[0m \u001b[0;34m**\u001b[0m\u001b[0mkwargs\u001b[0m\u001b[0;34m)\u001b[0m\u001b[0;34m\u001b[0m\u001b[0;34m\u001b[0m\u001b[0m\n\u001b[0m\u001b[1;32m   1512\u001b[0m \u001b[0;34m\u001b[0m\u001b[0m\n\u001b[1;32m   1513\u001b[0m     \u001b[0;32mdef\u001b[0m \u001b[0m_call_impl\u001b[0m\u001b[0;34m(\u001b[0m\u001b[0mself\u001b[0m\u001b[0;34m,\u001b[0m \u001b[0;34m*\u001b[0m\u001b[0margs\u001b[0m\u001b[0;34m,\u001b[0m \u001b[0;34m**\u001b[0m\u001b[0mkwargs\u001b[0m\u001b[0;34m)\u001b[0m\u001b[0;34m:\u001b[0m\u001b[0;34m\u001b[0m\u001b[0;34m\u001b[0m\u001b[0m\n",
            "\u001b[0;32m~/.conda/envs/default/lib/python3.9/site-packages/torch/nn/modules/module.py\u001b[0m in \u001b[0;36m_call_impl\u001b[0;34m(self, *args, **kwargs)\u001b[0m\n\u001b[1;32m   1518\u001b[0m                 \u001b[0;32mor\u001b[0m \u001b[0m_global_backward_pre_hooks\u001b[0m \u001b[0;32mor\u001b[0m \u001b[0m_global_backward_hooks\u001b[0m\u001b[0;34m\u001b[0m\u001b[0;34m\u001b[0m\u001b[0m\n\u001b[1;32m   1519\u001b[0m                 or _global_forward_hooks or _global_forward_pre_hooks):\n\u001b[0;32m-> 1520\u001b[0;31m             \u001b[0;32mreturn\u001b[0m \u001b[0mforward_call\u001b[0m\u001b[0;34m(\u001b[0m\u001b[0;34m*\u001b[0m\u001b[0margs\u001b[0m\u001b[0;34m,\u001b[0m \u001b[0;34m**\u001b[0m\u001b[0mkwargs\u001b[0m\u001b[0;34m)\u001b[0m\u001b[0;34m\u001b[0m\u001b[0;34m\u001b[0m\u001b[0m\n\u001b[0m\u001b[1;32m   1521\u001b[0m \u001b[0;34m\u001b[0m\u001b[0m\n\u001b[1;32m   1522\u001b[0m         \u001b[0;32mtry\u001b[0m\u001b[0;34m:\u001b[0m\u001b[0;34m\u001b[0m\u001b[0;34m\u001b[0m\u001b[0m\n",
            "\u001b[0;32m~/.conda/envs/default/lib/python3.9/site-packages/transformers/models/bert/modeling_bert.py\u001b[0m in \u001b[0;36mforward\u001b[0;34m(self, hidden_states, attention_mask, head_mask, encoder_hidden_states, encoder_attention_mask, past_key_values, use_cache, output_attentions, output_hidden_states, return_dict)\u001b[0m\n\u001b[1;32m    605\u001b[0m                 )\n\u001b[1;32m    606\u001b[0m             \u001b[0;32melse\u001b[0m\u001b[0;34m:\u001b[0m\u001b[0;34m\u001b[0m\u001b[0;34m\u001b[0m\u001b[0m\n\u001b[0;32m--> 607\u001b[0;31m                 layer_outputs = layer_module(\n\u001b[0m\u001b[1;32m    608\u001b[0m                     \u001b[0mhidden_states\u001b[0m\u001b[0;34m,\u001b[0m\u001b[0;34m\u001b[0m\u001b[0;34m\u001b[0m\u001b[0m\n\u001b[1;32m    609\u001b[0m                     \u001b[0mattention_mask\u001b[0m\u001b[0;34m,\u001b[0m\u001b[0;34m\u001b[0m\u001b[0;34m\u001b[0m\u001b[0m\n",
            "\u001b[0;32m~/.conda/envs/default/lib/python3.9/site-packages/torch/nn/modules/module.py\u001b[0m in \u001b[0;36m_wrapped_call_impl\u001b[0;34m(self, *args, **kwargs)\u001b[0m\n\u001b[1;32m   1509\u001b[0m             \u001b[0;32mreturn\u001b[0m \u001b[0mself\u001b[0m\u001b[0;34m.\u001b[0m\u001b[0m_compiled_call_impl\u001b[0m\u001b[0;34m(\u001b[0m\u001b[0;34m*\u001b[0m\u001b[0margs\u001b[0m\u001b[0;34m,\u001b[0m \u001b[0;34m**\u001b[0m\u001b[0mkwargs\u001b[0m\u001b[0;34m)\u001b[0m  \u001b[0;31m# type: ignore[misc]\u001b[0m\u001b[0;34m\u001b[0m\u001b[0;34m\u001b[0m\u001b[0m\n\u001b[1;32m   1510\u001b[0m         \u001b[0;32melse\u001b[0m\u001b[0;34m:\u001b[0m\u001b[0;34m\u001b[0m\u001b[0;34m\u001b[0m\u001b[0m\n\u001b[0;32m-> 1511\u001b[0;31m             \u001b[0;32mreturn\u001b[0m \u001b[0mself\u001b[0m\u001b[0;34m.\u001b[0m\u001b[0m_call_impl\u001b[0m\u001b[0;34m(\u001b[0m\u001b[0;34m*\u001b[0m\u001b[0margs\u001b[0m\u001b[0;34m,\u001b[0m \u001b[0;34m**\u001b[0m\u001b[0mkwargs\u001b[0m\u001b[0;34m)\u001b[0m\u001b[0;34m\u001b[0m\u001b[0;34m\u001b[0m\u001b[0m\n\u001b[0m\u001b[1;32m   1512\u001b[0m \u001b[0;34m\u001b[0m\u001b[0m\n\u001b[1;32m   1513\u001b[0m     \u001b[0;32mdef\u001b[0m \u001b[0m_call_impl\u001b[0m\u001b[0;34m(\u001b[0m\u001b[0mself\u001b[0m\u001b[0;34m,\u001b[0m \u001b[0;34m*\u001b[0m\u001b[0margs\u001b[0m\u001b[0;34m,\u001b[0m \u001b[0;34m**\u001b[0m\u001b[0mkwargs\u001b[0m\u001b[0;34m)\u001b[0m\u001b[0;34m:\u001b[0m\u001b[0;34m\u001b[0m\u001b[0;34m\u001b[0m\u001b[0m\n",
            "\u001b[0;32m~/.conda/envs/default/lib/python3.9/site-packages/torch/nn/modules/module.py\u001b[0m in \u001b[0;36m_call_impl\u001b[0;34m(self, *args, **kwargs)\u001b[0m\n\u001b[1;32m   1518\u001b[0m                 \u001b[0;32mor\u001b[0m \u001b[0m_global_backward_pre_hooks\u001b[0m \u001b[0;32mor\u001b[0m \u001b[0m_global_backward_hooks\u001b[0m\u001b[0;34m\u001b[0m\u001b[0;34m\u001b[0m\u001b[0m\n\u001b[1;32m   1519\u001b[0m                 or _global_forward_hooks or _global_forward_pre_hooks):\n\u001b[0;32m-> 1520\u001b[0;31m             \u001b[0;32mreturn\u001b[0m \u001b[0mforward_call\u001b[0m\u001b[0;34m(\u001b[0m\u001b[0;34m*\u001b[0m\u001b[0margs\u001b[0m\u001b[0;34m,\u001b[0m \u001b[0;34m**\u001b[0m\u001b[0mkwargs\u001b[0m\u001b[0;34m)\u001b[0m\u001b[0;34m\u001b[0m\u001b[0;34m\u001b[0m\u001b[0m\n\u001b[0m\u001b[1;32m   1521\u001b[0m \u001b[0;34m\u001b[0m\u001b[0m\n\u001b[1;32m   1522\u001b[0m         \u001b[0;32mtry\u001b[0m\u001b[0;34m:\u001b[0m\u001b[0;34m\u001b[0m\u001b[0;34m\u001b[0m\u001b[0m\n",
            "\u001b[0;32m~/.conda/envs/default/lib/python3.9/site-packages/transformers/models/bert/modeling_bert.py\u001b[0m in \u001b[0;36mforward\u001b[0;34m(self, hidden_states, attention_mask, head_mask, encoder_hidden_states, encoder_attention_mask, past_key_value, output_attentions)\u001b[0m\n\u001b[1;32m    495\u001b[0m         \u001b[0;31m# decoder uni-directional self-attention cached key/values tuple is at positions 1,2\u001b[0m\u001b[0;34m\u001b[0m\u001b[0;34m\u001b[0m\u001b[0m\n\u001b[1;32m    496\u001b[0m         \u001b[0mself_attn_past_key_value\u001b[0m \u001b[0;34m=\u001b[0m \u001b[0mpast_key_value\u001b[0m\u001b[0;34m[\u001b[0m\u001b[0;34m:\u001b[0m\u001b[0;36m2\u001b[0m\u001b[0;34m]\u001b[0m \u001b[0;32mif\u001b[0m \u001b[0mpast_key_value\u001b[0m \u001b[0;32mis\u001b[0m \u001b[0;32mnot\u001b[0m \u001b[0;32mNone\u001b[0m \u001b[0;32melse\u001b[0m \u001b[0;32mNone\u001b[0m\u001b[0;34m\u001b[0m\u001b[0;34m\u001b[0m\u001b[0m\n\u001b[0;32m--> 497\u001b[0;31m         self_attention_outputs = self.attention(\n\u001b[0m\u001b[1;32m    498\u001b[0m             \u001b[0mhidden_states\u001b[0m\u001b[0;34m,\u001b[0m\u001b[0;34m\u001b[0m\u001b[0;34m\u001b[0m\u001b[0m\n\u001b[1;32m    499\u001b[0m             \u001b[0mattention_mask\u001b[0m\u001b[0;34m,\u001b[0m\u001b[0;34m\u001b[0m\u001b[0;34m\u001b[0m\u001b[0m\n",
            "\u001b[0;32m~/.conda/envs/default/lib/python3.9/site-packages/torch/nn/modules/module.py\u001b[0m in \u001b[0;36m_wrapped_call_impl\u001b[0;34m(self, *args, **kwargs)\u001b[0m\n\u001b[1;32m   1509\u001b[0m             \u001b[0;32mreturn\u001b[0m \u001b[0mself\u001b[0m\u001b[0;34m.\u001b[0m\u001b[0m_compiled_call_impl\u001b[0m\u001b[0;34m(\u001b[0m\u001b[0;34m*\u001b[0m\u001b[0margs\u001b[0m\u001b[0;34m,\u001b[0m \u001b[0;34m**\u001b[0m\u001b[0mkwargs\u001b[0m\u001b[0;34m)\u001b[0m  \u001b[0;31m# type: ignore[misc]\u001b[0m\u001b[0;34m\u001b[0m\u001b[0;34m\u001b[0m\u001b[0m\n\u001b[1;32m   1510\u001b[0m         \u001b[0;32melse\u001b[0m\u001b[0;34m:\u001b[0m\u001b[0;34m\u001b[0m\u001b[0;34m\u001b[0m\u001b[0m\n\u001b[0;32m-> 1511\u001b[0;31m             \u001b[0;32mreturn\u001b[0m \u001b[0mself\u001b[0m\u001b[0;34m.\u001b[0m\u001b[0m_call_impl\u001b[0m\u001b[0;34m(\u001b[0m\u001b[0;34m*\u001b[0m\u001b[0margs\u001b[0m\u001b[0;34m,\u001b[0m \u001b[0;34m**\u001b[0m\u001b[0mkwargs\u001b[0m\u001b[0;34m)\u001b[0m\u001b[0;34m\u001b[0m\u001b[0;34m\u001b[0m\u001b[0m\n\u001b[0m\u001b[1;32m   1512\u001b[0m \u001b[0;34m\u001b[0m\u001b[0m\n\u001b[1;32m   1513\u001b[0m     \u001b[0;32mdef\u001b[0m \u001b[0m_call_impl\u001b[0m\u001b[0;34m(\u001b[0m\u001b[0mself\u001b[0m\u001b[0;34m,\u001b[0m \u001b[0;34m*\u001b[0m\u001b[0margs\u001b[0m\u001b[0;34m,\u001b[0m \u001b[0;34m**\u001b[0m\u001b[0mkwargs\u001b[0m\u001b[0;34m)\u001b[0m\u001b[0;34m:\u001b[0m\u001b[0;34m\u001b[0m\u001b[0;34m\u001b[0m\u001b[0m\n",
            "\u001b[0;32m~/.conda/envs/default/lib/python3.9/site-packages/torch/nn/modules/module.py\u001b[0m in \u001b[0;36m_call_impl\u001b[0;34m(self, *args, **kwargs)\u001b[0m\n\u001b[1;32m   1518\u001b[0m                 \u001b[0;32mor\u001b[0m \u001b[0m_global_backward_pre_hooks\u001b[0m \u001b[0;32mor\u001b[0m \u001b[0m_global_backward_hooks\u001b[0m\u001b[0;34m\u001b[0m\u001b[0;34m\u001b[0m\u001b[0m\n\u001b[1;32m   1519\u001b[0m                 or _global_forward_hooks or _global_forward_pre_hooks):\n\u001b[0;32m-> 1520\u001b[0;31m             \u001b[0;32mreturn\u001b[0m \u001b[0mforward_call\u001b[0m\u001b[0;34m(\u001b[0m\u001b[0;34m*\u001b[0m\u001b[0margs\u001b[0m\u001b[0;34m,\u001b[0m \u001b[0;34m**\u001b[0m\u001b[0mkwargs\u001b[0m\u001b[0;34m)\u001b[0m\u001b[0;34m\u001b[0m\u001b[0;34m\u001b[0m\u001b[0m\n\u001b[0m\u001b[1;32m   1521\u001b[0m \u001b[0;34m\u001b[0m\u001b[0m\n\u001b[1;32m   1522\u001b[0m         \u001b[0;32mtry\u001b[0m\u001b[0;34m:\u001b[0m\u001b[0;34m\u001b[0m\u001b[0;34m\u001b[0m\u001b[0m\n",
            "\u001b[0;32m~/.conda/envs/default/lib/python3.9/site-packages/transformers/models/bert/modeling_bert.py\u001b[0m in \u001b[0;36mforward\u001b[0;34m(self, hidden_states, attention_mask, head_mask, encoder_hidden_states, encoder_attention_mask, past_key_value, output_attentions)\u001b[0m\n\u001b[1;32m    425\u001b[0m         \u001b[0moutput_attentions\u001b[0m\u001b[0;34m:\u001b[0m \u001b[0mOptional\u001b[0m\u001b[0;34m[\u001b[0m\u001b[0mbool\u001b[0m\u001b[0;34m]\u001b[0m \u001b[0;34m=\u001b[0m \u001b[0;32mFalse\u001b[0m\u001b[0;34m,\u001b[0m\u001b[0;34m\u001b[0m\u001b[0;34m\u001b[0m\u001b[0m\n\u001b[1;32m    426\u001b[0m     ) -> Tuple[torch.Tensor]:\n\u001b[0;32m--> 427\u001b[0;31m         self_outputs = self.self(\n\u001b[0m\u001b[1;32m    428\u001b[0m             \u001b[0mhidden_states\u001b[0m\u001b[0;34m,\u001b[0m\u001b[0;34m\u001b[0m\u001b[0;34m\u001b[0m\u001b[0m\n\u001b[1;32m    429\u001b[0m             \u001b[0mattention_mask\u001b[0m\u001b[0;34m,\u001b[0m\u001b[0;34m\u001b[0m\u001b[0;34m\u001b[0m\u001b[0m\n",
            "\u001b[0;32m~/.conda/envs/default/lib/python3.9/site-packages/torch/nn/modules/module.py\u001b[0m in \u001b[0;36m_wrapped_call_impl\u001b[0;34m(self, *args, **kwargs)\u001b[0m\n\u001b[1;32m   1509\u001b[0m             \u001b[0;32mreturn\u001b[0m \u001b[0mself\u001b[0m\u001b[0;34m.\u001b[0m\u001b[0m_compiled_call_impl\u001b[0m\u001b[0;34m(\u001b[0m\u001b[0;34m*\u001b[0m\u001b[0margs\u001b[0m\u001b[0;34m,\u001b[0m \u001b[0;34m**\u001b[0m\u001b[0mkwargs\u001b[0m\u001b[0;34m)\u001b[0m  \u001b[0;31m# type: ignore[misc]\u001b[0m\u001b[0;34m\u001b[0m\u001b[0;34m\u001b[0m\u001b[0m\n\u001b[1;32m   1510\u001b[0m         \u001b[0;32melse\u001b[0m\u001b[0;34m:\u001b[0m\u001b[0;34m\u001b[0m\u001b[0;34m\u001b[0m\u001b[0m\n\u001b[0;32m-> 1511\u001b[0;31m             \u001b[0;32mreturn\u001b[0m \u001b[0mself\u001b[0m\u001b[0;34m.\u001b[0m\u001b[0m_call_impl\u001b[0m\u001b[0;34m(\u001b[0m\u001b[0;34m*\u001b[0m\u001b[0margs\u001b[0m\u001b[0;34m,\u001b[0m \u001b[0;34m**\u001b[0m\u001b[0mkwargs\u001b[0m\u001b[0;34m)\u001b[0m\u001b[0;34m\u001b[0m\u001b[0;34m\u001b[0m\u001b[0m\n\u001b[0m\u001b[1;32m   1512\u001b[0m \u001b[0;34m\u001b[0m\u001b[0m\n\u001b[1;32m   1513\u001b[0m     \u001b[0;32mdef\u001b[0m \u001b[0m_call_impl\u001b[0m\u001b[0;34m(\u001b[0m\u001b[0mself\u001b[0m\u001b[0;34m,\u001b[0m \u001b[0;34m*\u001b[0m\u001b[0margs\u001b[0m\u001b[0;34m,\u001b[0m \u001b[0;34m**\u001b[0m\u001b[0mkwargs\u001b[0m\u001b[0;34m)\u001b[0m\u001b[0;34m:\u001b[0m\u001b[0;34m\u001b[0m\u001b[0;34m\u001b[0m\u001b[0m\n",
            "\u001b[0;32m~/.conda/envs/default/lib/python3.9/site-packages/torch/nn/modules/module.py\u001b[0m in \u001b[0;36m_call_impl\u001b[0;34m(self, *args, **kwargs)\u001b[0m\n\u001b[1;32m   1518\u001b[0m                 \u001b[0;32mor\u001b[0m \u001b[0m_global_backward_pre_hooks\u001b[0m \u001b[0;32mor\u001b[0m \u001b[0m_global_backward_hooks\u001b[0m\u001b[0;34m\u001b[0m\u001b[0;34m\u001b[0m\u001b[0m\n\u001b[1;32m   1519\u001b[0m                 or _global_forward_hooks or _global_forward_pre_hooks):\n\u001b[0;32m-> 1520\u001b[0;31m             \u001b[0;32mreturn\u001b[0m \u001b[0mforward_call\u001b[0m\u001b[0;34m(\u001b[0m\u001b[0;34m*\u001b[0m\u001b[0margs\u001b[0m\u001b[0;34m,\u001b[0m \u001b[0;34m**\u001b[0m\u001b[0mkwargs\u001b[0m\u001b[0;34m)\u001b[0m\u001b[0;34m\u001b[0m\u001b[0;34m\u001b[0m\u001b[0m\n\u001b[0m\u001b[1;32m   1521\u001b[0m \u001b[0;34m\u001b[0m\u001b[0m\n\u001b[1;32m   1522\u001b[0m         \u001b[0;32mtry\u001b[0m\u001b[0;34m:\u001b[0m\u001b[0;34m\u001b[0m\u001b[0;34m\u001b[0m\u001b[0m\n",
            "\u001b[0;32m~/.conda/envs/default/lib/python3.9/site-packages/transformers/models/bert/modeling_bert.py\u001b[0m in \u001b[0;36mforward\u001b[0;34m(self, hidden_states, attention_mask, head_mask, encoder_hidden_states, encoder_attention_mask, past_key_value, output_attentions)\u001b[0m\n\u001b[1;32m    357\u001b[0m         \u001b[0;31m# This is actually dropping out entire tokens to attend to, which might\u001b[0m\u001b[0;34m\u001b[0m\u001b[0;34m\u001b[0m\u001b[0m\n\u001b[1;32m    358\u001b[0m         \u001b[0;31m# seem a bit unusual, but is taken from the original Transformer paper.\u001b[0m\u001b[0;34m\u001b[0m\u001b[0;34m\u001b[0m\u001b[0m\n\u001b[0;32m--> 359\u001b[0;31m         \u001b[0mattention_probs\u001b[0m \u001b[0;34m=\u001b[0m \u001b[0mself\u001b[0m\u001b[0;34m.\u001b[0m\u001b[0mdropout\u001b[0m\u001b[0;34m(\u001b[0m\u001b[0mattention_probs\u001b[0m\u001b[0;34m)\u001b[0m\u001b[0;34m\u001b[0m\u001b[0;34m\u001b[0m\u001b[0m\n\u001b[0m\u001b[1;32m    360\u001b[0m \u001b[0;34m\u001b[0m\u001b[0m\n\u001b[1;32m    361\u001b[0m         \u001b[0;31m# Mask heads if we want to\u001b[0m\u001b[0;34m\u001b[0m\u001b[0;34m\u001b[0m\u001b[0m\n",
            "\u001b[0;32m~/.conda/envs/default/lib/python3.9/site-packages/torch/nn/modules/module.py\u001b[0m in \u001b[0;36m_wrapped_call_impl\u001b[0;34m(self, *args, **kwargs)\u001b[0m\n\u001b[1;32m   1509\u001b[0m             \u001b[0;32mreturn\u001b[0m \u001b[0mself\u001b[0m\u001b[0;34m.\u001b[0m\u001b[0m_compiled_call_impl\u001b[0m\u001b[0;34m(\u001b[0m\u001b[0;34m*\u001b[0m\u001b[0margs\u001b[0m\u001b[0;34m,\u001b[0m \u001b[0;34m**\u001b[0m\u001b[0mkwargs\u001b[0m\u001b[0;34m)\u001b[0m  \u001b[0;31m# type: ignore[misc]\u001b[0m\u001b[0;34m\u001b[0m\u001b[0;34m\u001b[0m\u001b[0m\n\u001b[1;32m   1510\u001b[0m         \u001b[0;32melse\u001b[0m\u001b[0;34m:\u001b[0m\u001b[0;34m\u001b[0m\u001b[0;34m\u001b[0m\u001b[0m\n\u001b[0;32m-> 1511\u001b[0;31m             \u001b[0;32mreturn\u001b[0m \u001b[0mself\u001b[0m\u001b[0;34m.\u001b[0m\u001b[0m_call_impl\u001b[0m\u001b[0;34m(\u001b[0m\u001b[0;34m*\u001b[0m\u001b[0margs\u001b[0m\u001b[0;34m,\u001b[0m \u001b[0;34m**\u001b[0m\u001b[0mkwargs\u001b[0m\u001b[0;34m)\u001b[0m\u001b[0;34m\u001b[0m\u001b[0;34m\u001b[0m\u001b[0m\n\u001b[0m\u001b[1;32m   1512\u001b[0m \u001b[0;34m\u001b[0m\u001b[0m\n\u001b[1;32m   1513\u001b[0m     \u001b[0;32mdef\u001b[0m \u001b[0m_call_impl\u001b[0m\u001b[0;34m(\u001b[0m\u001b[0mself\u001b[0m\u001b[0;34m,\u001b[0m \u001b[0;34m*\u001b[0m\u001b[0margs\u001b[0m\u001b[0;34m,\u001b[0m \u001b[0;34m**\u001b[0m\u001b[0mkwargs\u001b[0m\u001b[0;34m)\u001b[0m\u001b[0;34m:\u001b[0m\u001b[0;34m\u001b[0m\u001b[0;34m\u001b[0m\u001b[0m\n",
            "\u001b[0;32m~/.conda/envs/default/lib/python3.9/site-packages/torch/nn/modules/module.py\u001b[0m in \u001b[0;36m_call_impl\u001b[0;34m(self, *args, **kwargs)\u001b[0m\n\u001b[1;32m   1518\u001b[0m                 \u001b[0;32mor\u001b[0m \u001b[0m_global_backward_pre_hooks\u001b[0m \u001b[0;32mor\u001b[0m \u001b[0m_global_backward_hooks\u001b[0m\u001b[0;34m\u001b[0m\u001b[0;34m\u001b[0m\u001b[0m\n\u001b[1;32m   1519\u001b[0m                 or _global_forward_hooks or _global_forward_pre_hooks):\n\u001b[0;32m-> 1520\u001b[0;31m             \u001b[0;32mreturn\u001b[0m \u001b[0mforward_call\u001b[0m\u001b[0;34m(\u001b[0m\u001b[0;34m*\u001b[0m\u001b[0margs\u001b[0m\u001b[0;34m,\u001b[0m \u001b[0;34m**\u001b[0m\u001b[0mkwargs\u001b[0m\u001b[0;34m)\u001b[0m\u001b[0;34m\u001b[0m\u001b[0;34m\u001b[0m\u001b[0m\n\u001b[0m\u001b[1;32m   1521\u001b[0m \u001b[0;34m\u001b[0m\u001b[0m\n\u001b[1;32m   1522\u001b[0m         \u001b[0;32mtry\u001b[0m\u001b[0;34m:\u001b[0m\u001b[0;34m\u001b[0m\u001b[0;34m\u001b[0m\u001b[0m\n",
            "\u001b[0;32m~/.conda/envs/default/lib/python3.9/site-packages/torch/nn/modules/dropout.py\u001b[0m in \u001b[0;36mforward\u001b[0;34m(self, input)\u001b[0m\n\u001b[1;32m     57\u001b[0m \u001b[0;34m\u001b[0m\u001b[0m\n\u001b[1;32m     58\u001b[0m     \u001b[0;32mdef\u001b[0m \u001b[0mforward\u001b[0m\u001b[0;34m(\u001b[0m\u001b[0mself\u001b[0m\u001b[0;34m,\u001b[0m \u001b[0minput\u001b[0m\u001b[0;34m:\u001b[0m \u001b[0mTensor\u001b[0m\u001b[0;34m)\u001b[0m \u001b[0;34m->\u001b[0m \u001b[0mTensor\u001b[0m\u001b[0;34m:\u001b[0m\u001b[0;34m\u001b[0m\u001b[0;34m\u001b[0m\u001b[0m\n\u001b[0;32m---> 59\u001b[0;31m         \u001b[0;32mreturn\u001b[0m \u001b[0mF\u001b[0m\u001b[0;34m.\u001b[0m\u001b[0mdropout\u001b[0m\u001b[0;34m(\u001b[0m\u001b[0minput\u001b[0m\u001b[0;34m,\u001b[0m \u001b[0mself\u001b[0m\u001b[0;34m.\u001b[0m\u001b[0mp\u001b[0m\u001b[0;34m,\u001b[0m \u001b[0mself\u001b[0m\u001b[0;34m.\u001b[0m\u001b[0mtraining\u001b[0m\u001b[0;34m,\u001b[0m \u001b[0mself\u001b[0m\u001b[0;34m.\u001b[0m\u001b[0minplace\u001b[0m\u001b[0;34m)\u001b[0m\u001b[0;34m\u001b[0m\u001b[0;34m\u001b[0m\u001b[0m\n\u001b[0m\u001b[1;32m     60\u001b[0m \u001b[0;34m\u001b[0m\u001b[0m\n\u001b[1;32m     61\u001b[0m \u001b[0;34m\u001b[0m\u001b[0m\n",
            "\u001b[0;32m~/.conda/envs/default/lib/python3.9/site-packages/torch/nn/functional.py\u001b[0m in \u001b[0;36mdropout\u001b[0;34m(input, p, training, inplace)\u001b[0m\n\u001b[1;32m   1266\u001b[0m     \u001b[0;32mif\u001b[0m \u001b[0mp\u001b[0m \u001b[0;34m<\u001b[0m \u001b[0;36m0.0\u001b[0m \u001b[0;32mor\u001b[0m \u001b[0mp\u001b[0m \u001b[0;34m>\u001b[0m \u001b[0;36m1.0\u001b[0m\u001b[0;34m:\u001b[0m\u001b[0;34m\u001b[0m\u001b[0;34m\u001b[0m\u001b[0m\n\u001b[1;32m   1267\u001b[0m         \u001b[0;32mraise\u001b[0m \u001b[0mValueError\u001b[0m\u001b[0;34m(\u001b[0m\u001b[0;34mf\"dropout probability has to be between 0 and 1, but got {p}\"\u001b[0m\u001b[0;34m)\u001b[0m\u001b[0;34m\u001b[0m\u001b[0;34m\u001b[0m\u001b[0m\n\u001b[0;32m-> 1268\u001b[0;31m     \u001b[0;32mreturn\u001b[0m \u001b[0m_VF\u001b[0m\u001b[0;34m.\u001b[0m\u001b[0mdropout_\u001b[0m\u001b[0;34m(\u001b[0m\u001b[0minput\u001b[0m\u001b[0;34m,\u001b[0m \u001b[0mp\u001b[0m\u001b[0;34m,\u001b[0m \u001b[0mtraining\u001b[0m\u001b[0;34m)\u001b[0m \u001b[0;32mif\u001b[0m \u001b[0minplace\u001b[0m \u001b[0;32melse\u001b[0m \u001b[0m_VF\u001b[0m\u001b[0;34m.\u001b[0m\u001b[0mdropout\u001b[0m\u001b[0;34m(\u001b[0m\u001b[0minput\u001b[0m\u001b[0;34m,\u001b[0m \u001b[0mp\u001b[0m\u001b[0;34m,\u001b[0m \u001b[0mtraining\u001b[0m\u001b[0;34m)\u001b[0m\u001b[0;34m\u001b[0m\u001b[0;34m\u001b[0m\u001b[0m\n\u001b[0m\u001b[1;32m   1269\u001b[0m \u001b[0;34m\u001b[0m\u001b[0m\n\u001b[1;32m   1270\u001b[0m \u001b[0;34m\u001b[0m\u001b[0m\n",
            "\u001b[0;32m~/.conda/envs/default/lib/python3.9/site-packages/torch/utils/data/_utils/signal_handling.py\u001b[0m in \u001b[0;36mhandler\u001b[0;34m(signum, frame)\u001b[0m\n\u001b[1;32m     64\u001b[0m         \u001b[0;31m# This following call uses `waitid` with WNOHANG from C side. Therefore,\u001b[0m\u001b[0;34m\u001b[0m\u001b[0;34m\u001b[0m\u001b[0m\n\u001b[1;32m     65\u001b[0m         \u001b[0;31m# Python can still get and update the process status successfully.\u001b[0m\u001b[0;34m\u001b[0m\u001b[0;34m\u001b[0m\u001b[0m\n\u001b[0;32m---> 66\u001b[0;31m         \u001b[0m_error_if_any_worker_fails\u001b[0m\u001b[0;34m(\u001b[0m\u001b[0;34m)\u001b[0m\u001b[0;34m\u001b[0m\u001b[0;34m\u001b[0m\u001b[0m\n\u001b[0m\u001b[1;32m     67\u001b[0m         \u001b[0;32mif\u001b[0m \u001b[0mprevious_handler\u001b[0m \u001b[0;32mis\u001b[0m \u001b[0;32mnot\u001b[0m \u001b[0;32mNone\u001b[0m\u001b[0;34m:\u001b[0m\u001b[0;34m\u001b[0m\u001b[0;34m\u001b[0m\u001b[0m\n\u001b[1;32m     68\u001b[0m             \u001b[0;32massert\u001b[0m \u001b[0mcallable\u001b[0m\u001b[0;34m(\u001b[0m\u001b[0mprevious_handler\u001b[0m\u001b[0;34m)\u001b[0m\u001b[0;34m\u001b[0m\u001b[0;34m\u001b[0m\u001b[0m\n",
            "\u001b[0;31mRuntimeError\u001b[0m: DataLoader worker (pid 441) is killed by signal: Killed. "
          ]
        }
      ],
      "source": [
        "%%time\n",
        "\n",
        "best_score = 1000\n",
        "train_accs = []\n",
        "valid_accs = []\n",
        "train_losses = []\n",
        "valid_losses = []\n",
        "\n",
        "for eboch in tqdm(range(epochs)):\n",
        "\n",
        "    train_loss, train_acc = training(train_dataloader, model, optimizer, scheduler)\n",
        "    valid_loss, valid_acc, valid_probs = validating(valid_dataloader, model)\n",
        "\n",
        "    print('train losses: %.4f' % train_loss, 'train accuracy: %.3f' % train_acc)\n",
        "    print('valid losses: %.4f' % valid_loss, 'valid accuracy: %.3f' % valid_acc)\n",
        "    train_losses.append(train_loss)\n",
        "    valid_losses.append(valid_loss)\n",
        "    train_accs.append(train_acc)\n",
        "    valid_accs.append(valid_acc)\n",
        "\n",
        "\n",
        "    if valid_loss < best_score:\n",
        "        best_score = valid_loss\n",
        "        print('Found a good model!')\n",
        "        state = {\n",
        "            'state_dict': model.state_dict(),\n",
        "            'optimizer_dict': optimizer.state_dict(),\n",
        "            'best_score': best_score\n",
        "        }\n",
        "        torch.save(state, 'best_model.pth')\n",
        "    else:\n",
        "        pass"
      ]
    },
    {
      "cell_type": "markdown",
      "metadata": {
        "id": "bx61jwHLmuXa"
      },
      "source": [
        "### b. Plotting the results"
      ]
    },
    {
      "cell_type": "code",
      "execution_count": null,
      "metadata": {
        "execution": {
          "iopub.execute_input": "2024-04-20T19:07:40.572366Z",
          "iopub.status.busy": "2024-04-20T19:07:40.571986Z",
          "iopub.status.idle": "2024-04-20T19:07:40.937665Z",
          "shell.execute_reply": "2024-04-20T19:07:40.936765Z",
          "shell.execute_reply.started": "2024-04-20T19:07:40.572317Z"
        },
        "id": "bSL9JiqGmuXb"
      },
      "outputs": [],
      "source": [
        "x = np.arange(epochs)\n",
        "fig, ax = plt.subplots(1, 2, figsize = (15,4))\n",
        "ax[0].plot(x, train_losses)\n",
        "ax[0].plot(x, valid_losses)\n",
        "ax[0].set_ylabel('Losses', weight = 'bold')\n",
        "ax[0].set_xlabel('Epochs')\n",
        "ax[0].grid(alpha = 0.3)\n",
        "ax[0].legend(labels = ['train losses', 'valid losses'])\n",
        "\n",
        "ax[1].plot(x, train_accs)\n",
        "ax[1].plot(x, valid_accs)\n",
        "ax[1].set_ylabel('Accuracy', weight = 'bold')\n",
        "ax[1].set_xlabel('Epochs')\n",
        "ax[1].legend(labels = ['train acc', 'valid acc'])\n",
        "\n",
        "ax[1].grid(alpha = 0.3)\n",
        "fig.suptitle('Fold = 0', weight = 'bold')\n"
      ]
    },
    {
      "cell_type": "markdown",
      "metadata": {
        "id": "AVe4PJ8ZmuXb"
      },
      "source": [
        "## 7. Evaluation\n",
        "We use auc as a metric of evaluation in this report."
      ]
    },
    {
      "cell_type": "code",
      "execution_count": null,
      "metadata": {
        "execution": {
          "iopub.execute_input": "2024-04-20T19:07:49.196866Z",
          "iopub.status.busy": "2024-04-20T19:07:49.196519Z",
          "iopub.status.idle": "2024-04-20T19:07:49.759179Z",
          "shell.execute_reply": "2024-04-20T19:07:49.758102Z",
          "shell.execute_reply.started": "2024-04-20T19:07:49.196836Z"
        },
        "id": "YXYkkjgJmuXc"
      },
      "outputs": [],
      "source": [
        "valid_loss, valid_acc, valid_probs = validating(valid_dataloader, model)\n",
        "valid_probs = np.asarray(valid_probs).flatten()\n",
        "y_valid = p_valid[['toxic', 'severe_toxic','obscene', 'threat', 'insult','identity_hate']].to_numpy().flatten()\n",
        "fpr, tpr, _ = roc_curve(y_valid, valid_probs)"
      ]
    },
    {
      "cell_type": "code",
      "execution_count": null,
      "metadata": {
        "execution": {
          "iopub.execute_input": "2024-04-20T19:07:54.236889Z",
          "iopub.status.busy": "2024-04-20T19:07:54.236514Z",
          "iopub.status.idle": "2024-04-20T19:07:54.376142Z",
          "shell.execute_reply": "2024-04-20T19:07:54.375127Z",
          "shell.execute_reply.started": "2024-04-20T19:07:54.236851Z"
        },
        "id": "QMRLJZQpmuXe"
      },
      "outputs": [],
      "source": [
        "fig, ax = plt.subplots()\n",
        "ax.plot(fpr, tpr)\n",
        "ax.set_title('ROC Curv')\n",
        "ax.set_xlabel('FPR')\n",
        "ax.set_ylabel('TPR')\n",
        "plt.show()"
      ]
    },
    {
      "cell_type": "code",
      "execution_count": null,
      "metadata": {
        "execution": {
          "iopub.execute_input": "2024-04-20T19:08:00.965698Z",
          "iopub.status.busy": "2024-04-20T19:08:00.965126Z",
          "iopub.status.idle": "2024-04-20T19:08:00.974015Z",
          "shell.execute_reply": "2024-04-20T19:08:00.972907Z",
          "shell.execute_reply.started": "2024-04-20T19:08:00.965646Z"
        },
        "id": "n8yB0uK1muXe"
      },
      "outputs": [],
      "source": [
        "auc(fpr, tpr)"
      ]
    },
    {
      "cell_type": "markdown",
      "metadata": {
        "id": "9oY0jdOCmuXe"
      },
      "source": [
        "## PART II"
      ]
    },
    {
      "cell_type": "markdown",
      "metadata": {
        "id": "wiMZH7BqmuXf"
      },
      "source": [
        "You can start to run the notebook from here until the end. I have copied all the necessary parts from part I in this notebook. The objective here is to show how the model works for 5 different folds. epochs is set to 5 and the first 2000 rows of the trianing set is used. Feel free to change these parameters and see how it affects the accuracy."
      ]
    },
    {
      "cell_type": "code",
      "execution_count": null,
      "metadata": {
        "execution": {
          "iopub.execute_input": "2024-04-20T19:10:08.555124Z",
          "iopub.status.busy": "2024-04-20T19:10:08.554868Z",
          "iopub.status.idle": "2024-04-20T19:10:18.346121Z",
          "shell.execute_reply": "2024-04-20T19:10:18.345171Z",
          "shell.execute_reply.started": "2024-04-20T19:10:08.5551Z"
        },
        "id": "B633d1DUmuXf"
      },
      "outputs": [],
      "source": [
        "%%time\n",
        "import numpy as np\n",
        "import pandas as pd\n",
        "import os\n",
        "import random\n",
        "import time\n",
        "\n",
        "import re\n",
        "import string\n",
        "import nltk\n",
        "from nltk.corpus import stopwords\n",
        "\n",
        "import matplotlib.pyplot as plt\n",
        "import seaborn as sns\n",
        "sns.set(style=\"ticks\", context=\"talk\")\n",
        "plt.style.use('dark_background')\n",
        "\n",
        "from tqdm import tqdm\n",
        "\n",
        "import torch\n",
        "import torch.nn as nn\n",
        "import torch.nn.functional as func\n",
        "from torch.utils.data import DataLoader, Dataset\n",
        "\n",
        "import transformers\n",
        "from transformers import AdamW, get_linear_schedule_with_warmup\n",
        "\n",
        "import tokenizers\n",
        "from sklearn.metrics import mean_squared_error, roc_auc_score, roc_curve, auc\n",
        "\n",
        "import warnings\n",
        "warnings.simplefilter('ignore')\n",
        "\n",
        "train = pd.read_csv('../input/jigsaw-toxic-comment-classification-challenge/train.csv.zip', nrows = 2000)\n",
        "test = pd.read_csv('../input/jigsaw-toxic-comment-classification-challenge/test.csv.zip', nrows = 100)\n",
        "submission = pd.read_csv('../input/jigsaw-toxic-comment-classification-challenge/sample_submission.csv.zip')\n",
        "\n",
        "SEED = 34\n",
        "def random_seed(SEED):\n",
        "    random.seed(SEED)\n",
        "    os.environ['PYTHONHASHSEED'] = str(SEED)\n",
        "    np.random.seed(SEED)\n",
        "    torch.manual_seed(SEED)\n",
        "    torch.cuda.manual_seed(SEED)\n",
        "    torch.cuda.manual_seed_all(SEED)\n",
        "    torch.backends.cudnn.deterministic = True\n",
        "random_seed(SEED)\n",
        "\n",
        "def clean_text(text):\n",
        "\n",
        "    text = re.sub('\\[.*?\\]', '', text)\n",
        "    text = re.sub('https?://\\S+|www\\.\\S+', '', text)\n",
        "    text = re.sub('<.*?>+', '', text)\n",
        "    text = re.sub('[%s]' % re.escape(string.punctuation), '', text)\n",
        "    text = re.sub('\\n', '', text)\n",
        "    text = re.sub('\\w*\\d\\w*', '', text)\n",
        "    return text\n",
        "\n",
        "\n",
        "train['clean_text'] = train['comment_text'].apply(str).apply(lambda x: clean_text(x))\n",
        "test['clean_text'] = test['comment_text'].apply(str).apply(lambda x: clean_text(x))\n",
        "\n",
        "kfold = 5\n",
        "train['kfold'] = train.index % kfold\n",
        "\n",
        "tokenizer = transformers.BertTokenizer.from_pretrained('bert-base-cased')\n",
        "max_len = 200\n",
        "\n",
        "class BertDataSet(Dataset):\n",
        "\n",
        "    def __init__(self, sentences, toxic_labels):\n",
        "        self.sentences = sentences\n",
        "        #target is a matrix with shape [#1 x #6(toxic, obscene, etc)]\n",
        "        self.targets = toxic_labels.to_numpy()\n",
        "\n",
        "    def __len__(self):\n",
        "        return len(self.sentences)\n",
        "\n",
        "\n",
        "    def __getitem__(self, idx):\n",
        "        sentence = self.sentences[idx]\n",
        "        bert_senten = tokenizer.encode_plus(sentence,\n",
        "                                            add_special_tokens = True, # [CLS],[SEP]\n",
        "                                            max_length = max_len,\n",
        "                                            pad_to_max_length = True,\n",
        "                                            truncation = True,\n",
        "                                            return_attention_mask = True\n",
        "                                             )\n",
        "        ids = torch.tensor(bert_senten['input_ids'], dtype = torch.long)\n",
        "        mask = torch.tensor(bert_senten['attention_mask'], dtype = torch.long)\n",
        "        toxic_label = torch.tensor(self.targets[idx], dtype = torch.float)\n",
        "\n",
        "\n",
        "        return {\n",
        "            'ids' : ids,\n",
        "            'mask' : mask,\n",
        "            'toxic_label':toxic_label\n",
        "        }\n",
        "\n",
        "epochs = 5\n",
        "train_batch = 32\n",
        "valid_batch = 32\n",
        "device = torch.device('cuda' if torch.cuda.is_available() else 'cpu')\n",
        "\n",
        "loss_fn = nn.BCEWithLogitsLoss()\n",
        "loss_fn.to(device)\n",
        "scaler = torch.cuda.amp.GradScaler()\n",
        "\n",
        "def training(train_dataloader, model, optimizer, scheduler):\n",
        "    model.train()\n",
        "    torch.backends.cudnn.benchmark = True\n",
        "    correct_predictions = 0\n",
        "\n",
        "    for a in train_dataloader:\n",
        "        losses = []\n",
        "        optimizer.zero_grad()\n",
        "\n",
        "        #allpreds = []\n",
        "        #alltargets = []\n",
        "\n",
        "        with torch.cuda.amp.autocast():\n",
        "\n",
        "            ids = a['ids'].to(device, non_blocking = True)\n",
        "            mask = a['mask'].to(device, non_blocking = True)\n",
        "\n",
        "            output = model(ids, mask) #This gives model as output, however we want the values at the output\n",
        "            output = output['logits'].squeeze(-1).to(torch.float32)\n",
        "\n",
        "            output_probs = torch.sigmoid(output)\n",
        "            preds = torch.where(output_probs > 0.5, 1, 0)\n",
        "\n",
        "            toxic_label = a['toxic_label'].to(device, non_blocking = True)\n",
        "            loss = loss_fn(output, toxic_label)\n",
        "\n",
        "            losses.append(loss.item())\n",
        "            #allpreds.append(output.detach().cpu().numpy())\n",
        "            #alltargets.append(toxic.detach().squeeze(-1).cpu().numpy())\n",
        "            correct_predictions += torch.sum(preds == toxic_label)\n",
        "\n",
        "        scaler.scale(loss).backward() #Multiplies (‘scales’) a tensor or list of tensors by the scale factor.\n",
        "                                      #Returns scaled outputs. If this instance of GradScaler is not enabled, outputs are returned unmodified.\n",
        "        scaler.step(optimizer) #Returns the return value of optimizer.step(*args, **kwargs).\n",
        "        scaler.update() #Updates the scale factor.If any optimizer steps were skipped the scale is multiplied by backoff_factor to reduce it.\n",
        "                        #If growth_interval unskipped iterations occurred consecutively, the scale is multiplied by growth_factor to increase it\n",
        "        scheduler.step() # Update learning rate schedule\n",
        "\n",
        "    losses = np.mean(losses)\n",
        "    corr_preds = correct_predictions.detach().cpu().numpy()\n",
        "    accuracy = corr_preds/(len(p_train)*6)\n",
        "\n",
        "    return losses, accuracy\n",
        "\n",
        "def validating(valid_dataloader, model):\n",
        "\n",
        "    model.eval()\n",
        "    correct_predictions = 0\n",
        "    all_output_probs = []\n",
        "\n",
        "    for a in valid_dataloader:\n",
        "        losses = []\n",
        "        ids = a['ids'].to(device, non_blocking = True)\n",
        "        mask = a['mask'].to(device, non_blocking = True)\n",
        "        output = model(ids, mask)\n",
        "        output = output['logits'].squeeze(-1).to(torch.float32)\n",
        "        output_probs = torch.sigmoid(output)\n",
        "        preds = torch.where(output_probs > 0.5, 1, 0)\n",
        "\n",
        "        toxic_label = a['toxic_label'].to(device, non_blocking = True)\n",
        "        loss = loss_fn(output, toxic_label)\n",
        "        losses.append(loss.item())\n",
        "        all_output_probs.extend(output_probs.detach().cpu().numpy())\n",
        "\n",
        "        correct_predictions += torch.sum(preds == toxic_label)\n",
        "        corr_preds = correct_predictions.detach().cpu().numpy()\n",
        "\n",
        "    losses = np.mean(losses)\n",
        "    corr_preds = correct_predictions.detach().cpu().numpy()\n",
        "    accuracy = corr_preds/(len(p_valid)*6)\n",
        "\n",
        "    return losses, accuracy, all_output_probs"
      ]
    },
    {
      "cell_type": "markdown",
      "metadata": {
        "id": "SMozNqnbmuXg"
      },
      "source": [
        "## 8. Repeat training for k-fold"
      ]
    },
    {
      "cell_type": "markdown",
      "metadata": {
        "id": "2J0Kv6OWmuXg"
      },
      "source": [
        "To improve our model we repeat the same process of training for each fold of k-folds."
      ]
    },
    {
      "cell_type": "code",
      "execution_count": null,
      "metadata": {
        "execution": {
          "iopub.execute_input": "2024-04-20T19:10:18.348241Z",
          "iopub.status.busy": "2024-04-20T19:10:18.347854Z",
          "iopub.status.idle": "2024-04-20T19:26:51.858896Z",
          "shell.execute_reply": "2024-04-20T19:26:51.858015Z",
          "shell.execute_reply.started": "2024-04-20T19:10:18.348199Z"
        },
        "id": "DOqM4EtdmuXg"
      },
      "outputs": [],
      "source": [
        "%%time\n",
        "\n",
        "best_scores = []\n",
        "for fold in tqdm(range(0,5)):\n",
        "\n",
        "    # initializing the data\n",
        "    p_train = train[train['kfold'] != fold].reset_index(drop = True)\n",
        "    p_valid = train[train['kfold'] == fold].reset_index(drop = True)\n",
        "\n",
        "    train_dataset = BertDataSet(p_train['clean_text'], p_train[['toxic', 'severe_toxic','obscene', 'threat', 'insult','identity_hate']])\n",
        "    valid_dataset = BertDataSet(p_valid['clean_text'], p_valid[['toxic', 'severe_toxic','obscene', 'threat', 'insult','identity_hate']])\n",
        "\n",
        "    train_dataloader = DataLoader(train_dataset, batch_size = train_batch, shuffle = True, num_workers = 4, pin_memory = True)\n",
        "    valid_dataloader = DataLoader(valid_dataset, batch_size = valid_batch, shuffle = False, num_workers = 4, pin_memory = True)\n",
        "\n",
        "    model = transformers.BertForSequenceClassification.from_pretrained(\"../input/bert-base-cased\", num_labels = 6)\n",
        "    model.to(device)\n",
        "\n",
        "    LR = 2e-5\n",
        "    optimizer = AdamW(model.parameters(), LR,betas = (0.9, 0.999), weight_decay = 1e-2) # AdamW optimizer\n",
        "\n",
        "    train_steps = int(len(p_train)/train_batch * epochs)\n",
        "    num_steps = int(train_steps * 0.1)\n",
        "\n",
        "    scheduler = get_linear_schedule_with_warmup(optimizer, num_steps, train_steps)\n",
        "\n",
        "    best_score = 1000\n",
        "    train_accs = []\n",
        "    valid_accs = []\n",
        "    train_losses = []\n",
        "    valid_losses = []\n",
        "    best_valid_probs = []\n",
        "\n",
        "    print(\"-------------- Fold = \" + str(fold) + \"-------------\")\n",
        "\n",
        "    for epoch in tqdm(range(epochs)):\n",
        "        print(\"-------------- Epoch = \" + str(epoch) + \"-------------\")\n",
        "\n",
        "        train_loss, train_acc = training(train_dataloader, model, optimizer, scheduler)\n",
        "        valid_loss, valid_acc, valid_probs = validating(valid_dataloader, model)\n",
        "\n",
        "        train_losses.append(train_loss)\n",
        "        train_accs.append(train_acc)\n",
        "        valid_losses.append(valid_loss)\n",
        "        valid_accs.append(valid_acc)\n",
        "\n",
        "        print('train losses: %.4f' %(train_loss), 'train accuracy: %.3f' %(train_acc))\n",
        "        print('valid losses: %.4f' %(valid_loss), 'valid accuracy: %.3f' %(valid_acc))\n",
        "\n",
        "        if (valid_loss < best_score):\n",
        "\n",
        "            best_score = valid_loss\n",
        "            print(\"Found an improved model! :)\")\n",
        "\n",
        "            state = {'state_dict': model.state_dict(),\n",
        "                     'optimizer_dict': optimizer.state_dict(),\n",
        "                     'best_score':best_score\n",
        "                    }\n",
        "\n",
        "            torch.save(state, \"model\" + str(fold) + \".pth\")\n",
        "            best_valid_prob = valid_probs\n",
        "            torch.cuda.memory_summary(device = None, abbreviated = False)\n",
        "        else:\n",
        "            pass\n",
        "\n",
        "\n",
        "    best_scores.append(best_score)\n",
        "    best_valid_probs.append(best_valid_prob)\n",
        "\n",
        "    ##Plotting the result for each fold\n",
        "    x = np.arange(epochs)\n",
        "    fig, ax = plt.subplots(1, 2, figsize = (15,4))\n",
        "    ax[0].plot(x, train_losses)\n",
        "    ax[0].plot(x, valid_losses)\n",
        "    ax[0].set_ylabel('Losses', weight = 'bold')\n",
        "    ax[0].set_xlabel('Epochs')\n",
        "    ax[0].grid(alpha = 0.3)\n",
        "    ax[0].legend(labels = ['train losses', 'valid losses'])\n",
        "\n",
        "    ax[1].plot(x, train_accs)\n",
        "    ax[1].plot(x, valid_accs)\n",
        "    ax[1].set_ylabel('Accuracy', weight = 'bold')\n",
        "    ax[1].set_xlabel('Epochs')\n",
        "    ax[1].legend(labels = ['train acc', 'valid acc'])\n",
        "\n",
        "    ax[1].grid(alpha = 0.3)\n",
        "    fig.suptitle('Fold = '+str(fold), weight = 'bold')"
      ]
    },
    {
      "cell_type": "code",
      "execution_count": null,
      "metadata": {
        "execution": {
          "iopub.execute_input": "2024-04-20T19:26:51.860392Z",
          "iopub.status.busy": "2024-04-20T19:26:51.860107Z",
          "iopub.status.idle": "2024-04-20T19:26:51.865974Z",
          "shell.execute_reply": "2024-04-20T19:26:51.865006Z",
          "shell.execute_reply.started": "2024-04-20T19:26:51.86036Z"
        },
        "id": "ihk2ZkiumuXh"
      },
      "outputs": [],
      "source": [
        "best_scores"
      ]
    },
    {
      "cell_type": "code",
      "execution_count": null,
      "metadata": {
        "execution": {
          "iopub.execute_input": "2024-04-20T19:26:51.86796Z",
          "iopub.status.busy": "2024-04-20T19:26:51.867695Z",
          "iopub.status.idle": "2024-04-20T19:26:51.880158Z",
          "shell.execute_reply": "2024-04-20T19:26:51.879344Z",
          "shell.execute_reply.started": "2024-04-20T19:26:51.867935Z"
        },
        "id": "qb3wHWw-muXi"
      },
      "outputs": [],
      "source": [
        "print('Mean of',kfold, 'folds for best loss in', epochs, 'epochs cross-validation folds is %.4f.' %(np.mean(best_scores)))"
      ]
    },
    {
      "cell_type": "markdown",
      "metadata": {
        "id": "2EzAy-GamuXi"
      },
      "source": [
        "## 9. Evaluation for k-models"
      ]
    },
    {
      "cell_type": "markdown",
      "metadata": {
        "id": "6pccLDNdmuXi"
      },
      "source": [
        "We use ensemble for evaluating k-models in the validation set."
      ]
    },
    {
      "cell_type": "code",
      "execution_count": null,
      "metadata": {
        "execution": {
          "iopub.execute_input": "2024-04-20T19:26:51.88161Z",
          "iopub.status.busy": "2024-04-20T19:26:51.881313Z",
          "iopub.status.idle": "2024-04-20T19:26:51.891317Z",
          "shell.execute_reply": "2024-04-20T19:26:51.8906Z",
          "shell.execute_reply.started": "2024-04-20T19:26:51.881583Z"
        },
        "id": "YoJxD_AdmuXi"
      },
      "outputs": [],
      "source": [
        "def predicting(test_dataloader, model, pthes):\n",
        "    allpreds = []\n",
        "\n",
        "    for pth in pthes:\n",
        "        state = torch.load(pth)\n",
        "        model.load_state_dict(state['state_dict'])\n",
        "        model.to(device)\n",
        "        model.eval()\n",
        "        preds = []\n",
        "        with torch.no_grad():\n",
        "            for a in test_dataloader:\n",
        "                ids = a['ids'].to(device)\n",
        "                mask = a['mask'].to(device)\n",
        "                output = model(ids, mask)\n",
        "                output = output['logits'].squeeze(-1)\n",
        "                output_probs = torch.sigmoid(output)\n",
        "                preds.append(output_probs.cpu().numpy())\n",
        "            preds = np.concatenate(preds)\n",
        "            allpreds.append(preds)\n",
        "\n",
        "    return allpreds"
      ]
    },
    {
      "cell_type": "code",
      "execution_count": null,
      "metadata": {
        "execution": {
          "iopub.execute_input": "2024-04-20T19:26:51.892724Z",
          "iopub.status.busy": "2024-04-20T19:26:51.892436Z",
          "iopub.status.idle": "2024-04-20T19:26:51.906309Z",
          "shell.execute_reply": "2024-04-20T19:26:51.905531Z",
          "shell.execute_reply.started": "2024-04-20T19:26:51.892699Z"
        },
        "id": "7TtHhxzPmuXj"
      },
      "outputs": [],
      "source": [
        "pthes = [os.path.join(\"./\",s) for s in os.listdir(\"./\") if \".pth\" in s]"
      ]
    },
    {
      "cell_type": "code",
      "execution_count": null,
      "metadata": {
        "execution": {
          "iopub.execute_input": "2024-04-20T19:26:51.907841Z",
          "iopub.status.busy": "2024-04-20T19:26:51.907495Z",
          "iopub.status.idle": "2024-04-20T19:27:09.376673Z",
          "shell.execute_reply": "2024-04-20T19:27:09.375652Z",
          "shell.execute_reply.started": "2024-04-20T19:26:51.907802Z"
        },
        "id": "fWx0Dak5muXj"
      },
      "outputs": [],
      "source": [
        "allpreds = predicting(valid_dataloader, model, pthes)"
      ]
    },
    {
      "cell_type": "markdown",
      "metadata": {
        "id": "KtC1VjC2muXj"
      },
      "source": [
        "Taking the avarage of probabilities from k-models for each sample in the validation set."
      ]
    },
    {
      "cell_type": "code",
      "execution_count": null,
      "metadata": {
        "execution": {
          "iopub.execute_input": "2024-04-20T19:27:13.252503Z",
          "iopub.status.busy": "2024-04-20T19:27:13.252107Z",
          "iopub.status.idle": "2024-04-20T19:27:13.257902Z",
          "shell.execute_reply": "2024-04-20T19:27:13.256968Z",
          "shell.execute_reply.started": "2024-04-20T19:27:13.252441Z"
        },
        "id": "imczyqNVmuXk"
      },
      "outputs": [],
      "source": [
        "valid_probs = np.zeros((len(p_valid),6))\n",
        "for i in range(kfold):\n",
        "    valid_probs += allpreds[i]\n",
        "valid_probs = valid_probs / kfold"
      ]
    },
    {
      "cell_type": "code",
      "execution_count": null,
      "metadata": {
        "execution": {
          "iopub.execute_input": "2024-04-20T19:27:13.779551Z",
          "iopub.status.busy": "2024-04-20T19:27:13.779196Z",
          "iopub.status.idle": "2024-04-20T19:27:13.783576Z",
          "shell.execute_reply": "2024-04-20T19:27:13.782709Z",
          "shell.execute_reply.started": "2024-04-20T19:27:13.779515Z"
        },
        "id": "KWtt3-PzmuXk"
      },
      "outputs": [],
      "source": [
        "valid_probs = np.asarray(valid_probs).flatten()"
      ]
    },
    {
      "cell_type": "code",
      "execution_count": null,
      "metadata": {
        "execution": {
          "iopub.execute_input": "2024-04-20T19:27:18.06591Z",
          "iopub.status.busy": "2024-04-20T19:27:18.065449Z",
          "iopub.status.idle": "2024-04-20T19:27:18.072286Z",
          "shell.execute_reply": "2024-04-20T19:27:18.071216Z",
          "shell.execute_reply.started": "2024-04-20T19:27:18.065873Z"
        },
        "id": "jYIrxrKlmuXk"
      },
      "outputs": [],
      "source": [
        "#valid_probs = allpreds[0].flatten() #This line is used when trianing for one model and not k-fold model\n",
        "y_valid = p_valid[['toxic', 'severe_toxic','obscene', 'threat', 'insult','identity_hate']].to_numpy().flatten()"
      ]
    },
    {
      "cell_type": "code",
      "execution_count": null,
      "metadata": {
        "execution": {
          "iopub.execute_input": "2024-04-20T19:27:21.185185Z",
          "iopub.status.busy": "2024-04-20T19:27:21.18484Z",
          "iopub.status.idle": "2024-04-20T19:27:21.194141Z",
          "shell.execute_reply": "2024-04-20T19:27:21.193293Z",
          "shell.execute_reply.started": "2024-04-20T19:27:21.185156Z"
        },
        "id": "DkLW4f36muXk"
      },
      "outputs": [],
      "source": [
        "fpr, tpr, _ = roc_curve(y_valid, valid_probs)\n",
        "print('auc score for kfold =', kfold, 'models is: %.2f' %(auc(fpr, tpr)*100))"
      ]
    },
    {
      "cell_type": "code",
      "execution_count": null,
      "metadata": {
        "execution": {
          "iopub.execute_input": "2024-04-20T19:28:16.120283Z",
          "iopub.status.busy": "2024-04-20T19:28:16.11994Z",
          "iopub.status.idle": "2024-04-20T19:28:16.124271Z",
          "shell.execute_reply": "2024-04-20T19:28:16.123332Z",
          "shell.execute_reply.started": "2024-04-20T19:28:16.120253Z"
        },
        "id": "RrkUiHB8muXl"
      },
      "outputs": [],
      "source": [
        "from sklearn.metrics import accuracy_score"
      ]
    },
    {
      "cell_type": "code",
      "execution_count": null,
      "metadata": {
        "execution": {
          "iopub.execute_input": "2024-04-20T19:27:25.385601Z",
          "iopub.status.busy": "2024-04-20T19:27:25.385216Z",
          "iopub.status.idle": "2024-04-20T19:27:25.522583Z",
          "shell.execute_reply": "2024-04-20T19:27:25.521758Z",
          "shell.execute_reply.started": "2024-04-20T19:27:25.385557Z"
        },
        "id": "R8-FEkP8muXl"
      },
      "outputs": [],
      "source": [
        "fig, ax = plt.subplots()\n",
        "ax.plot(fpr, tpr)\n",
        "ax.set_title('ROC Curv')\n",
        "ax.set_xlabel('FPR')\n",
        "ax.set_ylabel('TPR')\n",
        "plt.show()"
      ]
    },
    {
      "cell_type": "markdown",
      "metadata": {
        "id": "F4XwFw8nmuXl"
      },
      "source": [
        "## 10. Inference"
      ]
    },
    {
      "cell_type": "code",
      "execution_count": null,
      "metadata": {
        "execution": {
          "iopub.execute_input": "2024-04-20T19:28:47.783551Z",
          "iopub.status.busy": "2024-04-20T19:28:47.783165Z",
          "iopub.status.idle": "2024-04-20T19:28:47.790988Z",
          "shell.execute_reply": "2024-04-20T19:28:47.790055Z",
          "shell.execute_reply.started": "2024-04-20T19:28:47.783513Z"
        },
        "id": "IMp74aWGmuXl"
      },
      "outputs": [],
      "source": [
        "class BERTinferenceDataSet(Dataset):\n",
        "\n",
        "    def __init__(self, sentences):\n",
        "        self.sentences = sentences\n",
        "\n",
        "    def __len__(self):\n",
        "        return len(self.sentences)\n",
        "\n",
        "    def __getitem__(self, idx):\n",
        "        sentence = self.sentences[idx]\n",
        "        bert_sent = tokenizer.encode_plus(sentence,\n",
        "                                         add_special_tokens = True, #[SEP][PAD]\n",
        "                                         max_length = max_len,\n",
        "                                         pad_to_max_length = True,\n",
        "                                         truncation = True)\n",
        "\n",
        "        ids = torch.tensor(bert_sent['input_ids'], dtype = torch.long)\n",
        "        mask = torch.tensor(bert_sent['attention_mask'], dtype = torch.long)\n",
        "\n",
        "        return{\n",
        "            'ids' : ids,\n",
        "            'mask' : mask\n",
        "             }"
      ]
    },
    {
      "cell_type": "code",
      "execution_count": null,
      "metadata": {
        "execution": {
          "iopub.execute_input": "2024-04-20T19:28:49.135904Z",
          "iopub.status.busy": "2024-04-20T19:28:49.135553Z",
          "iopub.status.idle": "2024-04-20T19:28:49.15831Z",
          "shell.execute_reply": "2024-04-20T19:28:49.157606Z",
          "shell.execute_reply.started": "2024-04-20T19:28:49.135873Z"
        },
        "id": "TxvvFfkdmuXm"
      },
      "outputs": [],
      "source": [
        "test_batch = 32\n",
        "test_dataset = BERTinferenceDataSet(test['clean_text'])\n",
        "test_dataloader = DataLoader(test_dataset, batch_size = test_batch, shuffle = False, num_workers = 4, pin_memory = True)\n",
        "pthes = [os.path.join(\"../input/bert-model-for-dummies\",s) for s in os.listdir('../input/bert-model-for-dummies') if \".pth\" in s]\n",
        "pthes\n"
      ]
    },
    {
      "cell_type": "code",
      "execution_count": null,
      "metadata": {
        "execution": {
          "iopub.execute_input": "2024-04-20T19:28:52.211582Z",
          "iopub.status.busy": "2024-04-20T19:28:52.21119Z",
          "iopub.status.idle": "2024-04-20T19:29:53.445256Z",
          "shell.execute_reply": "2024-04-20T19:29:53.444075Z",
          "shell.execute_reply.started": "2024-04-20T19:28:52.211548Z"
        },
        "id": "OLpzGPtlmuXm"
      },
      "outputs": [],
      "source": [
        "allpreds = predicting(test_dataloader, model, pthes)"
      ]
    },
    {
      "cell_type": "code",
      "execution_count": null,
      "metadata": {
        "execution": {
          "iopub.execute_input": "2024-04-20T19:29:53.447941Z",
          "iopub.status.busy": "2024-04-20T19:29:53.44766Z",
          "iopub.status.idle": "2024-04-20T19:29:53.457614Z",
          "shell.execute_reply": "2024-04-20T19:29:53.456681Z",
          "shell.execute_reply.started": "2024-04-20T19:29:53.447912Z"
        },
        "id": "XXhQ1fvpmuXm"
      },
      "outputs": [],
      "source": [
        "print('allpreds is an array with the shape of:',len(allpreds), 'x',len(allpreds[0]), 'x',len(allpreds[0][0]))\n",
        "allpreds[0][0]"
      ]
    },
    {
      "cell_type": "markdown",
      "metadata": {
        "id": "V9djPucmmuXn"
      },
      "source": [
        "We take the average of the probabilities in 5 folds."
      ]
    },
    {
      "cell_type": "code",
      "execution_count": null,
      "metadata": {
        "execution": {
          "iopub.execute_input": "2024-04-20T19:29:53.45984Z",
          "iopub.status.busy": "2024-04-20T19:29:53.459438Z",
          "iopub.status.idle": "2024-04-20T19:29:53.468623Z",
          "shell.execute_reply": "2024-04-20T19:29:53.467731Z",
          "shell.execute_reply.started": "2024-04-20T19:29:53.459801Z"
        },
        "id": "IISNVD2fmuXn"
      },
      "outputs": [],
      "source": [
        "preds = np.zeros((len(test_dataset),6))\n",
        "for i in range(kfold):\n",
        "    preds += allpreds[i]\n",
        "preds = preds / kfold"
      ]
    },
    {
      "cell_type": "code",
      "execution_count": null,
      "metadata": {
        "execution": {
          "iopub.execute_input": "2024-04-20T19:29:53.470054Z",
          "iopub.status.busy": "2024-04-20T19:29:53.469758Z",
          "iopub.status.idle": "2024-04-20T19:29:53.499142Z",
          "shell.execute_reply": "2024-04-20T19:29:53.498381Z",
          "shell.execute_reply.started": "2024-04-20T19:29:53.470026Z"
        },
        "id": "JIbMVZB-muXn"
      },
      "outputs": [],
      "source": [
        "results = pd.DataFrame(preds)\n",
        "submission = pd.concat([test,results], axis = 1).drop(['comment_text', 'clean_text'], axis = 1)\n",
        "submission.rename(columns = { 0:'toxic', 1:'severe_toxic', 2:'obscene', 3:'threat', 4:'insult', 5:'identity_hate'}, inplace = True)\n",
        "submission.to_csv(\"submission.csv\", index = False)"
      ]
    },
    {
      "cell_type": "markdown",
      "metadata": {
        "id": "M6b_iaMLmuXo"
      },
      "source": [
        "## 11. Summary\n",
        "Here we presented a simple bert model for comment toxicity classification. A comment can be classified with multi-label and therefore this is an example of binary classification with multiple labels (not multi-classficaiton). <br>\n",
        "You can run part I and part II of the notebook independantly. <br>\n",
        "The best score(0.9796) achieved after running part II, with trianing the model with all the trainnig data (not reducing it to fewer rows) and having epochs = 1. The code is available in version 8. I didn't try with more epochs, because the trianing time would exceed 5h which was not the major intention with this notebook. <br>\n",
        "Training the model with 2000 training samples and epochs = 5 results in a faster computation and gives the socre: 0.94311."
      ]
    },
    {
      "cell_type": "markdown",
      "metadata": {
        "id": "S8WiPKYrmuXo"
      },
      "source": [
        "## 12. Useful links\n",
        "\n",
        "[1] https://www.kaggle.com/parulpandey/eda-and-preprocessing-for-bert <br>\n",
        "[2] http://jalammar.github.io/illustrated-bert/ <br>\n",
        "[3] https://curiousily.com/posts/sentiment-analysis-with-bert-and-hugging-face-using-pytorch-and-python/ <br>\n",
        "[4] http://jalammar.github.io/a-visual-guide-to-using-bert-for-the-first-time/ <br>\n",
        "[5] https://iq.opengenus.org/native-language-identification-dl/"
      ]
    }
  ],
  "metadata": {
    "accelerator": "GPU",
    "colab": {
      "gpuType": "T4",
      "provenance": [],
      "include_colab_link": true
    },
    "kaggle": {
      "accelerator": "none",
      "dataSources": [
        {
          "databundleVersionId": 44219,
          "sourceId": 8076,
          "sourceType": "competition"
        },
        {
          "datasetId": 507677,
          "sourceId": 938093,
          "sourceType": "datasetVersion"
        },
        {
          "sourceId": 76755205,
          "sourceType": "kernelVersion"
        }
      ],
      "dockerImageVersionId": 30121,
      "isGpuEnabled": false,
      "isInternetEnabled": true,
      "language": "python",
      "sourceType": "notebook"
    },
    "kernelspec": {
      "display_name": "default:Python",
      "language": "python",
      "name": "conda-env-default-py"
    },
    "language_info": {
      "codemirror_mode": {
        "name": "ipython",
        "version": 3
      },
      "file_extension": ".py",
      "mimetype": "text/x-python",
      "name": "python",
      "nbconvert_exporter": "python",
      "pygments_lexer": "ipython3",
      "version": "3.9.16"
    }
  },
  "nbformat": 4,
  "nbformat_minor": 0
}