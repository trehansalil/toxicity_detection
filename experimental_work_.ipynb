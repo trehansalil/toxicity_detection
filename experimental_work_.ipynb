{
  "metadata": {
    "kernelspec": {
      "language": "python",
      "display_name": "Python 3",
      "name": "python3"
    },
    "language_info": {
      "name": "python",
      "version": "3.7.10",
      "mimetype": "text/x-python",
      "codemirror_mode": {
        "name": "ipython",
        "version": 3
      },
      "pygments_lexer": "ipython3",
      "nbconvert_exporter": "python",
      "file_extension": ".py"
    },
    "kaggle": {
      "accelerator": "none",
      "dataSources": [
        {
          "sourceId": 8076,
          "databundleVersionId": 44219,
          "sourceType": "competition"
        },
        {
          "sourceId": 938093,
          "sourceType": "datasetVersion",
          "datasetId": 507677
        },
        {
          "sourceId": 76755205,
          "sourceType": "kernelVersion"
        }
      ],
      "dockerImageVersionId": 30121,
      "isInternetEnabled": true,
      "language": "python",
      "sourceType": "notebook",
      "isGpuEnabled": false
    },
    "colab": {
      "name": "BERT Model For Dummies",
      "provenance": [],
      "include_colab_link": true
    }
  },
  "nbformat_minor": 0,
  "nbformat": 4,
  "cells": [
    {
      "cell_type": "markdown",
      "metadata": {
        "id": "view-in-github",
        "colab_type": "text"
      },
      "source": [
        "<a href=\"https://colab.research.google.com/github/trehansalil/toxicity_detection/blob/main/experimental_work_.ipynb\" target=\"_parent\"><img src=\"https://colab.research.google.com/assets/colab-badge.svg\" alt=\"Open In Colab\"/></a>"
      ]
    },
    {
      "source": [
        "\n",
        "# IMPORTANT: RUN THIS CELL IN ORDER TO IMPORT YOUR KAGGLE DATA SOURCES\n",
        "# TO THE CORRECT LOCATION (/kaggle/input) IN YOUR NOTEBOOK,\n",
        "# THEN FEEL FREE TO DELETE THIS CELL.\n",
        "# NOTE: THIS NOTEBOOK ENVIRONMENT DIFFERS FROM KAGGLE'S PYTHON\n",
        "# ENVIRONMENT SO THERE MAY BE MISSING LIBRARIES USED BY YOUR\n",
        "# NOTEBOOK.\n",
        "\n",
        "import os\n",
        "import sys\n",
        "from tempfile import NamedTemporaryFile\n",
        "from urllib.request import urlopen\n",
        "from urllib.parse import unquote, urlparse\n",
        "from urllib.error import HTTPError\n",
        "from zipfile import ZipFile\n",
        "import tarfile\n",
        "import shutil\n",
        "\n",
        "CHUNK_SIZE = 40960\n",
        "DATA_SOURCE_MAPPING = 'jigsaw-toxic-comment-classification-challenge:https%3A%2F%2Fstorage.googleapis.com%2Fkaggle-competitions-data%2Fkaggle-v2%2F8076%2F44219%2Fbundle%2Farchive.zip%3FX-Goog-Algorithm%3DGOOG4-RSA-SHA256%26X-Goog-Credential%3Dgcp-kaggle-com%2540kaggle-161607.iam.gserviceaccount.com%252F20240421%252Fauto%252Fstorage%252Fgoog4_request%26X-Goog-Date%3D20240421T030205Z%26X-Goog-Expires%3D259200%26X-Goog-SignedHeaders%3Dhost%26X-Goog-Signature%3D7c0a9ff1a5a504bf4bb9fa94d767287031a6b8b8f10de3de2dc4f47037516bc4c929fab7f00e07134deeca13e592e7e555137e1a5587603058dc338757390becb1f52f3e4f04d8825b833bb3e6f3d381167eabcc2bb12e309a494bdfaf22ddc9d63ce07a8f22180c528dd395044dc48b09399241c7a9a47fdf247b1025274e41ef99fe89bed2d857ed4d99a65bec953c868d7f21b93703c007ea236d9efea056b121b9fac20c8f2684ad584954db42a45a3596b7139fc8c6e9c4cf6a1ff662e66f06a3f8076de146da5e8ddd27e3f2beb475aa4c54783470fdd1c24e9483286bdb642e688925f3d71bd600f9682623dc0991c1dfe3340d13a78bcc4c153a9aef,bert-base-cased:https%3A%2F%2Fstorage.googleapis.com%2Fkaggle-data-sets%2F507677%2F938093%2Fbundle%2Farchive.zip%3FX-Goog-Algorithm%3DGOOG4-RSA-SHA256%26X-Goog-Credential%3Dgcp-kaggle-com%2540kaggle-161607.iam.gserviceaccount.com%252F20240421%252Fauto%252Fstorage%252Fgoog4_request%26X-Goog-Date%3D20240421T030205Z%26X-Goog-Expires%3D259200%26X-Goog-SignedHeaders%3Dhost%26X-Goog-Signature%3D731076fe00e01f96f83dab5e31f1b9033485decda4469f9ff1590a059f37b3ee49f812d7fa31144b8bb89cc9d65dd253cef273b242e8aaef221e9615f9eaf80188532b9e62ca7602145e20badc1e1e27748ace164409e9c4925cd7128658ea484c5641646111df3ac558beee5fd083d5262e5e0795150848d38a90dc2c3406fbcccbc4e3267beb8f7319a89d8327e36151bf023c4eb5bc31db0e5506455e18717a4d31c3c47624dbd0a7d1e8488672bce8fa1e530ec3e212c4e3f457e7e16dd07478264abe698ee7daaf9a0cdaf5beb15cdb1557a37c1b15b12e478acdd445193722b1e8f23d9f9a7af06ee8cf7dc8af1fe3e4bef8b11efe9a8592f6ce855ef8'\n",
        "\n",
        "KAGGLE_INPUT_PATH='/kaggle/input'\n",
        "KAGGLE_WORKING_PATH='/kaggle/working'\n",
        "KAGGLE_SYMLINK='kaggle'\n",
        "\n",
        "!umount /kaggle/input/ 2> /dev/null\n",
        "shutil.rmtree('/kaggle/input', ignore_errors=True)\n",
        "os.makedirs(KAGGLE_INPUT_PATH, 0o777, exist_ok=True)\n",
        "os.makedirs(KAGGLE_WORKING_PATH, 0o777, exist_ok=True)\n",
        "\n",
        "try:\n",
        "  os.symlink(KAGGLE_INPUT_PATH, os.path.join(\"..\", 'input'), target_is_directory=True)\n",
        "except FileExistsError:\n",
        "  pass\n",
        "try:\n",
        "  os.symlink(KAGGLE_WORKING_PATH, os.path.join(\"..\", 'working'), target_is_directory=True)\n",
        "except FileExistsError:\n",
        "  pass\n",
        "\n",
        "for data_source_mapping in DATA_SOURCE_MAPPING.split(','):\n",
        "    directory, download_url_encoded = data_source_mapping.split(':')\n",
        "    download_url = unquote(download_url_encoded)\n",
        "    filename = urlparse(download_url).path\n",
        "    destination_path = os.path.join(KAGGLE_INPUT_PATH, directory)\n",
        "    try:\n",
        "        with urlopen(download_url) as fileres, NamedTemporaryFile() as tfile:\n",
        "            total_length = fileres.headers['content-length']\n",
        "            print(f'Downloading {directory}, {total_length} bytes compressed')\n",
        "            dl = 0\n",
        "            data = fileres.read(CHUNK_SIZE)\n",
        "            while len(data) > 0:\n",
        "                dl += len(data)\n",
        "                tfile.write(data)\n",
        "                done = int(50 * dl / int(total_length))\n",
        "                sys.stdout.write(f\"\\r[{'=' * done}{' ' * (50-done)}] {dl} bytes downloaded\")\n",
        "                sys.stdout.flush()\n",
        "                data = fileres.read(CHUNK_SIZE)\n",
        "            if filename.endswith('.zip'):\n",
        "              with ZipFile(tfile) as zfile:\n",
        "                zfile.extractall(destination_path)\n",
        "            else:\n",
        "              with tarfile.open(tfile.name) as tarfile:\n",
        "                tarfile.extractall(destination_path)\n",
        "            print(f'\\nDownloaded and uncompressed: {directory}')\n",
        "    except HTTPError as e:\n",
        "        print(f'Failed to load (likely expired) {download_url} to path {destination_path}')\n",
        "        continue\n",
        "    except OSError as e:\n",
        "        print(f'Failed to load {download_url} to path {destination_path}')\n",
        "        continue\n",
        "\n",
        "print('Data source import complete.')\n"
      ],
      "metadata": {
        "id": "h_d9i_9RmuWe",
        "outputId": "5b467c37-65ef-4e9b-d636-4f8cf018b31f",
        "colab": {
          "base_uri": "https://localhost:8080/"
        }
      },
      "cell_type": "code",
      "outputs": [
        {
          "output_type": "stream",
          "name": "stdout",
          "text": [
            "Downloading jigsaw-toxic-comment-classification-challenge, 55201987 bytes compressed\n",
            "[==================================================] 55201987 bytes downloaded\n",
            "Downloaded and uncompressed: jigsaw-toxic-comment-classification-challenge\n",
            "Downloading bert-base-cased, 404510591 bytes compressed\n",
            "[==================================================] 404510591 bytes downloaded\n",
            "Downloaded and uncompressed: bert-base-cased\n",
            "Data source import complete.\n"
          ]
        }
      ],
      "execution_count": 1
    },
    {
      "cell_type": "markdown",
      "source": [
        "## Toxic Comment Classification"
      ],
      "metadata": {
        "id": "DmcIgo1zmuWo"
      }
    },
    {
      "cell_type": "markdown",
      "source": [
        "## Intro\n",
        "I am quite new in the field of data science and specially transformers are a very new concept to me. During my exploration for learning more about BERT, I noticed most of the material present on kaggle either discuss the underlying logics and modules in BERT model, (which is necessary for begginers) or they present blocks of code without much details. This material is an attempt to bridge the gap from the very basics and theory of BERT model to practicality of a simple model. <br>\n",
        "A lot of the work in this notebook is inspired by the work of [chumajin](https://www.kaggle.com/chumajin) from [this notebook](https://www.kaggle.com/chumajin/pytorch-bert-beginner-s-room). I would like to thank him here and would add that I have adapt it to our problem in this competetion. I have also added more visualization to see the imporvements of the models over iterations in epochs and during different folds.\n",
        "\n",
        "### Objective\n",
        "Creating a model which predicts the probability of each type of toxicity for each comment.\n",
        "\n",
        "This notebook is presented to two parts. I have separted it in two parts, due to memory limitations in kaggle. You can run either part I or part II independantly. <br>\n",
        "In **part I** I try to explain the primary steps we need to take for handling similar tasks, for binary classification of different labels. The model in this part runs only for one distribuation of train set and validation set. and you can see the inital performance results(auc score) we get from this model. <br>\n",
        "In **part II**, I have braught all the necessary blocks of code from part I and then show how 5 models can be developed for different choices of train set and validation set as in k_fold (k = 5). The probablites for all types of toxicity for each comment is then estimated as mean value from these 5 models.\n",
        "\n",
        "\n",
        "\n",
        "### Parameters affecting simulation time\n",
        "For running this noteboook quickly, to see how it works, in both part I and part II, you can reduce the training set to the limited number of rows. I took 200 rows in part I and 2000 in part II.<br>\n",
        "The reason for having it very low in part I is that the code opts for eductional resons rather than being efficient. Therefore, it reads in many different variables and cause the cuda memory crash if we go for more than 200 rows. This gives us an unimpressive results for part I. (accuracy 86%) <br>\n",
        "In part II, code is more consice compared to part I, and it's possible to raise number of rows to include the whole training set. However, I keep it limited to 2000, so you manage to get a fairly good result (94% accuracy and 0.988 auc score) in 22 min of simulation. <br>\n",
        "You can have (epochs = 5, k = 5) and see how the accuracy and losses imporve in different epochs. The accuracy and loss are in an acceptable range, as this notebook is not concerned about reaching the state-of-art results. <br>\n",
        "\n",
        "Hope that you find it useful and if so, please don't forget to upvote this note book, it makes my day! :-)"
      ],
      "metadata": {
        "id": "a5iRNG0xmuWr"
      }
    },
    {
      "cell_type": "markdown",
      "source": [
        "## PART I\n",
        "## 1. Prepare the data\n",
        "### a. Loading libraries"
      ],
      "metadata": {
        "id": "0edEuvmbmuWs"
      }
    },
    {
      "cell_type": "code",
      "source": [
        "import numpy as np\n",
        "import pandas as pd\n",
        "import os\n",
        "import random\n",
        "import time\n",
        "\n",
        "import re\n",
        "import string\n",
        "import nltk\n",
        "from nltk.corpus import stopwords\n",
        "\n",
        "import matplotlib.pyplot as plt\n",
        "import seaborn as sns\n",
        "sns.set(style=\"ticks\", context=\"talk\")\n",
        "plt.style.use('dark_background')\n",
        "\n",
        "from tqdm import tqdm\n",
        "\n",
        "import torch\n",
        "import torch.nn as nn\n",
        "import torch.nn.functional as func\n",
        "from torch.utils.data import DataLoader, Dataset\n",
        "\n",
        "import transformers\n",
        "from transformers import AdamW, get_linear_schedule_with_warmup\n",
        "\n",
        "import tokenizers\n",
        "from sklearn.metrics import mean_squared_error, roc_auc_score, roc_curve, auc\n",
        "\n",
        "import warnings\n",
        "warnings.simplefilter('ignore')"
      ],
      "metadata": {
        "execution": {
          "iopub.status.busy": "2024-04-20T19:02:48.385827Z",
          "iopub.execute_input": "2024-04-20T19:02:48.38619Z",
          "iopub.status.idle": "2024-04-20T19:02:56.812951Z",
          "shell.execute_reply.started": "2024-04-20T19:02:48.386109Z",
          "shell.execute_reply": "2024-04-20T19:02:56.812133Z"
        },
        "trusted": true,
        "id": "85WV_-OimuWt"
      },
      "execution_count": 2,
      "outputs": []
    },
    {
      "cell_type": "markdown",
      "source": [
        "We set a seed for reproducability of the results."
      ],
      "metadata": {
        "id": "6LnYQ3xsmuWv"
      }
    },
    {
      "cell_type": "code",
      "source": [
        "SEED = 34\n",
        "\n",
        "def random_seed(SEED):\n",
        "    random.seed(SEED)\n",
        "    os.environ['PYTHONHASHSEED'] = str(SEED)\n",
        "    np.random.seed(SEED)\n",
        "    torch.manual_seed(SEED)\n",
        "    torch.cuda.manual_seed(SEED)\n",
        "    torch.cuda.manual_seed_all(SEED)\n",
        "    torch.backends.cudnn.deterministic = True\n",
        "\n",
        "random_seed(SEED)"
      ],
      "metadata": {
        "execution": {
          "iopub.status.busy": "2024-04-20T19:02:58.482791Z",
          "iopub.execute_input": "2024-04-20T19:02:58.483182Z",
          "iopub.status.idle": "2024-04-20T19:02:58.493746Z",
          "shell.execute_reply.started": "2024-04-20T19:02:58.483143Z",
          "shell.execute_reply": "2024-04-20T19:02:58.493036Z"
        },
        "trusted": true,
        "id": "tT_t7gvPmuWw"
      },
      "execution_count": 3,
      "outputs": []
    },
    {
      "cell_type": "code",
      "source": [
        "train = pd.read_csv('../input/jigsaw-toxic-comment-classification-challenge/train.csv.zip', nrows = 200 )\n",
        "train.head()"
      ],
      "metadata": {
        "execution": {
          "iopub.status.busy": "2024-04-20T19:03:02.512165Z",
          "iopub.execute_input": "2024-04-20T19:03:02.512542Z",
          "iopub.status.idle": "2024-04-20T19:03:02.618387Z",
          "shell.execute_reply.started": "2024-04-20T19:03:02.512506Z",
          "shell.execute_reply": "2024-04-20T19:03:02.617223Z"
        },
        "trusted": true,
        "id": "-VloNzXCmuWy",
        "outputId": "a2413d8f-6aa4-4e9f-9dab-9ee0c0b4be65",
        "colab": {
          "base_uri": "https://localhost:8080/",
          "height": 206
        }
      },
      "execution_count": 4,
      "outputs": [
        {
          "output_type": "execute_result",
          "data": {
            "text/plain": [
              "                 id                                       comment_text  toxic  \\\n",
              "0  0000997932d777bf  Explanation\\nWhy the edits made under my usern...      0   \n",
              "1  000103f0d9cfb60f  D'aww! He matches this background colour I'm s...      0   \n",
              "2  000113f07ec002fd  Hey man, I'm really not trying to edit war. It...      0   \n",
              "3  0001b41b1c6bb37e  \"\\nMore\\nI can't make any real suggestions on ...      0   \n",
              "4  0001d958c54c6e35  You, sir, are my hero. Any chance you remember...      0   \n",
              "\n",
              "   severe_toxic  obscene  threat  insult  identity_hate  \n",
              "0             0        0       0       0              0  \n",
              "1             0        0       0       0              0  \n",
              "2             0        0       0       0              0  \n",
              "3             0        0       0       0              0  \n",
              "4             0        0       0       0              0  "
            ],
            "text/html": [
              "\n",
              "  <div id=\"df-408a04c2-eae1-402c-b52c-142ffdbb159a\" class=\"colab-df-container\">\n",
              "    <div>\n",
              "<style scoped>\n",
              "    .dataframe tbody tr th:only-of-type {\n",
              "        vertical-align: middle;\n",
              "    }\n",
              "\n",
              "    .dataframe tbody tr th {\n",
              "        vertical-align: top;\n",
              "    }\n",
              "\n",
              "    .dataframe thead th {\n",
              "        text-align: right;\n",
              "    }\n",
              "</style>\n",
              "<table border=\"1\" class=\"dataframe\">\n",
              "  <thead>\n",
              "    <tr style=\"text-align: right;\">\n",
              "      <th></th>\n",
              "      <th>id</th>\n",
              "      <th>comment_text</th>\n",
              "      <th>toxic</th>\n",
              "      <th>severe_toxic</th>\n",
              "      <th>obscene</th>\n",
              "      <th>threat</th>\n",
              "      <th>insult</th>\n",
              "      <th>identity_hate</th>\n",
              "    </tr>\n",
              "  </thead>\n",
              "  <tbody>\n",
              "    <tr>\n",
              "      <th>0</th>\n",
              "      <td>0000997932d777bf</td>\n",
              "      <td>Explanation\\nWhy the edits made under my usern...</td>\n",
              "      <td>0</td>\n",
              "      <td>0</td>\n",
              "      <td>0</td>\n",
              "      <td>0</td>\n",
              "      <td>0</td>\n",
              "      <td>0</td>\n",
              "    </tr>\n",
              "    <tr>\n",
              "      <th>1</th>\n",
              "      <td>000103f0d9cfb60f</td>\n",
              "      <td>D'aww! He matches this background colour I'm s...</td>\n",
              "      <td>0</td>\n",
              "      <td>0</td>\n",
              "      <td>0</td>\n",
              "      <td>0</td>\n",
              "      <td>0</td>\n",
              "      <td>0</td>\n",
              "    </tr>\n",
              "    <tr>\n",
              "      <th>2</th>\n",
              "      <td>000113f07ec002fd</td>\n",
              "      <td>Hey man, I'm really not trying to edit war. It...</td>\n",
              "      <td>0</td>\n",
              "      <td>0</td>\n",
              "      <td>0</td>\n",
              "      <td>0</td>\n",
              "      <td>0</td>\n",
              "      <td>0</td>\n",
              "    </tr>\n",
              "    <tr>\n",
              "      <th>3</th>\n",
              "      <td>0001b41b1c6bb37e</td>\n",
              "      <td>\"\\nMore\\nI can't make any real suggestions on ...</td>\n",
              "      <td>0</td>\n",
              "      <td>0</td>\n",
              "      <td>0</td>\n",
              "      <td>0</td>\n",
              "      <td>0</td>\n",
              "      <td>0</td>\n",
              "    </tr>\n",
              "    <tr>\n",
              "      <th>4</th>\n",
              "      <td>0001d958c54c6e35</td>\n",
              "      <td>You, sir, are my hero. Any chance you remember...</td>\n",
              "      <td>0</td>\n",
              "      <td>0</td>\n",
              "      <td>0</td>\n",
              "      <td>0</td>\n",
              "      <td>0</td>\n",
              "      <td>0</td>\n",
              "    </tr>\n",
              "  </tbody>\n",
              "</table>\n",
              "</div>\n",
              "    <div class=\"colab-df-buttons\">\n",
              "\n",
              "  <div class=\"colab-df-container\">\n",
              "    <button class=\"colab-df-convert\" onclick=\"convertToInteractive('df-408a04c2-eae1-402c-b52c-142ffdbb159a')\"\n",
              "            title=\"Convert this dataframe to an interactive table.\"\n",
              "            style=\"display:none;\">\n",
              "\n",
              "  <svg xmlns=\"http://www.w3.org/2000/svg\" height=\"24px\" viewBox=\"0 -960 960 960\">\n",
              "    <path d=\"M120-120v-720h720v720H120Zm60-500h600v-160H180v160Zm220 220h160v-160H400v160Zm0 220h160v-160H400v160ZM180-400h160v-160H180v160Zm440 0h160v-160H620v160ZM180-180h160v-160H180v160Zm440 0h160v-160H620v160Z\"/>\n",
              "  </svg>\n",
              "    </button>\n",
              "\n",
              "  <style>\n",
              "    .colab-df-container {\n",
              "      display:flex;\n",
              "      gap: 12px;\n",
              "    }\n",
              "\n",
              "    .colab-df-convert {\n",
              "      background-color: #E8F0FE;\n",
              "      border: none;\n",
              "      border-radius: 50%;\n",
              "      cursor: pointer;\n",
              "      display: none;\n",
              "      fill: #1967D2;\n",
              "      height: 32px;\n",
              "      padding: 0 0 0 0;\n",
              "      width: 32px;\n",
              "    }\n",
              "\n",
              "    .colab-df-convert:hover {\n",
              "      background-color: #E2EBFA;\n",
              "      box-shadow: 0px 1px 2px rgba(60, 64, 67, 0.3), 0px 1px 3px 1px rgba(60, 64, 67, 0.15);\n",
              "      fill: #174EA6;\n",
              "    }\n",
              "\n",
              "    .colab-df-buttons div {\n",
              "      margin-bottom: 4px;\n",
              "    }\n",
              "\n",
              "    [theme=dark] .colab-df-convert {\n",
              "      background-color: #3B4455;\n",
              "      fill: #D2E3FC;\n",
              "    }\n",
              "\n",
              "    [theme=dark] .colab-df-convert:hover {\n",
              "      background-color: #434B5C;\n",
              "      box-shadow: 0px 1px 3px 1px rgba(0, 0, 0, 0.15);\n",
              "      filter: drop-shadow(0px 1px 2px rgba(0, 0, 0, 0.3));\n",
              "      fill: #FFFFFF;\n",
              "    }\n",
              "  </style>\n",
              "\n",
              "    <script>\n",
              "      const buttonEl =\n",
              "        document.querySelector('#df-408a04c2-eae1-402c-b52c-142ffdbb159a button.colab-df-convert');\n",
              "      buttonEl.style.display =\n",
              "        google.colab.kernel.accessAllowed ? 'block' : 'none';\n",
              "\n",
              "      async function convertToInteractive(key) {\n",
              "        const element = document.querySelector('#df-408a04c2-eae1-402c-b52c-142ffdbb159a');\n",
              "        const dataTable =\n",
              "          await google.colab.kernel.invokeFunction('convertToInteractive',\n",
              "                                                    [key], {});\n",
              "        if (!dataTable) return;\n",
              "\n",
              "        const docLinkHtml = 'Like what you see? Visit the ' +\n",
              "          '<a target=\"_blank\" href=https://colab.research.google.com/notebooks/data_table.ipynb>data table notebook</a>'\n",
              "          + ' to learn more about interactive tables.';\n",
              "        element.innerHTML = '';\n",
              "        dataTable['output_type'] = 'display_data';\n",
              "        await google.colab.output.renderOutput(dataTable, element);\n",
              "        const docLink = document.createElement('div');\n",
              "        docLink.innerHTML = docLinkHtml;\n",
              "        element.appendChild(docLink);\n",
              "      }\n",
              "    </script>\n",
              "  </div>\n",
              "\n",
              "\n",
              "<div id=\"df-dfd94bc5-cc1b-4a67-a913-ffda8e31b870\">\n",
              "  <button class=\"colab-df-quickchart\" onclick=\"quickchart('df-dfd94bc5-cc1b-4a67-a913-ffda8e31b870')\"\n",
              "            title=\"Suggest charts\"\n",
              "            style=\"display:none;\">\n",
              "\n",
              "<svg xmlns=\"http://www.w3.org/2000/svg\" height=\"24px\"viewBox=\"0 0 24 24\"\n",
              "     width=\"24px\">\n",
              "    <g>\n",
              "        <path d=\"M19 3H5c-1.1 0-2 .9-2 2v14c0 1.1.9 2 2 2h14c1.1 0 2-.9 2-2V5c0-1.1-.9-2-2-2zM9 17H7v-7h2v7zm4 0h-2V7h2v10zm4 0h-2v-4h2v4z\"/>\n",
              "    </g>\n",
              "</svg>\n",
              "  </button>\n",
              "\n",
              "<style>\n",
              "  .colab-df-quickchart {\n",
              "      --bg-color: #E8F0FE;\n",
              "      --fill-color: #1967D2;\n",
              "      --hover-bg-color: #E2EBFA;\n",
              "      --hover-fill-color: #174EA6;\n",
              "      --disabled-fill-color: #AAA;\n",
              "      --disabled-bg-color: #DDD;\n",
              "  }\n",
              "\n",
              "  [theme=dark] .colab-df-quickchart {\n",
              "      --bg-color: #3B4455;\n",
              "      --fill-color: #D2E3FC;\n",
              "      --hover-bg-color: #434B5C;\n",
              "      --hover-fill-color: #FFFFFF;\n",
              "      --disabled-bg-color: #3B4455;\n",
              "      --disabled-fill-color: #666;\n",
              "  }\n",
              "\n",
              "  .colab-df-quickchart {\n",
              "    background-color: var(--bg-color);\n",
              "    border: none;\n",
              "    border-radius: 50%;\n",
              "    cursor: pointer;\n",
              "    display: none;\n",
              "    fill: var(--fill-color);\n",
              "    height: 32px;\n",
              "    padding: 0;\n",
              "    width: 32px;\n",
              "  }\n",
              "\n",
              "  .colab-df-quickchart:hover {\n",
              "    background-color: var(--hover-bg-color);\n",
              "    box-shadow: 0 1px 2px rgba(60, 64, 67, 0.3), 0 1px 3px 1px rgba(60, 64, 67, 0.15);\n",
              "    fill: var(--button-hover-fill-color);\n",
              "  }\n",
              "\n",
              "  .colab-df-quickchart-complete:disabled,\n",
              "  .colab-df-quickchart-complete:disabled:hover {\n",
              "    background-color: var(--disabled-bg-color);\n",
              "    fill: var(--disabled-fill-color);\n",
              "    box-shadow: none;\n",
              "  }\n",
              "\n",
              "  .colab-df-spinner {\n",
              "    border: 2px solid var(--fill-color);\n",
              "    border-color: transparent;\n",
              "    border-bottom-color: var(--fill-color);\n",
              "    animation:\n",
              "      spin 1s steps(1) infinite;\n",
              "  }\n",
              "\n",
              "  @keyframes spin {\n",
              "    0% {\n",
              "      border-color: transparent;\n",
              "      border-bottom-color: var(--fill-color);\n",
              "      border-left-color: var(--fill-color);\n",
              "    }\n",
              "    20% {\n",
              "      border-color: transparent;\n",
              "      border-left-color: var(--fill-color);\n",
              "      border-top-color: var(--fill-color);\n",
              "    }\n",
              "    30% {\n",
              "      border-color: transparent;\n",
              "      border-left-color: var(--fill-color);\n",
              "      border-top-color: var(--fill-color);\n",
              "      border-right-color: var(--fill-color);\n",
              "    }\n",
              "    40% {\n",
              "      border-color: transparent;\n",
              "      border-right-color: var(--fill-color);\n",
              "      border-top-color: var(--fill-color);\n",
              "    }\n",
              "    60% {\n",
              "      border-color: transparent;\n",
              "      border-right-color: var(--fill-color);\n",
              "    }\n",
              "    80% {\n",
              "      border-color: transparent;\n",
              "      border-right-color: var(--fill-color);\n",
              "      border-bottom-color: var(--fill-color);\n",
              "    }\n",
              "    90% {\n",
              "      border-color: transparent;\n",
              "      border-bottom-color: var(--fill-color);\n",
              "    }\n",
              "  }\n",
              "</style>\n",
              "\n",
              "  <script>\n",
              "    async function quickchart(key) {\n",
              "      const quickchartButtonEl =\n",
              "        document.querySelector('#' + key + ' button');\n",
              "      quickchartButtonEl.disabled = true;  // To prevent multiple clicks.\n",
              "      quickchartButtonEl.classList.add('colab-df-spinner');\n",
              "      try {\n",
              "        const charts = await google.colab.kernel.invokeFunction(\n",
              "            'suggestCharts', [key], {});\n",
              "      } catch (error) {\n",
              "        console.error('Error during call to suggestCharts:', error);\n",
              "      }\n",
              "      quickchartButtonEl.classList.remove('colab-df-spinner');\n",
              "      quickchartButtonEl.classList.add('colab-df-quickchart-complete');\n",
              "    }\n",
              "    (() => {\n",
              "      let quickchartButtonEl =\n",
              "        document.querySelector('#df-dfd94bc5-cc1b-4a67-a913-ffda8e31b870 button');\n",
              "      quickchartButtonEl.style.display =\n",
              "        google.colab.kernel.accessAllowed ? 'block' : 'none';\n",
              "    })();\n",
              "  </script>\n",
              "</div>\n",
              "\n",
              "    </div>\n",
              "  </div>\n"
            ],
            "application/vnd.google.colaboratory.intrinsic+json": {
              "type": "dataframe",
              "variable_name": "train",
              "summary": "{\n  \"name\": \"train\",\n  \"rows\": 200,\n  \"fields\": [\n    {\n      \"column\": \"id\",\n      \"properties\": {\n        \"dtype\": \"string\",\n        \"num_unique_values\": 200,\n        \"samples\": [\n          \"003b9f448ee4a29d\",\n          \"00078f8ce7eb276d\",\n          \"0011cc71398479c4\"\n        ],\n        \"semantic_type\": \"\",\n        \"description\": \"\"\n      }\n    },\n    {\n      \"column\": \"comment_text\",\n      \"properties\": {\n        \"dtype\": \"string\",\n        \"num_unique_values\": 200,\n        \"samples\": [\n          \"\\\"\\n\\nThanks. I can see that violating clearly stated Wikipedia policy is no problem with some people, as is now being reviewed elsewhere. Finishing up one other wiki project todsy and then spending the rest of the day on an important personal blog entry.  Then I'll go find other discussions of James Petras' fascinating discussion of the use of the term \\\"\\\"Jewish Lobby\\\"\\\" so that I don't have to put back up the deleted Dissident Voice article right away per Talk:Jewish_lobby#WP:V_-_comparing_Jewish_Virtual_Library_and_Dissident_Voice.\\nCarol Moore  talk\\\"\",\n          \"\\\"\\n\\nJuelz Santanas Age\\n\\nIn 2002, Juelz Santana was 18 years old, then came February 18th, which makes Juelz turn 19 making songs with The Diplomats. The third neff to be signed to Cam's label under Roc A Fella. In 2003, he was 20 years old coming out with his own singles \\\"\\\"Santana's Town\\\"\\\" and \\\"\\\"Down\\\"\\\". So yes, he is born in 1983. He really is, how could he be older then Lloyd Banks? And how could he be 22 when his birthday passed? The homie neff is 23 years old. 1983 - 2006 (Juelz death, god forbid if your thinking about that) equals 23. Go to your caculator and stop changing his year of birth. My god.\\\"\",\n          \"How could I post before the block expires?  The funny thing is, you think I'm being uncivil!\"\n        ],\n        \"semantic_type\": \"\",\n        \"description\": \"\"\n      }\n    },\n    {\n      \"column\": \"toxic\",\n      \"properties\": {\n        \"dtype\": \"number\",\n        \"std\": 0,\n        \"min\": 0,\n        \"max\": 1,\n        \"num_unique_values\": 2,\n        \"samples\": [\n          1,\n          0\n        ],\n        \"semantic_type\": \"\",\n        \"description\": \"\"\n      }\n    },\n    {\n      \"column\": \"severe_toxic\",\n      \"properties\": {\n        \"dtype\": \"number\",\n        \"std\": 0,\n        \"min\": 0,\n        \"max\": 1,\n        \"num_unique_values\": 2,\n        \"samples\": [\n          1,\n          0\n        ],\n        \"semantic_type\": \"\",\n        \"description\": \"\"\n      }\n    },\n    {\n      \"column\": \"obscene\",\n      \"properties\": {\n        \"dtype\": \"number\",\n        \"std\": 0,\n        \"min\": 0,\n        \"max\": 1,\n        \"num_unique_values\": 2,\n        \"samples\": [\n          1,\n          0\n        ],\n        \"semantic_type\": \"\",\n        \"description\": \"\"\n      }\n    },\n    {\n      \"column\": \"threat\",\n      \"properties\": {\n        \"dtype\": \"number\",\n        \"std\": 0,\n        \"min\": 0,\n        \"max\": 1,\n        \"num_unique_values\": 2,\n        \"samples\": [\n          1,\n          0\n        ],\n        \"semantic_type\": \"\",\n        \"description\": \"\"\n      }\n    },\n    {\n      \"column\": \"insult\",\n      \"properties\": {\n        \"dtype\": \"number\",\n        \"std\": 0,\n        \"min\": 0,\n        \"max\": 1,\n        \"num_unique_values\": 2,\n        \"samples\": [\n          1,\n          0\n        ],\n        \"semantic_type\": \"\",\n        \"description\": \"\"\n      }\n    },\n    {\n      \"column\": \"identity_hate\",\n      \"properties\": {\n        \"dtype\": \"number\",\n        \"std\": 0,\n        \"min\": 0,\n        \"max\": 1,\n        \"num_unique_values\": 2,\n        \"samples\": [\n          1,\n          0\n        ],\n        \"semantic_type\": \"\",\n        \"description\": \"\"\n      }\n    }\n  ]\n}"
            }
          },
          "metadata": {},
          "execution_count": 4
        }
      ]
    },
    {
      "cell_type": "code",
      "source": [
        "temp = train[train['toxic'] == 1]\n",
        "temp.head()"
      ],
      "metadata": {
        "execution": {
          "iopub.status.busy": "2024-04-20T19:03:11.668561Z",
          "iopub.execute_input": "2024-04-20T19:03:11.66893Z",
          "iopub.status.idle": "2024-04-20T19:03:11.69756Z",
          "shell.execute_reply.started": "2024-04-20T19:03:11.668896Z",
          "shell.execute_reply": "2024-04-20T19:03:11.696723Z"
        },
        "trusted": true,
        "id": "6gAJfYywmuWz",
        "outputId": "f047db32-6442-4d93-aa86-c8016ed545fa",
        "colab": {
          "base_uri": "https://localhost:8080/",
          "height": 206
        }
      },
      "execution_count": 5,
      "outputs": [
        {
          "output_type": "execute_result",
          "data": {
            "text/plain": [
              "                  id                                       comment_text  \\\n",
              "6   0002bcb3da6cb337       COCKSUCKER BEFORE YOU PISS AROUND ON MY WORK   \n",
              "12  0005c987bdfc9d4b  Hey... what is it..\\n@ | talk .\\nWhat is it......   \n",
              "16  0007e25b2121310b  Bye! \\n\\nDon't look, come or think of comming ...   \n",
              "42  001810bf8c45bf5f  You are gay or antisemmitian? \\n\\nArchangel WH...   \n",
              "43  00190820581d90ce           FUCK YOUR FILTHY MOTHER IN THE ASS, DRY!   \n",
              "\n",
              "    toxic  severe_toxic  obscene  threat  insult  identity_hate  \n",
              "6       1             1        1       0       1              0  \n",
              "12      1             0        0       0       0              0  \n",
              "16      1             0        0       0       0              0  \n",
              "42      1             0        1       0       1              1  \n",
              "43      1             0        1       0       1              0  "
            ],
            "text/html": [
              "\n",
              "  <div id=\"df-dbe774b0-1bbc-43b9-9b8d-19c553196b04\" class=\"colab-df-container\">\n",
              "    <div>\n",
              "<style scoped>\n",
              "    .dataframe tbody tr th:only-of-type {\n",
              "        vertical-align: middle;\n",
              "    }\n",
              "\n",
              "    .dataframe tbody tr th {\n",
              "        vertical-align: top;\n",
              "    }\n",
              "\n",
              "    .dataframe thead th {\n",
              "        text-align: right;\n",
              "    }\n",
              "</style>\n",
              "<table border=\"1\" class=\"dataframe\">\n",
              "  <thead>\n",
              "    <tr style=\"text-align: right;\">\n",
              "      <th></th>\n",
              "      <th>id</th>\n",
              "      <th>comment_text</th>\n",
              "      <th>toxic</th>\n",
              "      <th>severe_toxic</th>\n",
              "      <th>obscene</th>\n",
              "      <th>threat</th>\n",
              "      <th>insult</th>\n",
              "      <th>identity_hate</th>\n",
              "    </tr>\n",
              "  </thead>\n",
              "  <tbody>\n",
              "    <tr>\n",
              "      <th>6</th>\n",
              "      <td>0002bcb3da6cb337</td>\n",
              "      <td>COCKSUCKER BEFORE YOU PISS AROUND ON MY WORK</td>\n",
              "      <td>1</td>\n",
              "      <td>1</td>\n",
              "      <td>1</td>\n",
              "      <td>0</td>\n",
              "      <td>1</td>\n",
              "      <td>0</td>\n",
              "    </tr>\n",
              "    <tr>\n",
              "      <th>12</th>\n",
              "      <td>0005c987bdfc9d4b</td>\n",
              "      <td>Hey... what is it..\\n@ | talk .\\nWhat is it......</td>\n",
              "      <td>1</td>\n",
              "      <td>0</td>\n",
              "      <td>0</td>\n",
              "      <td>0</td>\n",
              "      <td>0</td>\n",
              "      <td>0</td>\n",
              "    </tr>\n",
              "    <tr>\n",
              "      <th>16</th>\n",
              "      <td>0007e25b2121310b</td>\n",
              "      <td>Bye! \\n\\nDon't look, come or think of comming ...</td>\n",
              "      <td>1</td>\n",
              "      <td>0</td>\n",
              "      <td>0</td>\n",
              "      <td>0</td>\n",
              "      <td>0</td>\n",
              "      <td>0</td>\n",
              "    </tr>\n",
              "    <tr>\n",
              "      <th>42</th>\n",
              "      <td>001810bf8c45bf5f</td>\n",
              "      <td>You are gay or antisemmitian? \\n\\nArchangel WH...</td>\n",
              "      <td>1</td>\n",
              "      <td>0</td>\n",
              "      <td>1</td>\n",
              "      <td>0</td>\n",
              "      <td>1</td>\n",
              "      <td>1</td>\n",
              "    </tr>\n",
              "    <tr>\n",
              "      <th>43</th>\n",
              "      <td>00190820581d90ce</td>\n",
              "      <td>FUCK YOUR FILTHY MOTHER IN THE ASS, DRY!</td>\n",
              "      <td>1</td>\n",
              "      <td>0</td>\n",
              "      <td>1</td>\n",
              "      <td>0</td>\n",
              "      <td>1</td>\n",
              "      <td>0</td>\n",
              "    </tr>\n",
              "  </tbody>\n",
              "</table>\n",
              "</div>\n",
              "    <div class=\"colab-df-buttons\">\n",
              "\n",
              "  <div class=\"colab-df-container\">\n",
              "    <button class=\"colab-df-convert\" onclick=\"convertToInteractive('df-dbe774b0-1bbc-43b9-9b8d-19c553196b04')\"\n",
              "            title=\"Convert this dataframe to an interactive table.\"\n",
              "            style=\"display:none;\">\n",
              "\n",
              "  <svg xmlns=\"http://www.w3.org/2000/svg\" height=\"24px\" viewBox=\"0 -960 960 960\">\n",
              "    <path d=\"M120-120v-720h720v720H120Zm60-500h600v-160H180v160Zm220 220h160v-160H400v160Zm0 220h160v-160H400v160ZM180-400h160v-160H180v160Zm440 0h160v-160H620v160ZM180-180h160v-160H180v160Zm440 0h160v-160H620v160Z\"/>\n",
              "  </svg>\n",
              "    </button>\n",
              "\n",
              "  <style>\n",
              "    .colab-df-container {\n",
              "      display:flex;\n",
              "      gap: 12px;\n",
              "    }\n",
              "\n",
              "    .colab-df-convert {\n",
              "      background-color: #E8F0FE;\n",
              "      border: none;\n",
              "      border-radius: 50%;\n",
              "      cursor: pointer;\n",
              "      display: none;\n",
              "      fill: #1967D2;\n",
              "      height: 32px;\n",
              "      padding: 0 0 0 0;\n",
              "      width: 32px;\n",
              "    }\n",
              "\n",
              "    .colab-df-convert:hover {\n",
              "      background-color: #E2EBFA;\n",
              "      box-shadow: 0px 1px 2px rgba(60, 64, 67, 0.3), 0px 1px 3px 1px rgba(60, 64, 67, 0.15);\n",
              "      fill: #174EA6;\n",
              "    }\n",
              "\n",
              "    .colab-df-buttons div {\n",
              "      margin-bottom: 4px;\n",
              "    }\n",
              "\n",
              "    [theme=dark] .colab-df-convert {\n",
              "      background-color: #3B4455;\n",
              "      fill: #D2E3FC;\n",
              "    }\n",
              "\n",
              "    [theme=dark] .colab-df-convert:hover {\n",
              "      background-color: #434B5C;\n",
              "      box-shadow: 0px 1px 3px 1px rgba(0, 0, 0, 0.15);\n",
              "      filter: drop-shadow(0px 1px 2px rgba(0, 0, 0, 0.3));\n",
              "      fill: #FFFFFF;\n",
              "    }\n",
              "  </style>\n",
              "\n",
              "    <script>\n",
              "      const buttonEl =\n",
              "        document.querySelector('#df-dbe774b0-1bbc-43b9-9b8d-19c553196b04 button.colab-df-convert');\n",
              "      buttonEl.style.display =\n",
              "        google.colab.kernel.accessAllowed ? 'block' : 'none';\n",
              "\n",
              "      async function convertToInteractive(key) {\n",
              "        const element = document.querySelector('#df-dbe774b0-1bbc-43b9-9b8d-19c553196b04');\n",
              "        const dataTable =\n",
              "          await google.colab.kernel.invokeFunction('convertToInteractive',\n",
              "                                                    [key], {});\n",
              "        if (!dataTable) return;\n",
              "\n",
              "        const docLinkHtml = 'Like what you see? Visit the ' +\n",
              "          '<a target=\"_blank\" href=https://colab.research.google.com/notebooks/data_table.ipynb>data table notebook</a>'\n",
              "          + ' to learn more about interactive tables.';\n",
              "        element.innerHTML = '';\n",
              "        dataTable['output_type'] = 'display_data';\n",
              "        await google.colab.output.renderOutput(dataTable, element);\n",
              "        const docLink = document.createElement('div');\n",
              "        docLink.innerHTML = docLinkHtml;\n",
              "        element.appendChild(docLink);\n",
              "      }\n",
              "    </script>\n",
              "  </div>\n",
              "\n",
              "\n",
              "<div id=\"df-769720ec-9e29-4ae3-9c60-16b311044f06\">\n",
              "  <button class=\"colab-df-quickchart\" onclick=\"quickchart('df-769720ec-9e29-4ae3-9c60-16b311044f06')\"\n",
              "            title=\"Suggest charts\"\n",
              "            style=\"display:none;\">\n",
              "\n",
              "<svg xmlns=\"http://www.w3.org/2000/svg\" height=\"24px\"viewBox=\"0 0 24 24\"\n",
              "     width=\"24px\">\n",
              "    <g>\n",
              "        <path d=\"M19 3H5c-1.1 0-2 .9-2 2v14c0 1.1.9 2 2 2h14c1.1 0 2-.9 2-2V5c0-1.1-.9-2-2-2zM9 17H7v-7h2v7zm4 0h-2V7h2v10zm4 0h-2v-4h2v4z\"/>\n",
              "    </g>\n",
              "</svg>\n",
              "  </button>\n",
              "\n",
              "<style>\n",
              "  .colab-df-quickchart {\n",
              "      --bg-color: #E8F0FE;\n",
              "      --fill-color: #1967D2;\n",
              "      --hover-bg-color: #E2EBFA;\n",
              "      --hover-fill-color: #174EA6;\n",
              "      --disabled-fill-color: #AAA;\n",
              "      --disabled-bg-color: #DDD;\n",
              "  }\n",
              "\n",
              "  [theme=dark] .colab-df-quickchart {\n",
              "      --bg-color: #3B4455;\n",
              "      --fill-color: #D2E3FC;\n",
              "      --hover-bg-color: #434B5C;\n",
              "      --hover-fill-color: #FFFFFF;\n",
              "      --disabled-bg-color: #3B4455;\n",
              "      --disabled-fill-color: #666;\n",
              "  }\n",
              "\n",
              "  .colab-df-quickchart {\n",
              "    background-color: var(--bg-color);\n",
              "    border: none;\n",
              "    border-radius: 50%;\n",
              "    cursor: pointer;\n",
              "    display: none;\n",
              "    fill: var(--fill-color);\n",
              "    height: 32px;\n",
              "    padding: 0;\n",
              "    width: 32px;\n",
              "  }\n",
              "\n",
              "  .colab-df-quickchart:hover {\n",
              "    background-color: var(--hover-bg-color);\n",
              "    box-shadow: 0 1px 2px rgba(60, 64, 67, 0.3), 0 1px 3px 1px rgba(60, 64, 67, 0.15);\n",
              "    fill: var(--button-hover-fill-color);\n",
              "  }\n",
              "\n",
              "  .colab-df-quickchart-complete:disabled,\n",
              "  .colab-df-quickchart-complete:disabled:hover {\n",
              "    background-color: var(--disabled-bg-color);\n",
              "    fill: var(--disabled-fill-color);\n",
              "    box-shadow: none;\n",
              "  }\n",
              "\n",
              "  .colab-df-spinner {\n",
              "    border: 2px solid var(--fill-color);\n",
              "    border-color: transparent;\n",
              "    border-bottom-color: var(--fill-color);\n",
              "    animation:\n",
              "      spin 1s steps(1) infinite;\n",
              "  }\n",
              "\n",
              "  @keyframes spin {\n",
              "    0% {\n",
              "      border-color: transparent;\n",
              "      border-bottom-color: var(--fill-color);\n",
              "      border-left-color: var(--fill-color);\n",
              "    }\n",
              "    20% {\n",
              "      border-color: transparent;\n",
              "      border-left-color: var(--fill-color);\n",
              "      border-top-color: var(--fill-color);\n",
              "    }\n",
              "    30% {\n",
              "      border-color: transparent;\n",
              "      border-left-color: var(--fill-color);\n",
              "      border-top-color: var(--fill-color);\n",
              "      border-right-color: var(--fill-color);\n",
              "    }\n",
              "    40% {\n",
              "      border-color: transparent;\n",
              "      border-right-color: var(--fill-color);\n",
              "      border-top-color: var(--fill-color);\n",
              "    }\n",
              "    60% {\n",
              "      border-color: transparent;\n",
              "      border-right-color: var(--fill-color);\n",
              "    }\n",
              "    80% {\n",
              "      border-color: transparent;\n",
              "      border-right-color: var(--fill-color);\n",
              "      border-bottom-color: var(--fill-color);\n",
              "    }\n",
              "    90% {\n",
              "      border-color: transparent;\n",
              "      border-bottom-color: var(--fill-color);\n",
              "    }\n",
              "  }\n",
              "</style>\n",
              "\n",
              "  <script>\n",
              "    async function quickchart(key) {\n",
              "      const quickchartButtonEl =\n",
              "        document.querySelector('#' + key + ' button');\n",
              "      quickchartButtonEl.disabled = true;  // To prevent multiple clicks.\n",
              "      quickchartButtonEl.classList.add('colab-df-spinner');\n",
              "      try {\n",
              "        const charts = await google.colab.kernel.invokeFunction(\n",
              "            'suggestCharts', [key], {});\n",
              "      } catch (error) {\n",
              "        console.error('Error during call to suggestCharts:', error);\n",
              "      }\n",
              "      quickchartButtonEl.classList.remove('colab-df-spinner');\n",
              "      quickchartButtonEl.classList.add('colab-df-quickchart-complete');\n",
              "    }\n",
              "    (() => {\n",
              "      let quickchartButtonEl =\n",
              "        document.querySelector('#df-769720ec-9e29-4ae3-9c60-16b311044f06 button');\n",
              "      quickchartButtonEl.style.display =\n",
              "        google.colab.kernel.accessAllowed ? 'block' : 'none';\n",
              "    })();\n",
              "  </script>\n",
              "</div>\n",
              "\n",
              "    </div>\n",
              "  </div>\n"
            ],
            "application/vnd.google.colaboratory.intrinsic+json": {
              "type": "dataframe",
              "variable_name": "temp",
              "summary": "{\n  \"name\": \"temp\",\n  \"rows\": 20,\n  \"fields\": [\n    {\n      \"column\": \"id\",\n      \"properties\": {\n        \"dtype\": \"string\",\n        \"num_unique_values\": 20,\n        \"samples\": [\n          \"0002bcb3da6cb337\",\n          \"00686325bcc16080\",\n          \"005f59485fcddeb0\"\n        ],\n        \"semantic_type\": \"\",\n        \"description\": \"\"\n      }\n    },\n    {\n      \"column\": \"comment_text\",\n      \"properties\": {\n        \"dtype\": \"string\",\n        \"num_unique_values\": 20,\n        \"samples\": [\n          \"COCKSUCKER BEFORE YOU PISS AROUND ON MY WORK\",\n          \"You should be fired, you're a moronic wimp who is too lazy to do research. It makes me sick that people like you exist in this world.\",\n          \"\\\"\\n\\nSORRY PUCK BUT NO ONE EVER SAID DICK WAS NUMBER ONE!! But he is clearly listed as being \\\"\\\"second only to Batman\\\"\\\" and a \\\"\\\"master detective and martial artist\\\"\\\" and been trained in all the mentioned combat discplines. No need to mention in skills/abilities about the battles he's lost and won because thats not what an encylopia is supposed to do. \\n\\nAlso, what your problem is your going by low end showings and not HIGH end showings where he's proven more than a match for a meta like Slade and pinned Shiva down in one of his earliest appearences.\\n \\\"\"\n        ],\n        \"semantic_type\": \"\",\n        \"description\": \"\"\n      }\n    },\n    {\n      \"column\": \"toxic\",\n      \"properties\": {\n        \"dtype\": \"number\",\n        \"std\": 0,\n        \"min\": 1,\n        \"max\": 1,\n        \"num_unique_values\": 1,\n        \"samples\": [\n          1\n        ],\n        \"semantic_type\": \"\",\n        \"description\": \"\"\n      }\n    },\n    {\n      \"column\": \"severe_toxic\",\n      \"properties\": {\n        \"dtype\": \"number\",\n        \"std\": 0,\n        \"min\": 0,\n        \"max\": 1,\n        \"num_unique_values\": 2,\n        \"samples\": [\n          0\n        ],\n        \"semantic_type\": \"\",\n        \"description\": \"\"\n      }\n    },\n    {\n      \"column\": \"obscene\",\n      \"properties\": {\n        \"dtype\": \"number\",\n        \"std\": 0,\n        \"min\": 0,\n        \"max\": 1,\n        \"num_unique_values\": 2,\n        \"samples\": [\n          0\n        ],\n        \"semantic_type\": \"\",\n        \"description\": \"\"\n      }\n    },\n    {\n      \"column\": \"threat\",\n      \"properties\": {\n        \"dtype\": \"number\",\n        \"std\": 0,\n        \"min\": 0,\n        \"max\": 1,\n        \"num_unique_values\": 2,\n        \"samples\": [\n          1\n        ],\n        \"semantic_type\": \"\",\n        \"description\": \"\"\n      }\n    },\n    {\n      \"column\": \"insult\",\n      \"properties\": {\n        \"dtype\": \"number\",\n        \"std\": 0,\n        \"min\": 0,\n        \"max\": 1,\n        \"num_unique_values\": 2,\n        \"samples\": [\n          0\n        ],\n        \"semantic_type\": \"\",\n        \"description\": \"\"\n      }\n    },\n    {\n      \"column\": \"identity_hate\",\n      \"properties\": {\n        \"dtype\": \"number\",\n        \"std\": 0,\n        \"min\": 0,\n        \"max\": 1,\n        \"num_unique_values\": 2,\n        \"samples\": [\n          1\n        ],\n        \"semantic_type\": \"\",\n        \"description\": \"\"\n      }\n    }\n  ]\n}"
            }
          },
          "metadata": {},
          "execution_count": 5
        }
      ]
    },
    {
      "cell_type": "code",
      "source": [
        "print(len(train['comment_text'][10]), 'Total Characters')\n",
        "train['comment_text'][10]"
      ],
      "metadata": {
        "execution": {
          "iopub.status.busy": "2024-04-20T19:03:14.781317Z",
          "iopub.execute_input": "2024-04-20T19:03:14.781719Z",
          "iopub.status.idle": "2024-04-20T19:03:14.789359Z",
          "shell.execute_reply.started": "2024-04-20T19:03:14.781682Z",
          "shell.execute_reply": "2024-04-20T19:03:14.788348Z"
        },
        "trusted": true,
        "id": "o4dXAnR7muW0",
        "outputId": "c529390a-867e-4bc8-da6b-b95f842025c6",
        "colab": {
          "base_uri": "https://localhost:8080/",
          "height": 140
        }
      },
      "execution_count": 6,
      "outputs": [
        {
          "output_type": "stream",
          "name": "stdout",
          "text": [
            "2875 Total Characters\n"
          ]
        },
        {
          "output_type": "execute_result",
          "data": {
            "text/plain": [
              "'\"\\nFair use rationale for Image:Wonju.jpg\\n\\nThanks for uploading Image:Wonju.jpg. I notice the image page specifies that the image is being used under fair use but there is no explanation or rationale as to why its use in Wikipedia articles constitutes fair use. In addition to the boilerplate fair use template, you must also write out on the image description page a specific explanation or rationale for why using this image in each article is consistent with fair use.\\n\\nPlease go to the image description page and edit it to include a fair use rationale.\\n\\nIf you have uploaded other fair use media, consider checking that you have specified the fair use rationale on those pages too. You can find a list of \\'image\\' pages you have edited by clicking on the \"\"my contributions\"\" link (it is located at the very top of any Wikipedia page when you are logged in), and then selecting \"\"Image\"\" from the dropdown box. Note that any fair use images uploaded after 4 May, 2006, and lacking such an explanation will be deleted one week after they have been uploaded, as described on criteria for speedy deletion. If you have any questions please ask them at the Media copyright questions page. Thank you. (talk • contribs • ) \\nUnspecified source for Image:Wonju.jpg\\n\\nThanks for uploading Image:Wonju.jpg. I noticed that the file\\'s description page currently doesn\\'t specify who created the content, so the copyright status is unclear. If you did not create this file yourself, then you will need to specify the owner of the copyright. If you obtained it from a website, then a link to the website from which it was taken, together with a restatement of that website\\'s terms of use of its content, is usually sufficient information. However, if the copyright holder is different from the website\\'s publisher, then their copyright should also be acknowledged.\\n\\nAs well as adding the source, please add a proper copyright licensing tag if the file doesn\\'t have one already. If you created/took the picture, audio, or video then the  tag can be used to release it under the GFDL. If you believe the media meets the criteria at Wikipedia:Fair use, use a tag such as  or one of the other tags listed at Wikipedia:Image copyright tags#Fair use. See Wikipedia:Image copyright tags for the full list of copyright tags that you can use.\\n\\nIf you have uploaded other files, consider checking that you have specified their source and tagged them, too. You can find a list of files you have uploaded by following [ this link]. Unsourced and untagged images may be deleted one week after they have been tagged, as described on criteria for speedy deletion. If the image is copyrighted under a non-free license (per Wikipedia:Fair use) then the image will be deleted 48 hours after . If you have any questions please ask them at the Media copyright questions page. Thank you. (talk • contribs • ) \"'"
            ],
            "application/vnd.google.colaboratory.intrinsic+json": {
              "type": "string"
            }
          },
          "metadata": {},
          "execution_count": 6
        }
      ]
    },
    {
      "cell_type": "markdown",
      "source": [
        "A comment can be toxic, severe_toxic, obscene and insult at the same time. So the class for each comment is not limited to one.\n",
        "<br>Now let's check the values for each column in train dataset."
      ],
      "metadata": {
        "id": "nNt4qIVOmuW1"
      }
    },
    {
      "cell_type": "code",
      "source": [
        "labels = train.drop(['id', 'comment_text'], axis = 1)\n",
        "unique_values = lambda x: train[x].unique()\n",
        "[unique_values(col) for col in labels.columns.tolist()]"
      ],
      "metadata": {
        "execution": {
          "iopub.status.busy": "2024-04-20T19:03:19.830945Z",
          "iopub.execute_input": "2024-04-20T19:03:19.831286Z",
          "iopub.status.idle": "2024-04-20T19:03:19.841839Z",
          "shell.execute_reply.started": "2024-04-20T19:03:19.831255Z",
          "shell.execute_reply": "2024-04-20T19:03:19.841003Z"
        },
        "trusted": true,
        "id": "HbulMJxhmuW2",
        "outputId": "d2755408-e0f8-436a-f440-7c95affa6da2",
        "colab": {
          "base_uri": "https://localhost:8080/"
        }
      },
      "execution_count": 7,
      "outputs": [
        {
          "output_type": "execute_result",
          "data": {
            "text/plain": [
              "[array([0, 1]),\n",
              " array([0, 1]),\n",
              " array([0, 1]),\n",
              " array([0, 1]),\n",
              " array([0, 1]),\n",
              " array([0, 1])]"
            ]
          },
          "metadata": {},
          "execution_count": 7
        }
      ]
    },
    {
      "cell_type": "code",
      "source": [
        "test = pd.read_csv('../input/jigsaw-toxic-comment-classification-challenge/test.csv.zip', nrows = 100)\n",
        "test.head()"
      ],
      "metadata": {
        "execution": {
          "iopub.status.busy": "2024-04-20T19:03:23.347573Z",
          "iopub.execute_input": "2024-04-20T19:03:23.347967Z",
          "iopub.status.idle": "2024-04-20T19:03:23.39984Z",
          "shell.execute_reply.started": "2024-04-20T19:03:23.34793Z",
          "shell.execute_reply": "2024-04-20T19:03:23.39891Z"
        },
        "trusted": true,
        "id": "QCzZc8z3muW2",
        "outputId": "5a895814-f3f9-42ef-c0dc-b15f13ebabdb",
        "colab": {
          "base_uri": "https://localhost:8080/",
          "height": 206
        }
      },
      "execution_count": 8,
      "outputs": [
        {
          "output_type": "execute_result",
          "data": {
            "text/plain": [
              "                 id                                       comment_text\n",
              "0  00001cee341fdb12  Yo bitch Ja Rule is more succesful then you'll...\n",
              "1  0000247867823ef7  == From RfC == \\n\\n The title is fine as it is...\n",
              "2  00013b17ad220c46  \" \\n\\n == Sources == \\n\\n * Zawe Ashton on Lap...\n",
              "3  00017563c3f7919a  :If you have a look back at the source, the in...\n",
              "4  00017695ad8997eb          I don't anonymously edit articles at all."
            ],
            "text/html": [
              "\n",
              "  <div id=\"df-ce7ca6f3-d21f-43e2-a239-f5435fa6afe5\" class=\"colab-df-container\">\n",
              "    <div>\n",
              "<style scoped>\n",
              "    .dataframe tbody tr th:only-of-type {\n",
              "        vertical-align: middle;\n",
              "    }\n",
              "\n",
              "    .dataframe tbody tr th {\n",
              "        vertical-align: top;\n",
              "    }\n",
              "\n",
              "    .dataframe thead th {\n",
              "        text-align: right;\n",
              "    }\n",
              "</style>\n",
              "<table border=\"1\" class=\"dataframe\">\n",
              "  <thead>\n",
              "    <tr style=\"text-align: right;\">\n",
              "      <th></th>\n",
              "      <th>id</th>\n",
              "      <th>comment_text</th>\n",
              "    </tr>\n",
              "  </thead>\n",
              "  <tbody>\n",
              "    <tr>\n",
              "      <th>0</th>\n",
              "      <td>00001cee341fdb12</td>\n",
              "      <td>Yo bitch Ja Rule is more succesful then you'll...</td>\n",
              "    </tr>\n",
              "    <tr>\n",
              "      <th>1</th>\n",
              "      <td>0000247867823ef7</td>\n",
              "      <td>== From RfC == \\n\\n The title is fine as it is...</td>\n",
              "    </tr>\n",
              "    <tr>\n",
              "      <th>2</th>\n",
              "      <td>00013b17ad220c46</td>\n",
              "      <td>\" \\n\\n == Sources == \\n\\n * Zawe Ashton on Lap...</td>\n",
              "    </tr>\n",
              "    <tr>\n",
              "      <th>3</th>\n",
              "      <td>00017563c3f7919a</td>\n",
              "      <td>:If you have a look back at the source, the in...</td>\n",
              "    </tr>\n",
              "    <tr>\n",
              "      <th>4</th>\n",
              "      <td>00017695ad8997eb</td>\n",
              "      <td>I don't anonymously edit articles at all.</td>\n",
              "    </tr>\n",
              "  </tbody>\n",
              "</table>\n",
              "</div>\n",
              "    <div class=\"colab-df-buttons\">\n",
              "\n",
              "  <div class=\"colab-df-container\">\n",
              "    <button class=\"colab-df-convert\" onclick=\"convertToInteractive('df-ce7ca6f3-d21f-43e2-a239-f5435fa6afe5')\"\n",
              "            title=\"Convert this dataframe to an interactive table.\"\n",
              "            style=\"display:none;\">\n",
              "\n",
              "  <svg xmlns=\"http://www.w3.org/2000/svg\" height=\"24px\" viewBox=\"0 -960 960 960\">\n",
              "    <path d=\"M120-120v-720h720v720H120Zm60-500h600v-160H180v160Zm220 220h160v-160H400v160Zm0 220h160v-160H400v160ZM180-400h160v-160H180v160Zm440 0h160v-160H620v160ZM180-180h160v-160H180v160Zm440 0h160v-160H620v160Z\"/>\n",
              "  </svg>\n",
              "    </button>\n",
              "\n",
              "  <style>\n",
              "    .colab-df-container {\n",
              "      display:flex;\n",
              "      gap: 12px;\n",
              "    }\n",
              "\n",
              "    .colab-df-convert {\n",
              "      background-color: #E8F0FE;\n",
              "      border: none;\n",
              "      border-radius: 50%;\n",
              "      cursor: pointer;\n",
              "      display: none;\n",
              "      fill: #1967D2;\n",
              "      height: 32px;\n",
              "      padding: 0 0 0 0;\n",
              "      width: 32px;\n",
              "    }\n",
              "\n",
              "    .colab-df-convert:hover {\n",
              "      background-color: #E2EBFA;\n",
              "      box-shadow: 0px 1px 2px rgba(60, 64, 67, 0.3), 0px 1px 3px 1px rgba(60, 64, 67, 0.15);\n",
              "      fill: #174EA6;\n",
              "    }\n",
              "\n",
              "    .colab-df-buttons div {\n",
              "      margin-bottom: 4px;\n",
              "    }\n",
              "\n",
              "    [theme=dark] .colab-df-convert {\n",
              "      background-color: #3B4455;\n",
              "      fill: #D2E3FC;\n",
              "    }\n",
              "\n",
              "    [theme=dark] .colab-df-convert:hover {\n",
              "      background-color: #434B5C;\n",
              "      box-shadow: 0px 1px 3px 1px rgba(0, 0, 0, 0.15);\n",
              "      filter: drop-shadow(0px 1px 2px rgba(0, 0, 0, 0.3));\n",
              "      fill: #FFFFFF;\n",
              "    }\n",
              "  </style>\n",
              "\n",
              "    <script>\n",
              "      const buttonEl =\n",
              "        document.querySelector('#df-ce7ca6f3-d21f-43e2-a239-f5435fa6afe5 button.colab-df-convert');\n",
              "      buttonEl.style.display =\n",
              "        google.colab.kernel.accessAllowed ? 'block' : 'none';\n",
              "\n",
              "      async function convertToInteractive(key) {\n",
              "        const element = document.querySelector('#df-ce7ca6f3-d21f-43e2-a239-f5435fa6afe5');\n",
              "        const dataTable =\n",
              "          await google.colab.kernel.invokeFunction('convertToInteractive',\n",
              "                                                    [key], {});\n",
              "        if (!dataTable) return;\n",
              "\n",
              "        const docLinkHtml = 'Like what you see? Visit the ' +\n",
              "          '<a target=\"_blank\" href=https://colab.research.google.com/notebooks/data_table.ipynb>data table notebook</a>'\n",
              "          + ' to learn more about interactive tables.';\n",
              "        element.innerHTML = '';\n",
              "        dataTable['output_type'] = 'display_data';\n",
              "        await google.colab.output.renderOutput(dataTable, element);\n",
              "        const docLink = document.createElement('div');\n",
              "        docLink.innerHTML = docLinkHtml;\n",
              "        element.appendChild(docLink);\n",
              "      }\n",
              "    </script>\n",
              "  </div>\n",
              "\n",
              "\n",
              "<div id=\"df-783c273f-5a20-480c-aeaf-2193830ff7df\">\n",
              "  <button class=\"colab-df-quickchart\" onclick=\"quickchart('df-783c273f-5a20-480c-aeaf-2193830ff7df')\"\n",
              "            title=\"Suggest charts\"\n",
              "            style=\"display:none;\">\n",
              "\n",
              "<svg xmlns=\"http://www.w3.org/2000/svg\" height=\"24px\"viewBox=\"0 0 24 24\"\n",
              "     width=\"24px\">\n",
              "    <g>\n",
              "        <path d=\"M19 3H5c-1.1 0-2 .9-2 2v14c0 1.1.9 2 2 2h14c1.1 0 2-.9 2-2V5c0-1.1-.9-2-2-2zM9 17H7v-7h2v7zm4 0h-2V7h2v10zm4 0h-2v-4h2v4z\"/>\n",
              "    </g>\n",
              "</svg>\n",
              "  </button>\n",
              "\n",
              "<style>\n",
              "  .colab-df-quickchart {\n",
              "      --bg-color: #E8F0FE;\n",
              "      --fill-color: #1967D2;\n",
              "      --hover-bg-color: #E2EBFA;\n",
              "      --hover-fill-color: #174EA6;\n",
              "      --disabled-fill-color: #AAA;\n",
              "      --disabled-bg-color: #DDD;\n",
              "  }\n",
              "\n",
              "  [theme=dark] .colab-df-quickchart {\n",
              "      --bg-color: #3B4455;\n",
              "      --fill-color: #D2E3FC;\n",
              "      --hover-bg-color: #434B5C;\n",
              "      --hover-fill-color: #FFFFFF;\n",
              "      --disabled-bg-color: #3B4455;\n",
              "      --disabled-fill-color: #666;\n",
              "  }\n",
              "\n",
              "  .colab-df-quickchart {\n",
              "    background-color: var(--bg-color);\n",
              "    border: none;\n",
              "    border-radius: 50%;\n",
              "    cursor: pointer;\n",
              "    display: none;\n",
              "    fill: var(--fill-color);\n",
              "    height: 32px;\n",
              "    padding: 0;\n",
              "    width: 32px;\n",
              "  }\n",
              "\n",
              "  .colab-df-quickchart:hover {\n",
              "    background-color: var(--hover-bg-color);\n",
              "    box-shadow: 0 1px 2px rgba(60, 64, 67, 0.3), 0 1px 3px 1px rgba(60, 64, 67, 0.15);\n",
              "    fill: var(--button-hover-fill-color);\n",
              "  }\n",
              "\n",
              "  .colab-df-quickchart-complete:disabled,\n",
              "  .colab-df-quickchart-complete:disabled:hover {\n",
              "    background-color: var(--disabled-bg-color);\n",
              "    fill: var(--disabled-fill-color);\n",
              "    box-shadow: none;\n",
              "  }\n",
              "\n",
              "  .colab-df-spinner {\n",
              "    border: 2px solid var(--fill-color);\n",
              "    border-color: transparent;\n",
              "    border-bottom-color: var(--fill-color);\n",
              "    animation:\n",
              "      spin 1s steps(1) infinite;\n",
              "  }\n",
              "\n",
              "  @keyframes spin {\n",
              "    0% {\n",
              "      border-color: transparent;\n",
              "      border-bottom-color: var(--fill-color);\n",
              "      border-left-color: var(--fill-color);\n",
              "    }\n",
              "    20% {\n",
              "      border-color: transparent;\n",
              "      border-left-color: var(--fill-color);\n",
              "      border-top-color: var(--fill-color);\n",
              "    }\n",
              "    30% {\n",
              "      border-color: transparent;\n",
              "      border-left-color: var(--fill-color);\n",
              "      border-top-color: var(--fill-color);\n",
              "      border-right-color: var(--fill-color);\n",
              "    }\n",
              "    40% {\n",
              "      border-color: transparent;\n",
              "      border-right-color: var(--fill-color);\n",
              "      border-top-color: var(--fill-color);\n",
              "    }\n",
              "    60% {\n",
              "      border-color: transparent;\n",
              "      border-right-color: var(--fill-color);\n",
              "    }\n",
              "    80% {\n",
              "      border-color: transparent;\n",
              "      border-right-color: var(--fill-color);\n",
              "      border-bottom-color: var(--fill-color);\n",
              "    }\n",
              "    90% {\n",
              "      border-color: transparent;\n",
              "      border-bottom-color: var(--fill-color);\n",
              "    }\n",
              "  }\n",
              "</style>\n",
              "\n",
              "  <script>\n",
              "    async function quickchart(key) {\n",
              "      const quickchartButtonEl =\n",
              "        document.querySelector('#' + key + ' button');\n",
              "      quickchartButtonEl.disabled = true;  // To prevent multiple clicks.\n",
              "      quickchartButtonEl.classList.add('colab-df-spinner');\n",
              "      try {\n",
              "        const charts = await google.colab.kernel.invokeFunction(\n",
              "            'suggestCharts', [key], {});\n",
              "      } catch (error) {\n",
              "        console.error('Error during call to suggestCharts:', error);\n",
              "      }\n",
              "      quickchartButtonEl.classList.remove('colab-df-spinner');\n",
              "      quickchartButtonEl.classList.add('colab-df-quickchart-complete');\n",
              "    }\n",
              "    (() => {\n",
              "      let quickchartButtonEl =\n",
              "        document.querySelector('#df-783c273f-5a20-480c-aeaf-2193830ff7df button');\n",
              "      quickchartButtonEl.style.display =\n",
              "        google.colab.kernel.accessAllowed ? 'block' : 'none';\n",
              "    })();\n",
              "  </script>\n",
              "</div>\n",
              "\n",
              "    </div>\n",
              "  </div>\n"
            ],
            "application/vnd.google.colaboratory.intrinsic+json": {
              "type": "dataframe",
              "variable_name": "test",
              "summary": "{\n  \"name\": \"test\",\n  \"rows\": 100,\n  \"fields\": [\n    {\n      \"column\": \"id\",\n      \"properties\": {\n        \"dtype\": \"string\",\n        \"num_unique_values\": 100,\n        \"samples\": [\n          \"0020376025dd8092\",\n          \"0015d9af6dbc03c0\",\n          \"001c86f5bceccb32\"\n        ],\n        \"semantic_type\": \"\",\n        \"description\": \"\"\n      }\n    },\n    {\n      \"column\": \"comment_text\",\n      \"properties\": {\n        \"dtype\": \"string\",\n        \"num_unique_values\": 100,\n        \"samples\": [\n          \"\\\" \\n\\n ==Proornis== \\n\\n Thank you for adding an entry for Proornis on wikipedia. I have added a bit more info and correct some of your edits: \\n * try to use the Taxobox in a correct manner. In your case you added dromaesauridae as a family of archaeornithiformes and there was no mention of the genus and species. \\n * don't overcategorized your article. Proornis to my knowledge is considered a basal bird and do not really fit in the dinosaur or coelurosaur categories.  \\n * add references whenever possible \\n * start an article by defining the subject. For instance: \\\"\\\"Proornis\\\"\\\" is an extinct genus of bird discovered in North Korea. \\n I hope you will be able to follow these guidelines when you will be creating a new article. If you need help, let me know.  \\\"\",\n          \"== Someday Never == \\n\\n Why was the image deleted? Were there copyright issues?\",\n          \"== Hello == \\n\\n Fuck off my Pagan you bareback mancunt pig slut.\"\n        ],\n        \"semantic_type\": \"\",\n        \"description\": \"\"\n      }\n    }\n  ]\n}"
            }
          },
          "metadata": {},
          "execution_count": 8
        }
      ]
    },
    {
      "cell_type": "code",
      "source": [
        "test_labels = pd.read_csv('../input/jigsaw-toxic-comment-classification-challenge/test_labels.csv.zip', nrows = 10)\n",
        "test_labels.head()"
      ],
      "metadata": {
        "execution": {
          "iopub.status.busy": "2024-04-20T19:03:33.404863Z",
          "iopub.execute_input": "2024-04-20T19:03:33.405195Z",
          "iopub.status.idle": "2024-04-20T19:03:33.486848Z",
          "shell.execute_reply.started": "2024-04-20T19:03:33.405166Z",
          "shell.execute_reply": "2024-04-20T19:03:33.485964Z"
        },
        "trusted": true,
        "id": "-fhvYOwjmuW3",
        "outputId": "32bd57df-4fac-49e7-ea99-6b0c81e4d3f6",
        "colab": {
          "base_uri": "https://localhost:8080/",
          "height": 206
        }
      },
      "execution_count": 9,
      "outputs": [
        {
          "output_type": "execute_result",
          "data": {
            "text/plain": [
              "                 id  toxic  severe_toxic  obscene  threat  insult  \\\n",
              "0  00001cee341fdb12     -1            -1       -1      -1      -1   \n",
              "1  0000247867823ef7     -1            -1       -1      -1      -1   \n",
              "2  00013b17ad220c46     -1            -1       -1      -1      -1   \n",
              "3  00017563c3f7919a     -1            -1       -1      -1      -1   \n",
              "4  00017695ad8997eb     -1            -1       -1      -1      -1   \n",
              "\n",
              "   identity_hate  \n",
              "0             -1  \n",
              "1             -1  \n",
              "2             -1  \n",
              "3             -1  \n",
              "4             -1  "
            ],
            "text/html": [
              "\n",
              "  <div id=\"df-f1d5e53e-ce25-475a-af0e-d0b73adc1b97\" class=\"colab-df-container\">\n",
              "    <div>\n",
              "<style scoped>\n",
              "    .dataframe tbody tr th:only-of-type {\n",
              "        vertical-align: middle;\n",
              "    }\n",
              "\n",
              "    .dataframe tbody tr th {\n",
              "        vertical-align: top;\n",
              "    }\n",
              "\n",
              "    .dataframe thead th {\n",
              "        text-align: right;\n",
              "    }\n",
              "</style>\n",
              "<table border=\"1\" class=\"dataframe\">\n",
              "  <thead>\n",
              "    <tr style=\"text-align: right;\">\n",
              "      <th></th>\n",
              "      <th>id</th>\n",
              "      <th>toxic</th>\n",
              "      <th>severe_toxic</th>\n",
              "      <th>obscene</th>\n",
              "      <th>threat</th>\n",
              "      <th>insult</th>\n",
              "      <th>identity_hate</th>\n",
              "    </tr>\n",
              "  </thead>\n",
              "  <tbody>\n",
              "    <tr>\n",
              "      <th>0</th>\n",
              "      <td>00001cee341fdb12</td>\n",
              "      <td>-1</td>\n",
              "      <td>-1</td>\n",
              "      <td>-1</td>\n",
              "      <td>-1</td>\n",
              "      <td>-1</td>\n",
              "      <td>-1</td>\n",
              "    </tr>\n",
              "    <tr>\n",
              "      <th>1</th>\n",
              "      <td>0000247867823ef7</td>\n",
              "      <td>-1</td>\n",
              "      <td>-1</td>\n",
              "      <td>-1</td>\n",
              "      <td>-1</td>\n",
              "      <td>-1</td>\n",
              "      <td>-1</td>\n",
              "    </tr>\n",
              "    <tr>\n",
              "      <th>2</th>\n",
              "      <td>00013b17ad220c46</td>\n",
              "      <td>-1</td>\n",
              "      <td>-1</td>\n",
              "      <td>-1</td>\n",
              "      <td>-1</td>\n",
              "      <td>-1</td>\n",
              "      <td>-1</td>\n",
              "    </tr>\n",
              "    <tr>\n",
              "      <th>3</th>\n",
              "      <td>00017563c3f7919a</td>\n",
              "      <td>-1</td>\n",
              "      <td>-1</td>\n",
              "      <td>-1</td>\n",
              "      <td>-1</td>\n",
              "      <td>-1</td>\n",
              "      <td>-1</td>\n",
              "    </tr>\n",
              "    <tr>\n",
              "      <th>4</th>\n",
              "      <td>00017695ad8997eb</td>\n",
              "      <td>-1</td>\n",
              "      <td>-1</td>\n",
              "      <td>-1</td>\n",
              "      <td>-1</td>\n",
              "      <td>-1</td>\n",
              "      <td>-1</td>\n",
              "    </tr>\n",
              "  </tbody>\n",
              "</table>\n",
              "</div>\n",
              "    <div class=\"colab-df-buttons\">\n",
              "\n",
              "  <div class=\"colab-df-container\">\n",
              "    <button class=\"colab-df-convert\" onclick=\"convertToInteractive('df-f1d5e53e-ce25-475a-af0e-d0b73adc1b97')\"\n",
              "            title=\"Convert this dataframe to an interactive table.\"\n",
              "            style=\"display:none;\">\n",
              "\n",
              "  <svg xmlns=\"http://www.w3.org/2000/svg\" height=\"24px\" viewBox=\"0 -960 960 960\">\n",
              "    <path d=\"M120-120v-720h720v720H120Zm60-500h600v-160H180v160Zm220 220h160v-160H400v160Zm0 220h160v-160H400v160ZM180-400h160v-160H180v160Zm440 0h160v-160H620v160ZM180-180h160v-160H180v160Zm440 0h160v-160H620v160Z\"/>\n",
              "  </svg>\n",
              "    </button>\n",
              "\n",
              "  <style>\n",
              "    .colab-df-container {\n",
              "      display:flex;\n",
              "      gap: 12px;\n",
              "    }\n",
              "\n",
              "    .colab-df-convert {\n",
              "      background-color: #E8F0FE;\n",
              "      border: none;\n",
              "      border-radius: 50%;\n",
              "      cursor: pointer;\n",
              "      display: none;\n",
              "      fill: #1967D2;\n",
              "      height: 32px;\n",
              "      padding: 0 0 0 0;\n",
              "      width: 32px;\n",
              "    }\n",
              "\n",
              "    .colab-df-convert:hover {\n",
              "      background-color: #E2EBFA;\n",
              "      box-shadow: 0px 1px 2px rgba(60, 64, 67, 0.3), 0px 1px 3px 1px rgba(60, 64, 67, 0.15);\n",
              "      fill: #174EA6;\n",
              "    }\n",
              "\n",
              "    .colab-df-buttons div {\n",
              "      margin-bottom: 4px;\n",
              "    }\n",
              "\n",
              "    [theme=dark] .colab-df-convert {\n",
              "      background-color: #3B4455;\n",
              "      fill: #D2E3FC;\n",
              "    }\n",
              "\n",
              "    [theme=dark] .colab-df-convert:hover {\n",
              "      background-color: #434B5C;\n",
              "      box-shadow: 0px 1px 3px 1px rgba(0, 0, 0, 0.15);\n",
              "      filter: drop-shadow(0px 1px 2px rgba(0, 0, 0, 0.3));\n",
              "      fill: #FFFFFF;\n",
              "    }\n",
              "  </style>\n",
              "\n",
              "    <script>\n",
              "      const buttonEl =\n",
              "        document.querySelector('#df-f1d5e53e-ce25-475a-af0e-d0b73adc1b97 button.colab-df-convert');\n",
              "      buttonEl.style.display =\n",
              "        google.colab.kernel.accessAllowed ? 'block' : 'none';\n",
              "\n",
              "      async function convertToInteractive(key) {\n",
              "        const element = document.querySelector('#df-f1d5e53e-ce25-475a-af0e-d0b73adc1b97');\n",
              "        const dataTable =\n",
              "          await google.colab.kernel.invokeFunction('convertToInteractive',\n",
              "                                                    [key], {});\n",
              "        if (!dataTable) return;\n",
              "\n",
              "        const docLinkHtml = 'Like what you see? Visit the ' +\n",
              "          '<a target=\"_blank\" href=https://colab.research.google.com/notebooks/data_table.ipynb>data table notebook</a>'\n",
              "          + ' to learn more about interactive tables.';\n",
              "        element.innerHTML = '';\n",
              "        dataTable['output_type'] = 'display_data';\n",
              "        await google.colab.output.renderOutput(dataTable, element);\n",
              "        const docLink = document.createElement('div');\n",
              "        docLink.innerHTML = docLinkHtml;\n",
              "        element.appendChild(docLink);\n",
              "      }\n",
              "    </script>\n",
              "  </div>\n",
              "\n",
              "\n",
              "<div id=\"df-181d7a0b-1cea-4d31-a6da-40ef51e85d06\">\n",
              "  <button class=\"colab-df-quickchart\" onclick=\"quickchart('df-181d7a0b-1cea-4d31-a6da-40ef51e85d06')\"\n",
              "            title=\"Suggest charts\"\n",
              "            style=\"display:none;\">\n",
              "\n",
              "<svg xmlns=\"http://www.w3.org/2000/svg\" height=\"24px\"viewBox=\"0 0 24 24\"\n",
              "     width=\"24px\">\n",
              "    <g>\n",
              "        <path d=\"M19 3H5c-1.1 0-2 .9-2 2v14c0 1.1.9 2 2 2h14c1.1 0 2-.9 2-2V5c0-1.1-.9-2-2-2zM9 17H7v-7h2v7zm4 0h-2V7h2v10zm4 0h-2v-4h2v4z\"/>\n",
              "    </g>\n",
              "</svg>\n",
              "  </button>\n",
              "\n",
              "<style>\n",
              "  .colab-df-quickchart {\n",
              "      --bg-color: #E8F0FE;\n",
              "      --fill-color: #1967D2;\n",
              "      --hover-bg-color: #E2EBFA;\n",
              "      --hover-fill-color: #174EA6;\n",
              "      --disabled-fill-color: #AAA;\n",
              "      --disabled-bg-color: #DDD;\n",
              "  }\n",
              "\n",
              "  [theme=dark] .colab-df-quickchart {\n",
              "      --bg-color: #3B4455;\n",
              "      --fill-color: #D2E3FC;\n",
              "      --hover-bg-color: #434B5C;\n",
              "      --hover-fill-color: #FFFFFF;\n",
              "      --disabled-bg-color: #3B4455;\n",
              "      --disabled-fill-color: #666;\n",
              "  }\n",
              "\n",
              "  .colab-df-quickchart {\n",
              "    background-color: var(--bg-color);\n",
              "    border: none;\n",
              "    border-radius: 50%;\n",
              "    cursor: pointer;\n",
              "    display: none;\n",
              "    fill: var(--fill-color);\n",
              "    height: 32px;\n",
              "    padding: 0;\n",
              "    width: 32px;\n",
              "  }\n",
              "\n",
              "  .colab-df-quickchart:hover {\n",
              "    background-color: var(--hover-bg-color);\n",
              "    box-shadow: 0 1px 2px rgba(60, 64, 67, 0.3), 0 1px 3px 1px rgba(60, 64, 67, 0.15);\n",
              "    fill: var(--button-hover-fill-color);\n",
              "  }\n",
              "\n",
              "  .colab-df-quickchart-complete:disabled,\n",
              "  .colab-df-quickchart-complete:disabled:hover {\n",
              "    background-color: var(--disabled-bg-color);\n",
              "    fill: var(--disabled-fill-color);\n",
              "    box-shadow: none;\n",
              "  }\n",
              "\n",
              "  .colab-df-spinner {\n",
              "    border: 2px solid var(--fill-color);\n",
              "    border-color: transparent;\n",
              "    border-bottom-color: var(--fill-color);\n",
              "    animation:\n",
              "      spin 1s steps(1) infinite;\n",
              "  }\n",
              "\n",
              "  @keyframes spin {\n",
              "    0% {\n",
              "      border-color: transparent;\n",
              "      border-bottom-color: var(--fill-color);\n",
              "      border-left-color: var(--fill-color);\n",
              "    }\n",
              "    20% {\n",
              "      border-color: transparent;\n",
              "      border-left-color: var(--fill-color);\n",
              "      border-top-color: var(--fill-color);\n",
              "    }\n",
              "    30% {\n",
              "      border-color: transparent;\n",
              "      border-left-color: var(--fill-color);\n",
              "      border-top-color: var(--fill-color);\n",
              "      border-right-color: var(--fill-color);\n",
              "    }\n",
              "    40% {\n",
              "      border-color: transparent;\n",
              "      border-right-color: var(--fill-color);\n",
              "      border-top-color: var(--fill-color);\n",
              "    }\n",
              "    60% {\n",
              "      border-color: transparent;\n",
              "      border-right-color: var(--fill-color);\n",
              "    }\n",
              "    80% {\n",
              "      border-color: transparent;\n",
              "      border-right-color: var(--fill-color);\n",
              "      border-bottom-color: var(--fill-color);\n",
              "    }\n",
              "    90% {\n",
              "      border-color: transparent;\n",
              "      border-bottom-color: var(--fill-color);\n",
              "    }\n",
              "  }\n",
              "</style>\n",
              "\n",
              "  <script>\n",
              "    async function quickchart(key) {\n",
              "      const quickchartButtonEl =\n",
              "        document.querySelector('#' + key + ' button');\n",
              "      quickchartButtonEl.disabled = true;  // To prevent multiple clicks.\n",
              "      quickchartButtonEl.classList.add('colab-df-spinner');\n",
              "      try {\n",
              "        const charts = await google.colab.kernel.invokeFunction(\n",
              "            'suggestCharts', [key], {});\n",
              "      } catch (error) {\n",
              "        console.error('Error during call to suggestCharts:', error);\n",
              "      }\n",
              "      quickchartButtonEl.classList.remove('colab-df-spinner');\n",
              "      quickchartButtonEl.classList.add('colab-df-quickchart-complete');\n",
              "    }\n",
              "    (() => {\n",
              "      let quickchartButtonEl =\n",
              "        document.querySelector('#df-181d7a0b-1cea-4d31-a6da-40ef51e85d06 button');\n",
              "      quickchartButtonEl.style.display =\n",
              "        google.colab.kernel.accessAllowed ? 'block' : 'none';\n",
              "    })();\n",
              "  </script>\n",
              "</div>\n",
              "\n",
              "    </div>\n",
              "  </div>\n"
            ],
            "application/vnd.google.colaboratory.intrinsic+json": {
              "type": "dataframe",
              "variable_name": "test_labels",
              "summary": "{\n  \"name\": \"test_labels\",\n  \"rows\": 10,\n  \"fields\": [\n    {\n      \"column\": \"id\",\n      \"properties\": {\n        \"dtype\": \"string\",\n        \"num_unique_values\": 10,\n        \"samples\": [\n          \"00025358d4737918\",\n          \"0000247867823ef7\",\n          \"0001ea8717f6de06\"\n        ],\n        \"semantic_type\": \"\",\n        \"description\": \"\"\n      }\n    },\n    {\n      \"column\": \"toxic\",\n      \"properties\": {\n        \"dtype\": \"number\",\n        \"std\": 0,\n        \"min\": -1,\n        \"max\": 0,\n        \"num_unique_values\": 2,\n        \"samples\": [\n          0,\n          -1\n        ],\n        \"semantic_type\": \"\",\n        \"description\": \"\"\n      }\n    },\n    {\n      \"column\": \"severe_toxic\",\n      \"properties\": {\n        \"dtype\": \"number\",\n        \"std\": 0,\n        \"min\": -1,\n        \"max\": 0,\n        \"num_unique_values\": 2,\n        \"samples\": [\n          0,\n          -1\n        ],\n        \"semantic_type\": \"\",\n        \"description\": \"\"\n      }\n    },\n    {\n      \"column\": \"obscene\",\n      \"properties\": {\n        \"dtype\": \"number\",\n        \"std\": 0,\n        \"min\": -1,\n        \"max\": 0,\n        \"num_unique_values\": 2,\n        \"samples\": [\n          0,\n          -1\n        ],\n        \"semantic_type\": \"\",\n        \"description\": \"\"\n      }\n    },\n    {\n      \"column\": \"threat\",\n      \"properties\": {\n        \"dtype\": \"number\",\n        \"std\": 0,\n        \"min\": -1,\n        \"max\": 0,\n        \"num_unique_values\": 2,\n        \"samples\": [\n          0,\n          -1\n        ],\n        \"semantic_type\": \"\",\n        \"description\": \"\"\n      }\n    },\n    {\n      \"column\": \"insult\",\n      \"properties\": {\n        \"dtype\": \"number\",\n        \"std\": 0,\n        \"min\": -1,\n        \"max\": 0,\n        \"num_unique_values\": 2,\n        \"samples\": [\n          0,\n          -1\n        ],\n        \"semantic_type\": \"\",\n        \"description\": \"\"\n      }\n    },\n    {\n      \"column\": \"identity_hate\",\n      \"properties\": {\n        \"dtype\": \"number\",\n        \"std\": 0,\n        \"min\": -1,\n        \"max\": 0,\n        \"num_unique_values\": 2,\n        \"samples\": [\n          0,\n          -1\n        ],\n        \"semantic_type\": \"\",\n        \"description\": \"\"\n      }\n    }\n  ]\n}"
            }
          },
          "metadata": {},
          "execution_count": 9
        }
      ]
    },
    {
      "cell_type": "code",
      "source": [
        "submission = pd.read_csv('../input/jigsaw-toxic-comment-classification-challenge/sample_submission.csv.zip', nrows = 10)\n",
        "submission.head()"
      ],
      "metadata": {
        "execution": {
          "iopub.status.busy": "2024-04-20T19:03:35.448912Z",
          "iopub.execute_input": "2024-04-20T19:03:35.449256Z",
          "iopub.status.idle": "2024-04-20T19:03:35.495288Z",
          "shell.execute_reply.started": "2024-04-20T19:03:35.449224Z",
          "shell.execute_reply": "2024-04-20T19:03:35.49446Z"
        },
        "trusted": true,
        "id": "QuTCBGldmuW4",
        "outputId": "30be3bde-94ac-49b3-d537-a4d670ae93ee",
        "colab": {
          "base_uri": "https://localhost:8080/",
          "height": 206
        }
      },
      "execution_count": 10,
      "outputs": [
        {
          "output_type": "execute_result",
          "data": {
            "text/plain": [
              "                 id  toxic  severe_toxic  obscene  threat  insult  \\\n",
              "0  00001cee341fdb12    0.5           0.5      0.5     0.5     0.5   \n",
              "1  0000247867823ef7    0.5           0.5      0.5     0.5     0.5   \n",
              "2  00013b17ad220c46    0.5           0.5      0.5     0.5     0.5   \n",
              "3  00017563c3f7919a    0.5           0.5      0.5     0.5     0.5   \n",
              "4  00017695ad8997eb    0.5           0.5      0.5     0.5     0.5   \n",
              "\n",
              "   identity_hate  \n",
              "0            0.5  \n",
              "1            0.5  \n",
              "2            0.5  \n",
              "3            0.5  \n",
              "4            0.5  "
            ],
            "text/html": [
              "\n",
              "  <div id=\"df-81431d32-141e-4b1d-8e69-5ed09b22773a\" class=\"colab-df-container\">\n",
              "    <div>\n",
              "<style scoped>\n",
              "    .dataframe tbody tr th:only-of-type {\n",
              "        vertical-align: middle;\n",
              "    }\n",
              "\n",
              "    .dataframe tbody tr th {\n",
              "        vertical-align: top;\n",
              "    }\n",
              "\n",
              "    .dataframe thead th {\n",
              "        text-align: right;\n",
              "    }\n",
              "</style>\n",
              "<table border=\"1\" class=\"dataframe\">\n",
              "  <thead>\n",
              "    <tr style=\"text-align: right;\">\n",
              "      <th></th>\n",
              "      <th>id</th>\n",
              "      <th>toxic</th>\n",
              "      <th>severe_toxic</th>\n",
              "      <th>obscene</th>\n",
              "      <th>threat</th>\n",
              "      <th>insult</th>\n",
              "      <th>identity_hate</th>\n",
              "    </tr>\n",
              "  </thead>\n",
              "  <tbody>\n",
              "    <tr>\n",
              "      <th>0</th>\n",
              "      <td>00001cee341fdb12</td>\n",
              "      <td>0.5</td>\n",
              "      <td>0.5</td>\n",
              "      <td>0.5</td>\n",
              "      <td>0.5</td>\n",
              "      <td>0.5</td>\n",
              "      <td>0.5</td>\n",
              "    </tr>\n",
              "    <tr>\n",
              "      <th>1</th>\n",
              "      <td>0000247867823ef7</td>\n",
              "      <td>0.5</td>\n",
              "      <td>0.5</td>\n",
              "      <td>0.5</td>\n",
              "      <td>0.5</td>\n",
              "      <td>0.5</td>\n",
              "      <td>0.5</td>\n",
              "    </tr>\n",
              "    <tr>\n",
              "      <th>2</th>\n",
              "      <td>00013b17ad220c46</td>\n",
              "      <td>0.5</td>\n",
              "      <td>0.5</td>\n",
              "      <td>0.5</td>\n",
              "      <td>0.5</td>\n",
              "      <td>0.5</td>\n",
              "      <td>0.5</td>\n",
              "    </tr>\n",
              "    <tr>\n",
              "      <th>3</th>\n",
              "      <td>00017563c3f7919a</td>\n",
              "      <td>0.5</td>\n",
              "      <td>0.5</td>\n",
              "      <td>0.5</td>\n",
              "      <td>0.5</td>\n",
              "      <td>0.5</td>\n",
              "      <td>0.5</td>\n",
              "    </tr>\n",
              "    <tr>\n",
              "      <th>4</th>\n",
              "      <td>00017695ad8997eb</td>\n",
              "      <td>0.5</td>\n",
              "      <td>0.5</td>\n",
              "      <td>0.5</td>\n",
              "      <td>0.5</td>\n",
              "      <td>0.5</td>\n",
              "      <td>0.5</td>\n",
              "    </tr>\n",
              "  </tbody>\n",
              "</table>\n",
              "</div>\n",
              "    <div class=\"colab-df-buttons\">\n",
              "\n",
              "  <div class=\"colab-df-container\">\n",
              "    <button class=\"colab-df-convert\" onclick=\"convertToInteractive('df-81431d32-141e-4b1d-8e69-5ed09b22773a')\"\n",
              "            title=\"Convert this dataframe to an interactive table.\"\n",
              "            style=\"display:none;\">\n",
              "\n",
              "  <svg xmlns=\"http://www.w3.org/2000/svg\" height=\"24px\" viewBox=\"0 -960 960 960\">\n",
              "    <path d=\"M120-120v-720h720v720H120Zm60-500h600v-160H180v160Zm220 220h160v-160H400v160Zm0 220h160v-160H400v160ZM180-400h160v-160H180v160Zm440 0h160v-160H620v160ZM180-180h160v-160H180v160Zm440 0h160v-160H620v160Z\"/>\n",
              "  </svg>\n",
              "    </button>\n",
              "\n",
              "  <style>\n",
              "    .colab-df-container {\n",
              "      display:flex;\n",
              "      gap: 12px;\n",
              "    }\n",
              "\n",
              "    .colab-df-convert {\n",
              "      background-color: #E8F0FE;\n",
              "      border: none;\n",
              "      border-radius: 50%;\n",
              "      cursor: pointer;\n",
              "      display: none;\n",
              "      fill: #1967D2;\n",
              "      height: 32px;\n",
              "      padding: 0 0 0 0;\n",
              "      width: 32px;\n",
              "    }\n",
              "\n",
              "    .colab-df-convert:hover {\n",
              "      background-color: #E2EBFA;\n",
              "      box-shadow: 0px 1px 2px rgba(60, 64, 67, 0.3), 0px 1px 3px 1px rgba(60, 64, 67, 0.15);\n",
              "      fill: #174EA6;\n",
              "    }\n",
              "\n",
              "    .colab-df-buttons div {\n",
              "      margin-bottom: 4px;\n",
              "    }\n",
              "\n",
              "    [theme=dark] .colab-df-convert {\n",
              "      background-color: #3B4455;\n",
              "      fill: #D2E3FC;\n",
              "    }\n",
              "\n",
              "    [theme=dark] .colab-df-convert:hover {\n",
              "      background-color: #434B5C;\n",
              "      box-shadow: 0px 1px 3px 1px rgba(0, 0, 0, 0.15);\n",
              "      filter: drop-shadow(0px 1px 2px rgba(0, 0, 0, 0.3));\n",
              "      fill: #FFFFFF;\n",
              "    }\n",
              "  </style>\n",
              "\n",
              "    <script>\n",
              "      const buttonEl =\n",
              "        document.querySelector('#df-81431d32-141e-4b1d-8e69-5ed09b22773a button.colab-df-convert');\n",
              "      buttonEl.style.display =\n",
              "        google.colab.kernel.accessAllowed ? 'block' : 'none';\n",
              "\n",
              "      async function convertToInteractive(key) {\n",
              "        const element = document.querySelector('#df-81431d32-141e-4b1d-8e69-5ed09b22773a');\n",
              "        const dataTable =\n",
              "          await google.colab.kernel.invokeFunction('convertToInteractive',\n",
              "                                                    [key], {});\n",
              "        if (!dataTable) return;\n",
              "\n",
              "        const docLinkHtml = 'Like what you see? Visit the ' +\n",
              "          '<a target=\"_blank\" href=https://colab.research.google.com/notebooks/data_table.ipynb>data table notebook</a>'\n",
              "          + ' to learn more about interactive tables.';\n",
              "        element.innerHTML = '';\n",
              "        dataTable['output_type'] = 'display_data';\n",
              "        await google.colab.output.renderOutput(dataTable, element);\n",
              "        const docLink = document.createElement('div');\n",
              "        docLink.innerHTML = docLinkHtml;\n",
              "        element.appendChild(docLink);\n",
              "      }\n",
              "    </script>\n",
              "  </div>\n",
              "\n",
              "\n",
              "<div id=\"df-73ff046c-2ab1-4b06-97ec-82b2147b4074\">\n",
              "  <button class=\"colab-df-quickchart\" onclick=\"quickchart('df-73ff046c-2ab1-4b06-97ec-82b2147b4074')\"\n",
              "            title=\"Suggest charts\"\n",
              "            style=\"display:none;\">\n",
              "\n",
              "<svg xmlns=\"http://www.w3.org/2000/svg\" height=\"24px\"viewBox=\"0 0 24 24\"\n",
              "     width=\"24px\">\n",
              "    <g>\n",
              "        <path d=\"M19 3H5c-1.1 0-2 .9-2 2v14c0 1.1.9 2 2 2h14c1.1 0 2-.9 2-2V5c0-1.1-.9-2-2-2zM9 17H7v-7h2v7zm4 0h-2V7h2v10zm4 0h-2v-4h2v4z\"/>\n",
              "    </g>\n",
              "</svg>\n",
              "  </button>\n",
              "\n",
              "<style>\n",
              "  .colab-df-quickchart {\n",
              "      --bg-color: #E8F0FE;\n",
              "      --fill-color: #1967D2;\n",
              "      --hover-bg-color: #E2EBFA;\n",
              "      --hover-fill-color: #174EA6;\n",
              "      --disabled-fill-color: #AAA;\n",
              "      --disabled-bg-color: #DDD;\n",
              "  }\n",
              "\n",
              "  [theme=dark] .colab-df-quickchart {\n",
              "      --bg-color: #3B4455;\n",
              "      --fill-color: #D2E3FC;\n",
              "      --hover-bg-color: #434B5C;\n",
              "      --hover-fill-color: #FFFFFF;\n",
              "      --disabled-bg-color: #3B4455;\n",
              "      --disabled-fill-color: #666;\n",
              "  }\n",
              "\n",
              "  .colab-df-quickchart {\n",
              "    background-color: var(--bg-color);\n",
              "    border: none;\n",
              "    border-radius: 50%;\n",
              "    cursor: pointer;\n",
              "    display: none;\n",
              "    fill: var(--fill-color);\n",
              "    height: 32px;\n",
              "    padding: 0;\n",
              "    width: 32px;\n",
              "  }\n",
              "\n",
              "  .colab-df-quickchart:hover {\n",
              "    background-color: var(--hover-bg-color);\n",
              "    box-shadow: 0 1px 2px rgba(60, 64, 67, 0.3), 0 1px 3px 1px rgba(60, 64, 67, 0.15);\n",
              "    fill: var(--button-hover-fill-color);\n",
              "  }\n",
              "\n",
              "  .colab-df-quickchart-complete:disabled,\n",
              "  .colab-df-quickchart-complete:disabled:hover {\n",
              "    background-color: var(--disabled-bg-color);\n",
              "    fill: var(--disabled-fill-color);\n",
              "    box-shadow: none;\n",
              "  }\n",
              "\n",
              "  .colab-df-spinner {\n",
              "    border: 2px solid var(--fill-color);\n",
              "    border-color: transparent;\n",
              "    border-bottom-color: var(--fill-color);\n",
              "    animation:\n",
              "      spin 1s steps(1) infinite;\n",
              "  }\n",
              "\n",
              "  @keyframes spin {\n",
              "    0% {\n",
              "      border-color: transparent;\n",
              "      border-bottom-color: var(--fill-color);\n",
              "      border-left-color: var(--fill-color);\n",
              "    }\n",
              "    20% {\n",
              "      border-color: transparent;\n",
              "      border-left-color: var(--fill-color);\n",
              "      border-top-color: var(--fill-color);\n",
              "    }\n",
              "    30% {\n",
              "      border-color: transparent;\n",
              "      border-left-color: var(--fill-color);\n",
              "      border-top-color: var(--fill-color);\n",
              "      border-right-color: var(--fill-color);\n",
              "    }\n",
              "    40% {\n",
              "      border-color: transparent;\n",
              "      border-right-color: var(--fill-color);\n",
              "      border-top-color: var(--fill-color);\n",
              "    }\n",
              "    60% {\n",
              "      border-color: transparent;\n",
              "      border-right-color: var(--fill-color);\n",
              "    }\n",
              "    80% {\n",
              "      border-color: transparent;\n",
              "      border-right-color: var(--fill-color);\n",
              "      border-bottom-color: var(--fill-color);\n",
              "    }\n",
              "    90% {\n",
              "      border-color: transparent;\n",
              "      border-bottom-color: var(--fill-color);\n",
              "    }\n",
              "  }\n",
              "</style>\n",
              "\n",
              "  <script>\n",
              "    async function quickchart(key) {\n",
              "      const quickchartButtonEl =\n",
              "        document.querySelector('#' + key + ' button');\n",
              "      quickchartButtonEl.disabled = true;  // To prevent multiple clicks.\n",
              "      quickchartButtonEl.classList.add('colab-df-spinner');\n",
              "      try {\n",
              "        const charts = await google.colab.kernel.invokeFunction(\n",
              "            'suggestCharts', [key], {});\n",
              "      } catch (error) {\n",
              "        console.error('Error during call to suggestCharts:', error);\n",
              "      }\n",
              "      quickchartButtonEl.classList.remove('colab-df-spinner');\n",
              "      quickchartButtonEl.classList.add('colab-df-quickchart-complete');\n",
              "    }\n",
              "    (() => {\n",
              "      let quickchartButtonEl =\n",
              "        document.querySelector('#df-73ff046c-2ab1-4b06-97ec-82b2147b4074 button');\n",
              "      quickchartButtonEl.style.display =\n",
              "        google.colab.kernel.accessAllowed ? 'block' : 'none';\n",
              "    })();\n",
              "  </script>\n",
              "</div>\n",
              "\n",
              "    </div>\n",
              "  </div>\n"
            ],
            "application/vnd.google.colaboratory.intrinsic+json": {
              "type": "dataframe",
              "variable_name": "submission",
              "summary": "{\n  \"name\": \"submission\",\n  \"rows\": 10,\n  \"fields\": [\n    {\n      \"column\": \"id\",\n      \"properties\": {\n        \"dtype\": \"string\",\n        \"num_unique_values\": 10,\n        \"samples\": [\n          \"00025358d4737918\",\n          \"0000247867823ef7\",\n          \"0001ea8717f6de06\"\n        ],\n        \"semantic_type\": \"\",\n        \"description\": \"\"\n      }\n    },\n    {\n      \"column\": \"toxic\",\n      \"properties\": {\n        \"dtype\": \"number\",\n        \"std\": 0.0,\n        \"min\": 0.5,\n        \"max\": 0.5,\n        \"num_unique_values\": 1,\n        \"samples\": [\n          0.5\n        ],\n        \"semantic_type\": \"\",\n        \"description\": \"\"\n      }\n    },\n    {\n      \"column\": \"severe_toxic\",\n      \"properties\": {\n        \"dtype\": \"number\",\n        \"std\": 0.0,\n        \"min\": 0.5,\n        \"max\": 0.5,\n        \"num_unique_values\": 1,\n        \"samples\": [\n          0.5\n        ],\n        \"semantic_type\": \"\",\n        \"description\": \"\"\n      }\n    },\n    {\n      \"column\": \"obscene\",\n      \"properties\": {\n        \"dtype\": \"number\",\n        \"std\": 0.0,\n        \"min\": 0.5,\n        \"max\": 0.5,\n        \"num_unique_values\": 1,\n        \"samples\": [\n          0.5\n        ],\n        \"semantic_type\": \"\",\n        \"description\": \"\"\n      }\n    },\n    {\n      \"column\": \"threat\",\n      \"properties\": {\n        \"dtype\": \"number\",\n        \"std\": 0.0,\n        \"min\": 0.5,\n        \"max\": 0.5,\n        \"num_unique_values\": 1,\n        \"samples\": [\n          0.5\n        ],\n        \"semantic_type\": \"\",\n        \"description\": \"\"\n      }\n    },\n    {\n      \"column\": \"insult\",\n      \"properties\": {\n        \"dtype\": \"number\",\n        \"std\": 0.0,\n        \"min\": 0.5,\n        \"max\": 0.5,\n        \"num_unique_values\": 1,\n        \"samples\": [\n          0.5\n        ],\n        \"semantic_type\": \"\",\n        \"description\": \"\"\n      }\n    },\n    {\n      \"column\": \"identity_hate\",\n      \"properties\": {\n        \"dtype\": \"number\",\n        \"std\": 0.0,\n        \"min\": 0.5,\n        \"max\": 0.5,\n        \"num_unique_values\": 1,\n        \"samples\": [\n          0.5\n        ],\n        \"semantic_type\": \"\",\n        \"description\": \"\"\n      }\n    }\n  ]\n}"
            }
          },
          "metadata": {},
          "execution_count": 10
        }
      ]
    },
    {
      "cell_type": "markdown",
      "source": [
        "## 2. Summerize data\n",
        "### a. Descriptive statistics\n",
        "### Missing values"
      ],
      "metadata": {
        "id": "T_xZqbG5muW5"
      }
    },
    {
      "cell_type": "code",
      "source": [
        "train.isnull().sum()"
      ],
      "metadata": {
        "execution": {
          "iopub.status.busy": "2024-04-20T19:03:36.471507Z",
          "iopub.execute_input": "2024-04-20T19:03:36.471843Z",
          "iopub.status.idle": "2024-04-20T19:03:36.479968Z",
          "shell.execute_reply.started": "2024-04-20T19:03:36.471815Z",
          "shell.execute_reply": "2024-04-20T19:03:36.479061Z"
        },
        "trusted": true,
        "id": "Lxzj0uN1muW5"
      },
      "execution_count": null,
      "outputs": []
    },
    {
      "cell_type": "code",
      "source": [
        "test.isnull().sum()"
      ],
      "metadata": {
        "execution": {
          "iopub.status.busy": "2024-04-20T19:03:37.032043Z",
          "iopub.execute_input": "2024-04-20T19:03:37.03237Z",
          "iopub.status.idle": "2024-04-20T19:03:37.039747Z",
          "shell.execute_reply.started": "2024-04-20T19:03:37.032341Z",
          "shell.execute_reply": "2024-04-20T19:03:37.038893Z"
        },
        "trusted": true,
        "id": "iell3TvjmuW5"
      },
      "execution_count": null,
      "outputs": []
    },
    {
      "cell_type": "markdown",
      "source": [
        "Great! we have no missing value!\n",
        "### Distribution of each class in the train set and test labels\n",
        "Let's check how many of each category is found in our training data:"
      ],
      "metadata": {
        "id": "9jBII84umuW6"
      }
    },
    {
      "cell_type": "code",
      "source": [
        "df_train = train.drop(['id', 'comment_text'], axis = 1)\n",
        "label_counts = df_train.sum()\n",
        "df_counts = pd.DataFrame(label_counts)\n",
        "df_counts.rename(columns = {0:'counts'}, inplace = True)\n",
        "df_counts = df_counts.sort_values('counts', ascending = False)\n",
        "df_counts"
      ],
      "metadata": {
        "execution": {
          "iopub.status.busy": "2024-04-20T19:03:38.151521Z",
          "iopub.execute_input": "2024-04-20T19:03:38.151884Z",
          "iopub.status.idle": "2024-04-20T19:03:38.165436Z",
          "shell.execute_reply.started": "2024-04-20T19:03:38.151854Z",
          "shell.execute_reply": "2024-04-20T19:03:38.164534Z"
        },
        "trusted": true,
        "id": "XIrmmsm5muW6"
      },
      "execution_count": null,
      "outputs": []
    },
    {
      "cell_type": "code",
      "source": [
        "fig, ax = plt.subplots(figsize = (8,4))\n",
        "p = sns.barplot(df_counts.index, df_counts['counts'])\n",
        "x = plt.xticks(rotation = 60)\n",
        "ax.set_title('Toxic comment counts in '+ str(len(df_train))+ ' samples of data', weight = 'bold', fontsize = 18, y = 1.05)\n",
        "x = ax.set_ylabel('')"
      ],
      "metadata": {
        "execution": {
          "iopub.status.busy": "2024-04-20T19:03:39.046555Z",
          "iopub.execute_input": "2024-04-20T19:03:39.046905Z",
          "iopub.status.idle": "2024-04-20T19:03:39.253346Z",
          "shell.execute_reply.started": "2024-04-20T19:03:39.046874Z",
          "shell.execute_reply": "2024-04-20T19:03:39.252563Z"
        },
        "trusted": true,
        "id": "gzPRaZi2muW6"
      },
      "execution_count": null,
      "outputs": []
    },
    {
      "cell_type": "markdown",
      "source": [
        "Relative percentage gives us a better understanding."
      ],
      "metadata": {
        "id": "svKNrYICmuW7"
      }
    },
    {
      "cell_type": "code",
      "source": [
        "labels = np.round(df_train.sum()/len(df_train)*100, 1)\n",
        "labels"
      ],
      "metadata": {
        "execution": {
          "iopub.status.busy": "2024-04-20T19:03:43.878487Z",
          "iopub.execute_input": "2024-04-20T19:03:43.878837Z",
          "iopub.status.idle": "2024-04-20T19:03:43.887962Z",
          "shell.execute_reply.started": "2024-04-20T19:03:43.878804Z",
          "shell.execute_reply": "2024-04-20T19:03:43.886992Z"
        },
        "trusted": true,
        "id": "8aIkCcltmuW7"
      },
      "execution_count": null,
      "outputs": []
    },
    {
      "cell_type": "code",
      "source": [
        "df_test_labels = test_labels.drop(['id'], axis = 1)\n",
        "count_values = lambda x: np.round(df_test_labels[x].value_counts(normalize = True)*100, 1)\n",
        "pd.DataFrame([count_values(col) for col in df_test_labels.columns.tolist()])"
      ],
      "metadata": {
        "execution": {
          "iopub.status.busy": "2024-04-20T19:03:44.950467Z",
          "iopub.execute_input": "2024-04-20T19:03:44.950825Z",
          "iopub.status.idle": "2024-04-20T19:03:44.974058Z",
          "shell.execute_reply.started": "2024-04-20T19:03:44.950794Z",
          "shell.execute_reply": "2024-04-20T19:03:44.973157Z"
        },
        "trusted": true,
        "id": "lggRKwVbmuW7"
      },
      "execution_count": null,
      "outputs": []
    },
    {
      "cell_type": "code",
      "source": [
        "train.shape, test.shape"
      ],
      "metadata": {
        "execution": {
          "iopub.status.busy": "2024-04-20T19:03:45.847673Z",
          "iopub.execute_input": "2024-04-20T19:03:45.848021Z",
          "iopub.status.idle": "2024-04-20T19:03:45.853711Z",
          "shell.execute_reply.started": "2024-04-20T19:03:45.847984Z",
          "shell.execute_reply": "2024-04-20T19:03:45.852797Z"
        },
        "trusted": true,
        "id": "xNKgAtwOmuW8"
      },
      "execution_count": null,
      "outputs": []
    },
    {
      "cell_type": "markdown",
      "source": [
        "## 3. Prepare Data\n",
        "### a. Data cleaning\n",
        "We need to clean, tokenize and convert the data to tensors. <br>\n",
        "The function below helps us with:\n",
        "\n",
        "- Removing hyperlinks, punctuation and numbers\n",
        "- Tokenizeation\n",
        "\n",
        "We skip changing it all to lower case and keep the letters sensetive to case. The comment BAD!! has stronger negative emotion in it than bad!! <br>\n",
        "We also do not remove the stop words, Since with contextual models such as BERT and ROBERTA it is (almost) always better not to process the texts removing stopwords. These models are pretrained with stopwords: if you remove stop words your model may lose the context. This is also true for stemming and lemmatization preprocessing techniques. So we skip them too!"
      ],
      "metadata": {
        "id": "IZGs2mwvmuW8"
      }
    },
    {
      "cell_type": "code",
      "source": [
        "# text preprocessing helper functions [1]\n",
        "\n",
        "def clean_text(text):\n",
        "    '''Make text lowercase, remove text in square brackets,remove links,remove punctuation\n",
        "    and remove words containing numbers.'''\n",
        "    #text = text.lower()\n",
        "\n",
        "    #pattern = [zero or more character]\n",
        "    text = re.sub('\\[.*?\\]', '', text)\n",
        "\n",
        "    #pattern = with or without(http),://, one or more non-white space character, OR www, .,one or more non-white space character\n",
        "    text = re.sub('https?://\\S+|www\\.\\S+', '', text)\n",
        "\n",
        "    #pattern = <, zero or more characters, >, (one or more occurance of >)\n",
        "    text = re.sub('<.*?>+', '', text)\n",
        "\n",
        "    #pattern = any punctionation\n",
        "    text = re.sub('[%s]' % re.escape(string.punctuation), '', text)\n",
        "\n",
        "    #pattern = any new line\n",
        "    text = re.sub('\\n', '', text)\n",
        "\n",
        "    #pattern = any from[a-zA-Z0-9_], any from[0-9], any from [a-zA-Z0-9_]\n",
        "    text = re.sub('\\w*\\d\\w*', '', text)\n",
        "    return text"
      ],
      "metadata": {
        "execution": {
          "iopub.status.busy": "2024-04-20T19:03:47.583101Z",
          "iopub.execute_input": "2024-04-20T19:03:47.583483Z",
          "iopub.status.idle": "2024-04-20T19:03:47.59095Z",
          "shell.execute_reply.started": "2024-04-20T19:03:47.583449Z",
          "shell.execute_reply": "2024-04-20T19:03:47.589819Z"
        },
        "trusted": true,
        "id": "pCJzcTTymuW8"
      },
      "execution_count": null,
      "outputs": []
    },
    {
      "cell_type": "code",
      "source": [
        "%%time\n",
        "train['clean_text'] = train['comment_text'].apply(str).apply(lambda x: clean_text(x))\n",
        "test['clean_text'] = test['comment_text'].apply(str).apply(lambda x: clean_text(x))"
      ],
      "metadata": {
        "execution": {
          "iopub.status.busy": "2024-04-20T19:03:49.283843Z",
          "iopub.execute_input": "2024-04-20T19:03:49.284193Z",
          "iopub.status.idle": "2024-04-20T19:03:49.326508Z",
          "shell.execute_reply.started": "2024-04-20T19:03:49.284145Z",
          "shell.execute_reply": "2024-04-20T19:03:49.325606Z"
        },
        "trusted": true,
        "id": "IgLFznefmuW9"
      },
      "execution_count": null,
      "outputs": []
    },
    {
      "cell_type": "markdown",
      "source": [
        "### b. Dataset and Dataloader\n",
        "We use 20% of the training data as validation set."
      ],
      "metadata": {
        "id": "RzOcvWfKmuW-"
      }
    },
    {
      "cell_type": "code",
      "source": [
        "kfold = 5\n",
        "train['kfold'] = train.index % kfold\n",
        "train.index % kfold"
      ],
      "metadata": {
        "execution": {
          "iopub.status.busy": "2024-04-20T19:03:57.675681Z",
          "iopub.execute_input": "2024-04-20T19:03:57.676055Z",
          "iopub.status.idle": "2024-04-20T19:03:57.68563Z",
          "shell.execute_reply.started": "2024-04-20T19:03:57.67602Z",
          "shell.execute_reply": "2024-04-20T19:03:57.684647Z"
        },
        "trusted": true,
        "id": "jXN8kIXPmuW-"
      },
      "execution_count": null,
      "outputs": []
    },
    {
      "cell_type": "code",
      "source": [
        "#reset_index creates a column with the name of 'index' and saves the old index values in it and updates the values of index.\n",
        "#drop = True removes the column 'index' with the old index values.\n",
        "p_train = train[train[\"kfold\"] != 0].reset_index(drop = True)\n",
        "p_valid = train[train[\"kfold\"] == 0].reset_index(drop = True)"
      ],
      "metadata": {
        "execution": {
          "iopub.status.busy": "2024-04-20T19:04:00.774669Z",
          "iopub.execute_input": "2024-04-20T19:04:00.775013Z",
          "iopub.status.idle": "2024-04-20T19:04:00.782331Z",
          "shell.execute_reply.started": "2024-04-20T19:04:00.774981Z",
          "shell.execute_reply": "2024-04-20T19:04:00.781288Z"
        },
        "trusted": true,
        "id": "k_Sdqz0MmuW-"
      },
      "execution_count": null,
      "outputs": []
    },
    {
      "cell_type": "code",
      "source": [
        "p_train.head()"
      ],
      "metadata": {
        "execution": {
          "iopub.status.busy": "2024-04-20T19:04:04.508527Z",
          "iopub.execute_input": "2024-04-20T19:04:04.508877Z",
          "iopub.status.idle": "2024-04-20T19:04:04.522724Z",
          "shell.execute_reply.started": "2024-04-20T19:04:04.508847Z",
          "shell.execute_reply": "2024-04-20T19:04:04.521793Z"
        },
        "trusted": true,
        "id": "3iCgCQp6muW_"
      },
      "execution_count": null,
      "outputs": []
    },
    {
      "cell_type": "code",
      "source": [
        "tokenizer = transformers.BertTokenizer.from_pretrained('bert-base-cased')"
      ],
      "metadata": {
        "execution": {
          "iopub.status.busy": "2024-04-20T19:04:07.406726Z",
          "iopub.execute_input": "2024-04-20T19:04:07.407091Z",
          "iopub.status.idle": "2024-04-20T19:04:09.045541Z",
          "shell.execute_reply.started": "2024-04-20T19:04:07.407059Z",
          "shell.execute_reply": "2024-04-20T19:04:09.044739Z"
        },
        "trusted": true,
        "id": "MbZGilDfmuXA"
      },
      "execution_count": null,
      "outputs": []
    },
    {
      "cell_type": "code",
      "source": [
        "%%time\n",
        "senten_len = []\n",
        "for sentence in tqdm(p_train['clean_text']):\n",
        "    token_words = tokenizer.encode_plus(sentence)['input_ids']\n",
        "    senten_len.append(len(token_words))"
      ],
      "metadata": {
        "execution": {
          "iopub.status.busy": "2024-04-20T19:04:12.103292Z",
          "iopub.execute_input": "2024-04-20T19:04:12.103711Z",
          "iopub.status.idle": "2024-04-20T19:04:12.413129Z",
          "shell.execute_reply.started": "2024-04-20T19:04:12.103672Z",
          "shell.execute_reply": "2024-04-20T19:04:12.412281Z"
        },
        "trusted": true,
        "id": "UDXlAhLhmuXA"
      },
      "execution_count": null,
      "outputs": []
    },
    {
      "cell_type": "markdown",
      "source": [
        "We'll have a look at the distribution of the length for tokenized comments to have an intuation about what to set as max_length for our tokenized comments."
      ],
      "metadata": {
        "id": "CX8O_rjPmuXA"
      }
    },
    {
      "cell_type": "code",
      "source": [
        "sns.distplot(senten_len)\n",
        "plt.xlim([0, 300])\n",
        "plt.xlabel('Tocken count')"
      ],
      "metadata": {
        "execution": {
          "iopub.status.busy": "2024-04-20T19:04:16.967051Z",
          "iopub.execute_input": "2024-04-20T19:04:16.967441Z",
          "iopub.status.idle": "2024-04-20T19:04:17.294466Z",
          "shell.execute_reply.started": "2024-04-20T19:04:16.967401Z",
          "shell.execute_reply": "2024-04-20T19:04:17.293508Z"
        },
        "trusted": true,
        "id": "XPNkyU7rmuXB"
      },
      "execution_count": null,
      "outputs": []
    },
    {
      "cell_type": "markdown",
      "source": [
        "It seems that 200 is good size move on with."
      ],
      "metadata": {
        "id": "Ghvh4yiqmuXB"
      }
    },
    {
      "cell_type": "code",
      "source": [
        "max_len = 200"
      ],
      "metadata": {
        "execution": {
          "iopub.status.busy": "2024-04-20T19:04:21.689574Z",
          "iopub.execute_input": "2024-04-20T19:04:21.689926Z",
          "iopub.status.idle": "2024-04-20T19:04:21.693848Z",
          "shell.execute_reply.started": "2024-04-20T19:04:21.689896Z",
          "shell.execute_reply": "2024-04-20T19:04:21.692895Z"
        },
        "trusted": true,
        "id": "tdB8lrAomuXB"
      },
      "execution_count": null,
      "outputs": []
    },
    {
      "cell_type": "markdown",
      "source": [
        "We define a class BertDataSet with Dataset as super class and overwirte the__init_, __ len__ and __ getitem__ function in it. It will get the comment list and relevant toxic labels (6 labels in this case) and creates token ids and attention mask to distinguish the comments from the zero padding.\n",
        "\n",
        "**torch.tensor vs np.ndarray:** <br>\n",
        "If you are only interested in efficient and easy way to perform mathematical operations on matrices np.ndarray or torch.tensor can be used interchangeably.\n",
        "\n",
        "However, torch.tensors are designed to be used in the context of gradient descent optimization, and therefore they hold not only a tensor with numeric values, but (and more importantly) the computational graph leading to these values. This computational graph is then used (using the chain rule of derivatives) to compute the derivative of the loss function w.r.t each of the independent variables used to compute the loss.\n",
        "\n",
        "As mentioned before, np.ndarray object does not have this extra \"computational graph\" layer and therefore, when converting a torch.tensor to np.ndarray you must explicitly remove the computational graph of the tensor using the detach() command."
      ],
      "metadata": {
        "id": "tO05VKWZmuXB"
      }
    },
    {
      "cell_type": "code",
      "source": [
        "class BertDataSet(Dataset):\n",
        "\n",
        "    def __init__(self, sentences, toxic_labels):\n",
        "        self.sentences = sentences\n",
        "        #target is a matrix with shape [#1 x #6(toxic, obscene, etc)]\n",
        "        self.targets = toxic_labels.to_numpy()\n",
        "\n",
        "    def __len__(self):\n",
        "        return len(self.sentences)\n",
        "\n",
        "\n",
        "    def __getitem__(self, idx):\n",
        "        sentence = self.sentences[idx]\n",
        "        bert_senten = tokenizer.encode_plus(sentence,\n",
        "                                            add_special_tokens = True, # [CLS],[SEP]\n",
        "                                            max_length = max_len,\n",
        "                                            pad_to_max_length = True,\n",
        "                                            truncation = True,\n",
        "                                            return_attention_mask = True\n",
        "                                             )\n",
        "        ids = torch.tensor(bert_senten['input_ids'], dtype = torch.long)\n",
        "        mask = torch.tensor(bert_senten['attention_mask'], dtype = torch.long)\n",
        "        toxic_label = torch.tensor(self.targets[idx], dtype = torch.float)\n",
        "\n",
        "\n",
        "        return {\n",
        "            'ids' : ids,\n",
        "            'mask' : mask,\n",
        "            'toxic_label':toxic_label\n",
        "        }"
      ],
      "metadata": {
        "execution": {
          "iopub.status.busy": "2024-04-20T19:04:26.187999Z",
          "iopub.execute_input": "2024-04-20T19:04:26.188352Z",
          "iopub.status.idle": "2024-04-20T19:04:26.196585Z",
          "shell.execute_reply.started": "2024-04-20T19:04:26.188323Z",
          "shell.execute_reply": "2024-04-20T19:04:26.195498Z"
        },
        "trusted": true,
        "id": "VBYrxvcHmuXK"
      },
      "execution_count": null,
      "outputs": []
    },
    {
      "cell_type": "code",
      "source": [
        "train_dataset = BertDataSet(p_train['clean_text'], p_train[['toxic', 'severe_toxic','obscene', 'threat', 'insult','identity_hate']])\n",
        "valid_dataset = BertDataSet(p_valid['clean_text'], p_valid[['toxic', 'severe_toxic','obscene', 'threat', 'insult','identity_hate']])"
      ],
      "metadata": {
        "execution": {
          "iopub.status.busy": "2024-04-20T19:04:30.455563Z",
          "iopub.execute_input": "2024-04-20T19:04:30.455926Z",
          "iopub.status.idle": "2024-04-20T19:04:30.462998Z",
          "shell.execute_reply.started": "2024-04-20T19:04:30.455892Z",
          "shell.execute_reply": "2024-04-20T19:04:30.461976Z"
        },
        "trusted": true,
        "id": "Z3ATXEhFmuXN"
      },
      "execution_count": null,
      "outputs": []
    },
    {
      "cell_type": "markdown",
      "source": [
        "Let's have a look what's inside a dataset:"
      ],
      "metadata": {
        "id": "dYN6JYMRmuXN"
      }
    },
    {
      "cell_type": "code",
      "source": [
        "for a in train_dataset:\n",
        "    print(a)\n",
        "    break"
      ],
      "metadata": {
        "execution": {
          "iopub.status.busy": "2024-04-20T19:04:33.376332Z",
          "iopub.execute_input": "2024-04-20T19:04:33.37679Z",
          "iopub.status.idle": "2024-04-20T19:04:33.434279Z",
          "shell.execute_reply.started": "2024-04-20T19:04:33.376741Z",
          "shell.execute_reply": "2024-04-20T19:04:33.433479Z"
        },
        "trusted": true,
        "id": "E43XiAqymuXO"
      },
      "execution_count": null,
      "outputs": []
    },
    {
      "cell_type": "markdown",
      "source": [
        "Now we set the batch-size for trainig set and validation set. The bigger batch size helps to speed up the computations. However, the results confirm that using small batch sizes achieves the best generalization performance, for a given computation cost. In all cases, the best results have been obtained with batch sizes of 32 or smaller. Often mini-batch sizes as small as 2 or 4 deliver optimal results."
      ],
      "metadata": {
        "id": "h64FuJK5muXO"
      }
    },
    {
      "cell_type": "code",
      "source": [
        "train_batch = 32\n",
        "valid_batch = 32"
      ],
      "metadata": {
        "execution": {
          "iopub.status.busy": "2024-04-20T19:04:36.77078Z",
          "iopub.execute_input": "2024-04-20T19:04:36.771158Z",
          "iopub.status.idle": "2024-04-20T19:04:36.77513Z",
          "shell.execute_reply.started": "2024-04-20T19:04:36.771121Z",
          "shell.execute_reply": "2024-04-20T19:04:36.774135Z"
        },
        "trusted": true,
        "id": "FfCH9rdOmuXO"
      },
      "execution_count": null,
      "outputs": []
    },
    {
      "cell_type": "markdown",
      "source": [
        "In the code below pin_memory = True to a DataLoader will automatically put the fetched data Tensors in pinned memory,\n",
        "and thus enables faster data transfer to CUDA-enabled GPUs. This is best explained in the [NVIDIA blogpost](https://developer.nvidia.com/blog/how-optimize-data-transfers-cuda-cc/). I will borrow the picture from it. ![image.png](attachment:9cd62966-eb55-4a49-855c-889367001825.png)<br>\n",
        "num_workers as a positive integer will turn on multi-process data loading with the specified number of loader worker processesm"
      ],
      "metadata": {
        "id": "R_0jRNkqmuXP"
      }
    },
    {
      "cell_type": "code",
      "source": [
        "train_dataloader = DataLoader(train_dataset, batch_size = train_batch, pin_memory = True, num_workers = 4, shuffle = True)\n",
        "valid_dataloader = DataLoader(valid_dataset, batch_size = valid_batch, pin_memory = True, num_workers = 4, shuffle = False)"
      ],
      "metadata": {
        "execution": {
          "iopub.status.busy": "2024-04-20T19:04:44.124668Z",
          "iopub.execute_input": "2024-04-20T19:04:44.125014Z",
          "iopub.status.idle": "2024-04-20T19:04:44.129758Z",
          "shell.execute_reply.started": "2024-04-20T19:04:44.124982Z",
          "shell.execute_reply": "2024-04-20T19:04:44.128802Z"
        },
        "trusted": true,
        "id": "BGqPYIjomuXP"
      },
      "execution_count": null,
      "outputs": []
    },
    {
      "cell_type": "markdown",
      "source": [
        "Here we can check inside the dataloader:"
      ],
      "metadata": {
        "id": "7sfOs9nxmuXP"
      }
    },
    {
      "cell_type": "code",
      "source": [
        "%%time\n",
        "for a in train_dataloader:\n",
        "    print(a)\n",
        "    print('id shape in data laoder is',a['ids'].shape)\n",
        "    break"
      ],
      "metadata": {
        "execution": {
          "iopub.status.busy": "2024-04-20T19:04:47.893348Z",
          "iopub.execute_input": "2024-04-20T19:04:47.893803Z",
          "iopub.status.idle": "2024-04-20T19:04:54.55661Z",
          "shell.execute_reply.started": "2024-04-20T19:04:47.893766Z",
          "shell.execute_reply": "2024-04-20T19:04:54.555543Z"
        },
        "trusted": true,
        "id": "E2JG7U23muXQ"
      },
      "execution_count": null,
      "outputs": []
    },
    {
      "cell_type": "markdown",
      "source": [
        "## 4. BERT Modeling\n",
        "For faster computation, let's set the device cuda if it is available."
      ],
      "metadata": {
        "id": "cnaDCp7RmuXQ"
      }
    },
    {
      "cell_type": "code",
      "source": [
        "device = torch.device('cuda' if torch.cuda.is_available() else 'cpu')\n",
        "device"
      ],
      "metadata": {
        "execution": {
          "iopub.status.busy": "2024-04-20T19:05:00.044995Z",
          "iopub.execute_input": "2024-04-20T19:05:00.045365Z",
          "iopub.status.idle": "2024-04-20T19:05:00.053964Z",
          "shell.execute_reply.started": "2024-04-20T19:05:00.045325Z",
          "shell.execute_reply": "2024-04-20T19:05:00.053071Z"
        },
        "trusted": true,
        "id": "hpEFlQ83muXQ"
      },
      "execution_count": null,
      "outputs": []
    },
    {
      "cell_type": "code",
      "source": [
        "%%time\n",
        "model = transformers.BertForSequenceClassification.from_pretrained('bert-base-cased', num_labels = 6)\n",
        "model.to(device)\n",
        "model.train()"
      ],
      "metadata": {
        "execution": {
          "iopub.status.busy": "2024-04-20T19:05:04.497479Z",
          "iopub.execute_input": "2024-04-20T19:05:04.497938Z",
          "iopub.status.idle": "2024-04-20T19:05:17.134741Z",
          "shell.execute_reply.started": "2024-04-20T19:05:04.497898Z",
          "shell.execute_reply": "2024-04-20T19:05:17.133778Z"
        },
        "trusted": true,
        "id": "idV2u3jRmuXQ"
      },
      "execution_count": null,
      "outputs": []
    },
    {
      "cell_type": "markdown",
      "source": [
        "The model makes use of id and mask from token encoding in the trian set. At this state, there is no need to feed in the model with the target values such as toxic, obscene, etc."
      ],
      "metadata": {
        "id": "GrdeSHa5muXR"
      }
    },
    {
      "cell_type": "code",
      "source": [
        "%%time\n",
        "for a in train_dataloader:\n",
        "    ids = a['ids'].to(device)\n",
        "    mask = a['mask'].to(device)\n",
        "    output = model(ids, mask)\n",
        "    break"
      ],
      "metadata": {
        "execution": {
          "iopub.status.busy": "2024-04-20T19:05:26.399198Z",
          "iopub.execute_input": "2024-04-20T19:05:26.399584Z",
          "iopub.status.idle": "2024-04-20T19:05:27.840037Z",
          "shell.execute_reply.started": "2024-04-20T19:05:26.399546Z",
          "shell.execute_reply": "2024-04-20T19:05:27.838968Z"
        },
        "trusted": true,
        "id": "mtWaCAb4muXS"
      },
      "execution_count": null,
      "outputs": []
    },
    {
      "cell_type": "code",
      "source": [
        "output"
      ],
      "metadata": {
        "execution": {
          "iopub.status.busy": "2024-04-20T19:05:30.807604Z",
          "iopub.execute_input": "2024-04-20T19:05:30.807944Z",
          "iopub.status.idle": "2024-04-20T19:05:30.84516Z",
          "shell.execute_reply.started": "2024-04-20T19:05:30.807908Z",
          "shell.execute_reply": "2024-04-20T19:05:30.844335Z"
        },
        "trusted": true,
        "id": "TWI-gNx4muXS"
      },
      "execution_count": null,
      "outputs": []
    },
    {
      "cell_type": "markdown",
      "source": [
        "To get the output probabilities, we should use sigmoid function. This can be done either in the model or like here be applied to the output from model. I was first making the mistake and used softmax function. However, in our case a comment can be classified as toxic, obscene and insult at the same time. Hence it's not a multi-classficationm and therefore, this is not applicable. <br>\n",
        "Here is the summary of differences between softmax function and sigmoid funciton. <br>\n",
        "\n",
        "**Softmax funciton:**<br>\n",
        "- Used for Multi-classification in the Logistics Regression model\n",
        "- The probabilities sum will be 1<br>\n",
        "\n",
        "**Sigmoid funciton:**\n",
        "- Used for Binary Classification in the Logistic Regression model\n",
        "- The probabilities sum does not need to be 1\n",
        "\n",
        "To learn more about them you can read this: https://medium.com/arteos-ai/the-differences-between-sigmoid-and-softmax-activation-function-12adee8cf322"
      ],
      "metadata": {
        "id": "ybs77dmjmuXS"
      }
    },
    {
      "cell_type": "code",
      "source": [
        "func.softmax(output['logits'], dim = 1)"
      ],
      "metadata": {
        "execution": {
          "iopub.status.busy": "2024-04-20T19:05:35.18999Z",
          "iopub.execute_input": "2024-04-20T19:05:35.190346Z",
          "iopub.status.idle": "2024-04-20T19:05:35.204059Z",
          "shell.execute_reply.started": "2024-04-20T19:05:35.190309Z",
          "shell.execute_reply": "2024-04-20T19:05:35.203149Z"
        },
        "trusted": true,
        "id": "ftRWNJ63muXT"
      },
      "execution_count": null,
      "outputs": []
    },
    {
      "cell_type": "code",
      "source": [
        "output_probs = func.softmax(output['logits'], dim = 1)"
      ],
      "metadata": {
        "execution": {
          "iopub.status.busy": "2024-04-20T19:05:39.04862Z",
          "iopub.execute_input": "2024-04-20T19:05:39.048967Z",
          "iopub.status.idle": "2024-04-20T19:05:39.053239Z",
          "shell.execute_reply.started": "2024-04-20T19:05:39.048936Z",
          "shell.execute_reply": "2024-04-20T19:05:39.05225Z"
        },
        "trusted": true,
        "id": "-E4wZxLtmuXT"
      },
      "execution_count": null,
      "outputs": []
    },
    {
      "cell_type": "code",
      "source": [
        "torch.max(output_probs, dim = 1)"
      ],
      "metadata": {
        "execution": {
          "iopub.status.busy": "2024-04-20T19:05:40.94291Z",
          "iopub.execute_input": "2024-04-20T19:05:40.943244Z",
          "iopub.status.idle": "2024-04-20T19:05:40.955784Z",
          "shell.execute_reply.started": "2024-04-20T19:05:40.943214Z",
          "shell.execute_reply": "2024-04-20T19:05:40.95444Z"
        },
        "trusted": true,
        "id": "tsEY-DfJmuXU"
      },
      "execution_count": null,
      "outputs": []
    },
    {
      "cell_type": "markdown",
      "source": [
        "## 5. Functions for training and validating\n",
        "### a. Setting up some parameters"
      ],
      "metadata": {
        "id": "gRBX1cGEmuXU"
      }
    },
    {
      "cell_type": "code",
      "source": [
        "epochs = 5\n",
        "LR = 2e-5 #Learning rate\n",
        "optimizer = AdamW(model.parameters(), LR, betas = (0.9, 0.999), weight_decay = 1e-2, correct_bias = False)"
      ],
      "metadata": {
        "execution": {
          "iopub.status.busy": "2024-04-20T19:05:46.628587Z",
          "iopub.execute_input": "2024-04-20T19:05:46.62893Z",
          "iopub.status.idle": "2024-04-20T19:05:46.637458Z",
          "shell.execute_reply.started": "2024-04-20T19:05:46.628901Z",
          "shell.execute_reply": "2024-04-20T19:05:46.636476Z"
        },
        "trusted": true,
        "id": "CpxffGCsmuXV"
      },
      "execution_count": null,
      "outputs": []
    },
    {
      "cell_type": "markdown",
      "source": [
        "We use the learning rate parameter as set above for 10% of total training time. We then decrease the learning rate gradualy to zero."
      ],
      "metadata": {
        "id": "8P_RGsN9muXV"
      }
    },
    {
      "cell_type": "code",
      "source": [
        "train_steps = int((len(train) * epochs)/train_batch)\n",
        "num_steps = int(train_steps * 0.1)\n",
        "scheduler = get_linear_schedule_with_warmup(optimizer, num_steps, train_steps)"
      ],
      "metadata": {
        "execution": {
          "iopub.status.busy": "2024-04-20T19:05:50.73237Z",
          "iopub.execute_input": "2024-04-20T19:05:50.732772Z",
          "iopub.status.idle": "2024-04-20T19:05:50.73769Z",
          "shell.execute_reply.started": "2024-04-20T19:05:50.732736Z",
          "shell.execute_reply": "2024-04-20T19:05:50.736654Z"
        },
        "trusted": true,
        "id": "y8XwCdL_muXW"
      },
      "execution_count": null,
      "outputs": []
    },
    {
      "cell_type": "code",
      "source": [
        "le = []\n",
        "for b in tqdm(range(epochs)):\n",
        "    for a in train_dataloader:\n",
        "        le.append(scheduler.get_last_lr())\n",
        "        scheduler.step()\n",
        "plt.plot(np.arange(len(le)), le)"
      ],
      "metadata": {
        "execution": {
          "iopub.status.busy": "2024-04-20T19:05:56.451067Z",
          "iopub.execute_input": "2024-04-20T19:05:56.451439Z",
          "iopub.status.idle": "2024-04-20T19:05:58.382712Z",
          "shell.execute_reply.started": "2024-04-20T19:05:56.45138Z",
          "shell.execute_reply": "2024-04-20T19:05:58.381691Z"
        },
        "trusted": true,
        "id": "p5XAI25imuXW"
      },
      "execution_count": null,
      "outputs": []
    },
    {
      "cell_type": "code",
      "source": [
        "loss_fn = nn.BCEWithLogitsLoss()\n",
        "loss_fn.to(device)"
      ],
      "metadata": {
        "execution": {
          "iopub.status.busy": "2024-04-20T19:06:06.247007Z",
          "iopub.execute_input": "2024-04-20T19:06:06.247366Z",
          "iopub.status.idle": "2024-04-20T19:06:06.253762Z",
          "shell.execute_reply.started": "2024-04-20T19:06:06.247327Z",
          "shell.execute_reply": "2024-04-20T19:06:06.252929Z"
        },
        "trusted": true,
        "id": "VZuHaMeQmuXW"
      },
      "execution_count": null,
      "outputs": []
    },
    {
      "cell_type": "code",
      "source": [
        "scaler = torch.cuda.amp.GradScaler()"
      ],
      "metadata": {
        "execution": {
          "iopub.status.busy": "2024-04-20T19:06:08.232114Z",
          "iopub.execute_input": "2024-04-20T19:06:08.232507Z",
          "iopub.status.idle": "2024-04-20T19:06:08.236906Z",
          "shell.execute_reply.started": "2024-04-20T19:06:08.232469Z",
          "shell.execute_reply": "2024-04-20T19:06:08.235832Z"
        },
        "trusted": true,
        "id": "BHdXochfmuXX"
      },
      "execution_count": null,
      "outputs": []
    },
    {
      "cell_type": "markdown",
      "source": [
        "### b. Training function\n",
        "You can find more details about some keywords in this block of code below it."
      ],
      "metadata": {
        "id": "xL6bmliPmuXX"
      }
    },
    {
      "cell_type": "code",
      "source": [
        "def training(train_dataloader, model, optimizer, scheduler):\n",
        "    model.train()\n",
        "    torch.backends.cudnn.benchmark = True\n",
        "    correct_predictions = 0\n",
        "\n",
        "    for a in train_dataloader:\n",
        "        losses = []\n",
        "        optimizer.zero_grad()\n",
        "\n",
        "        #allpreds = []\n",
        "        #alltargets = []\n",
        "\n",
        "        with torch.cuda.amp.autocast():\n",
        "\n",
        "            ids = a['ids'].to(device, non_blocking = True)\n",
        "            mask = a['mask'].to(device, non_blocking = True)\n",
        "\n",
        "            output = model(ids, mask) #This gives model as output, however we want the values at the output\n",
        "            output = output['logits'].squeeze(-1).to(torch.float32)\n",
        "\n",
        "            output_probs = torch.sigmoid(output)\n",
        "            preds = torch.where(output_probs > 0.5, 1, 0)\n",
        "\n",
        "            toxic_label = a['toxic_label'].to(device, non_blocking = True)\n",
        "            loss = loss_fn(output, toxic_label)\n",
        "\n",
        "            losses.append(loss.item())\n",
        "            #allpreds.append(output.detach().cpu().numpy())\n",
        "            #alltargets.append(toxic.detach().squeeze(-1).cpu().numpy())\n",
        "            correct_predictions += torch.sum(preds == toxic_label)\n",
        "\n",
        "        scaler.scale(loss).backward() #Multiplies (‘scales’) a tensor or list of tensors by the scale factor.\n",
        "                                      #Returns scaled outputs. If this instance of GradScaler is not enabled, outputs are returned unmodified.\n",
        "        scaler.step(optimizer) #Returns the return value of optimizer.step(*args, **kwargs).\n",
        "        scaler.update() #Updates the scale factor.If any optimizer steps were skipped the scale is multiplied by backoff_factor to reduce it.\n",
        "                        #If growth_interval unskipped iterations occurred consecutively, the scale is multiplied by growth_factor to increase it\n",
        "        scheduler.step() # Update learning rate schedule\n",
        "\n",
        "    losses = np.mean(losses)\n",
        "    corr_preds = correct_predictions.detach().cpu().numpy()\n",
        "    accuracy = corr_preds/(len(p_train)*6)\n",
        "\n",
        "    return losses, accuracy"
      ],
      "metadata": {
        "execution": {
          "iopub.status.busy": "2024-04-20T19:06:23.075636Z",
          "iopub.execute_input": "2024-04-20T19:06:23.076028Z",
          "iopub.status.idle": "2024-04-20T19:06:23.086716Z",
          "shell.execute_reply.started": "2024-04-20T19:06:23.07599Z",
          "shell.execute_reply": "2024-04-20T19:06:23.085686Z"
        },
        "trusted": true,
        "id": "Ve9WQY7qmuXX"
      },
      "execution_count": null,
      "outputs": []
    },
    {
      "cell_type": "markdown",
      "source": [
        "**amp** stands for automatic mixed precision. <br>\n",
        "To learn more about the **autocast** read this link: <br>\n",
        "https://pytorch.org/docs/stable/amp.html <br>\n",
        "in short: Instances of autocast serve as context managers or decorators that allow regions of your script to run in mixed precision, where some operations use the torch.float32 (float) datatype and other operations use torch.float16 (half).\n",
        "autocast should wrap only the forward pass(es) of your network, including the loss computation(s). Backward passes under autocast are not recommended. <br>\n",
        "<br>\n",
        "**with** statement in Python is used in exception handling to make the code cleaner and much more readable. It simplifies the management of common resources like file streams. Here is a link to learn more about it.<br>\n",
        "https://www.geeksforgeeks.org/with-statement-in-python/<br>\n",
        "\n",
        "**Non-Blocking** allows you to overlap compute and memory transfer to the GPU. Pinned Memory allows the non-blocking calls to actually be non-blocking.<br>\n",
        "\n",
        "Why using **var.detach().cpu().numpy()** and not var.numpy() only? <br>\n",
        "because we get an error. The main reason behind this choice presumably is to avoid confusing new comers. People not very familiar with requires_grad and cpu/gpu Tensors might go back and forth with numpy. For example doing pytorch -> numpy -> pytorch and backward on the last Tensor. This will backward without issue but not all the way to the first part of the code and won’t raise any error.\n",
        "So the choice has been made to force the user to detach() to make sure they want to do it and it’s not a typo/other library that does this tranformation and breaks the computational graph.<br>\n",
        "\n",
        "**optimizer.step():** it performs a parameter update based on the current gradient (stored in .grad attribute of a parameter) and the update rule. As an example, the update rule for SGD is defined here:<br>\n",
        "https://github.com/pytorch/pytorch/blob/cd9b27231b51633e76e28b6a34002ab83b0660fc/torch/optim/sgd.py#L63 <br>\n",
        "\n",
        "**loss.backward()** Calling .backward() mutiple times accumulates the gradient (by addition) for each parameter. This is why you should call optimizer.zero_grad() after each .step() call. Note that following the first .backward call, a second call is only possible after you have performed another forward pass.\n",
        "\n",
        "### Gradient Scaling\n",
        "If the forward pass for a particular op has float16 inputs, the backward pass for that op will produce float16 gradients. Gradient values with small magnitudes may not be representable in float16. These values will flush to zero (“underflow”), so the update for the corresponding parameters will be lost.<br>\n",
        "\n",
        "To prevent underflow, “gradient scaling” multiplies the network’s loss(es) by a scale factor and invokes a backward pass on the scaled loss(es). Gradients flowing backward through the network are then scaled by the same factor. In other words, gradient values have a larger magnitude, so they don’t flush to zero.<br>\n",
        "\n",
        "Each parameter’s gradient (.grad attribute) should be unscaled before the optimizer updates the parameters, so the scale factor does not interfere with the learning rate.<br>\n",
        "\n",
        "**step()** carries out the following two operations:\n",
        "1. Internally invokes unscale_(optimizer) (unless unscale_() was explicitly called for optimizer earlier in the iteration). As part of the unscale_(), gradients are checked for infs/NaNs.\n",
        "2. If no inf/NaN gradients are found, invokes optimizer.step() using the unscaled gradients. Otherwise, optimizer.step() is skipped to avoid corrupting the params."
      ],
      "metadata": {
        "id": "M1Q5Wk0vmuXY"
      }
    },
    {
      "cell_type": "markdown",
      "source": [
        "### c. Validating function\n",
        "validating function is quite similar to training function. The difference is that there is no back-propagation and optemization for parameters in it."
      ],
      "metadata": {
        "id": "qsDYAERZmuXZ"
      }
    },
    {
      "cell_type": "code",
      "source": [
        "def validating(valid_dataloader, model):\n",
        "\n",
        "    model.eval()\n",
        "    correct_predictions = 0\n",
        "    all_output_probs = []\n",
        "\n",
        "    for a in valid_dataloader:\n",
        "        losses = []\n",
        "        ids = a['ids'].to(device, non_blocking = True)\n",
        "        mask = a['mask'].to(device, non_blocking = True)\n",
        "        output = model(ids, mask)\n",
        "        output = output['logits'].squeeze(-1).to(torch.float32)\n",
        "        output_probs = torch.sigmoid(output)\n",
        "        preds = torch.where(output_probs > 0.5, 1, 0)\n",
        "\n",
        "        toxic_label = a['toxic_label'].to(device, non_blocking = True)\n",
        "        loss = loss_fn(output, toxic_label)\n",
        "        losses.append(loss.item())\n",
        "        all_output_probs.extend(output_probs.detach().cpu().numpy())\n",
        "\n",
        "        correct_predictions += torch.sum(preds == toxic_label)\n",
        "        corr_preds = correct_predictions.detach().cpu().numpy()\n",
        "\n",
        "    losses = np.mean(losses)\n",
        "    corr_preds = correct_predictions.detach().cpu().numpy()\n",
        "    accuracy = corr_preds/(len(p_valid)*6)\n",
        "\n",
        "    return losses, accuracy, all_output_probs"
      ],
      "metadata": {
        "execution": {
          "iopub.status.busy": "2024-04-20T19:06:30.115488Z",
          "iopub.execute_input": "2024-04-20T19:06:30.115858Z",
          "iopub.status.idle": "2024-04-20T19:06:30.125173Z",
          "shell.execute_reply.started": "2024-04-20T19:06:30.115825Z",
          "shell.execute_reply": "2024-04-20T19:06:30.12435Z"
        },
        "trusted": true,
        "id": "b1gTNpRGmuXZ"
      },
      "execution_count": null,
      "outputs": []
    },
    {
      "cell_type": "markdown",
      "source": [
        "## 6. Training the model\n",
        "### a. Run training function"
      ],
      "metadata": {
        "id": "G5gyCuipmuXa"
      }
    },
    {
      "cell_type": "code",
      "source": [
        "%%time\n",
        "\n",
        "best_score = 1000\n",
        "train_accs = []\n",
        "valid_accs = []\n",
        "train_losses = []\n",
        "valid_losses = []\n",
        "\n",
        "for eboch in tqdm(range(epochs)):\n",
        "\n",
        "    train_loss, train_acc = training(train_dataloader, model, optimizer, scheduler)\n",
        "    valid_loss, valid_acc, valid_probs = validating(valid_dataloader, model)\n",
        "\n",
        "    print('train losses: %.4f' % train_loss, 'train accuracy: %.3f' % train_acc)\n",
        "    print('valid losses: %.4f' % valid_loss, 'valid accuracy: %.3f' % valid_acc)\n",
        "    train_losses.append(train_loss)\n",
        "    valid_losses.append(valid_loss)\n",
        "    train_accs.append(train_acc)\n",
        "    valid_accs.append(valid_acc)\n",
        "\n",
        "\n",
        "    if valid_loss < best_score:\n",
        "        best_score = valid_loss\n",
        "        print('Found a good model!')\n",
        "        state = {\n",
        "            'state_dict': model.state_dict(),\n",
        "            'optimizer_dict': optimizer.state_dict(),\n",
        "            'best_score': best_score\n",
        "        }\n",
        "        torch.save(state, 'best_model.pth')\n",
        "    else:\n",
        "        pass"
      ],
      "metadata": {
        "execution": {
          "iopub.status.busy": "2024-04-20T19:06:32.859298Z",
          "iopub.execute_input": "2024-04-20T19:06:32.859672Z",
          "iopub.status.idle": "2024-04-20T19:07:02.965604Z",
          "shell.execute_reply.started": "2024-04-20T19:06:32.859634Z",
          "shell.execute_reply": "2024-04-20T19:07:02.964623Z"
        },
        "trusted": true,
        "id": "e9jt74D_muXa"
      },
      "execution_count": null,
      "outputs": []
    },
    {
      "cell_type": "markdown",
      "source": [
        "### b. Plotting the results"
      ],
      "metadata": {
        "id": "bx61jwHLmuXa"
      }
    },
    {
      "cell_type": "code",
      "source": [
        "x = np.arange(epochs)\n",
        "fig, ax = plt.subplots(1, 2, figsize = (15,4))\n",
        "ax[0].plot(x, train_losses)\n",
        "ax[0].plot(x, valid_losses)\n",
        "ax[0].set_ylabel('Losses', weight = 'bold')\n",
        "ax[0].set_xlabel('Epochs')\n",
        "ax[0].grid(alpha = 0.3)\n",
        "ax[0].legend(labels = ['train losses', 'valid losses'])\n",
        "\n",
        "ax[1].plot(x, train_accs)\n",
        "ax[1].plot(x, valid_accs)\n",
        "ax[1].set_ylabel('Accuracy', weight = 'bold')\n",
        "ax[1].set_xlabel('Epochs')\n",
        "ax[1].legend(labels = ['train acc', 'valid acc'])\n",
        "\n",
        "ax[1].grid(alpha = 0.3)\n",
        "fig.suptitle('Fold = 0', weight = 'bold')\n"
      ],
      "metadata": {
        "execution": {
          "iopub.status.busy": "2024-04-20T19:07:40.571986Z",
          "iopub.execute_input": "2024-04-20T19:07:40.572366Z",
          "iopub.status.idle": "2024-04-20T19:07:40.937665Z",
          "shell.execute_reply.started": "2024-04-20T19:07:40.572317Z",
          "shell.execute_reply": "2024-04-20T19:07:40.936765Z"
        },
        "trusted": true,
        "id": "bSL9JiqGmuXb"
      },
      "execution_count": null,
      "outputs": []
    },
    {
      "cell_type": "markdown",
      "source": [
        "## 7. Evaluation\n",
        "We use auc as a metric of evaluation in this report."
      ],
      "metadata": {
        "id": "AVe4PJ8ZmuXb"
      }
    },
    {
      "cell_type": "code",
      "source": [
        "valid_loss, valid_acc, valid_probs = validating(valid_dataloader, model)\n",
        "valid_probs = np.asarray(valid_probs).flatten()\n",
        "y_valid = p_valid[['toxic', 'severe_toxic','obscene', 'threat', 'insult','identity_hate']].to_numpy().flatten()\n",
        "fpr, tpr, _ = roc_curve(y_valid, valid_probs)"
      ],
      "metadata": {
        "execution": {
          "iopub.status.busy": "2024-04-20T19:07:49.196519Z",
          "iopub.execute_input": "2024-04-20T19:07:49.196866Z",
          "iopub.status.idle": "2024-04-20T19:07:49.759179Z",
          "shell.execute_reply.started": "2024-04-20T19:07:49.196836Z",
          "shell.execute_reply": "2024-04-20T19:07:49.758102Z"
        },
        "trusted": true,
        "id": "YXYkkjgJmuXc"
      },
      "execution_count": null,
      "outputs": []
    },
    {
      "cell_type": "code",
      "source": [
        "fig, ax = plt.subplots()\n",
        "ax.plot(fpr, tpr)\n",
        "ax.set_title('ROC Curv')\n",
        "ax.set_xlabel('FPR')\n",
        "ax.set_ylabel('TPR')\n",
        "plt.show()"
      ],
      "metadata": {
        "execution": {
          "iopub.status.busy": "2024-04-20T19:07:54.236514Z",
          "iopub.execute_input": "2024-04-20T19:07:54.236889Z",
          "iopub.status.idle": "2024-04-20T19:07:54.376142Z",
          "shell.execute_reply.started": "2024-04-20T19:07:54.236851Z",
          "shell.execute_reply": "2024-04-20T19:07:54.375127Z"
        },
        "trusted": true,
        "id": "QMRLJZQpmuXe"
      },
      "execution_count": null,
      "outputs": []
    },
    {
      "cell_type": "code",
      "source": [
        "auc(fpr, tpr)"
      ],
      "metadata": {
        "execution": {
          "iopub.status.busy": "2024-04-20T19:08:00.965126Z",
          "iopub.execute_input": "2024-04-20T19:08:00.965698Z",
          "iopub.status.idle": "2024-04-20T19:08:00.974015Z",
          "shell.execute_reply.started": "2024-04-20T19:08:00.965646Z",
          "shell.execute_reply": "2024-04-20T19:08:00.972907Z"
        },
        "trusted": true,
        "id": "n8yB0uK1muXe"
      },
      "execution_count": null,
      "outputs": []
    },
    {
      "cell_type": "markdown",
      "source": [
        "## PART II"
      ],
      "metadata": {
        "id": "9oY0jdOCmuXe"
      }
    },
    {
      "cell_type": "markdown",
      "source": [
        "You can start to run the notebook from here until the end. I have copied all the necessary parts from part I in this notebook. The objective here is to show how the model works for 5 different folds. epochs is set to 5 and the first 2000 rows of the trianing set is used. Feel free to change these parameters and see how it affects the accuracy."
      ],
      "metadata": {
        "id": "wiMZH7BqmuXf"
      }
    },
    {
      "cell_type": "code",
      "source": [
        "%%time\n",
        "import numpy as np\n",
        "import pandas as pd\n",
        "import os\n",
        "import random\n",
        "import time\n",
        "\n",
        "import re\n",
        "import string\n",
        "import nltk\n",
        "from nltk.corpus import stopwords\n",
        "\n",
        "import matplotlib.pyplot as plt\n",
        "import seaborn as sns\n",
        "sns.set(style=\"ticks\", context=\"talk\")\n",
        "plt.style.use('dark_background')\n",
        "\n",
        "from tqdm import tqdm\n",
        "\n",
        "import torch\n",
        "import torch.nn as nn\n",
        "import torch.nn.functional as func\n",
        "from torch.utils.data import DataLoader, Dataset\n",
        "\n",
        "import transformers\n",
        "from transformers import AdamW, get_linear_schedule_with_warmup\n",
        "\n",
        "import tokenizers\n",
        "from sklearn.metrics import mean_squared_error, roc_auc_score, roc_curve, auc\n",
        "\n",
        "import warnings\n",
        "warnings.simplefilter('ignore')\n",
        "\n",
        "train = pd.read_csv('../input/jigsaw-toxic-comment-classification-challenge/train.csv.zip', nrows = 2000)\n",
        "test = pd.read_csv('../input/jigsaw-toxic-comment-classification-challenge/test.csv.zip', nrows = 100)\n",
        "submission = pd.read_csv('../input/jigsaw-toxic-comment-classification-challenge/sample_submission.csv.zip')\n",
        "\n",
        "SEED = 34\n",
        "def random_seed(SEED):\n",
        "    random.seed(SEED)\n",
        "    os.environ['PYTHONHASHSEED'] = str(SEED)\n",
        "    np.random.seed(SEED)\n",
        "    torch.manual_seed(SEED)\n",
        "    torch.cuda.manual_seed(SEED)\n",
        "    torch.cuda.manual_seed_all(SEED)\n",
        "    torch.backends.cudnn.deterministic = True\n",
        "random_seed(SEED)\n",
        "\n",
        "def clean_text(text):\n",
        "\n",
        "    text = re.sub('\\[.*?\\]', '', text)\n",
        "    text = re.sub('https?://\\S+|www\\.\\S+', '', text)\n",
        "    text = re.sub('<.*?>+', '', text)\n",
        "    text = re.sub('[%s]' % re.escape(string.punctuation), '', text)\n",
        "    text = re.sub('\\n', '', text)\n",
        "    text = re.sub('\\w*\\d\\w*', '', text)\n",
        "    return text\n",
        "\n",
        "\n",
        "train['clean_text'] = train['comment_text'].apply(str).apply(lambda x: clean_text(x))\n",
        "test['clean_text'] = test['comment_text'].apply(str).apply(lambda x: clean_text(x))\n",
        "\n",
        "kfold = 5\n",
        "train['kfold'] = train.index % kfold\n",
        "\n",
        "tokenizer = transformers.BertTokenizer.from_pretrained('bert-base-cased')\n",
        "max_len = 200\n",
        "\n",
        "class BertDataSet(Dataset):\n",
        "\n",
        "    def __init__(self, sentences, toxic_labels):\n",
        "        self.sentences = sentences\n",
        "        #target is a matrix with shape [#1 x #6(toxic, obscene, etc)]\n",
        "        self.targets = toxic_labels.to_numpy()\n",
        "\n",
        "    def __len__(self):\n",
        "        return len(self.sentences)\n",
        "\n",
        "\n",
        "    def __getitem__(self, idx):\n",
        "        sentence = self.sentences[idx]\n",
        "        bert_senten = tokenizer.encode_plus(sentence,\n",
        "                                            add_special_tokens = True, # [CLS],[SEP]\n",
        "                                            max_length = max_len,\n",
        "                                            pad_to_max_length = True,\n",
        "                                            truncation = True,\n",
        "                                            return_attention_mask = True\n",
        "                                             )\n",
        "        ids = torch.tensor(bert_senten['input_ids'], dtype = torch.long)\n",
        "        mask = torch.tensor(bert_senten['attention_mask'], dtype = torch.long)\n",
        "        toxic_label = torch.tensor(self.targets[idx], dtype = torch.float)\n",
        "\n",
        "\n",
        "        return {\n",
        "            'ids' : ids,\n",
        "            'mask' : mask,\n",
        "            'toxic_label':toxic_label\n",
        "        }\n",
        "\n",
        "epochs = 5\n",
        "train_batch = 32\n",
        "valid_batch = 32\n",
        "device = torch.device('cuda' if torch.cuda.is_available() else 'cpu')\n",
        "\n",
        "loss_fn = nn.BCEWithLogitsLoss()\n",
        "loss_fn.to(device)\n",
        "scaler = torch.cuda.amp.GradScaler()\n",
        "\n",
        "def training(train_dataloader, model, optimizer, scheduler):\n",
        "    model.train()\n",
        "    torch.backends.cudnn.benchmark = True\n",
        "    correct_predictions = 0\n",
        "\n",
        "    for a in train_dataloader:\n",
        "        losses = []\n",
        "        optimizer.zero_grad()\n",
        "\n",
        "        #allpreds = []\n",
        "        #alltargets = []\n",
        "\n",
        "        with torch.cuda.amp.autocast():\n",
        "\n",
        "            ids = a['ids'].to(device, non_blocking = True)\n",
        "            mask = a['mask'].to(device, non_blocking = True)\n",
        "\n",
        "            output = model(ids, mask) #This gives model as output, however we want the values at the output\n",
        "            output = output['logits'].squeeze(-1).to(torch.float32)\n",
        "\n",
        "            output_probs = torch.sigmoid(output)\n",
        "            preds = torch.where(output_probs > 0.5, 1, 0)\n",
        "\n",
        "            toxic_label = a['toxic_label'].to(device, non_blocking = True)\n",
        "            loss = loss_fn(output, toxic_label)\n",
        "\n",
        "            losses.append(loss.item())\n",
        "            #allpreds.append(output.detach().cpu().numpy())\n",
        "            #alltargets.append(toxic.detach().squeeze(-1).cpu().numpy())\n",
        "            correct_predictions += torch.sum(preds == toxic_label)\n",
        "\n",
        "        scaler.scale(loss).backward() #Multiplies (‘scales’) a tensor or list of tensors by the scale factor.\n",
        "                                      #Returns scaled outputs. If this instance of GradScaler is not enabled, outputs are returned unmodified.\n",
        "        scaler.step(optimizer) #Returns the return value of optimizer.step(*args, **kwargs).\n",
        "        scaler.update() #Updates the scale factor.If any optimizer steps were skipped the scale is multiplied by backoff_factor to reduce it.\n",
        "                        #If growth_interval unskipped iterations occurred consecutively, the scale is multiplied by growth_factor to increase it\n",
        "        scheduler.step() # Update learning rate schedule\n",
        "\n",
        "    losses = np.mean(losses)\n",
        "    corr_preds = correct_predictions.detach().cpu().numpy()\n",
        "    accuracy = corr_preds/(len(p_train)*6)\n",
        "\n",
        "    return losses, accuracy\n",
        "\n",
        "def validating(valid_dataloader, model):\n",
        "\n",
        "    model.eval()\n",
        "    correct_predictions = 0\n",
        "    all_output_probs = []\n",
        "\n",
        "    for a in valid_dataloader:\n",
        "        losses = []\n",
        "        ids = a['ids'].to(device, non_blocking = True)\n",
        "        mask = a['mask'].to(device, non_blocking = True)\n",
        "        output = model(ids, mask)\n",
        "        output = output['logits'].squeeze(-1).to(torch.float32)\n",
        "        output_probs = torch.sigmoid(output)\n",
        "        preds = torch.where(output_probs > 0.5, 1, 0)\n",
        "\n",
        "        toxic_label = a['toxic_label'].to(device, non_blocking = True)\n",
        "        loss = loss_fn(output, toxic_label)\n",
        "        losses.append(loss.item())\n",
        "        all_output_probs.extend(output_probs.detach().cpu().numpy())\n",
        "\n",
        "        correct_predictions += torch.sum(preds == toxic_label)\n",
        "        corr_preds = correct_predictions.detach().cpu().numpy()\n",
        "\n",
        "    losses = np.mean(losses)\n",
        "    corr_preds = correct_predictions.detach().cpu().numpy()\n",
        "    accuracy = corr_preds/(len(p_valid)*6)\n",
        "\n",
        "    return losses, accuracy, all_output_probs"
      ],
      "metadata": {
        "execution": {
          "iopub.status.busy": "2024-04-20T19:10:08.554868Z",
          "iopub.execute_input": "2024-04-20T19:10:08.555124Z",
          "iopub.status.idle": "2024-04-20T19:10:18.346121Z",
          "shell.execute_reply.started": "2024-04-20T19:10:08.5551Z",
          "shell.execute_reply": "2024-04-20T19:10:18.345171Z"
        },
        "trusted": true,
        "id": "B633d1DUmuXf"
      },
      "execution_count": null,
      "outputs": []
    },
    {
      "cell_type": "markdown",
      "source": [
        "## 8. Repeat training for k-fold"
      ],
      "metadata": {
        "id": "SMozNqnbmuXg"
      }
    },
    {
      "cell_type": "markdown",
      "source": [
        "To improve our model we repeat the same process of training for each fold of k-folds."
      ],
      "metadata": {
        "id": "2J0Kv6OWmuXg"
      }
    },
    {
      "cell_type": "code",
      "source": [
        "%%time\n",
        "\n",
        "best_scores = []\n",
        "for fold in tqdm(range(0,5)):\n",
        "\n",
        "    # initializing the data\n",
        "    p_train = train[train['kfold'] != fold].reset_index(drop = True)\n",
        "    p_valid = train[train['kfold'] == fold].reset_index(drop = True)\n",
        "\n",
        "    train_dataset = BertDataSet(p_train['clean_text'], p_train[['toxic', 'severe_toxic','obscene', 'threat', 'insult','identity_hate']])\n",
        "    valid_dataset = BertDataSet(p_valid['clean_text'], p_valid[['toxic', 'severe_toxic','obscene', 'threat', 'insult','identity_hate']])\n",
        "\n",
        "    train_dataloader = DataLoader(train_dataset, batch_size = train_batch, shuffle = True, num_workers = 4, pin_memory = True)\n",
        "    valid_dataloader = DataLoader(valid_dataset, batch_size = valid_batch, shuffle = False, num_workers = 4, pin_memory = True)\n",
        "\n",
        "    model = transformers.BertForSequenceClassification.from_pretrained(\"../input/bert-base-cased\", num_labels = 6)\n",
        "    model.to(device)\n",
        "\n",
        "    LR = 2e-5\n",
        "    optimizer = AdamW(model.parameters(), LR,betas = (0.9, 0.999), weight_decay = 1e-2) # AdamW optimizer\n",
        "\n",
        "    train_steps = int(len(p_train)/train_batch * epochs)\n",
        "    num_steps = int(train_steps * 0.1)\n",
        "\n",
        "    scheduler = get_linear_schedule_with_warmup(optimizer, num_steps, train_steps)\n",
        "\n",
        "    best_score = 1000\n",
        "    train_accs = []\n",
        "    valid_accs = []\n",
        "    train_losses = []\n",
        "    valid_losses = []\n",
        "    best_valid_probs = []\n",
        "\n",
        "    print(\"-------------- Fold = \" + str(fold) + \"-------------\")\n",
        "\n",
        "    for epoch in tqdm(range(epochs)):\n",
        "        print(\"-------------- Epoch = \" + str(epoch) + \"-------------\")\n",
        "\n",
        "        train_loss, train_acc = training(train_dataloader, model, optimizer, scheduler)\n",
        "        valid_loss, valid_acc, valid_probs = validating(valid_dataloader, model)\n",
        "\n",
        "        train_losses.append(train_loss)\n",
        "        train_accs.append(train_acc)\n",
        "        valid_losses.append(valid_loss)\n",
        "        valid_accs.append(valid_acc)\n",
        "\n",
        "        print('train losses: %.4f' %(train_loss), 'train accuracy: %.3f' %(train_acc))\n",
        "        print('valid losses: %.4f' %(valid_loss), 'valid accuracy: %.3f' %(valid_acc))\n",
        "\n",
        "        if (valid_loss < best_score):\n",
        "\n",
        "            best_score = valid_loss\n",
        "            print(\"Found an improved model! :)\")\n",
        "\n",
        "            state = {'state_dict': model.state_dict(),\n",
        "                     'optimizer_dict': optimizer.state_dict(),\n",
        "                     'best_score':best_score\n",
        "                    }\n",
        "\n",
        "            torch.save(state, \"model\" + str(fold) + \".pth\")\n",
        "            best_valid_prob = valid_probs\n",
        "            torch.cuda.memory_summary(device = None, abbreviated = False)\n",
        "        else:\n",
        "            pass\n",
        "\n",
        "\n",
        "    best_scores.append(best_score)\n",
        "    best_valid_probs.append(best_valid_prob)\n",
        "\n",
        "    ##Plotting the result for each fold\n",
        "    x = np.arange(epochs)\n",
        "    fig, ax = plt.subplots(1, 2, figsize = (15,4))\n",
        "    ax[0].plot(x, train_losses)\n",
        "    ax[0].plot(x, valid_losses)\n",
        "    ax[0].set_ylabel('Losses', weight = 'bold')\n",
        "    ax[0].set_xlabel('Epochs')\n",
        "    ax[0].grid(alpha = 0.3)\n",
        "    ax[0].legend(labels = ['train losses', 'valid losses'])\n",
        "\n",
        "    ax[1].plot(x, train_accs)\n",
        "    ax[1].plot(x, valid_accs)\n",
        "    ax[1].set_ylabel('Accuracy', weight = 'bold')\n",
        "    ax[1].set_xlabel('Epochs')\n",
        "    ax[1].legend(labels = ['train acc', 'valid acc'])\n",
        "\n",
        "    ax[1].grid(alpha = 0.3)\n",
        "    fig.suptitle('Fold = '+str(fold), weight = 'bold')"
      ],
      "metadata": {
        "execution": {
          "iopub.status.busy": "2024-04-20T19:10:18.347854Z",
          "iopub.execute_input": "2024-04-20T19:10:18.348241Z",
          "iopub.status.idle": "2024-04-20T19:26:51.858896Z",
          "shell.execute_reply.started": "2024-04-20T19:10:18.348199Z",
          "shell.execute_reply": "2024-04-20T19:26:51.858015Z"
        },
        "trusted": true,
        "id": "DOqM4EtdmuXg"
      },
      "execution_count": null,
      "outputs": []
    },
    {
      "cell_type": "code",
      "source": [
        "best_scores"
      ],
      "metadata": {
        "execution": {
          "iopub.status.busy": "2024-04-20T19:26:51.860107Z",
          "iopub.execute_input": "2024-04-20T19:26:51.860392Z",
          "iopub.status.idle": "2024-04-20T19:26:51.865974Z",
          "shell.execute_reply.started": "2024-04-20T19:26:51.86036Z",
          "shell.execute_reply": "2024-04-20T19:26:51.865006Z"
        },
        "trusted": true,
        "id": "ihk2ZkiumuXh"
      },
      "execution_count": null,
      "outputs": []
    },
    {
      "cell_type": "code",
      "source": [
        "print('Mean of',kfold, 'folds for best loss in', epochs, 'epochs cross-validation folds is %.4f.' %(np.mean(best_scores)))"
      ],
      "metadata": {
        "execution": {
          "iopub.status.busy": "2024-04-20T19:26:51.867695Z",
          "iopub.execute_input": "2024-04-20T19:26:51.86796Z",
          "iopub.status.idle": "2024-04-20T19:26:51.880158Z",
          "shell.execute_reply.started": "2024-04-20T19:26:51.867935Z",
          "shell.execute_reply": "2024-04-20T19:26:51.879344Z"
        },
        "trusted": true,
        "id": "qb3wHWw-muXi"
      },
      "execution_count": null,
      "outputs": []
    },
    {
      "cell_type": "markdown",
      "source": [
        "## 9. Evaluation for k-models"
      ],
      "metadata": {
        "id": "2EzAy-GamuXi"
      }
    },
    {
      "cell_type": "markdown",
      "source": [
        "We use ensemble for evaluating k-models in the validation set."
      ],
      "metadata": {
        "id": "6pccLDNdmuXi"
      }
    },
    {
      "cell_type": "code",
      "source": [
        "def predicting(test_dataloader, model, pthes):\n",
        "    allpreds = []\n",
        "\n",
        "    for pth in pthes:\n",
        "        state = torch.load(pth)\n",
        "        model.load_state_dict(state['state_dict'])\n",
        "        model.to(device)\n",
        "        model.eval()\n",
        "        preds = []\n",
        "        with torch.no_grad():\n",
        "            for a in test_dataloader:\n",
        "                ids = a['ids'].to(device)\n",
        "                mask = a['mask'].to(device)\n",
        "                output = model(ids, mask)\n",
        "                output = output['logits'].squeeze(-1)\n",
        "                output_probs = torch.sigmoid(output)\n",
        "                preds.append(output_probs.cpu().numpy())\n",
        "            preds = np.concatenate(preds)\n",
        "            allpreds.append(preds)\n",
        "\n",
        "    return allpreds"
      ],
      "metadata": {
        "execution": {
          "iopub.status.busy": "2024-04-20T19:26:51.881313Z",
          "iopub.execute_input": "2024-04-20T19:26:51.88161Z",
          "iopub.status.idle": "2024-04-20T19:26:51.891317Z",
          "shell.execute_reply.started": "2024-04-20T19:26:51.881583Z",
          "shell.execute_reply": "2024-04-20T19:26:51.8906Z"
        },
        "trusted": true,
        "id": "YoJxD_AdmuXi"
      },
      "execution_count": null,
      "outputs": []
    },
    {
      "cell_type": "code",
      "source": [
        "pthes = [os.path.join(\"./\",s) for s in os.listdir(\"./\") if \".pth\" in s]"
      ],
      "metadata": {
        "execution": {
          "iopub.status.busy": "2024-04-20T19:26:51.892436Z",
          "iopub.execute_input": "2024-04-20T19:26:51.892724Z",
          "iopub.status.idle": "2024-04-20T19:26:51.906309Z",
          "shell.execute_reply.started": "2024-04-20T19:26:51.892699Z",
          "shell.execute_reply": "2024-04-20T19:26:51.905531Z"
        },
        "trusted": true,
        "id": "7TtHhxzPmuXj"
      },
      "execution_count": null,
      "outputs": []
    },
    {
      "cell_type": "code",
      "source": [
        "allpreds = predicting(valid_dataloader, model, pthes)"
      ],
      "metadata": {
        "execution": {
          "iopub.status.busy": "2024-04-20T19:26:51.907495Z",
          "iopub.execute_input": "2024-04-20T19:26:51.907841Z",
          "iopub.status.idle": "2024-04-20T19:27:09.376673Z",
          "shell.execute_reply.started": "2024-04-20T19:26:51.907802Z",
          "shell.execute_reply": "2024-04-20T19:27:09.375652Z"
        },
        "trusted": true,
        "id": "fWx0Dak5muXj"
      },
      "execution_count": null,
      "outputs": []
    },
    {
      "cell_type": "markdown",
      "source": [
        "Taking the avarage of probabilities from k-models for each sample in the validation set."
      ],
      "metadata": {
        "id": "KtC1VjC2muXj"
      }
    },
    {
      "cell_type": "code",
      "source": [
        "valid_probs = np.zeros((len(p_valid),6))\n",
        "for i in range(kfold):\n",
        "    valid_probs += allpreds[i]\n",
        "valid_probs = valid_probs / kfold"
      ],
      "metadata": {
        "execution": {
          "iopub.status.busy": "2024-04-20T19:27:13.252107Z",
          "iopub.execute_input": "2024-04-20T19:27:13.252503Z",
          "iopub.status.idle": "2024-04-20T19:27:13.257902Z",
          "shell.execute_reply.started": "2024-04-20T19:27:13.252441Z",
          "shell.execute_reply": "2024-04-20T19:27:13.256968Z"
        },
        "trusted": true,
        "id": "imczyqNVmuXk"
      },
      "execution_count": null,
      "outputs": []
    },
    {
      "cell_type": "code",
      "source": [
        "valid_probs = np.asarray(valid_probs).flatten()"
      ],
      "metadata": {
        "execution": {
          "iopub.status.busy": "2024-04-20T19:27:13.779196Z",
          "iopub.execute_input": "2024-04-20T19:27:13.779551Z",
          "iopub.status.idle": "2024-04-20T19:27:13.783576Z",
          "shell.execute_reply.started": "2024-04-20T19:27:13.779515Z",
          "shell.execute_reply": "2024-04-20T19:27:13.782709Z"
        },
        "trusted": true,
        "id": "KWtt3-PzmuXk"
      },
      "execution_count": null,
      "outputs": []
    },
    {
      "cell_type": "code",
      "source": [
        "#valid_probs = allpreds[0].flatten() #This line is used when trianing for one model and not k-fold model\n",
        "y_valid = p_valid[['toxic', 'severe_toxic','obscene', 'threat', 'insult','identity_hate']].to_numpy().flatten()"
      ],
      "metadata": {
        "execution": {
          "iopub.status.busy": "2024-04-20T19:27:18.065449Z",
          "iopub.execute_input": "2024-04-20T19:27:18.06591Z",
          "iopub.status.idle": "2024-04-20T19:27:18.072286Z",
          "shell.execute_reply.started": "2024-04-20T19:27:18.065873Z",
          "shell.execute_reply": "2024-04-20T19:27:18.071216Z"
        },
        "trusted": true,
        "id": "jYIrxrKlmuXk"
      },
      "execution_count": null,
      "outputs": []
    },
    {
      "cell_type": "code",
      "source": [
        "fpr, tpr, _ = roc_curve(y_valid, valid_probs)\n",
        "print('auc score for kfold =', kfold, 'models is: %.2f' %(auc(fpr, tpr)*100))"
      ],
      "metadata": {
        "execution": {
          "iopub.status.busy": "2024-04-20T19:27:21.18484Z",
          "iopub.execute_input": "2024-04-20T19:27:21.185185Z",
          "iopub.status.idle": "2024-04-20T19:27:21.194141Z",
          "shell.execute_reply.started": "2024-04-20T19:27:21.185156Z",
          "shell.execute_reply": "2024-04-20T19:27:21.193293Z"
        },
        "trusted": true,
        "id": "DkLW4f36muXk"
      },
      "execution_count": null,
      "outputs": []
    },
    {
      "cell_type": "code",
      "source": [
        "from sklearn.metrics import accuracy_score"
      ],
      "metadata": {
        "execution": {
          "iopub.status.busy": "2024-04-20T19:28:16.11994Z",
          "iopub.execute_input": "2024-04-20T19:28:16.120283Z",
          "iopub.status.idle": "2024-04-20T19:28:16.124271Z",
          "shell.execute_reply.started": "2024-04-20T19:28:16.120253Z",
          "shell.execute_reply": "2024-04-20T19:28:16.123332Z"
        },
        "trusted": true,
        "id": "RrkUiHB8muXl"
      },
      "execution_count": null,
      "outputs": []
    },
    {
      "cell_type": "code",
      "source": [
        "fig, ax = plt.subplots()\n",
        "ax.plot(fpr, tpr)\n",
        "ax.set_title('ROC Curv')\n",
        "ax.set_xlabel('FPR')\n",
        "ax.set_ylabel('TPR')\n",
        "plt.show()"
      ],
      "metadata": {
        "execution": {
          "iopub.status.busy": "2024-04-20T19:27:25.385216Z",
          "iopub.execute_input": "2024-04-20T19:27:25.385601Z",
          "iopub.status.idle": "2024-04-20T19:27:25.522583Z",
          "shell.execute_reply.started": "2024-04-20T19:27:25.385557Z",
          "shell.execute_reply": "2024-04-20T19:27:25.521758Z"
        },
        "trusted": true,
        "id": "R8-FEkP8muXl"
      },
      "execution_count": null,
      "outputs": []
    },
    {
      "cell_type": "markdown",
      "source": [
        "## 10. Inference"
      ],
      "metadata": {
        "id": "F4XwFw8nmuXl"
      }
    },
    {
      "cell_type": "code",
      "source": [
        "class BERTinferenceDataSet(Dataset):\n",
        "\n",
        "    def __init__(self, sentences):\n",
        "        self.sentences = sentences\n",
        "\n",
        "    def __len__(self):\n",
        "        return len(self.sentences)\n",
        "\n",
        "    def __getitem__(self, idx):\n",
        "        sentence = self.sentences[idx]\n",
        "        bert_sent = tokenizer.encode_plus(sentence,\n",
        "                                         add_special_tokens = True, #[SEP][PAD]\n",
        "                                         max_length = max_len,\n",
        "                                         pad_to_max_length = True,\n",
        "                                         truncation = True)\n",
        "\n",
        "        ids = torch.tensor(bert_sent['input_ids'], dtype = torch.long)\n",
        "        mask = torch.tensor(bert_sent['attention_mask'], dtype = torch.long)\n",
        "\n",
        "        return{\n",
        "            'ids' : ids,\n",
        "            'mask' : mask\n",
        "             }"
      ],
      "metadata": {
        "execution": {
          "iopub.status.busy": "2024-04-20T19:28:47.783165Z",
          "iopub.execute_input": "2024-04-20T19:28:47.783551Z",
          "iopub.status.idle": "2024-04-20T19:28:47.790988Z",
          "shell.execute_reply.started": "2024-04-20T19:28:47.783513Z",
          "shell.execute_reply": "2024-04-20T19:28:47.790055Z"
        },
        "trusted": true,
        "id": "IMp74aWGmuXl"
      },
      "execution_count": null,
      "outputs": []
    },
    {
      "cell_type": "code",
      "source": [
        "test_batch = 32\n",
        "test_dataset = BERTinferenceDataSet(test['clean_text'])\n",
        "test_dataloader = DataLoader(test_dataset, batch_size = test_batch, shuffle = False, num_workers = 4, pin_memory = True)\n",
        "pthes = [os.path.join(\"../input/bert-model-for-dummies\",s) for s in os.listdir('../input/bert-model-for-dummies') if \".pth\" in s]\n",
        "pthes\n"
      ],
      "metadata": {
        "execution": {
          "iopub.status.busy": "2024-04-20T19:28:49.135553Z",
          "iopub.execute_input": "2024-04-20T19:28:49.135904Z",
          "iopub.status.idle": "2024-04-20T19:28:49.15831Z",
          "shell.execute_reply.started": "2024-04-20T19:28:49.135873Z",
          "shell.execute_reply": "2024-04-20T19:28:49.157606Z"
        },
        "trusted": true,
        "id": "TxvvFfkdmuXm"
      },
      "execution_count": null,
      "outputs": []
    },
    {
      "cell_type": "code",
      "source": [
        "allpreds = predicting(test_dataloader, model, pthes)"
      ],
      "metadata": {
        "execution": {
          "iopub.status.busy": "2024-04-20T19:28:52.21119Z",
          "iopub.execute_input": "2024-04-20T19:28:52.211582Z",
          "iopub.status.idle": "2024-04-20T19:29:53.445256Z",
          "shell.execute_reply.started": "2024-04-20T19:28:52.211548Z",
          "shell.execute_reply": "2024-04-20T19:29:53.444075Z"
        },
        "trusted": true,
        "id": "OLpzGPtlmuXm"
      },
      "execution_count": null,
      "outputs": []
    },
    {
      "cell_type": "code",
      "source": [
        "print('allpreds is an array with the shape of:',len(allpreds), 'x',len(allpreds[0]), 'x',len(allpreds[0][0]))\n",
        "allpreds[0][0]"
      ],
      "metadata": {
        "execution": {
          "iopub.status.busy": "2024-04-20T19:29:53.44766Z",
          "iopub.execute_input": "2024-04-20T19:29:53.447941Z",
          "iopub.status.idle": "2024-04-20T19:29:53.457614Z",
          "shell.execute_reply.started": "2024-04-20T19:29:53.447912Z",
          "shell.execute_reply": "2024-04-20T19:29:53.456681Z"
        },
        "trusted": true,
        "id": "XXhQ1fvpmuXm"
      },
      "execution_count": null,
      "outputs": []
    },
    {
      "cell_type": "markdown",
      "source": [
        "We take the average of the probabilities in 5 folds."
      ],
      "metadata": {
        "id": "V9djPucmmuXn"
      }
    },
    {
      "cell_type": "code",
      "source": [
        "preds = np.zeros((len(test_dataset),6))\n",
        "for i in range(kfold):\n",
        "    preds += allpreds[i]\n",
        "preds = preds / kfold"
      ],
      "metadata": {
        "execution": {
          "iopub.status.busy": "2024-04-20T19:29:53.459438Z",
          "iopub.execute_input": "2024-04-20T19:29:53.45984Z",
          "iopub.status.idle": "2024-04-20T19:29:53.468623Z",
          "shell.execute_reply.started": "2024-04-20T19:29:53.459801Z",
          "shell.execute_reply": "2024-04-20T19:29:53.467731Z"
        },
        "trusted": true,
        "id": "IISNVD2fmuXn"
      },
      "execution_count": null,
      "outputs": []
    },
    {
      "cell_type": "code",
      "source": [
        "results = pd.DataFrame(preds)\n",
        "submission = pd.concat([test,results], axis = 1).drop(['comment_text', 'clean_text'], axis = 1)\n",
        "submission.rename(columns = { 0:'toxic', 1:'severe_toxic', 2:'obscene', 3:'threat', 4:'insult', 5:'identity_hate'}, inplace = True)\n",
        "submission.to_csv(\"submission.csv\", index = False)"
      ],
      "metadata": {
        "execution": {
          "iopub.status.busy": "2024-04-20T19:29:53.469758Z",
          "iopub.execute_input": "2024-04-20T19:29:53.470054Z",
          "iopub.status.idle": "2024-04-20T19:29:53.499142Z",
          "shell.execute_reply.started": "2024-04-20T19:29:53.470026Z",
          "shell.execute_reply": "2024-04-20T19:29:53.498381Z"
        },
        "trusted": true,
        "id": "JIbMVZB-muXn"
      },
      "execution_count": null,
      "outputs": []
    },
    {
      "cell_type": "markdown",
      "source": [
        "## 11. Summary\n",
        "Here we presented a simple bert model for comment toxicity classification. A comment can be classified with multi-label and therefore this is an example of binary classification with multiple labels (not multi-classficaiton). <br>\n",
        "You can run part I and part II of the notebook independantly. <br>\n",
        "The best score(0.9796) achieved after running part II, with trianing the model with all the trainnig data (not reducing it to fewer rows) and having epochs = 1. The code is available in version 8. I didn't try with more epochs, because the trianing time would exceed 5h which was not the major intention with this notebook. <br>\n",
        "Training the model with 2000 training samples and epochs = 5 results in a faster computation and gives the socre: 0.94311."
      ],
      "metadata": {
        "id": "M6b_iaMLmuXo"
      }
    },
    {
      "cell_type": "markdown",
      "source": [
        "## 12. Useful links\n",
        "\n",
        "[1] https://www.kaggle.com/parulpandey/eda-and-preprocessing-for-bert <br>\n",
        "[2] http://jalammar.github.io/illustrated-bert/ <br>\n",
        "[3] https://curiousily.com/posts/sentiment-analysis-with-bert-and-hugging-face-using-pytorch-and-python/ <br>\n",
        "[4] http://jalammar.github.io/a-visual-guide-to-using-bert-for-the-first-time/ <br>\n",
        "[5] https://iq.opengenus.org/native-language-identification-dl/"
      ],
      "metadata": {
        "id": "S8WiPKYrmuXo"
      }
    }
  ]
}